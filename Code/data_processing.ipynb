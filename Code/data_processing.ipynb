{
 "cells": [
  {
   "cell_type": "markdown",
   "metadata": {},
   "source": [
    "The goal for this piece of code is:\n",
    "- Clean the data for the following datasets:\n",
    "    - K2\n",
    "    - APOKSAC\n",
    "    - APOGEE\n",
    "    - GALAH\n",
    "\n",
    "After we have cleaned the datas is\n",
    "- Use K2 model to predict the mass for APOGEE and GALAH\n",
    "- Use APOKSAC model to predict mass for APOGEE\n",
    "\n",
    "The goal is to get a table contain the following for all the data sets and use this to predict the mass of stars.\n",
    "The table include parameters such as:\n",
    "\n",
    "- Effective Temperature\n",
    "- Log g\n",
    "- Iron Abundance [Fe/H]\n",
    "- Alpha Abundance [alpha/Fe]\n",
    "- Carbon Abundance [C/Fe]\n",
    "- Nitrogen Abundance [N/Fe]\n",
    "- Oxygen Abundance [O/Fe]\n",
    "\n",
    "In addition, we will extract the stars id to allow for identification\n",
    "\n",
    "- `tmass_id` 2MASS IDs\n",
    "- `gaiadr3_source_id` Gaia Id"
   ]
  },
  {
   "cell_type": "markdown",
   "metadata": {},
   "source": [
    "Importing the required packages"
   ]
  },
  {
   "cell_type": "code",
   "execution_count": 4,
   "metadata": {},
   "outputs": [],
   "source": [
    "from astropy.table import Table\n",
    "import pandas as pd         # For table/data management"
   ]
  },
  {
   "cell_type": "markdown",
   "metadata": {},
   "source": [
    "# Cleaning the GALAH Data"
   ]
  },
  {
   "cell_type": "code",
   "execution_count": 11,
   "metadata": {},
   "outputs": [],
   "source": [
    "# Import the data and change into a data frame\n",
    "def importGalah():\n",
    "    galah = Table.read(\"RawData/galah_dr4_allspec_220713.fits\", format = \"fits\")\n",
    "    names = [name for name in galah.colnames if len(galah[name].shape) <= 1]\n",
    "    galah = galah[names].to_pandas()\n",
    "    return galah"
   ]
  },
  {
   "cell_type": "code",
   "execution_count": 12,
   "outputs": [],
   "source": [
    "galah = importGalah()"
   ],
   "metadata": {
    "collapsed": false
   }
  },
  {
   "cell_type": "markdown",
   "metadata": {},
   "source": [
    "For Apogee Data, there are a few recommendations (this usually indicates that the data has some issues, e.g. unreliably broadening and other issues) for the flag that should be applied:\n",
    "- `snr_c3_iraf > 30`\n",
    "- `flag_sp == 0`\n",
    "- For any element `X`, the flag `flag_X_fe == 0`\n",
    "\n",
    "More information can be found [the GALAH Survey Website](https://www.galah-survey.org/dr3/flags/)"
   ]
  },
  {
   "cell_type": "code",
   "execution_count": 13,
   "metadata": {},
   "outputs": [],
   "source": [
    "# Filter the data\n",
    "# galah = galah.loc[galah[\"snr_c3_iraf\"] > 30]\n",
    "galah = galah.loc[galah[\"flag_sp\"] == 0]\n",
    "galah = galah.loc[galah[\"flag_fe_h\"] == 0]\n",
    "galah = galah.loc[galah[\"flag_al_fe\"] == 0]\n",
    "galah = galah.loc[galah[\"flag_c_fe\"] == 0]\n",
    "galah = galah.loc[galah[\"flag_n_fe\"] == 0]\n",
    "galah = galah.loc[galah[\"flag_o_fe\"] == 0]"
   ]
  },
  {
   "cell_type": "markdown",
   "metadata": {},
   "source": [
    "Now the appropriate flag has been used, we extract only the useful columns and save the data for later."
   ]
  },
  {
   "cell_type": "code",
   "execution_count": 14,
   "metadata": {},
   "outputs": [],
   "source": [
    "galah = galah[[\"teff\", \"logg\", \"fe_h\", \"al_fe\", \"c_fe\", \"n_fe\", \"o_fe\"]]\n",
    "# Remove all rows with null values\n",
    "galah.dropna()\n",
    "galah.to_csv(\"ProcessedData/cleaned_galah.csv\", index=False)"
   ]
  },
  {
   "cell_type": "markdown",
   "metadata": {},
   "source": [
    "# Cleaning APOGEE Data"
   ]
  },
  {
   "cell_type": "code",
   "execution_count": 8,
   "metadata": {},
   "outputs": [],
   "source": [
    "def importApogee():\n",
    "    apogee = Table.read(\"RawData/allStar-dr17-synspec_rev1.fits\", format=\"fits\", hdu=1)\n",
    "    names = [name for name in apogee.colnames if len(apogee[name].shape) <= 1]\n",
    "    apogee = apogee[names].to_pandas()\n",
    "    return apogee"
   ]
  },
  {
   "cell_type": "code",
   "execution_count": 9,
   "outputs": [],
   "source": [
    "apogee = importApogee()"
   ],
   "metadata": {
    "collapsed": false
   }
  },
  {
   "cell_type": "markdown",
   "metadata": {},
   "source": [
    "For APOGEE, we do something similar by making sure all the parameters are working on are good.\n",
    "More information can be found [SDSS explanantion of bitmasks](https://www.sdss.org/dr13/algorithms/bitmasks/#APOGEE_ASPCAPFLAG) and [SDSS recommendations for bitmasks](https://www.sdss.org/dr13/irspec/abundances/)\n",
    "\n",
    "The parameters\n",
    "- `ASPCAPFLAG & STAR_BAD == 0` (`STAR_BAD` is the 23rd bit (starting from 0), or  `STAR_BAD = 0b 1000 0000 0000 0000 0000 0000`)\n",
    "    - `STAR_BAD` is a general indication of whether there are issues with measuring surface temperature, surface gravity, and check if any elements have `GRIDEDGE_BAD` set\n",
    "- `ELEMFLAG`\n",
    "    - Any example of this is `FE_H_FLAG`\n",
    "        - Make sure that the flag does not contain `GRIDEDGE_BAD`, `GRIDEDGE_WARN` and `CALRANGE_BAD`\n",
    "    - We should just check that the flag is equal to zero to eliminate all and any problematic behaviour"
   ]
  },
  {
   "cell_type": "code",
   "execution_count": 12,
   "metadata": {},
   "outputs": [],
   "source": [
    "# Filter the data\n",
    "def cleanApogee(apogee):\n",
    "    STAR_BAD = 1 << 23\n",
    "    apogee = apogee.loc[apogee['ASPCAPFLAG'] & STAR_BAD == 0]\n",
    "    apogee = apogee.loc[apogee['FE_H_FLAG'] == 0]\n",
    "    apogee = apogee.loc[apogee['C_FE_FLAG'] == 0]\n",
    "    apogee = apogee.loc[apogee['AL_FE_FLAG'] == 0]\n",
    "    apogee = apogee.loc[apogee['N_FE_FLAG'] == 0]\n",
    "    apogee = apogee.loc[apogee['O_FE_FLAG'] == 0]\n",
    "    apogee.dropna()\n",
    "    return apogee"
   ]
  },
  {
   "cell_type": "code",
   "execution_count": 13,
   "outputs": [],
   "source": [
    "apogee = cleanApogee(apogee)"
   ],
   "metadata": {
    "collapsed": false
   }
  },
  {
   "cell_type": "markdown",
   "metadata": {},
   "source": [
    "Extract the useful column and save for later"
   ]
  },
  {
   "cell_type": "code",
   "execution_count": 14,
   "metadata": {},
   "outputs": [],
   "source": [
    "apogee = apogee[[\"APOGEE_ID\",\"TEFF\", \"LOGG\", \"FE_H\", \"AL_FE\", \"C_FE\", \"N_FE\", \"O_FE\"]]\n",
    "apogee.columns = apogee.columns.str.lower()\n",
    "apogee.to_csv(\"ProcessedData/cleaned_apogee.csv\", index=False)"
   ]
  },
  {
   "cell_type": "markdown",
   "metadata": {},
   "source": [
    "# Cleaning APOKSAC 2 Data\n",
    "\n"
   ]
  },
  {
   "cell_type": "code",
   "execution_count": 47,
   "outputs": [
    {
     "data": {
      "text/plain": "           kic          tmass_id   mass\n0      1027110  19250937+3644599  0.985\n1      1027337  19252021+3647118  1.227\n2      1160789  19233280+3652207  0.875\n4      1161447  19241746+3651460  1.460\n5      1161618  19242614+3648478  1.183\n...        ...               ...    ...\n6671  12784948  19210624+5200236  1.254\n6672  12785083  19212376+5204593  1.154\n6673  12785250  19214766+5205365  1.386\n6674  12884116  19182431+5215519  1.081\n6675  12884930  19200187+5214588  1.343\n\n[6529 rows x 3 columns]",
      "text/html": "<div>\n<style scoped>\n    .dataframe tbody tr th:only-of-type {\n        vertical-align: middle;\n    }\n\n    .dataframe tbody tr th {\n        vertical-align: top;\n    }\n\n    .dataframe thead th {\n        text-align: right;\n    }\n</style>\n<table border=\"1\" class=\"dataframe\">\n  <thead>\n    <tr style=\"text-align: right;\">\n      <th></th>\n      <th>kic</th>\n      <th>tmass_id</th>\n      <th>mass</th>\n    </tr>\n  </thead>\n  <tbody>\n    <tr>\n      <th>0</th>\n      <td>1027110</td>\n      <td>19250937+3644599</td>\n      <td>0.985</td>\n    </tr>\n    <tr>\n      <th>1</th>\n      <td>1027337</td>\n      <td>19252021+3647118</td>\n      <td>1.227</td>\n    </tr>\n    <tr>\n      <th>2</th>\n      <td>1160789</td>\n      <td>19233280+3652207</td>\n      <td>0.875</td>\n    </tr>\n    <tr>\n      <th>4</th>\n      <td>1161447</td>\n      <td>19241746+3651460</td>\n      <td>1.460</td>\n    </tr>\n    <tr>\n      <th>5</th>\n      <td>1161618</td>\n      <td>19242614+3648478</td>\n      <td>1.183</td>\n    </tr>\n    <tr>\n      <th>...</th>\n      <td>...</td>\n      <td>...</td>\n      <td>...</td>\n    </tr>\n    <tr>\n      <th>6671</th>\n      <td>12784948</td>\n      <td>19210624+5200236</td>\n      <td>1.254</td>\n    </tr>\n    <tr>\n      <th>6672</th>\n      <td>12785083</td>\n      <td>19212376+5204593</td>\n      <td>1.154</td>\n    </tr>\n    <tr>\n      <th>6673</th>\n      <td>12785250</td>\n      <td>19214766+5205365</td>\n      <td>1.386</td>\n    </tr>\n    <tr>\n      <th>6674</th>\n      <td>12884116</td>\n      <td>19182431+5215519</td>\n      <td>1.081</td>\n    </tr>\n    <tr>\n      <th>6675</th>\n      <td>12884930</td>\n      <td>19200187+5214588</td>\n      <td>1.343</td>\n    </tr>\n  </tbody>\n</table>\n<p>6529 rows × 3 columns</p>\n</div>"
     },
     "execution_count": 47,
     "metadata": {},
     "output_type": "execute_result"
    }
   ],
   "source": [
    "apoksac_cols = [\"kic\", \"tmass_id\", \"mass\"]\n",
    "apoksac_col_width = [(0, 9), (9, 26), (27, 39)]\n",
    "\n",
    "apoksac = pd.read_fwf(\n",
    "    \"RawData/asu.tsv\",\n",
    "    skiprows=42,\n",
    "    header=None,\n",
    "    index_col=False,\n",
    "    names = apoksac_cols,\n",
    "    colspecs = apoksac_col_width\n",
    ")\n",
    "apoksac = apoksac[0:6676]\n",
    "apoksac = apoksac.dropna()\n"
   ],
   "metadata": {
    "collapsed": false
   }
  },
  {
   "cell_type": "code",
   "execution_count": 48,
   "outputs": [],
   "source": [
    "apoksac.to_csv(\"ProcessedData/cleaned_apoksac.csv\", index=False)"
   ],
   "metadata": {
    "collapsed": false
   }
  },
  {
   "cell_type": "markdown",
   "source": [
    "Match APOKSAC data with APOGEE data"
   ],
   "metadata": {
    "collapsed": false
   }
  },
  {
   "cell_type": "code",
   "execution_count": 9,
   "outputs": [],
   "source": [
    "apogee = pd.read_csv(\"ProcessedData/cleaned_apogee.csv\")\n",
    "apogee = apogee[1:len(apogee)]"
   ],
   "metadata": {
    "collapsed": false
   }
  },
  {
   "cell_type": "code",
   "execution_count": 11,
   "outputs": [
    {
     "data": {
      "text/plain": "                tmass_id       teff      logg      fe_h     al_fe      c_fe  \\\n1       00000035-7323394  4555.4043  1.498851 -1.171400 -0.455619 -0.290710   \n2       00000068+5710233  5031.2637  3.456132 -0.160280  0.014117 -0.025731   \n3       00000133+5721163  4974.6010  2.388251 -0.509530  0.158511 -0.069177   \n4       00000211+6327470  4681.4634  2.245527 -0.075011 -0.024401 -0.180636   \n5       00000222+5625359  5049.7686  3.291666 -0.139290 -0.074079 -0.011290   \n...                  ...        ...       ...       ...       ...       ...   \n401156  23595676+7918072  4311.3926  1.731429 -0.504450  0.204981  0.094351   \n401157  23595756+8535275  5042.2480  4.507292  0.218410  0.086016 -0.036199   \n401158  23595837+5700444  4954.1700  2.474665 -0.333100  0.139072 -0.096586   \n401159  23595886+5726058  4859.9087  2.480687 -0.236560  0.135759 -0.060314   \n401160  23595921+5609479  4585.4097  2.571437  0.114820  0.083671 -0.011308   \n\n            n_fe      o_fe  \n1       0.475530  0.152533  \n2       0.084176  0.113698  \n3       0.243080  0.185943  \n4       0.345594  0.027783  \n5       0.122410  0.087976  \n...          ...       ...  \n401156  0.152260  0.287303  \n401157  0.152240 -0.004475  \n401158  0.248020  0.130718  \n401159  0.201880  0.088913  \n401160  0.209650  0.050574  \n\n[401160 rows x 8 columns]",
      "text/html": "<div>\n<style scoped>\n    .dataframe tbody tr th:only-of-type {\n        vertical-align: middle;\n    }\n\n    .dataframe tbody tr th {\n        vertical-align: top;\n    }\n\n    .dataframe thead th {\n        text-align: right;\n    }\n</style>\n<table border=\"1\" class=\"dataframe\">\n  <thead>\n    <tr style=\"text-align: right;\">\n      <th></th>\n      <th>tmass_id</th>\n      <th>teff</th>\n      <th>logg</th>\n      <th>fe_h</th>\n      <th>al_fe</th>\n      <th>c_fe</th>\n      <th>n_fe</th>\n      <th>o_fe</th>\n    </tr>\n  </thead>\n  <tbody>\n    <tr>\n      <th>1</th>\n      <td>00000035-7323394</td>\n      <td>4555.4043</td>\n      <td>1.498851</td>\n      <td>-1.171400</td>\n      <td>-0.455619</td>\n      <td>-0.290710</td>\n      <td>0.475530</td>\n      <td>0.152533</td>\n    </tr>\n    <tr>\n      <th>2</th>\n      <td>00000068+5710233</td>\n      <td>5031.2637</td>\n      <td>3.456132</td>\n      <td>-0.160280</td>\n      <td>0.014117</td>\n      <td>-0.025731</td>\n      <td>0.084176</td>\n      <td>0.113698</td>\n    </tr>\n    <tr>\n      <th>3</th>\n      <td>00000133+5721163</td>\n      <td>4974.6010</td>\n      <td>2.388251</td>\n      <td>-0.509530</td>\n      <td>0.158511</td>\n      <td>-0.069177</td>\n      <td>0.243080</td>\n      <td>0.185943</td>\n    </tr>\n    <tr>\n      <th>4</th>\n      <td>00000211+6327470</td>\n      <td>4681.4634</td>\n      <td>2.245527</td>\n      <td>-0.075011</td>\n      <td>-0.024401</td>\n      <td>-0.180636</td>\n      <td>0.345594</td>\n      <td>0.027783</td>\n    </tr>\n    <tr>\n      <th>5</th>\n      <td>00000222+5625359</td>\n      <td>5049.7686</td>\n      <td>3.291666</td>\n      <td>-0.139290</td>\n      <td>-0.074079</td>\n      <td>-0.011290</td>\n      <td>0.122410</td>\n      <td>0.087976</td>\n    </tr>\n    <tr>\n      <th>...</th>\n      <td>...</td>\n      <td>...</td>\n      <td>...</td>\n      <td>...</td>\n      <td>...</td>\n      <td>...</td>\n      <td>...</td>\n      <td>...</td>\n    </tr>\n    <tr>\n      <th>401156</th>\n      <td>23595676+7918072</td>\n      <td>4311.3926</td>\n      <td>1.731429</td>\n      <td>-0.504450</td>\n      <td>0.204981</td>\n      <td>0.094351</td>\n      <td>0.152260</td>\n      <td>0.287303</td>\n    </tr>\n    <tr>\n      <th>401157</th>\n      <td>23595756+8535275</td>\n      <td>5042.2480</td>\n      <td>4.507292</td>\n      <td>0.218410</td>\n      <td>0.086016</td>\n      <td>-0.036199</td>\n      <td>0.152240</td>\n      <td>-0.004475</td>\n    </tr>\n    <tr>\n      <th>401158</th>\n      <td>23595837+5700444</td>\n      <td>4954.1700</td>\n      <td>2.474665</td>\n      <td>-0.333100</td>\n      <td>0.139072</td>\n      <td>-0.096586</td>\n      <td>0.248020</td>\n      <td>0.130718</td>\n    </tr>\n    <tr>\n      <th>401159</th>\n      <td>23595886+5726058</td>\n      <td>4859.9087</td>\n      <td>2.480687</td>\n      <td>-0.236560</td>\n      <td>0.135759</td>\n      <td>-0.060314</td>\n      <td>0.201880</td>\n      <td>0.088913</td>\n    </tr>\n    <tr>\n      <th>401160</th>\n      <td>23595921+5609479</td>\n      <td>4585.4097</td>\n      <td>2.571437</td>\n      <td>0.114820</td>\n      <td>0.083671</td>\n      <td>-0.011308</td>\n      <td>0.209650</td>\n      <td>0.050574</td>\n    </tr>\n  </tbody>\n</table>\n<p>401160 rows × 8 columns</p>\n</div>"
     },
     "execution_count": 11,
     "metadata": {},
     "output_type": "execute_result"
    }
   ],
   "source": [
    "# Manipulate APOGEE id to 2MASS id\n",
    "apogee = apogee.rename(columns = {\"apogee_id\": \"tmass_id\"})\n",
    "apogee.tmass_id = apogee.tmass_id.str[4:-1]\n",
    "apogee"
   ],
   "metadata": {
    "collapsed": false
   }
  },
  {
   "cell_type": "markdown",
   "metadata": {},
   "source": [
    "# Cleaning K2 Data\n",
    "To do so, we need to\n",
    "\n",
    "1. extract the mass coefficient from the data set\n",
    "2. find the effective temperature by finding the data in the GALAH data set by matching the EPIC identifier\n",
    "3. determine the mass\n",
    "4. extract the chemical composition of stars\n",
    "5. store the data for use\n",
    "\n",
    "For the purpose of this, we will keep the mass of stars as a multiple of solar mass."
   ]
  },
  {
   "cell_type": "code",
   "execution_count": null,
   "metadata": {
    "pycharm": {
     "is_executing": true
    }
   },
   "outputs": [],
   "source": [
    "k2_cols = [\"EPIC\", \"kappa-m-c\"]\n",
    "k2_col_width = [(0, 9), (24, 29)]\n",
    "\n",
    "k2 = pd.read_fwf(\n",
    "    \"Data/k2_mass_coefficients.txt\",\n",
    "    skiprows=50,\n",
    "    header=None,\n",
    "    index_col=False,\n",
    "    names = k2_cols,\n",
    "    colspecs = k2_col_width\n",
    ")\n",
    "# k2.columns = k2_cols\n",
    "k2\n",
    "# According to the International Astronomical Union (IAU), effective temperature of the sun is 5772 +- 0.8K\n",
    "teff_sun = 5772"
   ]
  },
  {
   "cell_type": "markdown",
   "metadata": {},
   "source": [
    "To determine the mass for K2 stars, we use the following formula (from K2 Galactic Archaeology Program DR3):\n",
    "\n",
    "$$ \\frac{M}{M_\\odot} = \\kappa_M (\\frac{T_{eff}}{T_{eff, \\odot}})^{3/2} $$\n",
    "\n",
    "To do so, we will use [gaia-kepler.fun](https://gaia-kepler.fun) in order to determine the link between 2MASS id and Kepler id.\n",
    "- More information of the tables in the data set is given by [this documentation](https://exoplanetarchive.ipac.caltech.edu/docs/API_keplerstellar_columns.html)\n"
   ]
  },
  {
   "cell_type": "code",
   "execution_count": null,
   "outputs": [],
   "source": [
    "k2ToGaia = Table.read(\"RawData/kepler_dr3_good.fits\", format = \"fits\")\n",
    "names = [name for name in k2ToGaia.colnames if len(k2ToGaia[name].shape) <= 1]\n",
    "k2ToGaia = k2ToGaia[names].to_pandas()"
   ],
   "metadata": {
    "collapsed": false,
    "pycharm": {
     "is_executing": true
    }
   }
  },
  {
   "cell_type": "markdown",
   "source": [
    "The"
   ],
   "metadata": {
    "collapsed": false
   }
  },
  {
   "cell_type": "code",
   "execution_count": null,
   "outputs": [],
   "source": [
    "k2ToGaia[[\"tm_designation\", \"kepid\"]]"
   ],
   "metadata": {
    "collapsed": false,
    "pycharm": {
     "is_executing": true
    }
   }
  },
  {
   "cell_type": "code",
   "execution_count": null,
   "outputs": [],
   "source": [],
   "metadata": {
    "collapsed": false,
    "pycharm": {
     "is_executing": true
    }
   }
  }
 ],
 "metadata": {
  "kernelspec": {
   "display_name": "Python 3 (ipykernel)",
   "language": "python",
   "name": "python3"
  },
  "language_info": {
   "codemirror_mode": {
    "name": "ipython",
    "version": 3
   },
   "file_extension": ".py",
   "mimetype": "text/x-python",
   "name": "python",
   "nbconvert_exporter": "python",
   "pygments_lexer": "ipython3",
   "version": "3.9.7"
  }
 },
 "nbformat": 4,
 "nbformat_minor": 1
}
