{
 "cells": [
  {
   "cell_type": "markdown",
   "metadata": {},
   "source": [
    "The goal for this piece of code is:\n",
    "- Clean the data for the following datasets:\n",
    "    - K2\n",
    "    - APOKSAC\n",
    "    - APOGEE\n",
    "    - GALAH\n",
    "\n",
    "After we have cleaned the datas is\n",
    "- Use K2 model to predict the mass for APOGEE and GALAH\n",
    "- Use APOKSAC model to predict mass for APOGEE\n",
    "\n",
    "The goal is to get a table contain the following for all the data sets and use this to predict the mass of stars.\n",
    "The table include parameters such as:\n",
    "\n",
    "- Effective Temperature\n",
    "- Log g\n",
    "- Iron Abundance [Fe/H]\n",
    "- Alpha Abundance [alpha/Fe]\n",
    "- Carbon Abundance [C/Fe]\n",
    "- Nitrogen Abundance [N/Fe]\n",
    "- Oxygen Abundance [O/Fe]\n",
    "\n",
    "In addition, we will extract the stars id to allow for identification\n",
    "\n",
    "- `tmass_id` 2MASS IDs\n",
    "- `gaiadr3_source_id` Gaia Id"
   ]
  },
  {
   "cell_type": "markdown",
   "metadata": {},
   "source": [
    "Importing the required packages"
   ]
  },
  {
   "cell_type": "code",
   "execution_count": 9,
   "metadata": {},
   "outputs": [],
   "source": [
    "from astropy.table import Table\n",
    "import pandas as pd         # For table/data management"
   ]
  },
  {
   "cell_type": "markdown",
   "metadata": {},
   "source": [
    "# Cleaning the GALAH Data"
   ]
  },
  {
   "cell_type": "code",
   "execution_count": 4,
   "metadata": {},
   "outputs": [],
   "source": [
    "# Import the data and change into a data frame\n",
    "galah = Table.read(\"Data/galah_dr4_allspec_220713.fits\", format = \"fits\")\n",
    "names = [name for name in galah.colnames if len(galah[name].shape) <= 1]\n",
    "galah = galah[names].to_pandas()"
   ]
  },
  {
   "cell_type": "markdown",
   "metadata": {},
   "source": [
    "For Apogee Data, there are a few recommendations (this usually indicates that the data has some issues, e.g. unreliably broadening and other issues) for the flag that should be applied:\n",
    "- `snr_c3_iraf > 30`\n",
    "- `flag_sp == 0`\n",
    "- For any element `X`, the flag `flag_X_fe == 0`\n",
    "\n",
    "More information can be found [the GALAH Survey Website](https://www.galah-survey.org/dr3/flags/)"
   ]
  },
  {
   "cell_type": "code",
   "execution_count": 51,
   "metadata": {},
   "outputs": [],
   "source": [
    "# Filter the data\n",
    "# galah = galah.loc[galah[\"snr_c3_iraf\"] > 30]\n",
    "galah = galah.loc[galah[\"flag_sp\"] == 0]\n",
    "galah = galah.loc[galah[\"flag_fe_h\"] == 0]\n",
    "galah = galah.loc[galah[\"flag_al_fe\"] == 0]\n",
    "galah = galah.loc[galah[\"flag_c_fe\"] == 0]\n",
    "galah = galah.loc[galah[\"flag_n_fe\"] == 0]\n",
    "galah = galah.loc[galah[\"flag_o_fe\"] == 0]"
   ]
  },
  {
   "cell_type": "markdown",
   "metadata": {},
   "source": [
    "Now the appropriate flag has been used, we extract only the useful columns and save the data for later."
   ]
  },
  {
   "cell_type": "code",
   "execution_count": 52,
   "metadata": {},
   "outputs": [],
   "source": [
    "galah = galah[[\"tmass_id\", \"gaiadr3_source_id\", \"teff\", \"logg\", \"fe_h\", \"al_fe\", \"c_fe\", \"n_fe\", \"o_fe\"]]\n",
    "# Rmeove all rows with null values\n",
    "galah.dropna()\n",
    "galah.to_csv(\"Data/cleaned_galah.csv\", index=False)"
   ]
  },
  {
   "cell_type": "markdown",
   "metadata": {},
   "source": [
    "# Cleaning APOGEE Data"
   ]
  },
  {
   "cell_type": "code",
   "execution_count": 5,
   "outputs": [
    {
     "name": "stderr",
     "output_type": "stream",
     "text": [
      "WARNING: hdu= was not specified but multiple tables are present, reading in first available table (hdu=1) [astropy.io.fits.connect]\n"
     ]
    },
    {
     "ename": "KeyboardInterrupt",
     "evalue": "",
     "output_type": "error",
     "traceback": [
      "\u001B[0;31m---------------------------------------------------------------------------\u001B[0m",
      "\u001B[0;31mKeyboardInterrupt\u001B[0m                         Traceback (most recent call last)",
      "Cell \u001B[0;32mIn [5], line 1\u001B[0m\n\u001B[0;32m----> 1\u001B[0m apogee \u001B[38;5;241m=\u001B[39m \u001B[43mTable\u001B[49m\u001B[38;5;241;43m.\u001B[39;49m\u001B[43mread\u001B[49m\u001B[43m(\u001B[49m\u001B[38;5;124;43m\"\u001B[39;49m\u001B[38;5;124;43mData/allStar-dr17-synspec_rev1.fits\u001B[39;49m\u001B[38;5;124;43m\"\u001B[39;49m\u001B[43m,\u001B[49m\u001B[43m \u001B[49m\u001B[38;5;28;43mformat\u001B[39;49m\u001B[38;5;241;43m=\u001B[39;49m\u001B[38;5;124;43m\"\u001B[39;49m\u001B[38;5;124;43mfits\u001B[39;49m\u001B[38;5;124;43m\"\u001B[39;49m\u001B[43m)\u001B[49m\n",
      "File \u001B[0;32m/usr/local/lib/python3.9/dist-packages/astropy/table/connect.py:62\u001B[0m, in \u001B[0;36mTableRead.__call__\u001B[0;34m(self, *args, **kwargs)\u001B[0m\n\u001B[1;32m     59\u001B[0m units \u001B[38;5;241m=\u001B[39m kwargs\u001B[38;5;241m.\u001B[39mpop(\u001B[38;5;124m'\u001B[39m\u001B[38;5;124munits\u001B[39m\u001B[38;5;124m'\u001B[39m, \u001B[38;5;28;01mNone\u001B[39;00m)\n\u001B[1;32m     60\u001B[0m descriptions \u001B[38;5;241m=\u001B[39m kwargs\u001B[38;5;241m.\u001B[39mpop(\u001B[38;5;124m'\u001B[39m\u001B[38;5;124mdescriptions\u001B[39m\u001B[38;5;124m'\u001B[39m, \u001B[38;5;28;01mNone\u001B[39;00m)\n\u001B[0;32m---> 62\u001B[0m out \u001B[38;5;241m=\u001B[39m \u001B[38;5;28;43mself\u001B[39;49m\u001B[38;5;241;43m.\u001B[39;49m\u001B[43mregistry\u001B[49m\u001B[38;5;241;43m.\u001B[39;49m\u001B[43mread\u001B[49m\u001B[43m(\u001B[49m\u001B[38;5;28;43mcls\u001B[39;49m\u001B[43m,\u001B[49m\u001B[43m \u001B[49m\u001B[38;5;241;43m*\u001B[39;49m\u001B[43margs\u001B[49m\u001B[43m,\u001B[49m\u001B[43m \u001B[49m\u001B[38;5;241;43m*\u001B[39;49m\u001B[38;5;241;43m*\u001B[39;49m\u001B[43mkwargs\u001B[49m\u001B[43m)\u001B[49m\n\u001B[1;32m     64\u001B[0m \u001B[38;5;66;03m# For some readers (e.g., ascii.ecsv), the returned `out` class is not\u001B[39;00m\n\u001B[1;32m     65\u001B[0m \u001B[38;5;66;03m# guaranteed to be the same as the desired output `cls`.  If so,\u001B[39;00m\n\u001B[1;32m     66\u001B[0m \u001B[38;5;66;03m# try coercing to desired class without copying (io.registry.read\u001B[39;00m\n\u001B[1;32m     67\u001B[0m \u001B[38;5;66;03m# would normally do a copy).  The normal case here is swapping\u001B[39;00m\n\u001B[1;32m     68\u001B[0m \u001B[38;5;66;03m# Table <=> QTable.\u001B[39;00m\n\u001B[1;32m     69\u001B[0m \u001B[38;5;28;01mif\u001B[39;00m \u001B[38;5;28mcls\u001B[39m \u001B[38;5;129;01mis\u001B[39;00m \u001B[38;5;129;01mnot\u001B[39;00m out\u001B[38;5;241m.\u001B[39m\u001B[38;5;18m__class__\u001B[39m:\n",
      "File \u001B[0;32m/usr/local/lib/python3.9/dist-packages/astropy/io/registry/core.py:212\u001B[0m, in \u001B[0;36mUnifiedInputRegistry.read\u001B[0;34m(self, cls, format, cache, *args, **kwargs)\u001B[0m\n\u001B[1;32m    208\u001B[0m     \u001B[38;5;28mformat\u001B[39m \u001B[38;5;241m=\u001B[39m \u001B[38;5;28mself\u001B[39m\u001B[38;5;241m.\u001B[39m_get_valid_format(\n\u001B[1;32m    209\u001B[0m         \u001B[38;5;124m'\u001B[39m\u001B[38;5;124mread\u001B[39m\u001B[38;5;124m'\u001B[39m, \u001B[38;5;28mcls\u001B[39m, path, fileobj, args, kwargs)\n\u001B[1;32m    211\u001B[0m reader \u001B[38;5;241m=\u001B[39m \u001B[38;5;28mself\u001B[39m\u001B[38;5;241m.\u001B[39mget_reader(\u001B[38;5;28mformat\u001B[39m, \u001B[38;5;28mcls\u001B[39m)\n\u001B[0;32m--> 212\u001B[0m data \u001B[38;5;241m=\u001B[39m \u001B[43mreader\u001B[49m\u001B[43m(\u001B[49m\u001B[38;5;241;43m*\u001B[39;49m\u001B[43margs\u001B[49m\u001B[43m,\u001B[49m\u001B[43m \u001B[49m\u001B[38;5;241;43m*\u001B[39;49m\u001B[38;5;241;43m*\u001B[39;49m\u001B[43mkwargs\u001B[49m\u001B[43m)\u001B[49m\n\u001B[1;32m    214\u001B[0m \u001B[38;5;28;01mif\u001B[39;00m \u001B[38;5;129;01mnot\u001B[39;00m \u001B[38;5;28misinstance\u001B[39m(data, \u001B[38;5;28mcls\u001B[39m):\n\u001B[1;32m    215\u001B[0m     \u001B[38;5;66;03m# User has read with a subclass where only the parent class is\u001B[39;00m\n\u001B[1;32m    216\u001B[0m     \u001B[38;5;66;03m# registered.  This returns the parent class, so try coercing\u001B[39;00m\n\u001B[1;32m    217\u001B[0m     \u001B[38;5;66;03m# to desired subclass.\u001B[39;00m\n\u001B[1;32m    218\u001B[0m     \u001B[38;5;28;01mtry\u001B[39;00m:\n",
      "File \u001B[0;32m/usr/local/lib/python3.9/dist-packages/astropy/io/fits/connect.py:234\u001B[0m, in \u001B[0;36mread_table_fits\u001B[0;34m(input, hdu, astropy_native, memmap, character_as_bytes, unit_parse_strict, mask_invalid)\u001B[0m\n\u001B[1;32m    230\u001B[0m hdulist \u001B[38;5;241m=\u001B[39m fits_open(\u001B[38;5;28minput\u001B[39m, character_as_bytes\u001B[38;5;241m=\u001B[39mcharacter_as_bytes,\n\u001B[1;32m    231\u001B[0m                     memmap\u001B[38;5;241m=\u001B[39mmemmap)\n\u001B[1;32m    233\u001B[0m \u001B[38;5;28;01mtry\u001B[39;00m:\n\u001B[0;32m--> 234\u001B[0m     \u001B[38;5;28;01mreturn\u001B[39;00m \u001B[43mread_table_fits\u001B[49m\u001B[43m(\u001B[49m\n\u001B[1;32m    235\u001B[0m \u001B[43m        \u001B[49m\u001B[43mhdulist\u001B[49m\u001B[43m,\u001B[49m\u001B[43m \u001B[49m\u001B[43mhdu\u001B[49m\u001B[38;5;241;43m=\u001B[39;49m\u001B[43mhdu\u001B[49m\u001B[43m,\u001B[49m\n\u001B[1;32m    236\u001B[0m \u001B[43m        \u001B[49m\u001B[43mastropy_native\u001B[49m\u001B[38;5;241;43m=\u001B[39;49m\u001B[43mastropy_native\u001B[49m\u001B[43m,\u001B[49m\n\u001B[1;32m    237\u001B[0m \u001B[43m        \u001B[49m\u001B[43munit_parse_strict\u001B[49m\u001B[38;5;241;43m=\u001B[39;49m\u001B[43munit_parse_strict\u001B[49m\u001B[43m,\u001B[49m\n\u001B[1;32m    238\u001B[0m \u001B[43m        \u001B[49m\u001B[43mmask_invalid\u001B[49m\u001B[38;5;241;43m=\u001B[39;49m\u001B[43mmask_invalid\u001B[49m\u001B[43m,\u001B[49m\n\u001B[1;32m    239\u001B[0m \u001B[43m    \u001B[49m\u001B[43m)\u001B[49m\n\u001B[1;32m    240\u001B[0m \u001B[38;5;28;01mfinally\u001B[39;00m:\n\u001B[1;32m    241\u001B[0m     hdulist\u001B[38;5;241m.\u001B[39mclose()\n",
      "File \u001B[0;32m/usr/local/lib/python3.9/dist-packages/astropy/io/fits/connect.py:264\u001B[0m, in \u001B[0;36mread_table_fits\u001B[0;34m(input, hdu, astropy_native, memmap, character_as_bytes, unit_parse_strict, mask_invalid)\u001B[0m\n\u001B[1;32m    262\u001B[0m     masked \u001B[38;5;241m=\u001B[39m \u001B[38;5;28;01mTrue\u001B[39;00m\n\u001B[1;32m    263\u001B[0m \u001B[38;5;28;01melif\u001B[39;00m mask_invalid \u001B[38;5;129;01mand\u001B[39;00m \u001B[38;5;28missubclass\u001B[39m(coltype, np\u001B[38;5;241m.\u001B[39minexact):\n\u001B[0;32m--> 264\u001B[0m     mask \u001B[38;5;241m=\u001B[39m \u001B[43mnp\u001B[49m\u001B[38;5;241;43m.\u001B[39;49m\u001B[43misnan\u001B[49m\u001B[43m(\u001B[49m\u001B[43mdata\u001B[49m\u001B[43m[\u001B[49m\u001B[43mcol\u001B[49m\u001B[38;5;241;43m.\u001B[39;49m\u001B[43mname\u001B[49m\u001B[43m]\u001B[49m\u001B[43m)\u001B[49m\n\u001B[1;32m    265\u001B[0m \u001B[38;5;28;01melif\u001B[39;00m mask_invalid \u001B[38;5;129;01mand\u001B[39;00m \u001B[38;5;28missubclass\u001B[39m(coltype, np\u001B[38;5;241m.\u001B[39mcharacter):\n\u001B[1;32m    266\u001B[0m     mask \u001B[38;5;241m=\u001B[39m col\u001B[38;5;241m.\u001B[39marray \u001B[38;5;241m==\u001B[39m \u001B[38;5;124mb\u001B[39m\u001B[38;5;124m'\u001B[39m\u001B[38;5;124m'\u001B[39m\n",
      "\u001B[0;31mKeyboardInterrupt\u001B[0m: "
     ]
    }
   ],
   "source": [
    "apogee = Table.read(\"Data/allStar-dr17-synspec_rev1.fits\", format=\"fits\")"
   ],
   "metadata": {
    "collapsed": false
   }
  },
  {
   "cell_type": "code",
   "execution_count": null,
   "metadata": {
    "pycharm": {
     "is_executing": true
    }
   },
   "outputs": [],
   "source": [
    "apogee = Table.read(\"Data/allStar-dr17-synspec_rev1.fits\", format=\"fits\", hdu=1)\n",
    "names = [name for name in apogee.colnames if len(apogee[name].shape) <= 1]\n",
    "apogee = apogee[names].to_pandas()"
   ]
  },
  {
   "cell_type": "markdown",
   "metadata": {},
   "source": [
    "For APOGEE, we do something similar by making sure all the parameters are working on are good.\n",
    "More information can be found [SDSS explanantion of bitmasks](https://www.sdss.org/dr13/algorithms/bitmasks/#APOGEE_ASPCAPFLAG) and [SDSS recommendations for bitmasks](https://www.sdss.org/dr13/irspec/abundances/)\n",
    "\n",
    "The parameters\n",
    "- `ASPCAPFLAG & STAR_BAD == 0` (`STAR_BAD` is the 23rd bit (starting from 0), or  `STAR_BAD = 0b 1000 0000 0000 0000 0000 0000`)\n",
    "    - `STAR_BAD` is a general indication of whether there are issues with measuring surface temperature, surface gravity, and check if any elements have `GRIDEDGE_BAD` set\n",
    "- `ELEMFLAG`\n",
    "    - Any example of this is `FE_H_FLAG`\n",
    "        - Make sure that the flag does not contain `GRIDEDGE_BAD`, `GRIDEDGE_WARN` and `CALRANGE_BAD`\n",
    "    - We should just check that the flag is equal to zero to eliminate all and any problematic behaviour"
   ]
  },
  {
   "cell_type": "code",
   "execution_count": 3,
   "metadata": {},
   "outputs": [],
   "source": [
    "# Filter the data\n",
    "STAR_BAD = 1 << 23\n",
    "apogee = apogee.loc[apogee['ASPCAPFLAG'] & STAR_BAD == 0]\n",
    "apogee = apogee.loc[apogee['FE_H_FLAG'] == 0]\n",
    "apogee = apogee.loc[apogee['C_FE_FLAG'] == 0]\n",
    "apogee = apogee.loc[apogee['AL_FE_FLAG'] == 0]\n",
    "apogee = apogee.loc[apogee['N_FE_FLAG'] == 0]\n",
    "apogee = apogee.loc[apogee['O_FE_FLAG'] == 0]"
   ]
  },
  {
   "cell_type": "code",
   "execution_count": 5,
   "outputs": [
    {
     "data": {
      "text/plain": "                                          FILE              APOGEE_ID  \\\n0                    b'apStar-dr17-VESTA.fits'               b'VESTA'   \n5       b'asStar-dr17-2M00000035-7323394.fits'  b'2M00000035-7323394'   \n6       b'apStar-dr17-2M00000068+5710233.fits'  b'2M00000068+5710233'   \n8       b'apStar-dr17-2M00000133+5721163.fits'  b'2M00000133+5721163'   \n9       b'apStar-dr17-2M00000211+6327470.fits'  b'2M00000211+6327470'   \n...                                        ...                    ...   \n733891  b'apStar-dr17-2M23595676+7918072.fits'  b'2M23595676+7918072'   \n733892  b'apStar-dr17-2M23595756+8535275.fits'  b'2M23595756+8535275'   \n733893  b'apStar-dr17-2M23595837+5700444.fits'  b'2M23595837+5700444'   \n733897  b'apStar-dr17-2M23595886+5726058.fits'  b'2M23595886+5726058'   \n733898  b'apStar-dr17-2M23595921+5609479.fits'  b'2M23595921+5609479'   \n\n                                       TARGET_ID  \\\n0                     b'apo1m.calibration.VESTA'   \n5             b'lco25m.SMC12.2M00000035-7323394'   \n6             b'apo25m.N7789.2M00000068+5710233'   \n8       b'apo25m.NGC7789_btx.2M00000133+5721163'   \n9            b'apo25m.117+01.2M00000211+6327470'   \n...                                          ...   \n733891       b'apo25m.120+18.2M23595676+7918072'   \n733892         b'apo25m.N188.2M23595756+8535275'   \n733893        b'apo25m.N7789.2M23595837+5700444'   \n733897       b'apo25m.116-04.2M23595886+5726058'   \n733898  b'apo25m.NGC7789_MGA.2M23595921+5609479'   \n\n                                                APSTAR_ID  \\\n0                 b'apogee.apo1m.stars.calibration.VESTA'   \n5         b'apogee.lco25m.stars.SMC12.2M00000035-7323394'   \n6         b'apogee.apo25m.stars.N7789.2M00000068+5710233'   \n8       b'apogee.apo25m.stars.NGC7789_btx.2M00000133+5...   \n9        b'apogee.apo25m.stars.117+01.2M00000211+6327470'   \n...                                                   ...   \n733891   b'apogee.apo25m.stars.120+18.2M23595676+7918072'   \n733892     b'apogee.apo25m.stars.N188.2M23595756+8535275'   \n733893    b'apogee.apo25m.stars.N7789.2M23595837+5700444'   \n733897   b'apogee.apo25m.stars.116-04.2M23595886+5726058'   \n733898  b'apogee.apo25m.stars.NGC7789_MGA.2M23595921+5...   \n\n                                                ASPCAP_ID  TELESCOPE  \\\n0           b'apogee.apo1m.synspec_fix.calibration.VESTA'   b'apo1m'   \n5       b'apogee.lco25m.synspec_fix.SMC12.2M00000035-7...  b'lco25m'   \n6       b'apogee.apo25m.synspec_fix.N7789.2M00000068+5...  b'apo25m'   \n8       b'apogee.apo25m.synspec_fix.NGC7789_btx.2M0000...  b'apo25m'   \n9       b'apogee.apo25m.synspec_fix.117+01.2M00000211+...  b'apo25m'   \n...                                                   ...        ...   \n733891  b'apogee.apo25m.synspec_fix.120+18.2M23595676+...  b'apo25m'   \n733892  b'apogee.apo25m.synspec_fix.N188.2M23595756+85...  b'apo25m'   \n733893  b'apogee.apo25m.synspec_fix.N7789.2M23595837+5...  b'apo25m'   \n733897  b'apogee.apo25m.synspec_fix.116-04.2M23595886+...  b'apo25m'   \n733898  b'apogee.apo25m.synspec_fix.NGC7789_MGA.2M2359...  b'apo25m'   \n\n        LOCATION_ID           FIELD   ALT_ID          RA  ...  CU_FE_ERR  \\\n0                 1  b'calibration'     b' '         NaN  ...   0.059403   \n5              7218        b'SMC12'  b'none'    0.001467  ...   0.276795   \n6              4264        b'N7789'  b'none'    0.002850  ...   0.004401   \n8              5922  b'NGC7789_btx'  b'none'    0.005558  ...   0.025131   \n9              4591       b'117+01'  b'none'    0.008802  ...        NaN   \n...             ...             ...      ...         ...  ...        ...   \n733891         5047       b'120+18'  b'none'  359.986523  ...        NaN   \n733892         5067         b'N188'  b'none'  359.989841  ...   0.031619   \n733893         4264        b'N7789'  b'none'  359.993224  ...   0.016774   \n733897         4424       b'116-04'  b'none'  359.995265  ...        NaN   \n733898         -999  b'NGC7789_MGA'  b'none'  359.996744  ...        NaN   \n\n        CU_FE_FLAG     CE_FE  CE_FE_SPEC  CE_FE_ERR  CE_FE_FLAG  YB_FE  \\\n0                2       NaN         NaN        NaN          64    NaN   \n5                2 -0.155160   -0.099500   0.146837           0    NaN   \n6                2 -0.055580    0.000080   0.086572           0    NaN   \n8                2 -0.256490   -0.200830   0.132389           0    NaN   \n9              259  0.194041    0.249701   0.070006           0    NaN   \n...            ...       ...         ...        ...         ...    ...   \n733891         259 -0.193610   -0.137950   0.043006           0    NaN   \n733892           2       NaN         NaN        NaN          64    NaN   \n733893           2 -0.035640    0.020020   0.141408           0    NaN   \n733897         259 -0.058750   -0.003090   0.072443           0    NaN   \n733898         259 -0.103446   -0.047786   0.097572           0    NaN   \n\n        YB_FE_SPEC  YB_FE_ERR YB_FE_FLAG  \n0              NaN        1.0          2  \n5              NaN        1.0          2  \n6              NaN        1.0          2  \n8              NaN        1.0          2  \n9              NaN        1.0          2  \n...            ...        ...        ...  \n733891         NaN        1.0          2  \n733892         NaN        1.0          2  \n733893         NaN        1.0          2  \n733897         NaN        1.0          2  \n733898         NaN        1.0          2  \n\n[401161 rows x 215 columns]",
      "text/html": "<div>\n<style scoped>\n    .dataframe tbody tr th:only-of-type {\n        vertical-align: middle;\n    }\n\n    .dataframe tbody tr th {\n        vertical-align: top;\n    }\n\n    .dataframe thead th {\n        text-align: right;\n    }\n</style>\n<table border=\"1\" class=\"dataframe\">\n  <thead>\n    <tr style=\"text-align: right;\">\n      <th></th>\n      <th>FILE</th>\n      <th>APOGEE_ID</th>\n      <th>TARGET_ID</th>\n      <th>APSTAR_ID</th>\n      <th>ASPCAP_ID</th>\n      <th>TELESCOPE</th>\n      <th>LOCATION_ID</th>\n      <th>FIELD</th>\n      <th>ALT_ID</th>\n      <th>RA</th>\n      <th>...</th>\n      <th>CU_FE_ERR</th>\n      <th>CU_FE_FLAG</th>\n      <th>CE_FE</th>\n      <th>CE_FE_SPEC</th>\n      <th>CE_FE_ERR</th>\n      <th>CE_FE_FLAG</th>\n      <th>YB_FE</th>\n      <th>YB_FE_SPEC</th>\n      <th>YB_FE_ERR</th>\n      <th>YB_FE_FLAG</th>\n    </tr>\n  </thead>\n  <tbody>\n    <tr>\n      <th>0</th>\n      <td>b'apStar-dr17-VESTA.fits'</td>\n      <td>b'VESTA'</td>\n      <td>b'apo1m.calibration.VESTA'</td>\n      <td>b'apogee.apo1m.stars.calibration.VESTA'</td>\n      <td>b'apogee.apo1m.synspec_fix.calibration.VESTA'</td>\n      <td>b'apo1m'</td>\n      <td>1</td>\n      <td>b'calibration'</td>\n      <td>b' '</td>\n      <td>NaN</td>\n      <td>...</td>\n      <td>0.059403</td>\n      <td>2</td>\n      <td>NaN</td>\n      <td>NaN</td>\n      <td>NaN</td>\n      <td>64</td>\n      <td>NaN</td>\n      <td>NaN</td>\n      <td>1.0</td>\n      <td>2</td>\n    </tr>\n    <tr>\n      <th>5</th>\n      <td>b'asStar-dr17-2M00000035-7323394.fits'</td>\n      <td>b'2M00000035-7323394'</td>\n      <td>b'lco25m.SMC12.2M00000035-7323394'</td>\n      <td>b'apogee.lco25m.stars.SMC12.2M00000035-7323394'</td>\n      <td>b'apogee.lco25m.synspec_fix.SMC12.2M00000035-7...</td>\n      <td>b'lco25m'</td>\n      <td>7218</td>\n      <td>b'SMC12'</td>\n      <td>b'none'</td>\n      <td>0.001467</td>\n      <td>...</td>\n      <td>0.276795</td>\n      <td>2</td>\n      <td>-0.155160</td>\n      <td>-0.099500</td>\n      <td>0.146837</td>\n      <td>0</td>\n      <td>NaN</td>\n      <td>NaN</td>\n      <td>1.0</td>\n      <td>2</td>\n    </tr>\n    <tr>\n      <th>6</th>\n      <td>b'apStar-dr17-2M00000068+5710233.fits'</td>\n      <td>b'2M00000068+5710233'</td>\n      <td>b'apo25m.N7789.2M00000068+5710233'</td>\n      <td>b'apogee.apo25m.stars.N7789.2M00000068+5710233'</td>\n      <td>b'apogee.apo25m.synspec_fix.N7789.2M00000068+5...</td>\n      <td>b'apo25m'</td>\n      <td>4264</td>\n      <td>b'N7789'</td>\n      <td>b'none'</td>\n      <td>0.002850</td>\n      <td>...</td>\n      <td>0.004401</td>\n      <td>2</td>\n      <td>-0.055580</td>\n      <td>0.000080</td>\n      <td>0.086572</td>\n      <td>0</td>\n      <td>NaN</td>\n      <td>NaN</td>\n      <td>1.0</td>\n      <td>2</td>\n    </tr>\n    <tr>\n      <th>8</th>\n      <td>b'apStar-dr17-2M00000133+5721163.fits'</td>\n      <td>b'2M00000133+5721163'</td>\n      <td>b'apo25m.NGC7789_btx.2M00000133+5721163'</td>\n      <td>b'apogee.apo25m.stars.NGC7789_btx.2M00000133+5...</td>\n      <td>b'apogee.apo25m.synspec_fix.NGC7789_btx.2M0000...</td>\n      <td>b'apo25m'</td>\n      <td>5922</td>\n      <td>b'NGC7789_btx'</td>\n      <td>b'none'</td>\n      <td>0.005558</td>\n      <td>...</td>\n      <td>0.025131</td>\n      <td>2</td>\n      <td>-0.256490</td>\n      <td>-0.200830</td>\n      <td>0.132389</td>\n      <td>0</td>\n      <td>NaN</td>\n      <td>NaN</td>\n      <td>1.0</td>\n      <td>2</td>\n    </tr>\n    <tr>\n      <th>9</th>\n      <td>b'apStar-dr17-2M00000211+6327470.fits'</td>\n      <td>b'2M00000211+6327470'</td>\n      <td>b'apo25m.117+01.2M00000211+6327470'</td>\n      <td>b'apogee.apo25m.stars.117+01.2M00000211+6327470'</td>\n      <td>b'apogee.apo25m.synspec_fix.117+01.2M00000211+...</td>\n      <td>b'apo25m'</td>\n      <td>4591</td>\n      <td>b'117+01'</td>\n      <td>b'none'</td>\n      <td>0.008802</td>\n      <td>...</td>\n      <td>NaN</td>\n      <td>259</td>\n      <td>0.194041</td>\n      <td>0.249701</td>\n      <td>0.070006</td>\n      <td>0</td>\n      <td>NaN</td>\n      <td>NaN</td>\n      <td>1.0</td>\n      <td>2</td>\n    </tr>\n    <tr>\n      <th>...</th>\n      <td>...</td>\n      <td>...</td>\n      <td>...</td>\n      <td>...</td>\n      <td>...</td>\n      <td>...</td>\n      <td>...</td>\n      <td>...</td>\n      <td>...</td>\n      <td>...</td>\n      <td>...</td>\n      <td>...</td>\n      <td>...</td>\n      <td>...</td>\n      <td>...</td>\n      <td>...</td>\n      <td>...</td>\n      <td>...</td>\n      <td>...</td>\n      <td>...</td>\n      <td>...</td>\n    </tr>\n    <tr>\n      <th>733891</th>\n      <td>b'apStar-dr17-2M23595676+7918072.fits'</td>\n      <td>b'2M23595676+7918072'</td>\n      <td>b'apo25m.120+18.2M23595676+7918072'</td>\n      <td>b'apogee.apo25m.stars.120+18.2M23595676+7918072'</td>\n      <td>b'apogee.apo25m.synspec_fix.120+18.2M23595676+...</td>\n      <td>b'apo25m'</td>\n      <td>5047</td>\n      <td>b'120+18'</td>\n      <td>b'none'</td>\n      <td>359.986523</td>\n      <td>...</td>\n      <td>NaN</td>\n      <td>259</td>\n      <td>-0.193610</td>\n      <td>-0.137950</td>\n      <td>0.043006</td>\n      <td>0</td>\n      <td>NaN</td>\n      <td>NaN</td>\n      <td>1.0</td>\n      <td>2</td>\n    </tr>\n    <tr>\n      <th>733892</th>\n      <td>b'apStar-dr17-2M23595756+8535275.fits'</td>\n      <td>b'2M23595756+8535275'</td>\n      <td>b'apo25m.N188.2M23595756+8535275'</td>\n      <td>b'apogee.apo25m.stars.N188.2M23595756+8535275'</td>\n      <td>b'apogee.apo25m.synspec_fix.N188.2M23595756+85...</td>\n      <td>b'apo25m'</td>\n      <td>5067</td>\n      <td>b'N188'</td>\n      <td>b'none'</td>\n      <td>359.989841</td>\n      <td>...</td>\n      <td>0.031619</td>\n      <td>2</td>\n      <td>NaN</td>\n      <td>NaN</td>\n      <td>NaN</td>\n      <td>64</td>\n      <td>NaN</td>\n      <td>NaN</td>\n      <td>1.0</td>\n      <td>2</td>\n    </tr>\n    <tr>\n      <th>733893</th>\n      <td>b'apStar-dr17-2M23595837+5700444.fits'</td>\n      <td>b'2M23595837+5700444'</td>\n      <td>b'apo25m.N7789.2M23595837+5700444'</td>\n      <td>b'apogee.apo25m.stars.N7789.2M23595837+5700444'</td>\n      <td>b'apogee.apo25m.synspec_fix.N7789.2M23595837+5...</td>\n      <td>b'apo25m'</td>\n      <td>4264</td>\n      <td>b'N7789'</td>\n      <td>b'none'</td>\n      <td>359.993224</td>\n      <td>...</td>\n      <td>0.016774</td>\n      <td>2</td>\n      <td>-0.035640</td>\n      <td>0.020020</td>\n      <td>0.141408</td>\n      <td>0</td>\n      <td>NaN</td>\n      <td>NaN</td>\n      <td>1.0</td>\n      <td>2</td>\n    </tr>\n    <tr>\n      <th>733897</th>\n      <td>b'apStar-dr17-2M23595886+5726058.fits'</td>\n      <td>b'2M23595886+5726058'</td>\n      <td>b'apo25m.116-04.2M23595886+5726058'</td>\n      <td>b'apogee.apo25m.stars.116-04.2M23595886+5726058'</td>\n      <td>b'apogee.apo25m.synspec_fix.116-04.2M23595886+...</td>\n      <td>b'apo25m'</td>\n      <td>4424</td>\n      <td>b'116-04'</td>\n      <td>b'none'</td>\n      <td>359.995265</td>\n      <td>...</td>\n      <td>NaN</td>\n      <td>259</td>\n      <td>-0.058750</td>\n      <td>-0.003090</td>\n      <td>0.072443</td>\n      <td>0</td>\n      <td>NaN</td>\n      <td>NaN</td>\n      <td>1.0</td>\n      <td>2</td>\n    </tr>\n    <tr>\n      <th>733898</th>\n      <td>b'apStar-dr17-2M23595921+5609479.fits'</td>\n      <td>b'2M23595921+5609479'</td>\n      <td>b'apo25m.NGC7789_MGA.2M23595921+5609479'</td>\n      <td>b'apogee.apo25m.stars.NGC7789_MGA.2M23595921+5...</td>\n      <td>b'apogee.apo25m.synspec_fix.NGC7789_MGA.2M2359...</td>\n      <td>b'apo25m'</td>\n      <td>-999</td>\n      <td>b'NGC7789_MGA'</td>\n      <td>b'none'</td>\n      <td>359.996744</td>\n      <td>...</td>\n      <td>NaN</td>\n      <td>259</td>\n      <td>-0.103446</td>\n      <td>-0.047786</td>\n      <td>0.097572</td>\n      <td>0</td>\n      <td>NaN</td>\n      <td>NaN</td>\n      <td>1.0</td>\n      <td>2</td>\n    </tr>\n  </tbody>\n</table>\n<p>401161 rows × 215 columns</p>\n</div>"
     },
     "execution_count": 5,
     "metadata": {},
     "output_type": "execute_result"
    }
   ],
   "source": [
    "apogee"
   ],
   "metadata": {
    "collapsed": false
   }
  },
  {
   "cell_type": "markdown",
   "metadata": {},
   "source": [
    "Extract the useful column and save for later"
   ]
  },
  {
   "cell_type": "code",
   "execution_count": 18,
   "metadata": {},
   "outputs": [],
   "source": [
    "apogee = apogee[[\"TEFF\", \"LOGG\", \"FE_H\", \"AL_FE\", \"C_FE\", \"N_FE\", \"O_FE\"]]\n",
    "apogee.columns = apogee.columns.str.lower()\n",
    "apogee.dropna()\n",
    "apogee.to_csv(\"Data/cleaned_apogee.csv\", index=False)"
   ]
  },
  {
   "cell_type": "markdown",
   "metadata": {},
   "source": [
    "# Cleaning APOKSAC 2 Data\n",
    "TODO: Not sure how to do this\n"
   ]
  },
  {
   "cell_type": "code",
   "execution_count": null,
   "metadata": {},
   "outputs": [],
   "source": []
  },
  {
   "cell_type": "markdown",
   "metadata": {},
   "source": [
    "# Cleaning K2 Data\n",
    "To do so, we need to\n",
    "\n",
    "1. extract the mass coefficient from the data set\n",
    "2. find the effective temperature by finding the data in the GALAH data set by matching the EPIC identifier\n",
    "3. determine the mass\n",
    "4. extract the chemical composition of stars\n",
    "5. store the data for use\n",
    "\n",
    "For the purpose of this, we will keep the mass of stars as a multiple of solar mass."
   ]
  },
  {
   "cell_type": "code",
   "execution_count": 40,
   "metadata": {},
   "outputs": [
    {
     "data": {
      "text/html": [
       "<div>\n",
       "<style scoped>\n",
       "    .dataframe tbody tr th:only-of-type {\n",
       "        vertical-align: middle;\n",
       "    }\n",
       "\n",
       "    .dataframe tbody tr th {\n",
       "        vertical-align: top;\n",
       "    }\n",
       "\n",
       "    .dataframe thead th {\n",
       "        text-align: right;\n",
       "    }\n",
       "</style>\n",
       "<table border=\"1\" class=\"dataframe\">\n",
       "  <thead>\n",
       "    <tr style=\"text-align: right;\">\n",
       "      <th></th>\n",
       "      <th>EPIC</th>\n",
       "      <th>kappa-m-c</th>\n",
       "    </tr>\n",
       "  </thead>\n",
       "  <tbody>\n",
       "    <tr>\n",
       "      <th>0</th>\n",
       "      <td>201051625</td>\n",
       "      <td>1.324</td>\n",
       "    </tr>\n",
       "    <tr>\n",
       "      <th>1</th>\n",
       "      <td>201079541</td>\n",
       "      <td>1.523</td>\n",
       "    </tr>\n",
       "    <tr>\n",
       "      <th>2</th>\n",
       "      <td>201082897</td>\n",
       "      <td>1.027</td>\n",
       "    </tr>\n",
       "    <tr>\n",
       "      <th>3</th>\n",
       "      <td>201084449</td>\n",
       "      <td>1.544</td>\n",
       "    </tr>\n",
       "    <tr>\n",
       "      <th>4</th>\n",
       "      <td>201084664</td>\n",
       "      <td>1.076</td>\n",
       "    </tr>\n",
       "    <tr>\n",
       "      <th>...</th>\n",
       "      <td>...</td>\n",
       "      <td>...</td>\n",
       "    </tr>\n",
       "    <tr>\n",
       "      <th>18817</th>\n",
       "      <td>251619708</td>\n",
       "      <td>0.880</td>\n",
       "    </tr>\n",
       "    <tr>\n",
       "      <th>18818</th>\n",
       "      <td>251620873</td>\n",
       "      <td>0.663</td>\n",
       "    </tr>\n",
       "    <tr>\n",
       "      <th>18819</th>\n",
       "      <td>251621333</td>\n",
       "      <td>1.193</td>\n",
       "    </tr>\n",
       "    <tr>\n",
       "      <th>18820</th>\n",
       "      <td>251622742</td>\n",
       "      <td>1.497</td>\n",
       "    </tr>\n",
       "    <tr>\n",
       "      <th>18821</th>\n",
       "      <td>251630759</td>\n",
       "      <td>1.274</td>\n",
       "    </tr>\n",
       "  </tbody>\n",
       "</table>\n",
       "<p>18822 rows × 2 columns</p>\n",
       "</div>"
      ],
      "text/plain": [
       "            EPIC kappa-m-c\n",
       "0      201051625     1.324\n",
       "1      201079541     1.523\n",
       "2      201082897     1.027\n",
       "3      201084449     1.544\n",
       "4      201084664     1.076\n",
       "...          ...       ...\n",
       "18817  251619708     0.880\n",
       "18818  251620873     0.663\n",
       "18819  251621333     1.193\n",
       "18820  251622742     1.497\n",
       "18821  251630759     1.274\n",
       "\n",
       "[18822 rows x 2 columns]"
      ]
     },
     "execution_count": 40,
     "metadata": {},
     "output_type": "execute_result"
    }
   ],
   "source": [
    "# k2_cols = [\"EPIC\", \"kappa-r-c\", \"e_kappa_r-c\", \"kappa-m-c\", \"e_kappa-m-c\", \"kappa-r-A2Z\", \"kappa-r-c-BAM\", \"kappa-r-c-BHM\", \"kappa-r-c-CAN\", \"kappa-r-c-SYD\", \"e_kappa-r-c-A2Z\", \"e_kappa-r-c-BAM\", \"e_kappa-r-c-BHM\", \"e_kappa-r-c-CAN\", \"e_kappa-r-c-COR\", \"e_kappa-r-c-SYD\", \"kappa-m_A2Z\", \"kappa-m-c-BAM\", \"kappa-m-c-BHM\", \"kappa-m-c-CAN\", \"kappa-m-c-COR\", \"kappa-m-c-SYD\", \"e_kappa-m_A2Z\", \"e_kappa-m-c-BAM\", \"e_kappa-m-c-BHM\", \"e_kappa-m-c-CAN\", \"e_kappa-m-c-COR\", \"e_kappa-m-c-SYD\"]\n",
    "\n",
    "# k2_col_width = [\n",
    "#     (0, 9), (10, 16), (18, 23), (25, 29), (18, 23),\n",
    "#     (25, 29), (31, 35), (37, 42), (44, 49), (51, 56),\n",
    "#     (58, 63), (65, 70), (72, 77), (79, 84), (86, 91),\n",
    "#     (93, 98), (100, 104), (106, 110), (112, 118), (120, 124),\n",
    "#     (126, 130), (137, 143), (145, 149), (151, 155), (157, 162),\n",
    "#     (164, 169), (171, 175), (177, 181), (183, 187), (189, 194)\n",
    "# ]\n",
    "k2_cols = [\"EPIC\", \"kappa-m-c\"]\n",
    "k2_col_width = [(0, 9), (24, 29)]\n",
    "\n",
    "k2 = pd.read_fwf(\n",
    "    \"Data/k2_mass_coefficients.txt\",\n",
    "    skiprows=50,\n",
    "    header=None,\n",
    "    index_col=False,\n",
    "    names = k2_cols,\n",
    "    colspecs = k2_col_width\n",
    ")\n",
    "# k2.columns = k2_cols\n",
    "k2\n",
    "# According to the International Astronomical Union (IAU), effective temperature of the sun is 5772 +- 0.8K\n",
    "teff_sun = 5772"
   ]
  },
  {
   "cell_type": "markdown",
   "metadata": {},
   "source": [
    "To determine the mass for K2 stars, we use the following formula (from K2 Galactic Archaeology Program DR3):\n",
    "\n",
    "$$ M/M_\\odot = \\kappa_M (T_{eff} / T_{eff, \\odot})^{3/2} $$\n"
   ]
  },
  {
   "cell_type": "code",
   "execution_count": null,
   "metadata": {},
   "outputs": [],
   "source": [
    "#"
   ]
  },
  {
   "cell_type": "markdown",
   "metadata": {},
   "source": []
  }
 ],
 "metadata": {
  "kernelspec": {
   "display_name": "Python 3 (ipykernel)",
   "language": "python",
   "name": "python3"
  },
  "language_info": {
   "codemirror_mode": {
    "name": "ipython",
    "version": 3
   },
   "file_extension": ".py",
   "mimetype": "text/x-python",
   "name": "python",
   "nbconvert_exporter": "python",
   "pygments_lexer": "ipython3",
   "version": "3.9.7"
  }
 },
 "nbformat": 4,
 "nbformat_minor": 1
}
