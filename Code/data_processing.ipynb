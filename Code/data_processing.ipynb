{
 "cells": [
  {
   "cell_type": "markdown",
   "metadata": {},
   "source": [
    "Importing the required packages"
   ]
  },
  {
   "cell_type": "code",
   "execution_count": 20,
   "metadata": {},
   "outputs": [],
   "source": [
    "# Import the pages I need here\n",
    "from astropy.table import Table\n",
    "import numpy as np          # For number handling\n",
    "import pandas as pd         # For table/data management\n",
    "import matplotlib.pyplot    # For plotting data"
   ]
  },
  {
   "cell_type": "markdown",
   "metadata": {},
   "source": [
    "The code will be sorted into two different parts.\n",
    "\n",
    "The goal for this piece of code is:\n",
    "- Clean K2 and APOKSAC Data\n",
    "- Using K2 and APOKSAC Data to train models\n",
    "- Use K2 model to predict the mass for APOGEE and GALAH\n",
    "- Use APOKSAC model to predict mass for APOGEE\n",
    "\n",
    "The goal is to get a table contain the following for all the data sets and use this to predict the mass of stars.\n",
    "The table include parameters such as:\n",
    "\n",
    "- Effective Temperature\n",
    "- Log g\n",
    "- Iron Abundance [Fe/H]\n",
    "- Alpha Abundance [alpha/Fe]\n",
    "- Nitrogen Abundance [N/Fe]\n",
    "- Oxygen Abundance [O/Fe]"
   ]
  },
  {
   "cell_type": "markdown",
   "metadata": {},
   "source": [
    "# Cleaning the GALAH Data"
   ]
  },
  {
   "cell_type": "code",
   "execution_count": null,
   "metadata": {},
   "outputs": [],
   "source": [
    "# Import the data and change into a data frame\n",
    "galah = Table.read(\"Data/galah_dr4_allspec_220713.fits\", format = \"fits\")\n",
    "names = [name for name in galah.colnames if len(galah[name].shape) <= 1]\n",
    "galah = galah[names].to_pandas()"
   ]
  },
  {
   "cell_type": "markdown",
   "metadata": {},
   "source": [
    "For Apogee Data, there are a few recommendations (this usually indicates that the data has some issues, e.g. unreliably broadening and other issues) for the flag that should be applied:\n",
    "- `snr_c3_iraf > 30`\n",
    "- `flag_sp == 0`\n",
    "- For any element `X`, the flag `flag_X_fe == 0`\n",
    "\n",
    "More information can be found [the GALAH Survey Website](https://www.galah-survey.org/dr3/flags/)"
   ]
  },
  {
   "cell_type": "code",
   "execution_count": null,
   "metadata": {},
   "outputs": [],
   "source": [
    "# Filter the data\n",
    "# galah = galah.loc[galah[\"snr_c3_iraf\"] > 30]\n",
    "galah = galah.loc[galah[\"flag_sp\"] == 0]\n",
    "galah = galah.loc[galah[\"flag_fe_h\"] == 0]\n",
    "galah = galah.loc[galah[\"flag_al_fe\"] == 0]\n",
    "galah = galah.loc[galah[\"flag_n_fe\"] == 0]\n",
    "galah = galah.loc[galah[\"flag_o_fe\"] == 0]"
   ]
  },
  {
   "cell_type": "markdown",
   "metadata": {},
   "source": [
    "Now the appropriate flag has been used, we extract only the useful columns and save the data for later."
   ]
  },
  {
   "cell_type": "code",
   "execution_count": null,
   "metadata": {},
   "outputs": [],
   "source": [
    "galah = galah[[\"teff\", \"logg\", \"fe_h\", \"al_fe\", \"n_fe\", \"o_fe\"]]\n",
    "galah.to_csv(\"Data/cleaned_galah.csv\", index=False)\n"
   ]
  },
  {
   "cell_type": "markdown",
   "metadata": {},
   "source": [
    "# Cleaning APOGEE Data"
   ]
  },
  {
   "cell_type": "code",
   "execution_count": 4,
   "metadata": {},
   "outputs": [],
   "source": [
    "apogee = Table.read(\"Data/allStar-dr17-synspec_rev1.fits\", format=\"fits\", hdu=1)\n",
    "names = [name for name in apogee.colnames if len(apogee[name].shape) <= 1]\n",
    "apogee = apogee[names].to_pandas()"
   ]
  },
  {
   "cell_type": "markdown",
   "source": [
    "For APOGEE, we do something similar by making sure all the parameters are working on are good.\n",
    "More information can be found [SDSS explanantion of bitmasks](https://www.sdss.org/dr13/algorithms/bitmasks/#APOGEE_ASPCAPFLAG) and [SDSS recommendations for bitmasks](https://www.sdss.org/dr13/irspec/abundances/)\n",
    "\n",
    "The parameters\n",
    "- `ASPCAPFLAG & STAR_BAD == 0` (`STAR_BAD` is the 23rd bit (starting from 0), or  `STAR_BAD = 0b 1000 0000 0000 0000 0000 0000`)\n",
    "    - `STAR_BAD` is a general indication of whether there are issues with measuring surface temperature, surface gravity, and check if any elements have `GRIDEDGE_BAD` set\n",
    "- `ELEMFLAG`\n",
    "    - Any example of this is `FE_H_FLAG`\n",
    "        - Make sure that the flag does not contain `GRIDEDGE_BAD`, `GRIDEDGE_WARN` and `CALRANGE_BAD`\n",
    "    - We should just check that the flag is equal to zero to eliminate all and any problematic behaviour"
   ],
   "metadata": {
    "collapsed": false
   }
  },
  {
   "cell_type": "code",
   "execution_count": 11,
   "outputs": [],
   "source": [
    "# Filter the data\n",
    "STAR_BAD = 1 << 23\n",
    "apogee = apogee.loc[apogee['ASPCAPFLAG'] & STAR_BAD == 0]\n",
    "apogee = apogee.loc[apogee['FE_H_FLAG'] == 0]\n",
    "apogee = apogee.loc[apogee['AL_FE_FLAG'] == 0]\n",
    "apogee = apogee.loc[apogee['N_FE_FLAG'] == 0]\n",
    "apogee = apogee.loc[apogee['O_FE_FLAG'] == 0]"
   ],
   "metadata": {
    "collapsed": false
   }
  },
  {
   "cell_type": "markdown",
   "source": [
    "Extract the useful column and save for later"
   ],
   "metadata": {
    "collapsed": false
   }
  },
  {
   "cell_type": "code",
   "execution_count": 14,
   "outputs": [],
   "source": [
    "apogee = apogee[[\"TEFF\", \"LOGG\", \"FE_H\", \"AL_FE\", \"N_FE\", \"O_FE\"]]\n",
    "apogee.columns = apogee.columns.str.lower()\n",
    "apogee.to_csv(\"Data/cleaned_apogee.csv\", index=False)"
   ],
   "metadata": {
    "collapsed": false
   }
  },
  {
   "cell_type": "markdown",
   "source": [
    "# Cleaning APOKSAC 2 Data\n",
    "TODO\n"
   ],
   "metadata": {
    "collapsed": false
   }
  },
  {
   "cell_type": "code",
   "execution_count": null,
   "outputs": [],
   "source": [],
   "metadata": {
    "collapsed": false
   }
  },
  {
   "cell_type": "markdown",
   "source": [
    "# Cleaning K2 Data"
   ],
   "metadata": {
    "collapsed": false
   }
  },
  {
   "cell_type": "code",
   "execution_count": 25,
   "outputs": [
    {
     "name": "stderr",
     "output_type": "stream",
     "text": [
      "<>:3: SyntaxWarning: 'tuple' object is not callable; perhaps you missed a comma?\n",
      "<>:4: SyntaxWarning: 'tuple' object is not callable; perhaps you missed a comma?\n",
      "<>:5: SyntaxWarning: 'tuple' object is not callable; perhaps you missed a comma?\n",
      "<>:6: SyntaxWarning: 'tuple' object is not callable; perhaps you missed a comma?\n",
      "<>:7: SyntaxWarning: 'tuple' object is not callable; perhaps you missed a comma?\n",
      "<>:3: SyntaxWarning: 'tuple' object is not callable; perhaps you missed a comma?\n",
      "<>:4: SyntaxWarning: 'tuple' object is not callable; perhaps you missed a comma?\n",
      "<>:5: SyntaxWarning: 'tuple' object is not callable; perhaps you missed a comma?\n",
      "<>:6: SyntaxWarning: 'tuple' object is not callable; perhaps you missed a comma?\n",
      "<>:7: SyntaxWarning: 'tuple' object is not callable; perhaps you missed a comma?\n",
      "/tmp/ipykernel_18769/4081655227.py:3: SyntaxWarning: 'tuple' object is not callable; perhaps you missed a comma?\n",
      "  (1, 9), (11, 16), (18, 23), (25, 29), (18, 23)\n",
      "/tmp/ipykernel_18769/4081655227.py:4: SyntaxWarning: 'tuple' object is not callable; perhaps you missed a comma?\n",
      "  (1, 9), (11, 16), (18, 23), (25, 29), (18, 23)\n",
      "/tmp/ipykernel_18769/4081655227.py:5: SyntaxWarning: 'tuple' object is not callable; perhaps you missed a comma?\n",
      "  (1, 9), (11, 16), (18, 23), (25, 29), (18, 23)\n",
      "/tmp/ipykernel_18769/4081655227.py:6: SyntaxWarning: 'tuple' object is not callable; perhaps you missed a comma?\n",
      "  (1, 9), (11, 16), (18, 23), (25, 29), (18, 23)\n",
      "/tmp/ipykernel_18769/4081655227.py:7: SyntaxWarning: 'tuple' object is not callable; perhaps you missed a comma?\n",
      "  (1, 9), (11, 16), (18, 23), (25, 29), (18, 23)\n",
      "/tmp/ipykernel_18769/4081655227.py:3: SyntaxWarning: 'tuple' object is not callable; perhaps you missed a comma?\n",
      "  (1, 9), (11, 16), (18, 23), (25, 29), (18, 23)\n",
      "/tmp/ipykernel_18769/4081655227.py:4: SyntaxWarning: 'tuple' object is not callable; perhaps you missed a comma?\n",
      "  (1, 9), (11, 16), (18, 23), (25, 29), (18, 23)\n",
      "/tmp/ipykernel_18769/4081655227.py:5: SyntaxWarning: 'tuple' object is not callable; perhaps you missed a comma?\n",
      "  (1, 9), (11, 16), (18, 23), (25, 29), (18, 23)\n",
      "/tmp/ipykernel_18769/4081655227.py:6: SyntaxWarning: 'tuple' object is not callable; perhaps you missed a comma?\n",
      "  (1, 9), (11, 16), (18, 23), (25, 29), (18, 23)\n",
      "/tmp/ipykernel_18769/4081655227.py:7: SyntaxWarning: 'tuple' object is not callable; perhaps you missed a comma?\n",
      "  (1, 9), (11, 16), (18, 23), (25, 29), (18, 23)\n",
      "/tmp/ipykernel_18769/4081655227.py:3: SyntaxWarning: 'tuple' object is not callable; perhaps you missed a comma?\n",
      "  (1, 9), (11, 16), (18, 23), (25, 29), (18, 23)\n",
      "/tmp/ipykernel_18769/4081655227.py:4: SyntaxWarning: 'tuple' object is not callable; perhaps you missed a comma?\n",
      "  (1, 9), (11, 16), (18, 23), (25, 29), (18, 23)\n",
      "/tmp/ipykernel_18769/4081655227.py:5: SyntaxWarning: 'tuple' object is not callable; perhaps you missed a comma?\n",
      "  (1, 9), (11, 16), (18, 23), (25, 29), (18, 23)\n",
      "/tmp/ipykernel_18769/4081655227.py:6: SyntaxWarning: 'tuple' object is not callable; perhaps you missed a comma?\n",
      "  (1, 9), (11, 16), (18, 23), (25, 29), (18, 23)\n",
      "/tmp/ipykernel_18769/4081655227.py:7: SyntaxWarning: 'tuple' object is not callable; perhaps you missed a comma?\n",
      "  (1, 9), (11, 16), (18, 23), (25, 29), (18, 23)\n",
      "/tmp/ipykernel_18769/4081655227.py:3: SyntaxWarning: 'tuple' object is not callable; perhaps you missed a comma?\n",
      "  (1, 9), (11, 16), (18, 23), (25, 29), (18, 23)\n",
      "/tmp/ipykernel_18769/4081655227.py:4: SyntaxWarning: 'tuple' object is not callable; perhaps you missed a comma?\n",
      "  (1, 9), (11, 16), (18, 23), (25, 29), (18, 23)\n",
      "/tmp/ipykernel_18769/4081655227.py:5: SyntaxWarning: 'tuple' object is not callable; perhaps you missed a comma?\n",
      "  (1, 9), (11, 16), (18, 23), (25, 29), (18, 23)\n",
      "/tmp/ipykernel_18769/4081655227.py:6: SyntaxWarning: 'tuple' object is not callable; perhaps you missed a comma?\n",
      "  (1, 9), (11, 16), (18, 23), (25, 29), (18, 23)\n",
      "/tmp/ipykernel_18769/4081655227.py:7: SyntaxWarning: 'tuple' object is not callable; perhaps you missed a comma?\n",
      "  (1, 9), (11, 16), (18, 23), (25, 29), (18, 23)\n",
      "/tmp/ipykernel_18769/4081655227.py:3: SyntaxWarning: 'tuple' object is not callable; perhaps you missed a comma?\n",
      "  (1, 9), (11, 16), (18, 23), (25, 29), (18, 23)\n",
      "/tmp/ipykernel_18769/4081655227.py:4: SyntaxWarning: 'tuple' object is not callable; perhaps you missed a comma?\n",
      "  (1, 9), (11, 16), (18, 23), (25, 29), (18, 23)\n",
      "/tmp/ipykernel_18769/4081655227.py:5: SyntaxWarning: 'tuple' object is not callable; perhaps you missed a comma?\n",
      "  (1, 9), (11, 16), (18, 23), (25, 29), (18, 23)\n",
      "/tmp/ipykernel_18769/4081655227.py:6: SyntaxWarning: 'tuple' object is not callable; perhaps you missed a comma?\n",
      "  (1, 9), (11, 16), (18, 23), (25, 29), (18, 23)\n",
      "/tmp/ipykernel_18769/4081655227.py:7: SyntaxWarning: 'tuple' object is not callable; perhaps you missed a comma?\n",
      "  (1, 9), (11, 16), (18, 23), (25, 29), (18, 23)\n",
      "/tmp/ipykernel_18769/4081655227.py:3: SyntaxWarning: 'tuple' object is not callable; perhaps you missed a comma?\n",
      "  (1, 9), (11, 16), (18, 23), (25, 29), (18, 23)\n",
      "/tmp/ipykernel_18769/4081655227.py:4: SyntaxWarning: 'tuple' object is not callable; perhaps you missed a comma?\n",
      "  (1, 9), (11, 16), (18, 23), (25, 29), (18, 23)\n",
      "/tmp/ipykernel_18769/4081655227.py:5: SyntaxWarning: 'tuple' object is not callable; perhaps you missed a comma?\n",
      "  (1, 9), (11, 16), (18, 23), (25, 29), (18, 23)\n",
      "/tmp/ipykernel_18769/4081655227.py:6: SyntaxWarning: 'tuple' object is not callable; perhaps you missed a comma?\n",
      "  (1, 9), (11, 16), (18, 23), (25, 29), (18, 23)\n",
      "/tmp/ipykernel_18769/4081655227.py:7: SyntaxWarning: 'tuple' object is not callable; perhaps you missed a comma?\n",
      "  (1, 9), (11, 16), (18, 23), (25, 29), (18, 23)\n",
      "/tmp/ipykernel_18769/4081655227.py:3: SyntaxWarning: 'tuple' object is not callable; perhaps you missed a comma?\n",
      "  (1, 9), (11, 16), (18, 23), (25, 29), (18, 23)\n",
      "/tmp/ipykernel_18769/4081655227.py:4: SyntaxWarning: 'tuple' object is not callable; perhaps you missed a comma?\n",
      "  (1, 9), (11, 16), (18, 23), (25, 29), (18, 23)\n",
      "/tmp/ipykernel_18769/4081655227.py:5: SyntaxWarning: 'tuple' object is not callable; perhaps you missed a comma?\n",
      "  (1, 9), (11, 16), (18, 23), (25, 29), (18, 23)\n",
      "/tmp/ipykernel_18769/4081655227.py:6: SyntaxWarning: 'tuple' object is not callable; perhaps you missed a comma?\n",
      "  (1, 9), (11, 16), (18, 23), (25, 29), (18, 23)\n",
      "/tmp/ipykernel_18769/4081655227.py:7: SyntaxWarning: 'tuple' object is not callable; perhaps you missed a comma?\n",
      "  (1, 9), (11, 16), (18, 23), (25, 29), (18, 23)\n"
     ]
    },
    {
     "ename": "TypeError",
     "evalue": "'tuple' object is not callable",
     "output_type": "error",
     "traceback": [
      "\u001B[0;31m---------------------------------------------------------------------------\u001B[0m",
      "\u001B[0;31mTypeError\u001B[0m                                 Traceback (most recent call last)",
      "Cell \u001B[0;32mIn [25], line 3\u001B[0m\n\u001B[1;32m      1\u001B[0m k2_cols \u001B[38;5;241m=\u001B[39m [\u001B[38;5;124m\"\u001B[39m\u001B[38;5;124mEPIC\u001B[39m\u001B[38;5;124m\"\u001B[39m, \u001B[38;5;124m\"\u001B[39m\u001B[38;5;124mkappa-r-c\u001B[39m\u001B[38;5;124m\"\u001B[39m, \u001B[38;5;124m\"\u001B[39m\u001B[38;5;124me_kappa_r-c\u001B[39m\u001B[38;5;124m\"\u001B[39m, \u001B[38;5;124m\"\u001B[39m\u001B[38;5;124mkappa-m-c\u001B[39m\u001B[38;5;124m\"\u001B[39m, \u001B[38;5;124m\"\u001B[39m\u001B[38;5;124me_kappa-m-c\u001B[39m\u001B[38;5;124m\"\u001B[39m, \u001B[38;5;124m\"\u001B[39m\u001B[38;5;124mkappa-r-A2Z\u001B[39m\u001B[38;5;124m\"\u001B[39m, \u001B[38;5;124m\"\u001B[39m\u001B[38;5;124mkappa-r-c-BAM\u001B[39m\u001B[38;5;124m\"\u001B[39m, \u001B[38;5;124m\"\u001B[39m\u001B[38;5;124mkappa-r-c-BHM\u001B[39m\u001B[38;5;124m\"\u001B[39m, \u001B[38;5;124m\"\u001B[39m\u001B[38;5;124mkappa-r-c-CAN\u001B[39m\u001B[38;5;124m\"\u001B[39m, \u001B[38;5;124m\"\u001B[39m\u001B[38;5;124mkappa-r-c-SYD\u001B[39m\u001B[38;5;124m\"\u001B[39m, \u001B[38;5;124m\"\u001B[39m\u001B[38;5;124me_kappa-r-c-A2Z\u001B[39m\u001B[38;5;124m\"\u001B[39m, \u001B[38;5;124m\"\u001B[39m\u001B[38;5;124me_kappa-r-c-BAM\u001B[39m\u001B[38;5;124m\"\u001B[39m, \u001B[38;5;124m\"\u001B[39m\u001B[38;5;124me_kappa-r-c-BHM\u001B[39m\u001B[38;5;124m\"\u001B[39m, \u001B[38;5;124m\"\u001B[39m\u001B[38;5;124me_kappa-r-c-CAN\u001B[39m\u001B[38;5;124m\"\u001B[39m, \u001B[38;5;124m\"\u001B[39m\u001B[38;5;124me_kappa-r-c-COR\u001B[39m\u001B[38;5;124m\"\u001B[39m, \u001B[38;5;124m\"\u001B[39m\u001B[38;5;124me_kappa-r-c-SYD\u001B[39m\u001B[38;5;124m\"\u001B[39m, \u001B[38;5;124m\"\u001B[39m\u001B[38;5;124mkappa-m_A2Z\u001B[39m\u001B[38;5;124m\"\u001B[39m, \u001B[38;5;124m\"\u001B[39m\u001B[38;5;124mkappa-m-c-BAM\u001B[39m\u001B[38;5;124m\"\u001B[39m, \u001B[38;5;124m\"\u001B[39m\u001B[38;5;124mkappa-m-c-BHM\u001B[39m\u001B[38;5;124m\"\u001B[39m, \u001B[38;5;124m\"\u001B[39m\u001B[38;5;124mkappa-m-c-CAN\u001B[39m\u001B[38;5;124m\"\u001B[39m, \u001B[38;5;124m\"\u001B[39m\u001B[38;5;124mkappa-m-c-COR\u001B[39m\u001B[38;5;124m\"\u001B[39m, \u001B[38;5;124m\"\u001B[39m\u001B[38;5;124mkappa-m-c-SYD\u001B[39m\u001B[38;5;124m\"\u001B[39m, \u001B[38;5;124m\"\u001B[39m\u001B[38;5;124me_kappa-m_A2Z\u001B[39m\u001B[38;5;124m\"\u001B[39m, \u001B[38;5;124m\"\u001B[39m\u001B[38;5;124me_kappa-m-c-BAM\u001B[39m\u001B[38;5;124m\"\u001B[39m, \u001B[38;5;124m\"\u001B[39m\u001B[38;5;124me_kappa-m-c-BHM\u001B[39m\u001B[38;5;124m\"\u001B[39m, \u001B[38;5;124m\"\u001B[39m\u001B[38;5;124me_kappa-m-c-CAN\u001B[39m\u001B[38;5;124m\"\u001B[39m, \u001B[38;5;124m\"\u001B[39m\u001B[38;5;124me_kappa-m-c-COR\u001B[39m\u001B[38;5;124m\"\u001B[39m, \u001B[38;5;124m\"\u001B[39m\u001B[38;5;124me_kappa-m-c-SYD\u001B[39m\u001B[38;5;124m\"\u001B[39m]\n\u001B[1;32m      2\u001B[0m k2_col_width \u001B[38;5;241m=\u001B[39m [\n\u001B[0;32m----> 3\u001B[0m     (\u001B[38;5;241m1\u001B[39m, \u001B[38;5;241m9\u001B[39m), (\u001B[38;5;241m11\u001B[39m, \u001B[38;5;241m16\u001B[39m), (\u001B[38;5;241m18\u001B[39m, \u001B[38;5;241m23\u001B[39m), (\u001B[38;5;241m25\u001B[39m, \u001B[38;5;241m29\u001B[39m), \u001B[43m(\u001B[49m\u001B[38;5;241;43m18\u001B[39;49m\u001B[43m,\u001B[49m\u001B[43m \u001B[49m\u001B[38;5;241;43m23\u001B[39;49m\u001B[43m)\u001B[49m\n\u001B[1;32m      4\u001B[0m \u001B[43m    \u001B[49m\u001B[43m(\u001B[49m\u001B[38;5;241;43m1\u001B[39;49m\u001B[43m,\u001B[49m\u001B[43m \u001B[49m\u001B[38;5;241;43m9\u001B[39;49m\u001B[43m)\u001B[49m, (\u001B[38;5;241m11\u001B[39m, \u001B[38;5;241m16\u001B[39m), (\u001B[38;5;241m18\u001B[39m, \u001B[38;5;241m23\u001B[39m), (\u001B[38;5;241m25\u001B[39m, \u001B[38;5;241m29\u001B[39m), (\u001B[38;5;241m18\u001B[39m, \u001B[38;5;241m23\u001B[39m)\n\u001B[1;32m      5\u001B[0m     (\u001B[38;5;241m1\u001B[39m, \u001B[38;5;241m9\u001B[39m), (\u001B[38;5;241m11\u001B[39m, \u001B[38;5;241m16\u001B[39m), (\u001B[38;5;241m18\u001B[39m, \u001B[38;5;241m23\u001B[39m), (\u001B[38;5;241m25\u001B[39m, \u001B[38;5;241m29\u001B[39m), (\u001B[38;5;241m18\u001B[39m, \u001B[38;5;241m23\u001B[39m)\n\u001B[1;32m      6\u001B[0m     (\u001B[38;5;241m1\u001B[39m, \u001B[38;5;241m9\u001B[39m), (\u001B[38;5;241m11\u001B[39m, \u001B[38;5;241m16\u001B[39m), (\u001B[38;5;241m18\u001B[39m, \u001B[38;5;241m23\u001B[39m), (\u001B[38;5;241m25\u001B[39m, \u001B[38;5;241m29\u001B[39m), (\u001B[38;5;241m18\u001B[39m, \u001B[38;5;241m23\u001B[39m)\n\u001B[1;32m      7\u001B[0m     (\u001B[38;5;241m1\u001B[39m, \u001B[38;5;241m9\u001B[39m), (\u001B[38;5;241m11\u001B[39m, \u001B[38;5;241m16\u001B[39m), (\u001B[38;5;241m18\u001B[39m, \u001B[38;5;241m23\u001B[39m), (\u001B[38;5;241m25\u001B[39m, \u001B[38;5;241m29\u001B[39m), (\u001B[38;5;241m18\u001B[39m, \u001B[38;5;241m23\u001B[39m)\n\u001B[1;32m      8\u001B[0m     (\u001B[38;5;241m1\u001B[39m, \u001B[38;5;241m9\u001B[39m), (\u001B[38;5;241m11\u001B[39m, \u001B[38;5;241m16\u001B[39m), (\u001B[38;5;241m18\u001B[39m, \u001B[38;5;241m23\u001B[39m), (\u001B[38;5;241m25\u001B[39m, \u001B[38;5;241m29\u001B[39m), (\u001B[38;5;241m18\u001B[39m, \u001B[38;5;241m23\u001B[39m)\n\u001B[1;32m      9\u001B[0m ]\n\u001B[1;32m     10\u001B[0m k2 \u001B[38;5;241m=\u001B[39m pd\u001B[38;5;241m.\u001B[39mread_fwf(\u001B[38;5;124m\"\u001B[39m\u001B[38;5;124mData/k2_mass_coefficient_data.txt\u001B[39m\u001B[38;5;124m\"\u001B[39m, colspecs\u001B[38;5;241m=\u001B[39mk2_cols)\n\u001B[1;32m     11\u001B[0m k2\n",
      "\u001B[0;31mTypeError\u001B[0m: 'tuple' object is not callable"
     ]
    }
   ],
   "source": [
    "k2_cols = [\"EPIC\", \"kappa-r-c\", \"e_kappa_r-c\", \"kappa-m-c\", \"e_kappa-m-c\", \"kappa-r-A2Z\", \"kappa-r-c-BAM\", \"kappa-r-c-BHM\", \"kappa-r-c-CAN\", \"kappa-r-c-SYD\", \"e_kappa-r-c-A2Z\", \"e_kappa-r-c-BAM\", \"e_kappa-r-c-BHM\", \"e_kappa-r-c-CAN\", \"e_kappa-r-c-COR\", \"e_kappa-r-c-SYD\", \"kappa-m_A2Z\", \"kappa-m-c-BAM\", \"kappa-m-c-BHM\", \"kappa-m-c-CAN\", \"kappa-m-c-COR\", \"kappa-m-c-SYD\", \"e_kappa-m_A2Z\", \"e_kappa-m-c-BAM\", \"e_kappa-m-c-BHM\", \"e_kappa-m-c-CAN\", \"e_kappa-m-c-COR\", \"e_kappa-m-c-SYD\"]\n",
    "k2_col_width = [\n",
    "    (1, 9), (11, 16), (18, 23), (25, 29), (18, 23),\n",
    "    (25, 29), (31, 35), (37, 42), (44, 49), (51, 56),\n",
    "    (58, 63), (65, 70), (72, 77), (79, 84), (86, 91),\n",
    "    (93, 98), (100, 104), (106, 110), (112, 118), (120, 124),\n",
    "    (126, 130), (137, 143), (145, 149), (151, 155), (157, 162),\n",
    "    (164, 169), (171, 175), (177, 181), (183, 187), (189, 194)\n",
    "]\n",
    "k2 = pd.read_fwf(\"Data/k2_mass_coefficient_data.txt\", colspecs=k2_cols)\n",
    "k2"
   ],
   "metadata": {
    "collapsed": false
   }
  },
  {
   "cell_type": "code",
   "execution_count": null,
   "outputs": [],
   "source": [],
   "metadata": {
    "collapsed": false
   }
  }
 ],
 "metadata": {
  "kernelspec": {
   "display_name": "Python 3 (ipykernel)",
   "language": "python",
   "name": "python3"
  },
  "language_info": {
   "codemirror_mode": {
    "name": "ipython",
    "version": 3
   },
   "file_extension": ".py",
   "mimetype": "text/x-python",
   "name": "python",
   "nbconvert_exporter": "python",
   "pygments_lexer": "ipython3",
   "version": "3.9.7"
  }
 },
 "nbformat": 4,
 "nbformat_minor": 1
}
