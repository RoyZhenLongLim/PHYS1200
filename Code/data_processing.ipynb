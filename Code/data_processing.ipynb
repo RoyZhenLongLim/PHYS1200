{
 "cells": [
  {
   "cell_type": "markdown",
   "source": [
    "The goal for this piece of code is:\n",
    "- Clean the data for the following datasets:\n",
    "    - K2\n",
    "    - APOKSAC\n",
    "    - APOGEE\n",
    "    - GALAH\n",
    "\n",
    "After we have cleaned the datas is\n",
    "- Use K2 model to predict the mass for APOGEE and GALAH\n",
    "- Use APOKSAC model to predict mass for APOGEE\n",
    "\n",
    "The goal is to get a table contain the following for all the data sets and use this to predict the mass of stars.\n",
    "The table include parameters such as:\n",
    "\n",
    "- Effective Temperature\n",
    "- Log g\n",
    "- Iron Abundance [Fe/H]\n",
    "- Alpha Abundance [alpha/Fe]\n",
    "- Carbon Abundance [C/Fe]\n",
    "- Nitrogen Abundance [N/Fe]\n",
    "- Oxygen Abundance [O/Fe]"
   ],
   "metadata": {
    "collapsed": false
   }
  },
  {
   "cell_type": "markdown",
   "metadata": {},
   "source": [
    "Importing the required packages"
   ]
  },
  {
   "cell_type": "code",
   "execution_count": 8,
   "outputs": [],
   "source": [
    "from astropy.table import Table\n",
    "import pandas as pd         # For table/data management"
   ],
   "metadata": {
    "collapsed": false
   }
  },
  {
   "cell_type": "markdown",
   "metadata": {},
   "source": [
    "# Cleaning the GALAH Data"
   ]
  },
  {
   "cell_type": "code",
   "execution_count": 9,
   "metadata": {},
   "outputs": [],
   "source": [
    "# Import the data and change into a data frame\n",
    "galah = Table.read(\"Data/galah_dr4_allspec_220713.fits\", format = \"fits\")\n",
    "names = [name for name in galah.colnames if len(galah[name].shape) <= 1]\n",
    "galah = galah[names].to_pandas()"
   ]
  },
  {
   "cell_type": "markdown",
   "metadata": {},
   "source": [
    "For Apogee Data, there are a few recommendations (this usually indicates that the data has some issues, e.g. unreliably broadening and other issues) for the flag that should be applied:\n",
    "- `snr_c3_iraf > 30`\n",
    "- `flag_sp == 0`\n",
    "- For any element `X`, the flag `flag_X_fe == 0`\n",
    "\n",
    "More information can be found [the GALAH Survey Website](https://www.galah-survey.org/dr3/flags/)"
   ]
  },
  {
   "cell_type": "code",
   "execution_count": 10,
   "metadata": {},
   "outputs": [],
   "source": [
    "# Filter the data\n",
    "# galah = galah.loc[galah[\"snr_c3_iraf\"] > 30]\n",
    "galah = galah.loc[galah[\"flag_sp\"] == 0]\n",
    "galah = galah.loc[galah[\"flag_fe_h\"] == 0]\n",
    "galah = galah.loc[galah[\"flag_al_fe\"] == 0]\n",
    "galah = galah.loc[galah[\"flag_c_fe\"] == 0]\n",
    "galah = galah.loc[galah[\"flag_n_fe\"] == 0]\n",
    "galah = galah.loc[galah[\"flag_o_fe\"] == 0]"
   ]
  },
  {
   "cell_type": "markdown",
   "metadata": {},
   "source": [
    "Now the appropriate flag has been used, we extract only the useful columns and save the data for later."
   ]
  },
  {
   "cell_type": "code",
   "execution_count": 11,
   "metadata": {},
   "outputs": [],
   "source": [
    "galah = galah[[\"teff\", \"logg\", \"fe_h\", \"al_fe\", \"c_fe\", \"n_fe\", \"o_fe\"]]\n",
    "# Rmeove all rows with null values\n",
    "galah.dropna(axis=0)\n",
    "galah.to_csv(\"Data/cleaned_galah.csv\", index=False)"
   ]
  },
  {
   "cell_type": "markdown",
   "metadata": {},
   "source": [
    "# Cleaning APOGEE Data"
   ]
  },
  {
   "cell_type": "code",
   "execution_count": 16,
   "metadata": {},
   "outputs": [],
   "source": [
    "apogee = Table.read(\"Data/allStar-dr17-synspec_rev1.fits\", format=\"fits\", hdu=1)\n",
    "names = [name for name in apogee.colnames if len(apogee[name].shape) <= 1]\n",
    "apogee = apogee[names].to_pandas()"
   ]
  },
  {
   "cell_type": "markdown",
   "source": [
    "For APOGEE, we do something similar by making sure all the parameters are working on are good.\n",
    "More information can be found [SDSS explanantion of bitmasks](https://www.sdss.org/dr13/algorithms/bitmasks/#APOGEE_ASPCAPFLAG) and [SDSS recommendations for bitmasks](https://www.sdss.org/dr13/irspec/abundances/)\n",
    "\n",
    "The parameters\n",
    "- `ASPCAPFLAG & STAR_BAD == 0` (`STAR_BAD` is the 23rd bit (starting from 0), or  `STAR_BAD = 0b 1000 0000 0000 0000 0000 0000`)\n",
    "    - `STAR_BAD` is a general indication of whether there are issues with measuring surface temperature, surface gravity, and check if any elements have `GRIDEDGE_BAD` set\n",
    "- `ELEMFLAG`\n",
    "    - Any example of this is `FE_H_FLAG`\n",
    "        - Make sure that the flag does not contain `GRIDEDGE_BAD`, `GRIDEDGE_WARN` and `CALRANGE_BAD`\n",
    "    - We should just check that the flag is equal to zero to eliminate all and any problematic behaviour"
   ],
   "metadata": {
    "collapsed": false
   }
  },
  {
   "cell_type": "code",
   "execution_count": 17,
   "outputs": [],
   "source": [
    "# Filter the data\n",
    "STAR_BAD = 1 << 23\n",
    "apogee = apogee.loc[apogee['ASPCAPFLAG'] & STAR_BAD == 0]\n",
    "apogee = apogee.loc[apogee['FE_H_FLAG'] == 0]\n",
    "apogee = apogee.loc[apogee['C_FE_FLAG'] == 0]\n",
    "apogee = apogee.loc[apogee['AL_FE_FLAG'] == 0]\n",
    "apogee = apogee.loc[apogee['N_FE_FLAG'] == 0]\n",
    "apogee = apogee.loc[apogee['O_FE_FLAG'] == 0]"
   ],
   "metadata": {
    "collapsed": false
   }
  },
  {
   "cell_type": "markdown",
   "source": [
    "Extract the useful column and save for later"
   ],
   "metadata": {
    "collapsed": false
   }
  },
  {
   "cell_type": "code",
   "execution_count": 18,
   "outputs": [],
   "source": [
    "apogee = apogee[[\"TEFF\", \"LOGG\", \"FE_H\", \"AL_FE\", \"C_FE\", \"N_FE\", \"O_FE\"]]\n",
    "apogee.columns = apogee.columns.str.lower()\n",
    "apogee.dropna(axis=0)\n",
    "apogee.to_csv(\"Data/cleaned_apogee.csv\", index=False)"
   ],
   "metadata": {
    "collapsed": false
   }
  },
  {
   "cell_type": "markdown",
   "source": [
    "# Cleaning APOKSAC 2 Data\n",
    "TODO: Not sure how to do this\n"
   ],
   "metadata": {
    "collapsed": false
   }
  },
  {
   "cell_type": "code",
   "execution_count": null,
   "outputs": [],
   "source": [],
   "metadata": {
    "collapsed": false
   }
  },
  {
   "cell_type": "markdown",
   "source": [
    "# Cleaning K2 Data\n",
    "TODO: Not sure how to do this"
   ],
   "metadata": {
    "collapsed": false
   }
  },
  {
   "cell_type": "code",
   "execution_count": 31,
   "outputs": [
    {
     "name": "stderr",
     "output_type": "stream",
     "text": [
      "/home/roy/.local/lib/python3.9/site-packages/pandas/io/parsers/readers.py:762: ParserWarning: Length of header or names does not match length of data. This leads to a loss of data with index_col=False.\n",
      "  return _read(filepath_or_buffer, kwds)\n"
     ]
    },
    {
     "data": {
      "text/plain": "           EPIC  kappa-r-c  e_kappa_r-c  kappa-m-c  e_kappa-m-c  kappa-r-A2Z  \\\n0       1051625      4.757        2.215      0.324        2.215        0.324   \n1       1079541      0.610        0.316      0.523        0.316        0.523   \n2       1082897      9.833        0.440      0.027        0.440        0.027   \n3       1084449      2.473        0.440      0.544        0.440        0.544   \n4       1084664      4.002        1.691      0.076        1.691        0.076   \n...         ...        ...          ...        ...          ...          ...   \n18817  51619708      9.697        0.377      0.880        0.377        0.880   \n18818  51620873      9.329        0.471      0.663        0.471        0.663   \n18819  51621333      6.843        0.123      0.193        0.123        0.193   \n18820  51622742      1.998        0.927      0.497        0.927        0.497   \n18821  51630759      8.452        0.282      0.274        0.282        0.274   \n\n       kappa-r-c-BAM  kappa-r-c-BHM  kappa-r-c-CAN  kappa-r-c-SYD  ...  \\\n0              0.404          7.176            NaN          6.728  ...   \n1              0.102          3.809          1.093            NaN  ...   \n2              0.095          2.600          9.651          0.477  ...   \n3              0.123          4.888          2.275          3.176  ...   \n4              0.272          2.506            NaN            NaN  ...   \n...              ...            ...            ...            ...  ...   \n18817          0.076          9.116            NaN          9.791  ...   \n18818          0.102            NaN            NaN          9.734  ...   \n18819          0.046            NaN            NaN          7.134  ...   \n18820          0.248          2.233            NaN          3.303  ...   \n18821          0.098          5.295            NaN          9.029  ...   \n\n       kappa-m-c-BHM  kappa-m-c-CAN  kappa-m-c-COR  kappa-m-c-SYD  \\\n0                NaN          0.366            NaN          1.034   \n1                NaN          0.552          0.608          1.555   \n2              0.381          0.654          0.976          0.975   \n3                NaN          0.196          0.446            NaN   \n4                NaN          0.788            NaN          1.230   \n...              ...            ...            ...            ...   \n18817            NaN          0.385            NaN          1.037   \n18818            NaN            NaN            NaN            NaN   \n18819            NaN            NaN            NaN            NaN   \n18820          0.602          0.561            NaN          1.180   \n18821          0.930          0.123            NaN          1.331   \n\n       e_kappa-m_A2Z  e_kappa-m-c-BAM  e_kappa-m-c-BHM  e_kappa-m-c-CAN  \\\n0              0.645              NaN            1.131              NaN   \n1              0.563              NaN            0.341            0.113   \n2              0.065            0.089            0.259            0.130   \n3              0.657              NaN            0.560            0.098   \n4              0.006              NaN            0.866              NaN   \n...              ...              ...              ...              ...   \n18817          0.845              NaN            0.815              NaN   \n18818          0.674              NaN              NaN              NaN   \n18819          0.241              NaN              NaN              NaN   \n18820          0.680            0.674            0.265              NaN   \n18821          0.356            0.301            1.350              NaN   \n\n       e_kappa-m-c-COR  e_kappa-m-c-SYD  \n0                0.616            0.160  \n1                  NaN            0.105  \n2                0.238            0.075  \n3                0.481              NaN  \n4                  NaN            0.161  \n...                ...              ...  \n18817            0.111            0.120  \n18818            0.164              NaN  \n18819            0.134              NaN  \n18820            0.426            0.284  \n18821            0.122            0.203  \n\n[18822 rows x 28 columns]",
      "text/html": "<div>\n<style scoped>\n    .dataframe tbody tr th:only-of-type {\n        vertical-align: middle;\n    }\n\n    .dataframe tbody tr th {\n        vertical-align: top;\n    }\n\n    .dataframe thead th {\n        text-align: right;\n    }\n</style>\n<table border=\"1\" class=\"dataframe\">\n  <thead>\n    <tr style=\"text-align: right;\">\n      <th></th>\n      <th>EPIC</th>\n      <th>kappa-r-c</th>\n      <th>e_kappa_r-c</th>\n      <th>kappa-m-c</th>\n      <th>e_kappa-m-c</th>\n      <th>kappa-r-A2Z</th>\n      <th>kappa-r-c-BAM</th>\n      <th>kappa-r-c-BHM</th>\n      <th>kappa-r-c-CAN</th>\n      <th>kappa-r-c-SYD</th>\n      <th>...</th>\n      <th>kappa-m-c-BHM</th>\n      <th>kappa-m-c-CAN</th>\n      <th>kappa-m-c-COR</th>\n      <th>kappa-m-c-SYD</th>\n      <th>e_kappa-m_A2Z</th>\n      <th>e_kappa-m-c-BAM</th>\n      <th>e_kappa-m-c-BHM</th>\n      <th>e_kappa-m-c-CAN</th>\n      <th>e_kappa-m-c-COR</th>\n      <th>e_kappa-m-c-SYD</th>\n    </tr>\n  </thead>\n  <tbody>\n    <tr>\n      <th>0</th>\n      <td>1051625</td>\n      <td>4.757</td>\n      <td>2.215</td>\n      <td>0.324</td>\n      <td>2.215</td>\n      <td>0.324</td>\n      <td>0.404</td>\n      <td>7.176</td>\n      <td>NaN</td>\n      <td>6.728</td>\n      <td>...</td>\n      <td>NaN</td>\n      <td>0.366</td>\n      <td>NaN</td>\n      <td>1.034</td>\n      <td>0.645</td>\n      <td>NaN</td>\n      <td>1.131</td>\n      <td>NaN</td>\n      <td>0.616</td>\n      <td>0.160</td>\n    </tr>\n    <tr>\n      <th>1</th>\n      <td>1079541</td>\n      <td>0.610</td>\n      <td>0.316</td>\n      <td>0.523</td>\n      <td>0.316</td>\n      <td>0.523</td>\n      <td>0.102</td>\n      <td>3.809</td>\n      <td>1.093</td>\n      <td>NaN</td>\n      <td>...</td>\n      <td>NaN</td>\n      <td>0.552</td>\n      <td>0.608</td>\n      <td>1.555</td>\n      <td>0.563</td>\n      <td>NaN</td>\n      <td>0.341</td>\n      <td>0.113</td>\n      <td>NaN</td>\n      <td>0.105</td>\n    </tr>\n    <tr>\n      <th>2</th>\n      <td>1082897</td>\n      <td>9.833</td>\n      <td>0.440</td>\n      <td>0.027</td>\n      <td>0.440</td>\n      <td>0.027</td>\n      <td>0.095</td>\n      <td>2.600</td>\n      <td>9.651</td>\n      <td>0.477</td>\n      <td>...</td>\n      <td>0.381</td>\n      <td>0.654</td>\n      <td>0.976</td>\n      <td>0.975</td>\n      <td>0.065</td>\n      <td>0.089</td>\n      <td>0.259</td>\n      <td>0.130</td>\n      <td>0.238</td>\n      <td>0.075</td>\n    </tr>\n    <tr>\n      <th>3</th>\n      <td>1084449</td>\n      <td>2.473</td>\n      <td>0.440</td>\n      <td>0.544</td>\n      <td>0.440</td>\n      <td>0.544</td>\n      <td>0.123</td>\n      <td>4.888</td>\n      <td>2.275</td>\n      <td>3.176</td>\n      <td>...</td>\n      <td>NaN</td>\n      <td>0.196</td>\n      <td>0.446</td>\n      <td>NaN</td>\n      <td>0.657</td>\n      <td>NaN</td>\n      <td>0.560</td>\n      <td>0.098</td>\n      <td>0.481</td>\n      <td>NaN</td>\n    </tr>\n    <tr>\n      <th>4</th>\n      <td>1084664</td>\n      <td>4.002</td>\n      <td>1.691</td>\n      <td>0.076</td>\n      <td>1.691</td>\n      <td>0.076</td>\n      <td>0.272</td>\n      <td>2.506</td>\n      <td>NaN</td>\n      <td>NaN</td>\n      <td>...</td>\n      <td>NaN</td>\n      <td>0.788</td>\n      <td>NaN</td>\n      <td>1.230</td>\n      <td>0.006</td>\n      <td>NaN</td>\n      <td>0.866</td>\n      <td>NaN</td>\n      <td>NaN</td>\n      <td>0.161</td>\n    </tr>\n    <tr>\n      <th>...</th>\n      <td>...</td>\n      <td>...</td>\n      <td>...</td>\n      <td>...</td>\n      <td>...</td>\n      <td>...</td>\n      <td>...</td>\n      <td>...</td>\n      <td>...</td>\n      <td>...</td>\n      <td>...</td>\n      <td>...</td>\n      <td>...</td>\n      <td>...</td>\n      <td>...</td>\n      <td>...</td>\n      <td>...</td>\n      <td>...</td>\n      <td>...</td>\n      <td>...</td>\n      <td>...</td>\n    </tr>\n    <tr>\n      <th>18817</th>\n      <td>51619708</td>\n      <td>9.697</td>\n      <td>0.377</td>\n      <td>0.880</td>\n      <td>0.377</td>\n      <td>0.880</td>\n      <td>0.076</td>\n      <td>9.116</td>\n      <td>NaN</td>\n      <td>9.791</td>\n      <td>...</td>\n      <td>NaN</td>\n      <td>0.385</td>\n      <td>NaN</td>\n      <td>1.037</td>\n      <td>0.845</td>\n      <td>NaN</td>\n      <td>0.815</td>\n      <td>NaN</td>\n      <td>0.111</td>\n      <td>0.120</td>\n    </tr>\n    <tr>\n      <th>18818</th>\n      <td>51620873</td>\n      <td>9.329</td>\n      <td>0.471</td>\n      <td>0.663</td>\n      <td>0.471</td>\n      <td>0.663</td>\n      <td>0.102</td>\n      <td>NaN</td>\n      <td>NaN</td>\n      <td>9.734</td>\n      <td>...</td>\n      <td>NaN</td>\n      <td>NaN</td>\n      <td>NaN</td>\n      <td>NaN</td>\n      <td>0.674</td>\n      <td>NaN</td>\n      <td>NaN</td>\n      <td>NaN</td>\n      <td>0.164</td>\n      <td>NaN</td>\n    </tr>\n    <tr>\n      <th>18819</th>\n      <td>51621333</td>\n      <td>6.843</td>\n      <td>0.123</td>\n      <td>0.193</td>\n      <td>0.123</td>\n      <td>0.193</td>\n      <td>0.046</td>\n      <td>NaN</td>\n      <td>NaN</td>\n      <td>7.134</td>\n      <td>...</td>\n      <td>NaN</td>\n      <td>NaN</td>\n      <td>NaN</td>\n      <td>NaN</td>\n      <td>0.241</td>\n      <td>NaN</td>\n      <td>NaN</td>\n      <td>NaN</td>\n      <td>0.134</td>\n      <td>NaN</td>\n    </tr>\n    <tr>\n      <th>18820</th>\n      <td>51622742</td>\n      <td>1.998</td>\n      <td>0.927</td>\n      <td>0.497</td>\n      <td>0.927</td>\n      <td>0.497</td>\n      <td>0.248</td>\n      <td>2.233</td>\n      <td>NaN</td>\n      <td>3.303</td>\n      <td>...</td>\n      <td>0.602</td>\n      <td>0.561</td>\n      <td>NaN</td>\n      <td>1.180</td>\n      <td>0.680</td>\n      <td>0.674</td>\n      <td>0.265</td>\n      <td>NaN</td>\n      <td>0.426</td>\n      <td>0.284</td>\n    </tr>\n    <tr>\n      <th>18821</th>\n      <td>51630759</td>\n      <td>8.452</td>\n      <td>0.282</td>\n      <td>0.274</td>\n      <td>0.282</td>\n      <td>0.274</td>\n      <td>0.098</td>\n      <td>5.295</td>\n      <td>NaN</td>\n      <td>9.029</td>\n      <td>...</td>\n      <td>0.930</td>\n      <td>0.123</td>\n      <td>NaN</td>\n      <td>1.331</td>\n      <td>0.356</td>\n      <td>0.301</td>\n      <td>1.350</td>\n      <td>NaN</td>\n      <td>0.122</td>\n      <td>0.203</td>\n    </tr>\n  </tbody>\n</table>\n<p>18822 rows × 28 columns</p>\n</div>"
     },
     "execution_count": 31,
     "metadata": {},
     "output_type": "execute_result"
    }
   ],
   "source": [
    "k2_cols = [\"EPIC\", \"kappa-r-c\", \"e_kappa_r-c\", \"kappa-m-c\", \"e_kappa-m-c\", \"kappa-r-A2Z\", \"kappa-r-c-BAM\", \"kappa-r-c-BHM\", \"kappa-r-c-CAN\", \"kappa-r-c-SYD\", \"e_kappa-r-c-A2Z\", \"e_kappa-r-c-BAM\", \"e_kappa-r-c-BHM\", \"e_kappa-r-c-CAN\", \"e_kappa-r-c-COR\", \"e_kappa-r-c-SYD\", \"kappa-m_A2Z\", \"kappa-m-c-BAM\", \"kappa-m-c-BHM\", \"kappa-m-c-CAN\", \"kappa-m-c-COR\", \"kappa-m-c-SYD\", \"e_kappa-m_A2Z\", \"e_kappa-m-c-BAM\", \"e_kappa-m-c-BHM\", \"e_kappa-m-c-CAN\", \"e_kappa-m-c-COR\", \"e_kappa-m-c-SYD\"]\n",
    "\n",
    "k2_col_width = [\n",
    "    (1, 9), (11, 16), (18, 23), (25, 29), (18, 23),\n",
    "    (25, 29), (31, 35), (37, 42), (44, 49), (51, 56),\n",
    "    (58, 63), (65, 70), (72, 77), (79, 84), (86, 91),\n",
    "    (93, 98), (100, 104), (106, 110), (112, 118), (120, 124),\n",
    "    (126, 130), (137, 143), (145, 149), (151, 155), (157, 162),\n",
    "    (164, 169), (171, 175), (177, 181), (183, 187), (189, 194)\n",
    "]\n",
    "# k2 = pd.read_fwf(\"Data/k2_mass_coefficient_data.txt\", colspecs=k2_col_width)\n",
    "k2 = pd.read_fwf(\n",
    "    \"Data/k2_mass_coefficients.txt\",\n",
    "    skiprows=50,\n",
    "    header=None,\n",
    "    index_col=False,\n",
    "    names = k2_cols,\n",
    "    colspecs = k2_col_width\n",
    ")\n",
    "# k2.columns = k2_cols\n",
    "k2"
   ],
   "metadata": {
    "collapsed": false
   }
  },
  {
   "cell_type": "code",
   "execution_count": null,
   "outputs": [],
   "source": [],
   "metadata": {
    "collapsed": false
   }
  }
 ],
 "metadata": {
  "kernelspec": {
   "display_name": "Python 3 (ipykernel)",
   "language": "python",
   "name": "python3"
  },
  "language_info": {
   "codemirror_mode": {
    "name": "ipython",
    "version": 3
   },
   "file_extension": ".py",
   "mimetype": "text/x-python",
   "name": "python",
   "nbconvert_exporter": "python",
   "pygments_lexer": "ipython3",
   "version": "3.9.7"
  }
 },
 "nbformat": 4,
 "nbformat_minor": 1
}
