{
 "cells": [
  {
   "cell_type": "markdown",
   "metadata": {},
   "source": [
    "The goal for this piece of code is:\n",
    "- Clean the data for the following datasets:\n",
    "    - K2\n",
    "    - APOKSAC\n",
    "    - APOGEE\n",
    "    - GALAH\n",
    "\n",
    "After we have cleaned the datas is\n",
    "- Use K2 model to predict the mass for APOGEE and GALAH\n",
    "- Use APOKSAC model to predict mass for APOGEE\n",
    "\n",
    "The goal is to get a table contain the following for all the data sets and use this to predict the mass of stars.\n",
    "The table include parameters such as:\n",
    "\n",
    "- Effective Temperature\n",
    "- Log g\n",
    "- Iron Abundance [Fe/H]\n",
    "- Alpha Abundance [alpha/Fe]\n",
    "- Carbon Abundance [C/Fe]\n",
    "- Nitrogen Abundance [N/Fe]\n",
    "- Oxygen Abundance [O/Fe]\n",
    "\n",
    "In addition, we will extract the stars id to allow for identification\n",
    "\n",
    "- `tmass_id` 2MASS IDs\n",
    "- `gaiadr3_source_id` Gaia Id"
   ]
  },
  {
   "cell_type": "markdown",
   "metadata": {},
   "source": [
    "Importing the required packages"
   ]
  },
  {
   "cell_type": "code",
   "execution_count": 2,
   "metadata": {},
   "outputs": [],
   "source": [
    "from astropy.table import Table\n",
    "import pandas as pd         # For table/data management"
   ]
  },
  {
   "cell_type": "markdown",
   "metadata": {},
   "source": [
    "# Cleaning the GALAH Data"
   ]
  },
  {
   "cell_type": "code",
   "execution_count": 2,
   "metadata": {},
   "outputs": [],
   "source": [
    "# Import the data and change into a data frame\n",
    "def importGalah():\n",
    "    galah = Table.read(\"RawData/galah_dr4_allspec_220713.fits\", format = \"fits\")\n",
    "    names = [name for name in galah.colnames if len(galah[name].shape) <= 1]\n",
    "    galah = galah[names].to_pandas()\n",
    "    return galah\n",
    "galah = importGalah()"
   ]
  },
  {
   "cell_type": "markdown",
   "metadata": {},
   "source": [
    "For Apogee Data, there are a few recommendations (this usually indicates that the data has some issues, e.g. unreliably broadening and other issues) for the flag that should be applied:\n",
    "- `snr_c3_iraf > 30`\n",
    "- `flag_sp == 0`\n",
    "- For any element `X`, the flag `flag_X_fe == 0`\n",
    "\n",
    "More information can be found [the GALAH Survey Website](https://www.galah-survey.org/dr3/flags/)"
   ]
  },
  {
   "cell_type": "code",
   "execution_count": 11,
   "metadata": {},
   "outputs": [],
   "source": [
    "# Filter the data\n",
    "# galah = galah.loc[galah[\"snr_c3_iraf\"] > 30]\n",
    "galah = galah.loc[galah[\"flag_sp\"] == 0]\n",
    "galah = galah.loc[galah[\"flag_fe_h\"] == 0]\n",
    "galah = galah.loc[galah[\"flag_c_fe\"] == 0]\n",
    "galah = galah.loc[galah[\"flag_n_fe\"] == 0]\n",
    "galah = galah.loc[galah[\"flag_o_fe\"] == 0]\n",
    "galah = galah.loc[galah[\"flag_li_fe\"] == 0]"
   ]
  },
  {
   "cell_type": "code",
   "execution_count": 12,
   "outputs": [
    {
     "data": {
      "text/plain": "             sobject_id             tmass_id    gaiadr3_source_id          ra  \\\n5       131216001101010  b'05225435-5857055'  4762753422822077184   80.726471   \n8       131216001101014  b'05242161-5901319'  4762739782006427648   81.090057   \n11      131216001101017  b'05221820-5902598'  4762730882833911808   80.575874   \n16      131216001101022  b'05222284-5903420'  4762727927896411392   80.595207   \n18      131216001101024  b'05225971-5905550'  4762726897104253824   80.748810   \n...                 ...                  ...                  ...         ...   \n911431  220422002101020  b'08490304-4234488'  5524145365131834880  132.262680   \n911484  220422002101081  b'08482763-4300045'  5524113543714103168  132.115097   \n911566  220422002101199  b'08431567-4230079'  5524898599314763136  130.815277   \n911568  220422002101203  b'08433930-4230037'  5524851114156313600  130.913773   \n911626  220422002101274  b'08464041-4205267'  5524947901240914176  131.668350   \n\n              dec  flag_sp   chi2_sp          model_name         teff  \\\n5      -58.951542        0  0.801761  b'4750_2.50_-0.25'  4747.277832   \n8      -59.025547        0  0.866050   b'5000_4.50_0.00'  5007.801270   \n11     -59.049953        0  0.843927   b'4750_4.50_0.00'  4801.387207   \n16     -59.061672        0  1.240397   b'5250_4.50_0.25'  5278.634277   \n18     -59.098625        0  0.875987   b'4500_4.00_0.00'  4613.555176   \n...           ...      ...       ...                 ...          ...   \n911431 -42.580215        0  0.907719  b'4250_1.50_-0.50'  4326.258789   \n911484 -43.001232        0  0.852804  b'5000_3.00_-0.25'  4892.621094   \n911566 -42.502193        0  0.756809   b'5000_3.00_0.00'  4921.517090   \n911568 -42.501072        0  0.790913   b'4500_2.50_0.00'  4544.542969   \n911626 -42.090771        0  0.759723   b'5000_2.50_0.00'  5028.023438   \n\n           e_teff  ...     rv_k_is  ew_dib5780  sigma_dib5780  rv_dib5780  \\\n5       11.832772  ...   85.141571    0.023134       0.252208   26.350906   \n8        9.640579  ...  -56.604633    0.023699       0.536554   -5.562334   \n11       8.895825  ...  167.882294   -0.012029       0.074605   39.358860   \n16       4.595638  ...  -13.605973    0.015943       0.222795   30.253696   \n18      14.729848  ... -133.567993    0.021436       0.170836   89.049568   \n...           ...  ...         ...         ...            ...         ...   \n911431   6.605823  ...  -27.567528    0.242692       0.821876   -4.200578   \n911484   7.416252  ...    7.454720    0.013022       0.100351   42.018845   \n911566  12.264063  ...   27.553761    0.220546       1.030082   45.633423   \n911568  24.683069  ...  -41.585598    0.479357       0.681622  -23.666155   \n911626  12.537756  ...   17.360641    0.336694       1.095364   31.839413   \n\n        ew_dib5797  sigma_dib5797  rv_dib5797  ew_dib6613  sigma_dib6613  \\\n5         0.018000       0.101814  -39.829533    0.029444       1.492405   \n8         0.025659       0.737862   -5.556193    0.015717       0.446130   \n11        0.016823       0.127976  -15.108765    0.005813       0.160391   \n16       -0.010231       0.392958  -41.382511    0.007021       0.049410   \n18       -0.026330       0.095232   41.361435    0.009535       0.044633   \n...            ...            ...         ...         ...            ...   \n911431    0.081907       0.482253  -31.767265    0.053212       0.267420   \n911484    0.015768       0.125131  -49.141647    0.015822       0.718062   \n911566    0.062203       1.144449   13.689507    0.048689       0.384843   \n911568    0.169192       0.646230  -36.374008    0.216087       0.376157   \n911626    0.058513       0.293633    9.455349    0.088601       0.415951   \n\n        rv_dib6613  \n5        31.226997  \n8        -5.526703  \n11       -8.338925  \n16       11.469566  \n18       11.150452  \n...            ...  \n911431   -4.404961  \n911484  -11.059895  \n911566   61.364906  \n911568  -15.404000  \n911626   51.483608  \n\n[63574 rows x 139 columns]",
      "text/html": "<div>\n<style scoped>\n    .dataframe tbody tr th:only-of-type {\n        vertical-align: middle;\n    }\n\n    .dataframe tbody tr th {\n        vertical-align: top;\n    }\n\n    .dataframe thead th {\n        text-align: right;\n    }\n</style>\n<table border=\"1\" class=\"dataframe\">\n  <thead>\n    <tr style=\"text-align: right;\">\n      <th></th>\n      <th>sobject_id</th>\n      <th>tmass_id</th>\n      <th>gaiadr3_source_id</th>\n      <th>ra</th>\n      <th>dec</th>\n      <th>flag_sp</th>\n      <th>chi2_sp</th>\n      <th>model_name</th>\n      <th>teff</th>\n      <th>e_teff</th>\n      <th>...</th>\n      <th>rv_k_is</th>\n      <th>ew_dib5780</th>\n      <th>sigma_dib5780</th>\n      <th>rv_dib5780</th>\n      <th>ew_dib5797</th>\n      <th>sigma_dib5797</th>\n      <th>rv_dib5797</th>\n      <th>ew_dib6613</th>\n      <th>sigma_dib6613</th>\n      <th>rv_dib6613</th>\n    </tr>\n  </thead>\n  <tbody>\n    <tr>\n      <th>5</th>\n      <td>131216001101010</td>\n      <td>b'05225435-5857055'</td>\n      <td>4762753422822077184</td>\n      <td>80.726471</td>\n      <td>-58.951542</td>\n      <td>0</td>\n      <td>0.801761</td>\n      <td>b'4750_2.50_-0.25'</td>\n      <td>4747.277832</td>\n      <td>11.832772</td>\n      <td>...</td>\n      <td>85.141571</td>\n      <td>0.023134</td>\n      <td>0.252208</td>\n      <td>26.350906</td>\n      <td>0.018000</td>\n      <td>0.101814</td>\n      <td>-39.829533</td>\n      <td>0.029444</td>\n      <td>1.492405</td>\n      <td>31.226997</td>\n    </tr>\n    <tr>\n      <th>8</th>\n      <td>131216001101014</td>\n      <td>b'05242161-5901319'</td>\n      <td>4762739782006427648</td>\n      <td>81.090057</td>\n      <td>-59.025547</td>\n      <td>0</td>\n      <td>0.866050</td>\n      <td>b'5000_4.50_0.00'</td>\n      <td>5007.801270</td>\n      <td>9.640579</td>\n      <td>...</td>\n      <td>-56.604633</td>\n      <td>0.023699</td>\n      <td>0.536554</td>\n      <td>-5.562334</td>\n      <td>0.025659</td>\n      <td>0.737862</td>\n      <td>-5.556193</td>\n      <td>0.015717</td>\n      <td>0.446130</td>\n      <td>-5.526703</td>\n    </tr>\n    <tr>\n      <th>11</th>\n      <td>131216001101017</td>\n      <td>b'05221820-5902598'</td>\n      <td>4762730882833911808</td>\n      <td>80.575874</td>\n      <td>-59.049953</td>\n      <td>0</td>\n      <td>0.843927</td>\n      <td>b'4750_4.50_0.00'</td>\n      <td>4801.387207</td>\n      <td>8.895825</td>\n      <td>...</td>\n      <td>167.882294</td>\n      <td>-0.012029</td>\n      <td>0.074605</td>\n      <td>39.358860</td>\n      <td>0.016823</td>\n      <td>0.127976</td>\n      <td>-15.108765</td>\n      <td>0.005813</td>\n      <td>0.160391</td>\n      <td>-8.338925</td>\n    </tr>\n    <tr>\n      <th>16</th>\n      <td>131216001101022</td>\n      <td>b'05222284-5903420'</td>\n      <td>4762727927896411392</td>\n      <td>80.595207</td>\n      <td>-59.061672</td>\n      <td>0</td>\n      <td>1.240397</td>\n      <td>b'5250_4.50_0.25'</td>\n      <td>5278.634277</td>\n      <td>4.595638</td>\n      <td>...</td>\n      <td>-13.605973</td>\n      <td>0.015943</td>\n      <td>0.222795</td>\n      <td>30.253696</td>\n      <td>-0.010231</td>\n      <td>0.392958</td>\n      <td>-41.382511</td>\n      <td>0.007021</td>\n      <td>0.049410</td>\n      <td>11.469566</td>\n    </tr>\n    <tr>\n      <th>18</th>\n      <td>131216001101024</td>\n      <td>b'05225971-5905550'</td>\n      <td>4762726897104253824</td>\n      <td>80.748810</td>\n      <td>-59.098625</td>\n      <td>0</td>\n      <td>0.875987</td>\n      <td>b'4500_4.00_0.00'</td>\n      <td>4613.555176</td>\n      <td>14.729848</td>\n      <td>...</td>\n      <td>-133.567993</td>\n      <td>0.021436</td>\n      <td>0.170836</td>\n      <td>89.049568</td>\n      <td>-0.026330</td>\n      <td>0.095232</td>\n      <td>41.361435</td>\n      <td>0.009535</td>\n      <td>0.044633</td>\n      <td>11.150452</td>\n    </tr>\n    <tr>\n      <th>...</th>\n      <td>...</td>\n      <td>...</td>\n      <td>...</td>\n      <td>...</td>\n      <td>...</td>\n      <td>...</td>\n      <td>...</td>\n      <td>...</td>\n      <td>...</td>\n      <td>...</td>\n      <td>...</td>\n      <td>...</td>\n      <td>...</td>\n      <td>...</td>\n      <td>...</td>\n      <td>...</td>\n      <td>...</td>\n      <td>...</td>\n      <td>...</td>\n      <td>...</td>\n      <td>...</td>\n    </tr>\n    <tr>\n      <th>911431</th>\n      <td>220422002101020</td>\n      <td>b'08490304-4234488'</td>\n      <td>5524145365131834880</td>\n      <td>132.262680</td>\n      <td>-42.580215</td>\n      <td>0</td>\n      <td>0.907719</td>\n      <td>b'4250_1.50_-0.50'</td>\n      <td>4326.258789</td>\n      <td>6.605823</td>\n      <td>...</td>\n      <td>-27.567528</td>\n      <td>0.242692</td>\n      <td>0.821876</td>\n      <td>-4.200578</td>\n      <td>0.081907</td>\n      <td>0.482253</td>\n      <td>-31.767265</td>\n      <td>0.053212</td>\n      <td>0.267420</td>\n      <td>-4.404961</td>\n    </tr>\n    <tr>\n      <th>911484</th>\n      <td>220422002101081</td>\n      <td>b'08482763-4300045'</td>\n      <td>5524113543714103168</td>\n      <td>132.115097</td>\n      <td>-43.001232</td>\n      <td>0</td>\n      <td>0.852804</td>\n      <td>b'5000_3.00_-0.25'</td>\n      <td>4892.621094</td>\n      <td>7.416252</td>\n      <td>...</td>\n      <td>7.454720</td>\n      <td>0.013022</td>\n      <td>0.100351</td>\n      <td>42.018845</td>\n      <td>0.015768</td>\n      <td>0.125131</td>\n      <td>-49.141647</td>\n      <td>0.015822</td>\n      <td>0.718062</td>\n      <td>-11.059895</td>\n    </tr>\n    <tr>\n      <th>911566</th>\n      <td>220422002101199</td>\n      <td>b'08431567-4230079'</td>\n      <td>5524898599314763136</td>\n      <td>130.815277</td>\n      <td>-42.502193</td>\n      <td>0</td>\n      <td>0.756809</td>\n      <td>b'5000_3.00_0.00'</td>\n      <td>4921.517090</td>\n      <td>12.264063</td>\n      <td>...</td>\n      <td>27.553761</td>\n      <td>0.220546</td>\n      <td>1.030082</td>\n      <td>45.633423</td>\n      <td>0.062203</td>\n      <td>1.144449</td>\n      <td>13.689507</td>\n      <td>0.048689</td>\n      <td>0.384843</td>\n      <td>61.364906</td>\n    </tr>\n    <tr>\n      <th>911568</th>\n      <td>220422002101203</td>\n      <td>b'08433930-4230037'</td>\n      <td>5524851114156313600</td>\n      <td>130.913773</td>\n      <td>-42.501072</td>\n      <td>0</td>\n      <td>0.790913</td>\n      <td>b'4500_2.50_0.00'</td>\n      <td>4544.542969</td>\n      <td>24.683069</td>\n      <td>...</td>\n      <td>-41.585598</td>\n      <td>0.479357</td>\n      <td>0.681622</td>\n      <td>-23.666155</td>\n      <td>0.169192</td>\n      <td>0.646230</td>\n      <td>-36.374008</td>\n      <td>0.216087</td>\n      <td>0.376157</td>\n      <td>-15.404000</td>\n    </tr>\n    <tr>\n      <th>911626</th>\n      <td>220422002101274</td>\n      <td>b'08464041-4205267'</td>\n      <td>5524947901240914176</td>\n      <td>131.668350</td>\n      <td>-42.090771</td>\n      <td>0</td>\n      <td>0.759723</td>\n      <td>b'5000_2.50_0.00'</td>\n      <td>5028.023438</td>\n      <td>12.537756</td>\n      <td>...</td>\n      <td>17.360641</td>\n      <td>0.336694</td>\n      <td>1.095364</td>\n      <td>31.839413</td>\n      <td>0.058513</td>\n      <td>0.293633</td>\n      <td>9.455349</td>\n      <td>0.088601</td>\n      <td>0.415951</td>\n      <td>51.483608</td>\n    </tr>\n  </tbody>\n</table>\n<p>63574 rows × 139 columns</p>\n</div>"
     },
     "execution_count": 12,
     "metadata": {},
     "output_type": "execute_result"
    }
   ],
   "source": [
    "galah"
   ],
   "metadata": {
    "collapsed": false
   }
  },
  {
   "cell_type": "markdown",
   "metadata": {},
   "source": [
    "Now the appropriate flag has been used, we extract only the useful columns and save the data for later."
   ]
  },
  {
   "cell_type": "code",
   "execution_count": 13,
   "metadata": {},
   "outputs": [],
   "source": [
    "# Remove all rows with null values\n",
    "galah.dropna()\n",
    "galah.to_csv(\"ProcessedData/cleaned_galah.csv\", index=False)"
   ]
  },
  {
   "cell_type": "code",
   "execution_count": 15,
   "outputs": [
    {
     "data": {
      "text/plain": "        red_alpha_fe  ew_h_alpha\n5           0.132004    0.018184\n8           0.075313   -0.036045\n11          0.029919   -0.042364\n16         -0.014889   -0.029333\n18          0.117063   -0.031519\n...              ...         ...\n911431      0.120585    0.061411\n911484      0.166184    0.004074\n911566      0.018094    0.007845\n911568      0.121439    0.158733\n911626      0.034752    0.022740\n\n[63574 rows x 2 columns]",
      "text/html": "<div>\n<style scoped>\n    .dataframe tbody tr th:only-of-type {\n        vertical-align: middle;\n    }\n\n    .dataframe tbody tr th {\n        vertical-align: top;\n    }\n\n    .dataframe thead th {\n        text-align: right;\n    }\n</style>\n<table border=\"1\" class=\"dataframe\">\n  <thead>\n    <tr style=\"text-align: right;\">\n      <th></th>\n      <th>red_alpha_fe</th>\n      <th>ew_h_alpha</th>\n    </tr>\n  </thead>\n  <tbody>\n    <tr>\n      <th>5</th>\n      <td>0.132004</td>\n      <td>0.018184</td>\n    </tr>\n    <tr>\n      <th>8</th>\n      <td>0.075313</td>\n      <td>-0.036045</td>\n    </tr>\n    <tr>\n      <th>11</th>\n      <td>0.029919</td>\n      <td>-0.042364</td>\n    </tr>\n    <tr>\n      <th>16</th>\n      <td>-0.014889</td>\n      <td>-0.029333</td>\n    </tr>\n    <tr>\n      <th>18</th>\n      <td>0.117063</td>\n      <td>-0.031519</td>\n    </tr>\n    <tr>\n      <th>...</th>\n      <td>...</td>\n      <td>...</td>\n    </tr>\n    <tr>\n      <th>911431</th>\n      <td>0.120585</td>\n      <td>0.061411</td>\n    </tr>\n    <tr>\n      <th>911484</th>\n      <td>0.166184</td>\n      <td>0.004074</td>\n    </tr>\n    <tr>\n      <th>911566</th>\n      <td>0.018094</td>\n      <td>0.007845</td>\n    </tr>\n    <tr>\n      <th>911568</th>\n      <td>0.121439</td>\n      <td>0.158733</td>\n    </tr>\n    <tr>\n      <th>911626</th>\n      <td>0.034752</td>\n      <td>0.022740</td>\n    </tr>\n  </tbody>\n</table>\n<p>63574 rows × 2 columns</p>\n</div>"
     },
     "execution_count": 15,
     "metadata": {},
     "output_type": "execute_result"
    }
   ],
   "source": [
    "galah[[\"red_alpha_fe\", \"ew_h_alpha\"]]"
   ],
   "metadata": {
    "collapsed": false
   }
  },
  {
   "cell_type": "markdown",
   "metadata": {},
   "source": [
    "# Cleaning APOGEE Data"
   ]
  },
  {
   "cell_type": "code",
   "execution_count": 3,
   "metadata": {},
   "outputs": [],
   "source": [
    "apogee = Table.read(\"RawData/allStar-dr17-synspec_rev1.fits\", format=\"fits\", hdu=1)\n",
    "names = [name for name in apogee.colnames if len(apogee[name].shape) <= 1]\n",
    "apogee = apogee[names].to_pandas()"
   ]
  },
  {
   "cell_type": "code",
   "execution_count": 5,
   "outputs": [
    {
     "data": {
      "text/plain": "                                          FILE              APOGEE_ID  \\\n0                    b'apStar-dr17-VESTA.fits'               b'VESTA'   \n1       b'apStar-dr17-2M00000002+7417074.fits'  b'2M00000002+7417074'   \n2       b'apStar-dr17-2M00000019-1924498.fits'  b'2M00000019-1924498'   \n3       b'apStar-dr17-2M00000032+5737103.fits'  b'2M00000032+5737103'   \n4       b'apStar-dr17-2M00000032+5737103.fits'  b'2M00000032+5737103'   \n...                                        ...                    ...   \n733896  b'apStar-dr17-2M23595886-2009435.fits'  b'2M23595886-2009435'   \n733897  b'apStar-dr17-2M23595886+5726058.fits'  b'2M23595886+5726058'   \n733898  b'apStar-dr17-2M23595921+5609479.fits'  b'2M23595921+5609479'   \n733899  b'asStar-dr17-2M23595949-7342592.fits'  b'2M23595949-7342592'   \n733900  b'apStar-dr17-2M23595980+1528407.fits'  b'2M23595980+1528407'   \n\n                                       TARGET_ID  \\\n0                     b'apo1m.calibration.VESTA'   \n1            b'apo25m.120+12.2M00000002+7417074'   \n2            b'apo25m.060-75.2M00000019-1924498'   \n3            b'apo25m.116-04.2M00000032+5737103'   \n4             b'apo25m.N7789.2M00000032+5737103'   \n...                                          ...   \n733896       b'apo25m.060-75.2M23595886-2009435'   \n733897       b'apo25m.116-04.2M23595886+5726058'   \n733898  b'apo25m.NGC7789_MGA.2M23595921+5609479'   \n733899        b'lco25m.SMC12.2M23595949-7342592'   \n733900       b'apo25m.105-45.2M23595980+1528407'   \n\n                                                APSTAR_ID  \\\n0                 b'apogee.apo1m.stars.calibration.VESTA'   \n1        b'apogee.apo25m.stars.120+12.2M00000002+7417074'   \n2        b'apogee.apo25m.stars.060-75.2M00000019-1924498'   \n3        b'apogee.apo25m.stars.116-04.2M00000032+5737103'   \n4         b'apogee.apo25m.stars.N7789.2M00000032+5737103'   \n...                                                   ...   \n733896   b'apogee.apo25m.stars.060-75.2M23595886-2009435'   \n733897   b'apogee.apo25m.stars.116-04.2M23595886+5726058'   \n733898  b'apogee.apo25m.stars.NGC7789_MGA.2M23595921+5...   \n733899    b'apogee.lco25m.stars.SMC12.2M23595949-7342592'   \n733900   b'apogee.apo25m.stars.105-45.2M23595980+1528407'   \n\n                                                ASPCAP_ID  TELESCOPE  \\\n0           b'apogee.apo1m.synspec_fix.calibration.VESTA'   b'apo1m'   \n1       b'apogee.apo25m.synspec_fix.120+12.2M00000002+...  b'apo25m'   \n2       b'apogee.apo25m.synspec_fix.060-75.2M00000019-...  b'apo25m'   \n3       b'apogee.apo25m.synspec_fix.116-04.2M00000032+...  b'apo25m'   \n4       b'apogee.apo25m.synspec_fix.N7789.2M00000032+5...  b'apo25m'   \n...                                                   ...        ...   \n733896  b'apogee.apo25m.synspec_fix.060-75.2M23595886-...  b'apo25m'   \n733897  b'apogee.apo25m.synspec_fix.116-04.2M23595886+...  b'apo25m'   \n733898  b'apogee.apo25m.synspec_fix.NGC7789_MGA.2M2359...  b'apo25m'   \n733899  b'apogee.lco25m.synspec_fix.SMC12.2M23595949-7...  b'lco25m'   \n733900  b'apogee.apo25m.synspec_fix.105-45.2M23595980+...  b'apo25m'   \n\n        LOCATION_ID           FIELD   ALT_ID          RA  ...  CU_FE_ERR  \\\n0                 1  b'calibration'     b' '         NaN  ...   0.059403   \n1              5046       b'120+12'  b'none'    0.000103  ...   0.001221   \n2              5071       b'060-75'  b'none'    0.000832  ...   0.102594   \n3              4424       b'116-04'  b'none'    0.001335  ...   0.123839   \n4              4264        b'N7789'  b'none'    0.001335  ...   0.107103   \n...             ...             ...      ...         ...  ...        ...   \n733896         5071       b'060-75'  b'none'  359.995258  ...        NaN   \n733897         4424       b'116-04'  b'none'  359.995265  ...        NaN   \n733898         -999  b'NGC7789_MGA'  b'none'  359.996744  ...        NaN   \n733899         7218        b'SMC12'  b'none'  359.997887  ...   0.174322   \n733900         4548       b'105-45'  b'none'  359.999181  ...   0.289108   \n\n        CU_FE_FLAG     CE_FE  CE_FE_SPEC  CE_FE_ERR  CE_FE_FLAG  YB_FE  \\\n0                2       NaN         NaN        NaN          64    NaN   \n1                2       NaN         NaN        NaN          64    NaN   \n2                2       NaN         NaN        NaN          64    NaN   \n3                2       NaN         NaN        NaN          64    NaN   \n4                2       NaN         NaN        NaN          64    NaN   \n...            ...       ...         ...        ...         ...    ...   \n733896         258       NaN         NaN        NaN          64    NaN   \n733897         259 -0.058750   -0.003090   0.072443           0    NaN   \n733898         259 -0.103446   -0.047786   0.097572           0    NaN   \n733899           2  0.107710    0.163370   0.140188           0    NaN   \n733900           2       NaN         NaN        NaN          64    NaN   \n\n        YB_FE_SPEC  YB_FE_ERR YB_FE_FLAG  \n0              NaN        1.0          2  \n1              NaN        1.0          2  \n2              NaN        1.0          2  \n3              NaN        1.0          2  \n4              NaN        1.0          2  \n...            ...        ...        ...  \n733896         NaN        NaN          2  \n733897         NaN        1.0          2  \n733898         NaN        1.0          2  \n733899         NaN        1.0          2  \n733900         NaN        1.0          2  \n\n[733901 rows x 215 columns]",
      "text/html": "<div>\n<style scoped>\n    .dataframe tbody tr th:only-of-type {\n        vertical-align: middle;\n    }\n\n    .dataframe tbody tr th {\n        vertical-align: top;\n    }\n\n    .dataframe thead th {\n        text-align: right;\n    }\n</style>\n<table border=\"1\" class=\"dataframe\">\n  <thead>\n    <tr style=\"text-align: right;\">\n      <th></th>\n      <th>FILE</th>\n      <th>APOGEE_ID</th>\n      <th>TARGET_ID</th>\n      <th>APSTAR_ID</th>\n      <th>ASPCAP_ID</th>\n      <th>TELESCOPE</th>\n      <th>LOCATION_ID</th>\n      <th>FIELD</th>\n      <th>ALT_ID</th>\n      <th>RA</th>\n      <th>...</th>\n      <th>CU_FE_ERR</th>\n      <th>CU_FE_FLAG</th>\n      <th>CE_FE</th>\n      <th>CE_FE_SPEC</th>\n      <th>CE_FE_ERR</th>\n      <th>CE_FE_FLAG</th>\n      <th>YB_FE</th>\n      <th>YB_FE_SPEC</th>\n      <th>YB_FE_ERR</th>\n      <th>YB_FE_FLAG</th>\n    </tr>\n  </thead>\n  <tbody>\n    <tr>\n      <th>0</th>\n      <td>b'apStar-dr17-VESTA.fits'</td>\n      <td>b'VESTA'</td>\n      <td>b'apo1m.calibration.VESTA'</td>\n      <td>b'apogee.apo1m.stars.calibration.VESTA'</td>\n      <td>b'apogee.apo1m.synspec_fix.calibration.VESTA'</td>\n      <td>b'apo1m'</td>\n      <td>1</td>\n      <td>b'calibration'</td>\n      <td>b' '</td>\n      <td>NaN</td>\n      <td>...</td>\n      <td>0.059403</td>\n      <td>2</td>\n      <td>NaN</td>\n      <td>NaN</td>\n      <td>NaN</td>\n      <td>64</td>\n      <td>NaN</td>\n      <td>NaN</td>\n      <td>1.0</td>\n      <td>2</td>\n    </tr>\n    <tr>\n      <th>1</th>\n      <td>b'apStar-dr17-2M00000002+7417074.fits'</td>\n      <td>b'2M00000002+7417074'</td>\n      <td>b'apo25m.120+12.2M00000002+7417074'</td>\n      <td>b'apogee.apo25m.stars.120+12.2M00000002+7417074'</td>\n      <td>b'apogee.apo25m.synspec_fix.120+12.2M00000002+...</td>\n      <td>b'apo25m'</td>\n      <td>5046</td>\n      <td>b'120+12'</td>\n      <td>b'none'</td>\n      <td>0.000103</td>\n      <td>...</td>\n      <td>0.001221</td>\n      <td>2</td>\n      <td>NaN</td>\n      <td>NaN</td>\n      <td>NaN</td>\n      <td>64</td>\n      <td>NaN</td>\n      <td>NaN</td>\n      <td>1.0</td>\n      <td>2</td>\n    </tr>\n    <tr>\n      <th>2</th>\n      <td>b'apStar-dr17-2M00000019-1924498.fits'</td>\n      <td>b'2M00000019-1924498'</td>\n      <td>b'apo25m.060-75.2M00000019-1924498'</td>\n      <td>b'apogee.apo25m.stars.060-75.2M00000019-1924498'</td>\n      <td>b'apogee.apo25m.synspec_fix.060-75.2M00000019-...</td>\n      <td>b'apo25m'</td>\n      <td>5071</td>\n      <td>b'060-75'</td>\n      <td>b'none'</td>\n      <td>0.000832</td>\n      <td>...</td>\n      <td>0.102594</td>\n      <td>2</td>\n      <td>NaN</td>\n      <td>NaN</td>\n      <td>NaN</td>\n      <td>64</td>\n      <td>NaN</td>\n      <td>NaN</td>\n      <td>1.0</td>\n      <td>2</td>\n    </tr>\n    <tr>\n      <th>3</th>\n      <td>b'apStar-dr17-2M00000032+5737103.fits'</td>\n      <td>b'2M00000032+5737103'</td>\n      <td>b'apo25m.116-04.2M00000032+5737103'</td>\n      <td>b'apogee.apo25m.stars.116-04.2M00000032+5737103'</td>\n      <td>b'apogee.apo25m.synspec_fix.116-04.2M00000032+...</td>\n      <td>b'apo25m'</td>\n      <td>4424</td>\n      <td>b'116-04'</td>\n      <td>b'none'</td>\n      <td>0.001335</td>\n      <td>...</td>\n      <td>0.123839</td>\n      <td>2</td>\n      <td>NaN</td>\n      <td>NaN</td>\n      <td>NaN</td>\n      <td>64</td>\n      <td>NaN</td>\n      <td>NaN</td>\n      <td>1.0</td>\n      <td>2</td>\n    </tr>\n    <tr>\n      <th>4</th>\n      <td>b'apStar-dr17-2M00000032+5737103.fits'</td>\n      <td>b'2M00000032+5737103'</td>\n      <td>b'apo25m.N7789.2M00000032+5737103'</td>\n      <td>b'apogee.apo25m.stars.N7789.2M00000032+5737103'</td>\n      <td>b'apogee.apo25m.synspec_fix.N7789.2M00000032+5...</td>\n      <td>b'apo25m'</td>\n      <td>4264</td>\n      <td>b'N7789'</td>\n      <td>b'none'</td>\n      <td>0.001335</td>\n      <td>...</td>\n      <td>0.107103</td>\n      <td>2</td>\n      <td>NaN</td>\n      <td>NaN</td>\n      <td>NaN</td>\n      <td>64</td>\n      <td>NaN</td>\n      <td>NaN</td>\n      <td>1.0</td>\n      <td>2</td>\n    </tr>\n    <tr>\n      <th>...</th>\n      <td>...</td>\n      <td>...</td>\n      <td>...</td>\n      <td>...</td>\n      <td>...</td>\n      <td>...</td>\n      <td>...</td>\n      <td>...</td>\n      <td>...</td>\n      <td>...</td>\n      <td>...</td>\n      <td>...</td>\n      <td>...</td>\n      <td>...</td>\n      <td>...</td>\n      <td>...</td>\n      <td>...</td>\n      <td>...</td>\n      <td>...</td>\n      <td>...</td>\n      <td>...</td>\n    </tr>\n    <tr>\n      <th>733896</th>\n      <td>b'apStar-dr17-2M23595886-2009435.fits'</td>\n      <td>b'2M23595886-2009435'</td>\n      <td>b'apo25m.060-75.2M23595886-2009435'</td>\n      <td>b'apogee.apo25m.stars.060-75.2M23595886-2009435'</td>\n      <td>b'apogee.apo25m.synspec_fix.060-75.2M23595886-...</td>\n      <td>b'apo25m'</td>\n      <td>5071</td>\n      <td>b'060-75'</td>\n      <td>b'none'</td>\n      <td>359.995258</td>\n      <td>...</td>\n      <td>NaN</td>\n      <td>258</td>\n      <td>NaN</td>\n      <td>NaN</td>\n      <td>NaN</td>\n      <td>64</td>\n      <td>NaN</td>\n      <td>NaN</td>\n      <td>NaN</td>\n      <td>2</td>\n    </tr>\n    <tr>\n      <th>733897</th>\n      <td>b'apStar-dr17-2M23595886+5726058.fits'</td>\n      <td>b'2M23595886+5726058'</td>\n      <td>b'apo25m.116-04.2M23595886+5726058'</td>\n      <td>b'apogee.apo25m.stars.116-04.2M23595886+5726058'</td>\n      <td>b'apogee.apo25m.synspec_fix.116-04.2M23595886+...</td>\n      <td>b'apo25m'</td>\n      <td>4424</td>\n      <td>b'116-04'</td>\n      <td>b'none'</td>\n      <td>359.995265</td>\n      <td>...</td>\n      <td>NaN</td>\n      <td>259</td>\n      <td>-0.058750</td>\n      <td>-0.003090</td>\n      <td>0.072443</td>\n      <td>0</td>\n      <td>NaN</td>\n      <td>NaN</td>\n      <td>1.0</td>\n      <td>2</td>\n    </tr>\n    <tr>\n      <th>733898</th>\n      <td>b'apStar-dr17-2M23595921+5609479.fits'</td>\n      <td>b'2M23595921+5609479'</td>\n      <td>b'apo25m.NGC7789_MGA.2M23595921+5609479'</td>\n      <td>b'apogee.apo25m.stars.NGC7789_MGA.2M23595921+5...</td>\n      <td>b'apogee.apo25m.synspec_fix.NGC7789_MGA.2M2359...</td>\n      <td>b'apo25m'</td>\n      <td>-999</td>\n      <td>b'NGC7789_MGA'</td>\n      <td>b'none'</td>\n      <td>359.996744</td>\n      <td>...</td>\n      <td>NaN</td>\n      <td>259</td>\n      <td>-0.103446</td>\n      <td>-0.047786</td>\n      <td>0.097572</td>\n      <td>0</td>\n      <td>NaN</td>\n      <td>NaN</td>\n      <td>1.0</td>\n      <td>2</td>\n    </tr>\n    <tr>\n      <th>733899</th>\n      <td>b'asStar-dr17-2M23595949-7342592.fits'</td>\n      <td>b'2M23595949-7342592'</td>\n      <td>b'lco25m.SMC12.2M23595949-7342592'</td>\n      <td>b'apogee.lco25m.stars.SMC12.2M23595949-7342592'</td>\n      <td>b'apogee.lco25m.synspec_fix.SMC12.2M23595949-7...</td>\n      <td>b'lco25m'</td>\n      <td>7218</td>\n      <td>b'SMC12'</td>\n      <td>b'none'</td>\n      <td>359.997887</td>\n      <td>...</td>\n      <td>0.174322</td>\n      <td>2</td>\n      <td>0.107710</td>\n      <td>0.163370</td>\n      <td>0.140188</td>\n      <td>0</td>\n      <td>NaN</td>\n      <td>NaN</td>\n      <td>1.0</td>\n      <td>2</td>\n    </tr>\n    <tr>\n      <th>733900</th>\n      <td>b'apStar-dr17-2M23595980+1528407.fits'</td>\n      <td>b'2M23595980+1528407'</td>\n      <td>b'apo25m.105-45.2M23595980+1528407'</td>\n      <td>b'apogee.apo25m.stars.105-45.2M23595980+1528407'</td>\n      <td>b'apogee.apo25m.synspec_fix.105-45.2M23595980+...</td>\n      <td>b'apo25m'</td>\n      <td>4548</td>\n      <td>b'105-45'</td>\n      <td>b'none'</td>\n      <td>359.999181</td>\n      <td>...</td>\n      <td>0.289108</td>\n      <td>2</td>\n      <td>NaN</td>\n      <td>NaN</td>\n      <td>NaN</td>\n      <td>64</td>\n      <td>NaN</td>\n      <td>NaN</td>\n      <td>1.0</td>\n      <td>2</td>\n    </tr>\n  </tbody>\n</table>\n<p>733901 rows × 215 columns</p>\n</div>"
     },
     "execution_count": 5,
     "metadata": {},
     "output_type": "execute_result"
    }
   ],
   "source": [
    "apogee"
   ],
   "metadata": {
    "collapsed": false
   }
  },
  {
   "cell_type": "markdown",
   "metadata": {},
   "source": [
    "For APOGEE, we do something similar by making sure all the parameters are working on are good.\n",
    "More information can be found [SDSS explanantion of bitmasks](https://www.sdss.org/dr13/algorithms/bitmasks/#APOGEE_ASPCAPFLAG) and [SDSS recommendations for bitmasks](https://www.sdss.org/dr13/irspec/abundances/)\n",
    "\n",
    "The parameters\n",
    "- `ASPCAPFLAG & STAR_BAD == 0` (`STAR_BAD` is the 23rd bit (starting from 0), or  `STAR_BAD = 0b 1000 0000 0000 0000 0000 0000`)\n",
    "    - `STAR_BAD` is a general indication of whether there are issues with measuring surface temperature, surface gravity, and check if any elements have `GRIDEDGE_BAD` set\n",
    "- `ELEMFLAG`\n",
    "    - Any example of this is `FE_H_FLAG`\n",
    "        - Make sure that the flag does not contain `GRIDEDGE_BAD`, `GRIDEDGE_WARN` and `CALRANGE_BAD`\n",
    "    - We should just check that the flag is equal to zero to eliminate all and any problematic behaviour"
   ]
  },
  {
   "cell_type": "code",
   "execution_count": 7,
   "metadata": {},
   "outputs": [
    {
     "data": {
      "text/plain": "                                          FILE              APOGEE_ID  \\\n0                    b'apStar-dr17-VESTA.fits'               b'VESTA'   \n1       b'apStar-dr17-2M00000002+7417074.fits'  b'2M00000002+7417074'   \n5       b'asStar-dr17-2M00000035-7323394.fits'  b'2M00000035-7323394'   \n6       b'apStar-dr17-2M00000068+5710233.fits'  b'2M00000068+5710233'   \n8       b'apStar-dr17-2M00000133+5721163.fits'  b'2M00000133+5721163'   \n...                                        ...                    ...   \n733891  b'apStar-dr17-2M23595676+7918072.fits'  b'2M23595676+7918072'   \n733892  b'apStar-dr17-2M23595756+8535275.fits'  b'2M23595756+8535275'   \n733893  b'apStar-dr17-2M23595837+5700444.fits'  b'2M23595837+5700444'   \n733897  b'apStar-dr17-2M23595886+5726058.fits'  b'2M23595886+5726058'   \n733898  b'apStar-dr17-2M23595921+5609479.fits'  b'2M23595921+5609479'   \n\n                                       TARGET_ID  \\\n0                     b'apo1m.calibration.VESTA'   \n1            b'apo25m.120+12.2M00000002+7417074'   \n5             b'lco25m.SMC12.2M00000035-7323394'   \n6             b'apo25m.N7789.2M00000068+5710233'   \n8       b'apo25m.NGC7789_btx.2M00000133+5721163'   \n...                                          ...   \n733891       b'apo25m.120+18.2M23595676+7918072'   \n733892         b'apo25m.N188.2M23595756+8535275'   \n733893        b'apo25m.N7789.2M23595837+5700444'   \n733897       b'apo25m.116-04.2M23595886+5726058'   \n733898  b'apo25m.NGC7789_MGA.2M23595921+5609479'   \n\n                                                APSTAR_ID  \\\n0                 b'apogee.apo1m.stars.calibration.VESTA'   \n1        b'apogee.apo25m.stars.120+12.2M00000002+7417074'   \n5         b'apogee.lco25m.stars.SMC12.2M00000035-7323394'   \n6         b'apogee.apo25m.stars.N7789.2M00000068+5710233'   \n8       b'apogee.apo25m.stars.NGC7789_btx.2M00000133+5...   \n...                                                   ...   \n733891   b'apogee.apo25m.stars.120+18.2M23595676+7918072'   \n733892     b'apogee.apo25m.stars.N188.2M23595756+8535275'   \n733893    b'apogee.apo25m.stars.N7789.2M23595837+5700444'   \n733897   b'apogee.apo25m.stars.116-04.2M23595886+5726058'   \n733898  b'apogee.apo25m.stars.NGC7789_MGA.2M23595921+5...   \n\n                                                ASPCAP_ID  TELESCOPE  \\\n0           b'apogee.apo1m.synspec_fix.calibration.VESTA'   b'apo1m'   \n1       b'apogee.apo25m.synspec_fix.120+12.2M00000002+...  b'apo25m'   \n5       b'apogee.lco25m.synspec_fix.SMC12.2M00000035-7...  b'lco25m'   \n6       b'apogee.apo25m.synspec_fix.N7789.2M00000068+5...  b'apo25m'   \n8       b'apogee.apo25m.synspec_fix.NGC7789_btx.2M0000...  b'apo25m'   \n...                                                   ...        ...   \n733891  b'apogee.apo25m.synspec_fix.120+18.2M23595676+...  b'apo25m'   \n733892  b'apogee.apo25m.synspec_fix.N188.2M23595756+85...  b'apo25m'   \n733893  b'apogee.apo25m.synspec_fix.N7789.2M23595837+5...  b'apo25m'   \n733897  b'apogee.apo25m.synspec_fix.116-04.2M23595886+...  b'apo25m'   \n733898  b'apogee.apo25m.synspec_fix.NGC7789_MGA.2M2359...  b'apo25m'   \n\n        LOCATION_ID           FIELD   ALT_ID          RA  ...  CU_FE_ERR  \\\n0                 1  b'calibration'     b' '         NaN  ...   0.059403   \n1              5046       b'120+12'  b'none'    0.000103  ...   0.001221   \n5              7218        b'SMC12'  b'none'    0.001467  ...   0.276795   \n6              4264        b'N7789'  b'none'    0.002850  ...   0.004401   \n8              5922  b'NGC7789_btx'  b'none'    0.005558  ...   0.025131   \n...             ...             ...      ...         ...  ...        ...   \n733891         5047       b'120+18'  b'none'  359.986523  ...        NaN   \n733892         5067         b'N188'  b'none'  359.989841  ...   0.031619   \n733893         4264        b'N7789'  b'none'  359.993224  ...   0.016774   \n733897         4424       b'116-04'  b'none'  359.995265  ...        NaN   \n733898         -999  b'NGC7789_MGA'  b'none'  359.996744  ...        NaN   \n\n        CU_FE_FLAG     CE_FE  CE_FE_SPEC  CE_FE_ERR  CE_FE_FLAG  YB_FE  \\\n0                2       NaN         NaN        NaN          64    NaN   \n1                2       NaN         NaN        NaN          64    NaN   \n5                2 -0.155160   -0.099500   0.146837           0    NaN   \n6                2 -0.055580    0.000080   0.086572           0    NaN   \n8                2 -0.256490   -0.200830   0.132389           0    NaN   \n...            ...       ...         ...        ...         ...    ...   \n733891         259 -0.193610   -0.137950   0.043006           0    NaN   \n733892           2       NaN         NaN        NaN          64    NaN   \n733893           2 -0.035640    0.020020   0.141408           0    NaN   \n733897         259 -0.058750   -0.003090   0.072443           0    NaN   \n733898         259 -0.103446   -0.047786   0.097572           0    NaN   \n\n        YB_FE_SPEC  YB_FE_ERR YB_FE_FLAG  \n0              NaN        1.0          2  \n1              NaN        1.0          2  \n5              NaN        1.0          2  \n6              NaN        1.0          2  \n8              NaN        1.0          2  \n...            ...        ...        ...  \n733891         NaN        1.0          2  \n733892         NaN        1.0          2  \n733893         NaN        1.0          2  \n733897         NaN        1.0          2  \n733898         NaN        1.0          2  \n\n[423992 rows x 215 columns]",
      "text/html": "<div>\n<style scoped>\n    .dataframe tbody tr th:only-of-type {\n        vertical-align: middle;\n    }\n\n    .dataframe tbody tr th {\n        vertical-align: top;\n    }\n\n    .dataframe thead th {\n        text-align: right;\n    }\n</style>\n<table border=\"1\" class=\"dataframe\">\n  <thead>\n    <tr style=\"text-align: right;\">\n      <th></th>\n      <th>FILE</th>\n      <th>APOGEE_ID</th>\n      <th>TARGET_ID</th>\n      <th>APSTAR_ID</th>\n      <th>ASPCAP_ID</th>\n      <th>TELESCOPE</th>\n      <th>LOCATION_ID</th>\n      <th>FIELD</th>\n      <th>ALT_ID</th>\n      <th>RA</th>\n      <th>...</th>\n      <th>CU_FE_ERR</th>\n      <th>CU_FE_FLAG</th>\n      <th>CE_FE</th>\n      <th>CE_FE_SPEC</th>\n      <th>CE_FE_ERR</th>\n      <th>CE_FE_FLAG</th>\n      <th>YB_FE</th>\n      <th>YB_FE_SPEC</th>\n      <th>YB_FE_ERR</th>\n      <th>YB_FE_FLAG</th>\n    </tr>\n  </thead>\n  <tbody>\n    <tr>\n      <th>0</th>\n      <td>b'apStar-dr17-VESTA.fits'</td>\n      <td>b'VESTA'</td>\n      <td>b'apo1m.calibration.VESTA'</td>\n      <td>b'apogee.apo1m.stars.calibration.VESTA'</td>\n      <td>b'apogee.apo1m.synspec_fix.calibration.VESTA'</td>\n      <td>b'apo1m'</td>\n      <td>1</td>\n      <td>b'calibration'</td>\n      <td>b' '</td>\n      <td>NaN</td>\n      <td>...</td>\n      <td>0.059403</td>\n      <td>2</td>\n      <td>NaN</td>\n      <td>NaN</td>\n      <td>NaN</td>\n      <td>64</td>\n      <td>NaN</td>\n      <td>NaN</td>\n      <td>1.0</td>\n      <td>2</td>\n    </tr>\n    <tr>\n      <th>1</th>\n      <td>b'apStar-dr17-2M00000002+7417074.fits'</td>\n      <td>b'2M00000002+7417074'</td>\n      <td>b'apo25m.120+12.2M00000002+7417074'</td>\n      <td>b'apogee.apo25m.stars.120+12.2M00000002+7417074'</td>\n      <td>b'apogee.apo25m.synspec_fix.120+12.2M00000002+...</td>\n      <td>b'apo25m'</td>\n      <td>5046</td>\n      <td>b'120+12'</td>\n      <td>b'none'</td>\n      <td>0.000103</td>\n      <td>...</td>\n      <td>0.001221</td>\n      <td>2</td>\n      <td>NaN</td>\n      <td>NaN</td>\n      <td>NaN</td>\n      <td>64</td>\n      <td>NaN</td>\n      <td>NaN</td>\n      <td>1.0</td>\n      <td>2</td>\n    </tr>\n    <tr>\n      <th>5</th>\n      <td>b'asStar-dr17-2M00000035-7323394.fits'</td>\n      <td>b'2M00000035-7323394'</td>\n      <td>b'lco25m.SMC12.2M00000035-7323394'</td>\n      <td>b'apogee.lco25m.stars.SMC12.2M00000035-7323394'</td>\n      <td>b'apogee.lco25m.synspec_fix.SMC12.2M00000035-7...</td>\n      <td>b'lco25m'</td>\n      <td>7218</td>\n      <td>b'SMC12'</td>\n      <td>b'none'</td>\n      <td>0.001467</td>\n      <td>...</td>\n      <td>0.276795</td>\n      <td>2</td>\n      <td>-0.155160</td>\n      <td>-0.099500</td>\n      <td>0.146837</td>\n      <td>0</td>\n      <td>NaN</td>\n      <td>NaN</td>\n      <td>1.0</td>\n      <td>2</td>\n    </tr>\n    <tr>\n      <th>6</th>\n      <td>b'apStar-dr17-2M00000068+5710233.fits'</td>\n      <td>b'2M00000068+5710233'</td>\n      <td>b'apo25m.N7789.2M00000068+5710233'</td>\n      <td>b'apogee.apo25m.stars.N7789.2M00000068+5710233'</td>\n      <td>b'apogee.apo25m.synspec_fix.N7789.2M00000068+5...</td>\n      <td>b'apo25m'</td>\n      <td>4264</td>\n      <td>b'N7789'</td>\n      <td>b'none'</td>\n      <td>0.002850</td>\n      <td>...</td>\n      <td>0.004401</td>\n      <td>2</td>\n      <td>-0.055580</td>\n      <td>0.000080</td>\n      <td>0.086572</td>\n      <td>0</td>\n      <td>NaN</td>\n      <td>NaN</td>\n      <td>1.0</td>\n      <td>2</td>\n    </tr>\n    <tr>\n      <th>8</th>\n      <td>b'apStar-dr17-2M00000133+5721163.fits'</td>\n      <td>b'2M00000133+5721163'</td>\n      <td>b'apo25m.NGC7789_btx.2M00000133+5721163'</td>\n      <td>b'apogee.apo25m.stars.NGC7789_btx.2M00000133+5...</td>\n      <td>b'apogee.apo25m.synspec_fix.NGC7789_btx.2M0000...</td>\n      <td>b'apo25m'</td>\n      <td>5922</td>\n      <td>b'NGC7789_btx'</td>\n      <td>b'none'</td>\n      <td>0.005558</td>\n      <td>...</td>\n      <td>0.025131</td>\n      <td>2</td>\n      <td>-0.256490</td>\n      <td>-0.200830</td>\n      <td>0.132389</td>\n      <td>0</td>\n      <td>NaN</td>\n      <td>NaN</td>\n      <td>1.0</td>\n      <td>2</td>\n    </tr>\n    <tr>\n      <th>...</th>\n      <td>...</td>\n      <td>...</td>\n      <td>...</td>\n      <td>...</td>\n      <td>...</td>\n      <td>...</td>\n      <td>...</td>\n      <td>...</td>\n      <td>...</td>\n      <td>...</td>\n      <td>...</td>\n      <td>...</td>\n      <td>...</td>\n      <td>...</td>\n      <td>...</td>\n      <td>...</td>\n      <td>...</td>\n      <td>...</td>\n      <td>...</td>\n      <td>...</td>\n      <td>...</td>\n    </tr>\n    <tr>\n      <th>733891</th>\n      <td>b'apStar-dr17-2M23595676+7918072.fits'</td>\n      <td>b'2M23595676+7918072'</td>\n      <td>b'apo25m.120+18.2M23595676+7918072'</td>\n      <td>b'apogee.apo25m.stars.120+18.2M23595676+7918072'</td>\n      <td>b'apogee.apo25m.synspec_fix.120+18.2M23595676+...</td>\n      <td>b'apo25m'</td>\n      <td>5047</td>\n      <td>b'120+18'</td>\n      <td>b'none'</td>\n      <td>359.986523</td>\n      <td>...</td>\n      <td>NaN</td>\n      <td>259</td>\n      <td>-0.193610</td>\n      <td>-0.137950</td>\n      <td>0.043006</td>\n      <td>0</td>\n      <td>NaN</td>\n      <td>NaN</td>\n      <td>1.0</td>\n      <td>2</td>\n    </tr>\n    <tr>\n      <th>733892</th>\n      <td>b'apStar-dr17-2M23595756+8535275.fits'</td>\n      <td>b'2M23595756+8535275'</td>\n      <td>b'apo25m.N188.2M23595756+8535275'</td>\n      <td>b'apogee.apo25m.stars.N188.2M23595756+8535275'</td>\n      <td>b'apogee.apo25m.synspec_fix.N188.2M23595756+85...</td>\n      <td>b'apo25m'</td>\n      <td>5067</td>\n      <td>b'N188'</td>\n      <td>b'none'</td>\n      <td>359.989841</td>\n      <td>...</td>\n      <td>0.031619</td>\n      <td>2</td>\n      <td>NaN</td>\n      <td>NaN</td>\n      <td>NaN</td>\n      <td>64</td>\n      <td>NaN</td>\n      <td>NaN</td>\n      <td>1.0</td>\n      <td>2</td>\n    </tr>\n    <tr>\n      <th>733893</th>\n      <td>b'apStar-dr17-2M23595837+5700444.fits'</td>\n      <td>b'2M23595837+5700444'</td>\n      <td>b'apo25m.N7789.2M23595837+5700444'</td>\n      <td>b'apogee.apo25m.stars.N7789.2M23595837+5700444'</td>\n      <td>b'apogee.apo25m.synspec_fix.N7789.2M23595837+5...</td>\n      <td>b'apo25m'</td>\n      <td>4264</td>\n      <td>b'N7789'</td>\n      <td>b'none'</td>\n      <td>359.993224</td>\n      <td>...</td>\n      <td>0.016774</td>\n      <td>2</td>\n      <td>-0.035640</td>\n      <td>0.020020</td>\n      <td>0.141408</td>\n      <td>0</td>\n      <td>NaN</td>\n      <td>NaN</td>\n      <td>1.0</td>\n      <td>2</td>\n    </tr>\n    <tr>\n      <th>733897</th>\n      <td>b'apStar-dr17-2M23595886+5726058.fits'</td>\n      <td>b'2M23595886+5726058'</td>\n      <td>b'apo25m.116-04.2M23595886+5726058'</td>\n      <td>b'apogee.apo25m.stars.116-04.2M23595886+5726058'</td>\n      <td>b'apogee.apo25m.synspec_fix.116-04.2M23595886+...</td>\n      <td>b'apo25m'</td>\n      <td>4424</td>\n      <td>b'116-04'</td>\n      <td>b'none'</td>\n      <td>359.995265</td>\n      <td>...</td>\n      <td>NaN</td>\n      <td>259</td>\n      <td>-0.058750</td>\n      <td>-0.003090</td>\n      <td>0.072443</td>\n      <td>0</td>\n      <td>NaN</td>\n      <td>NaN</td>\n      <td>1.0</td>\n      <td>2</td>\n    </tr>\n    <tr>\n      <th>733898</th>\n      <td>b'apStar-dr17-2M23595921+5609479.fits'</td>\n      <td>b'2M23595921+5609479'</td>\n      <td>b'apo25m.NGC7789_MGA.2M23595921+5609479'</td>\n      <td>b'apogee.apo25m.stars.NGC7789_MGA.2M23595921+5...</td>\n      <td>b'apogee.apo25m.synspec_fix.NGC7789_MGA.2M2359...</td>\n      <td>b'apo25m'</td>\n      <td>-999</td>\n      <td>b'NGC7789_MGA'</td>\n      <td>b'none'</td>\n      <td>359.996744</td>\n      <td>...</td>\n      <td>NaN</td>\n      <td>259</td>\n      <td>-0.103446</td>\n      <td>-0.047786</td>\n      <td>0.097572</td>\n      <td>0</td>\n      <td>NaN</td>\n      <td>NaN</td>\n      <td>1.0</td>\n      <td>2</td>\n    </tr>\n  </tbody>\n</table>\n<p>423992 rows × 215 columns</p>\n</div>"
     },
     "execution_count": 7,
     "metadata": {},
     "output_type": "execute_result"
    }
   ],
   "source": [
    "# Filter the data\n",
    "STAR_BAD = 1 << 23\n",
    "apogee = apogee.loc[apogee['ASPCAPFLAG'] & STAR_BAD == 0]\n",
    "apogee = apogee.loc[apogee['FE_H_FLAG'] == 0]\n",
    "apogee = apogee.loc[apogee['C_FE_FLAG'] == 0]\n",
    "apogee = apogee.loc[apogee['N_FE_FLAG'] == 0]\n",
    "apogee = apogee.loc[apogee['O_FE_FLAG'] == 0]\n",
    "apogee = apogee.loc[apogee['RV_FLAG'] == 0]"
   ]
  },
  {
   "cell_type": "code",
   "execution_count": 9,
   "outputs": [
    {
     "data": {
      "text/plain": "                                          FILE              APOGEE_ID  \\\n0                    b'apStar-dr17-VESTA.fits'               b'VESTA'   \n1       b'apStar-dr17-2M00000002+7417074.fits'  b'2M00000002+7417074'   \n5       b'asStar-dr17-2M00000035-7323394.fits'  b'2M00000035-7323394'   \n6       b'apStar-dr17-2M00000068+5710233.fits'  b'2M00000068+5710233'   \n8       b'apStar-dr17-2M00000133+5721163.fits'  b'2M00000133+5721163'   \n...                                        ...                    ...   \n733891  b'apStar-dr17-2M23595676+7918072.fits'  b'2M23595676+7918072'   \n733892  b'apStar-dr17-2M23595756+8535275.fits'  b'2M23595756+8535275'   \n733893  b'apStar-dr17-2M23595837+5700444.fits'  b'2M23595837+5700444'   \n733897  b'apStar-dr17-2M23595886+5726058.fits'  b'2M23595886+5726058'   \n733898  b'apStar-dr17-2M23595921+5609479.fits'  b'2M23595921+5609479'   \n\n                                       TARGET_ID  \\\n0                     b'apo1m.calibration.VESTA'   \n1            b'apo25m.120+12.2M00000002+7417074'   \n5             b'lco25m.SMC12.2M00000035-7323394'   \n6             b'apo25m.N7789.2M00000068+5710233'   \n8       b'apo25m.NGC7789_btx.2M00000133+5721163'   \n...                                          ...   \n733891       b'apo25m.120+18.2M23595676+7918072'   \n733892         b'apo25m.N188.2M23595756+8535275'   \n733893        b'apo25m.N7789.2M23595837+5700444'   \n733897       b'apo25m.116-04.2M23595886+5726058'   \n733898  b'apo25m.NGC7789_MGA.2M23595921+5609479'   \n\n                                                APSTAR_ID  \\\n0                 b'apogee.apo1m.stars.calibration.VESTA'   \n1        b'apogee.apo25m.stars.120+12.2M00000002+7417074'   \n5         b'apogee.lco25m.stars.SMC12.2M00000035-7323394'   \n6         b'apogee.apo25m.stars.N7789.2M00000068+5710233'   \n8       b'apogee.apo25m.stars.NGC7789_btx.2M00000133+5...   \n...                                                   ...   \n733891   b'apogee.apo25m.stars.120+18.2M23595676+7918072'   \n733892     b'apogee.apo25m.stars.N188.2M23595756+8535275'   \n733893    b'apogee.apo25m.stars.N7789.2M23595837+5700444'   \n733897   b'apogee.apo25m.stars.116-04.2M23595886+5726058'   \n733898  b'apogee.apo25m.stars.NGC7789_MGA.2M23595921+5...   \n\n                                                ASPCAP_ID  TELESCOPE  \\\n0           b'apogee.apo1m.synspec_fix.calibration.VESTA'   b'apo1m'   \n1       b'apogee.apo25m.synspec_fix.120+12.2M00000002+...  b'apo25m'   \n5       b'apogee.lco25m.synspec_fix.SMC12.2M00000035-7...  b'lco25m'   \n6       b'apogee.apo25m.synspec_fix.N7789.2M00000068+5...  b'apo25m'   \n8       b'apogee.apo25m.synspec_fix.NGC7789_btx.2M0000...  b'apo25m'   \n...                                                   ...        ...   \n733891  b'apogee.apo25m.synspec_fix.120+18.2M23595676+...  b'apo25m'   \n733892  b'apogee.apo25m.synspec_fix.N188.2M23595756+85...  b'apo25m'   \n733893  b'apogee.apo25m.synspec_fix.N7789.2M23595837+5...  b'apo25m'   \n733897  b'apogee.apo25m.synspec_fix.116-04.2M23595886+...  b'apo25m'   \n733898  b'apogee.apo25m.synspec_fix.NGC7789_MGA.2M2359...  b'apo25m'   \n\n        LOCATION_ID           FIELD   ALT_ID          RA  ...  CU_FE_ERR  \\\n0                 1  b'calibration'     b' '         NaN  ...   0.059403   \n1              5046       b'120+12'  b'none'    0.000103  ...   0.001221   \n5              7218        b'SMC12'  b'none'    0.001467  ...   0.276795   \n6              4264        b'N7789'  b'none'    0.002850  ...   0.004401   \n8              5922  b'NGC7789_btx'  b'none'    0.005558  ...   0.025131   \n...             ...             ...      ...         ...  ...        ...   \n733891         5047       b'120+18'  b'none'  359.986523  ...        NaN   \n733892         5067         b'N188'  b'none'  359.989841  ...   0.031619   \n733893         4264        b'N7789'  b'none'  359.993224  ...   0.016774   \n733897         4424       b'116-04'  b'none'  359.995265  ...        NaN   \n733898         -999  b'NGC7789_MGA'  b'none'  359.996744  ...        NaN   \n\n        CU_FE_FLAG     CE_FE  CE_FE_SPEC  CE_FE_ERR  CE_FE_FLAG  YB_FE  \\\n0                2       NaN         NaN        NaN          64    NaN   \n1                2       NaN         NaN        NaN          64    NaN   \n5                2 -0.155160   -0.099500   0.146837           0    NaN   \n6                2 -0.055580    0.000080   0.086572           0    NaN   \n8                2 -0.256490   -0.200830   0.132389           0    NaN   \n...            ...       ...         ...        ...         ...    ...   \n733891         259 -0.193610   -0.137950   0.043006           0    NaN   \n733892           2       NaN         NaN        NaN          64    NaN   \n733893           2 -0.035640    0.020020   0.141408           0    NaN   \n733897         259 -0.058750   -0.003090   0.072443           0    NaN   \n733898         259 -0.103446   -0.047786   0.097572           0    NaN   \n\n        YB_FE_SPEC  YB_FE_ERR YB_FE_FLAG  \n0              NaN        1.0          2  \n1              NaN        1.0          2  \n5              NaN        1.0          2  \n6              NaN        1.0          2  \n8              NaN        1.0          2  \n...            ...        ...        ...  \n733891         NaN        1.0          2  \n733892         NaN        1.0          2  \n733893         NaN        1.0          2  \n733897         NaN        1.0          2  \n733898         NaN        1.0          2  \n\n[423992 rows x 215 columns]",
      "text/html": "<div>\n<style scoped>\n    .dataframe tbody tr th:only-of-type {\n        vertical-align: middle;\n    }\n\n    .dataframe tbody tr th {\n        vertical-align: top;\n    }\n\n    .dataframe thead th {\n        text-align: right;\n    }\n</style>\n<table border=\"1\" class=\"dataframe\">\n  <thead>\n    <tr style=\"text-align: right;\">\n      <th></th>\n      <th>FILE</th>\n      <th>APOGEE_ID</th>\n      <th>TARGET_ID</th>\n      <th>APSTAR_ID</th>\n      <th>ASPCAP_ID</th>\n      <th>TELESCOPE</th>\n      <th>LOCATION_ID</th>\n      <th>FIELD</th>\n      <th>ALT_ID</th>\n      <th>RA</th>\n      <th>...</th>\n      <th>CU_FE_ERR</th>\n      <th>CU_FE_FLAG</th>\n      <th>CE_FE</th>\n      <th>CE_FE_SPEC</th>\n      <th>CE_FE_ERR</th>\n      <th>CE_FE_FLAG</th>\n      <th>YB_FE</th>\n      <th>YB_FE_SPEC</th>\n      <th>YB_FE_ERR</th>\n      <th>YB_FE_FLAG</th>\n    </tr>\n  </thead>\n  <tbody>\n    <tr>\n      <th>0</th>\n      <td>b'apStar-dr17-VESTA.fits'</td>\n      <td>b'VESTA'</td>\n      <td>b'apo1m.calibration.VESTA'</td>\n      <td>b'apogee.apo1m.stars.calibration.VESTA'</td>\n      <td>b'apogee.apo1m.synspec_fix.calibration.VESTA'</td>\n      <td>b'apo1m'</td>\n      <td>1</td>\n      <td>b'calibration'</td>\n      <td>b' '</td>\n      <td>NaN</td>\n      <td>...</td>\n      <td>0.059403</td>\n      <td>2</td>\n      <td>NaN</td>\n      <td>NaN</td>\n      <td>NaN</td>\n      <td>64</td>\n      <td>NaN</td>\n      <td>NaN</td>\n      <td>1.0</td>\n      <td>2</td>\n    </tr>\n    <tr>\n      <th>1</th>\n      <td>b'apStar-dr17-2M00000002+7417074.fits'</td>\n      <td>b'2M00000002+7417074'</td>\n      <td>b'apo25m.120+12.2M00000002+7417074'</td>\n      <td>b'apogee.apo25m.stars.120+12.2M00000002+7417074'</td>\n      <td>b'apogee.apo25m.synspec_fix.120+12.2M00000002+...</td>\n      <td>b'apo25m'</td>\n      <td>5046</td>\n      <td>b'120+12'</td>\n      <td>b'none'</td>\n      <td>0.000103</td>\n      <td>...</td>\n      <td>0.001221</td>\n      <td>2</td>\n      <td>NaN</td>\n      <td>NaN</td>\n      <td>NaN</td>\n      <td>64</td>\n      <td>NaN</td>\n      <td>NaN</td>\n      <td>1.0</td>\n      <td>2</td>\n    </tr>\n    <tr>\n      <th>5</th>\n      <td>b'asStar-dr17-2M00000035-7323394.fits'</td>\n      <td>b'2M00000035-7323394'</td>\n      <td>b'lco25m.SMC12.2M00000035-7323394'</td>\n      <td>b'apogee.lco25m.stars.SMC12.2M00000035-7323394'</td>\n      <td>b'apogee.lco25m.synspec_fix.SMC12.2M00000035-7...</td>\n      <td>b'lco25m'</td>\n      <td>7218</td>\n      <td>b'SMC12'</td>\n      <td>b'none'</td>\n      <td>0.001467</td>\n      <td>...</td>\n      <td>0.276795</td>\n      <td>2</td>\n      <td>-0.155160</td>\n      <td>-0.099500</td>\n      <td>0.146837</td>\n      <td>0</td>\n      <td>NaN</td>\n      <td>NaN</td>\n      <td>1.0</td>\n      <td>2</td>\n    </tr>\n    <tr>\n      <th>6</th>\n      <td>b'apStar-dr17-2M00000068+5710233.fits'</td>\n      <td>b'2M00000068+5710233'</td>\n      <td>b'apo25m.N7789.2M00000068+5710233'</td>\n      <td>b'apogee.apo25m.stars.N7789.2M00000068+5710233'</td>\n      <td>b'apogee.apo25m.synspec_fix.N7789.2M00000068+5...</td>\n      <td>b'apo25m'</td>\n      <td>4264</td>\n      <td>b'N7789'</td>\n      <td>b'none'</td>\n      <td>0.002850</td>\n      <td>...</td>\n      <td>0.004401</td>\n      <td>2</td>\n      <td>-0.055580</td>\n      <td>0.000080</td>\n      <td>0.086572</td>\n      <td>0</td>\n      <td>NaN</td>\n      <td>NaN</td>\n      <td>1.0</td>\n      <td>2</td>\n    </tr>\n    <tr>\n      <th>8</th>\n      <td>b'apStar-dr17-2M00000133+5721163.fits'</td>\n      <td>b'2M00000133+5721163'</td>\n      <td>b'apo25m.NGC7789_btx.2M00000133+5721163'</td>\n      <td>b'apogee.apo25m.stars.NGC7789_btx.2M00000133+5...</td>\n      <td>b'apogee.apo25m.synspec_fix.NGC7789_btx.2M0000...</td>\n      <td>b'apo25m'</td>\n      <td>5922</td>\n      <td>b'NGC7789_btx'</td>\n      <td>b'none'</td>\n      <td>0.005558</td>\n      <td>...</td>\n      <td>0.025131</td>\n      <td>2</td>\n      <td>-0.256490</td>\n      <td>-0.200830</td>\n      <td>0.132389</td>\n      <td>0</td>\n      <td>NaN</td>\n      <td>NaN</td>\n      <td>1.0</td>\n      <td>2</td>\n    </tr>\n    <tr>\n      <th>...</th>\n      <td>...</td>\n      <td>...</td>\n      <td>...</td>\n      <td>...</td>\n      <td>...</td>\n      <td>...</td>\n      <td>...</td>\n      <td>...</td>\n      <td>...</td>\n      <td>...</td>\n      <td>...</td>\n      <td>...</td>\n      <td>...</td>\n      <td>...</td>\n      <td>...</td>\n      <td>...</td>\n      <td>...</td>\n      <td>...</td>\n      <td>...</td>\n      <td>...</td>\n      <td>...</td>\n    </tr>\n    <tr>\n      <th>733891</th>\n      <td>b'apStar-dr17-2M23595676+7918072.fits'</td>\n      <td>b'2M23595676+7918072'</td>\n      <td>b'apo25m.120+18.2M23595676+7918072'</td>\n      <td>b'apogee.apo25m.stars.120+18.2M23595676+7918072'</td>\n      <td>b'apogee.apo25m.synspec_fix.120+18.2M23595676+...</td>\n      <td>b'apo25m'</td>\n      <td>5047</td>\n      <td>b'120+18'</td>\n      <td>b'none'</td>\n      <td>359.986523</td>\n      <td>...</td>\n      <td>NaN</td>\n      <td>259</td>\n      <td>-0.193610</td>\n      <td>-0.137950</td>\n      <td>0.043006</td>\n      <td>0</td>\n      <td>NaN</td>\n      <td>NaN</td>\n      <td>1.0</td>\n      <td>2</td>\n    </tr>\n    <tr>\n      <th>733892</th>\n      <td>b'apStar-dr17-2M23595756+8535275.fits'</td>\n      <td>b'2M23595756+8535275'</td>\n      <td>b'apo25m.N188.2M23595756+8535275'</td>\n      <td>b'apogee.apo25m.stars.N188.2M23595756+8535275'</td>\n      <td>b'apogee.apo25m.synspec_fix.N188.2M23595756+85...</td>\n      <td>b'apo25m'</td>\n      <td>5067</td>\n      <td>b'N188'</td>\n      <td>b'none'</td>\n      <td>359.989841</td>\n      <td>...</td>\n      <td>0.031619</td>\n      <td>2</td>\n      <td>NaN</td>\n      <td>NaN</td>\n      <td>NaN</td>\n      <td>64</td>\n      <td>NaN</td>\n      <td>NaN</td>\n      <td>1.0</td>\n      <td>2</td>\n    </tr>\n    <tr>\n      <th>733893</th>\n      <td>b'apStar-dr17-2M23595837+5700444.fits'</td>\n      <td>b'2M23595837+5700444'</td>\n      <td>b'apo25m.N7789.2M23595837+5700444'</td>\n      <td>b'apogee.apo25m.stars.N7789.2M23595837+5700444'</td>\n      <td>b'apogee.apo25m.synspec_fix.N7789.2M23595837+5...</td>\n      <td>b'apo25m'</td>\n      <td>4264</td>\n      <td>b'N7789'</td>\n      <td>b'none'</td>\n      <td>359.993224</td>\n      <td>...</td>\n      <td>0.016774</td>\n      <td>2</td>\n      <td>-0.035640</td>\n      <td>0.020020</td>\n      <td>0.141408</td>\n      <td>0</td>\n      <td>NaN</td>\n      <td>NaN</td>\n      <td>1.0</td>\n      <td>2</td>\n    </tr>\n    <tr>\n      <th>733897</th>\n      <td>b'apStar-dr17-2M23595886+5726058.fits'</td>\n      <td>b'2M23595886+5726058'</td>\n      <td>b'apo25m.116-04.2M23595886+5726058'</td>\n      <td>b'apogee.apo25m.stars.116-04.2M23595886+5726058'</td>\n      <td>b'apogee.apo25m.synspec_fix.116-04.2M23595886+...</td>\n      <td>b'apo25m'</td>\n      <td>4424</td>\n      <td>b'116-04'</td>\n      <td>b'none'</td>\n      <td>359.995265</td>\n      <td>...</td>\n      <td>NaN</td>\n      <td>259</td>\n      <td>-0.058750</td>\n      <td>-0.003090</td>\n      <td>0.072443</td>\n      <td>0</td>\n      <td>NaN</td>\n      <td>NaN</td>\n      <td>1.0</td>\n      <td>2</td>\n    </tr>\n    <tr>\n      <th>733898</th>\n      <td>b'apStar-dr17-2M23595921+5609479.fits'</td>\n      <td>b'2M23595921+5609479'</td>\n      <td>b'apo25m.NGC7789_MGA.2M23595921+5609479'</td>\n      <td>b'apogee.apo25m.stars.NGC7789_MGA.2M23595921+5...</td>\n      <td>b'apogee.apo25m.synspec_fix.NGC7789_MGA.2M2359...</td>\n      <td>b'apo25m'</td>\n      <td>-999</td>\n      <td>b'NGC7789_MGA'</td>\n      <td>b'none'</td>\n      <td>359.996744</td>\n      <td>...</td>\n      <td>NaN</td>\n      <td>259</td>\n      <td>-0.103446</td>\n      <td>-0.047786</td>\n      <td>0.097572</td>\n      <td>0</td>\n      <td>NaN</td>\n      <td>NaN</td>\n      <td>1.0</td>\n      <td>2</td>\n    </tr>\n  </tbody>\n</table>\n<p>423992 rows × 215 columns</p>\n</div>"
     },
     "execution_count": 9,
     "metadata": {},
     "output_type": "execute_result"
    }
   ],
   "source": [
    "apogee"
   ],
   "metadata": {
    "collapsed": false
   }
  },
  {
   "cell_type": "markdown",
   "metadata": {},
   "source": [
    "Extract the useful column and save for later"
   ]
  },
  {
   "cell_type": "code",
   "execution_count": 10,
   "metadata": {},
   "outputs": [],
   "source": [
    "apogee.columns = apogee.columns.str.lower()\n",
    "apogee.to_csv(\"ProcessedData/cleaned_apogee.csv\", index=False)"
   ]
  },
  {
   "cell_type": "markdown",
   "metadata": {},
   "source": [
    "# Cleaning APOKSAC 2 Data\n",
    "\n"
   ]
  },
  {
   "cell_type": "code",
   "execution_count": 11,
   "outputs": [],
   "source": [
    "apoksac_cols = [\"kic\", \"tmass_id\", \"mass\"]\n",
    "apoksac_col_width = [(0, 9), (9, 26), (27, 39)]\n",
    "\n",
    "apoksac = pd.read_fwf(\n",
    "    \"RawData/asu.tsv\",\n",
    "    skiprows=42,\n",
    "    header=None,\n",
    "    index_col=False,\n",
    "    names = apoksac_cols,\n",
    "    colspecs = apoksac_col_width\n",
    ")\n",
    "apoksac = apoksac[0:6676]\n",
    "apoksac = apoksac.dropna()\n"
   ],
   "metadata": {
    "collapsed": false
   }
  },
  {
   "cell_type": "code",
   "execution_count": 15,
   "outputs": [],
   "source": [
    "apoksac.to_csv(\"ProcessedData/cleaned_apoksac.csv\", index=False)"
   ],
   "metadata": {
    "collapsed": false
   }
  },
  {
   "cell_type": "markdown",
   "source": [
    "Match APOKSAC data with APOGEE data"
   ],
   "metadata": {
    "collapsed": false
   }
  },
  {
   "cell_type": "code",
   "execution_count": 12,
   "outputs": [
    {
     "name": "stderr",
     "output_type": "stream",
     "text": [
      "/usr/local/lib/python3.9/dist-packages/IPython/core/interactiveshell.py:3378: DtypeWarning: Columns (109) have mixed types.Specify dtype option on import or set low_memory=False.\n",
      "  exec(code_obj, self.user_global_ns, self.user_ns)\n"
     ]
    }
   ],
   "source": [
    "apogee = pd.read_csv(\"ProcessedData/cleaned_apogee.csv\")\n",
    "apogee = apogee[1:len(apogee)]"
   ],
   "metadata": {
    "collapsed": false
   }
  },
  {
   "cell_type": "code",
   "execution_count": 15,
   "outputs": [],
   "source": [
    "# Manipulate APOGEE id to 2MASS id\n",
    "apogee = apogee.rename(columns = {\"apogee_id\": \"tmass_id\"})\n",
    "apogee.tmass_id = apogee.tmass_id.str[4:-1]\n",
    "apogee.to_csv(\"ProcessedData/cleaned_apogee.csv\", index=False)"
   ],
   "metadata": {
    "collapsed": false
   }
  },
  {
   "cell_type": "markdown",
   "source": [
    "Now that we have separated the APOGEE and APOKSAC data, we need to merge them and save."
   ],
   "metadata": {
    "collapsed": false
   }
  },
  {
   "cell_type": "code",
   "execution_count": 16,
   "outputs": [],
   "source": [
    "apoksac = pd.read_csv(\"ProcessedData/cleaned_apoksac.csv\")\n",
    "apogee = pd.read_csv(\"ProcessedData/cleaned_apogee.csv\")"
   ],
   "metadata": {
    "collapsed": false
   }
  },
  {
   "cell_type": "code",
   "execution_count": 17,
   "outputs": [],
   "source": [
    "apoksac_mass_prediction_data = pd.merge(apogee, apoksac, on=\"tmass_id\")\n",
    "apoksac_mass_prediction_data.to_csv(\"ProcessedData/mass_prediction_apoksac.csv\", index=False)"
   ],
   "metadata": {
    "collapsed": false
   }
  },
  {
   "cell_type": "markdown",
   "metadata": {},
   "source": [
    "# Cleaning K2 Data\n",
    "To do so, we need to\n",
    "\n",
    "1. extract the mass coefficient from the data set\n",
    "2. find the effective temperature by finding the data in the GALAH data set by matching the EPIC identifier\n",
    "3. determine the mass\n",
    "4. extract the chemical composition of stars\n",
    "5. store the data for use\n",
    "\n",
    "For the purpose of this, we will keep the mass of stars as a multiple of solar mass."
   ]
  },
  {
   "cell_type": "code",
   "execution_count": 43,
   "metadata": {},
   "outputs": [
    {
     "data": {
      "text/plain": "            EPIC kappa-m-c\n0      201051625     1.324\n1      201079541     1.523\n2      201082897     1.027\n3      201084449     1.544\n4      201084664     1.076\n...          ...       ...\n18817  251619708     0.880\n18818  251620873     0.663\n18819  251621333     1.193\n18820  251622742     1.497\n18821  251630759     1.274\n\n[18822 rows x 2 columns]",
      "text/html": "<div>\n<style scoped>\n    .dataframe tbody tr th:only-of-type {\n        vertical-align: middle;\n    }\n\n    .dataframe tbody tr th {\n        vertical-align: top;\n    }\n\n    .dataframe thead th {\n        text-align: right;\n    }\n</style>\n<table border=\"1\" class=\"dataframe\">\n  <thead>\n    <tr style=\"text-align: right;\">\n      <th></th>\n      <th>EPIC</th>\n      <th>kappa-m-c</th>\n    </tr>\n  </thead>\n  <tbody>\n    <tr>\n      <th>0</th>\n      <td>201051625</td>\n      <td>1.324</td>\n    </tr>\n    <tr>\n      <th>1</th>\n      <td>201079541</td>\n      <td>1.523</td>\n    </tr>\n    <tr>\n      <th>2</th>\n      <td>201082897</td>\n      <td>1.027</td>\n    </tr>\n    <tr>\n      <th>3</th>\n      <td>201084449</td>\n      <td>1.544</td>\n    </tr>\n    <tr>\n      <th>4</th>\n      <td>201084664</td>\n      <td>1.076</td>\n    </tr>\n    <tr>\n      <th>...</th>\n      <td>...</td>\n      <td>...</td>\n    </tr>\n    <tr>\n      <th>18817</th>\n      <td>251619708</td>\n      <td>0.880</td>\n    </tr>\n    <tr>\n      <th>18818</th>\n      <td>251620873</td>\n      <td>0.663</td>\n    </tr>\n    <tr>\n      <th>18819</th>\n      <td>251621333</td>\n      <td>1.193</td>\n    </tr>\n    <tr>\n      <th>18820</th>\n      <td>251622742</td>\n      <td>1.497</td>\n    </tr>\n    <tr>\n      <th>18821</th>\n      <td>251630759</td>\n      <td>1.274</td>\n    </tr>\n  </tbody>\n</table>\n<p>18822 rows × 2 columns</p>\n</div>"
     },
     "execution_count": 43,
     "metadata": {},
     "output_type": "execute_result"
    }
   ],
   "source": [
    "k2_cols = [\"EPIC\", \"kappa-m-c\"]\n",
    "k2_col_width = [(0, 9), (24, 29)]\n",
    "\n",
    "k2 = pd.read_fwf(\n",
    "    \"RawData/k2_mass_coefficients.txt\",\n",
    "    skiprows=50,\n",
    "    header=None,\n",
    "    index_col=False,\n",
    "    names = k2_cols,\n",
    "    colspecs = k2_col_width\n",
    ")\n",
    "# According to the International Astronomical Union (IAU), effective temperature of the sun is 5772 +- 0.8K\n",
    "teff_sun = 5772\n",
    "k2"
   ]
  },
  {
   "cell_type": "markdown",
   "metadata": {},
   "source": [
    "To determine the mass for K2 stars, we use the following formula (from K2 Galactic Archaeology Program DR3):\n",
    "\n",
    "$$ \\frac{M}{M_\\odot} = \\kappa_M (\\frac{T_{eff}}{T_{eff, \\odot}})^{3/2} $$\n",
    "\n",
    "To do so, we will use [gaia-kepler.fun](https://gaia-kepler.fun) in order to determine the link K2 and GALAH data\n",
    "- More information of the tables in the data set is given by [this documentation](https://exoplanetarchive.ipac.caltech.edu/docs/API_keplerstellar_columns.html)\n",
    "- To do this, we will first match the K2 data with the `k2ToGaia`\n",
    "\n"
   ],
   "outputs": []
  },
  {
   "cell_type": "code",
   "execution_count": 40,
   "outputs": [
    {
     "name": "stderr",
     "output_type": "stream",
     "text": [
      "WARNING: UnitsWarning: 'log(cm.s**-2)' did not parse as fits unit: 'log' is not a recognized function If this is meant to be a custom unit, define it with 'u.def_unit'. To have it recognized inside a file reader or other code, enable it with 'u.add_enabled_units'. For details, see https://docs.astropy.org/en/latest/units/combining_and_defining.html [astropy.units.core]\n",
      "WARNING: UnitsWarning: 'dex' did not parse as fits unit: At col 0, Unit 'dex' not supported by the FITS standard.  If this is meant to be a custom unit, define it with 'u.def_unit'. To have it recognized inside a file reader or other code, enable it with 'u.add_enabled_units'. For details, see https://docs.astropy.org/en/latest/units/combining_and_defining.html [astropy.units.core]\n"
     ]
    }
   ],
   "source": [
    "k2ToGaia = Table.read(\"RawData/kepler_dr3_good.fits\", format = \"fits\")\n",
    "names = [name for name in k2ToGaia.colnames if len(k2ToGaia[name].shape) <= 1]\n",
    "k2ToGaia = k2ToGaia[names].to_pandas()"
   ],
   "metadata": {
    "collapsed": false
   }
  },
  {
   "cell_type": "code",
   "execution_count": 41,
   "outputs": [
    {
     "data": {
      "text/plain": "Index(['kepid', 'ra_kic', 'dec_kic', 'source_id', 'random_index', 'ra', 'dec',\n       'parallax', 'parallax_error', 'parallax_over_error', 'pmra',\n       'pmra_error', 'pmdec', 'pmdec_error', 'astrometric_params_solved',\n       'pseudocolour', 'pseudocolour_error', 'ipd_frac_multi_peak',\n       'ipd_frac_odd_win', 'ruwe', 'phot_g_mean_flux_over_error',\n       'phot_g_mean_mag', 'phot_bp_mean_flux_over_error', 'phot_bp_mean_mag',\n       'phot_rp_mean_flux_over_error', 'phot_rp_mean_mag',\n       'phot_bp_rp_excess_factor', 'bp_rp', 'radial_velocity',\n       'radial_velocity_error', 'rv_nb_transits', 'rv_expected_sig_to_noise',\n       'rv_renormalised_gof', 'rv_chisq_pvalue', 'phot_variable_flag', 'l',\n       'b', 'in_qso_candidates', 'in_galaxy_candidates', 'non_single_star',\n       'has_xp_continuous', 'has_xp_sampled', 'has_rvs',\n       'has_epoch_photometry', 'has_epoch_rv', 'has_mcmc_gspphot',\n       'has_mcmc_msc', 'in_andromeda_survey', 'teff_gspphot', 'logg_gspphot',\n       'mh_gspphot', 'distance_gspphot', 'ag_gspphot', 'ebpminrp_gspphot',\n       'angdist', 'kepler_gaia_ang_dist', 'pm_corrected', 'tm_designation',\n       'kepmag', 'teff', 'teff_err1', 'teff_err2', 'teff_prov', 'logg',\n       'logg_err1', 'logg_err2', 'logg_prov', 'feh', 'feh_err1', 'feh_err2',\n       'feh_prov', 'radius', 'radius_err1', 'radius_err2', 'mass', 'mass_err1',\n       'mass_err2', 'prov_sec', 'nconfp', 'nkoi', 'ntce', 'jmag', 'hmag',\n       'kmag', 'planet?', 'kepler_gaia_mag_diff'],\n      dtype='object')"
     },
     "execution_count": 41,
     "metadata": {},
     "output_type": "execute_result"
    }
   ],
   "source": [
    "k2ToGaia.columns"
   ],
   "metadata": {
    "collapsed": false
   }
  },
  {
   "cell_type": "code",
   "execution_count": 44,
   "outputs": [
    {
     "data": {
      "text/plain": "                    tm_designation     kepid    gaiadr3_source_id\n0       b'2MASS J19240929+3635532'    757076  2050233803028318080\n1       b'2MASS J19241033+3635377'    757099  2050233601176543104\n2       b'2MASS J19241341+3633358'    757137  2050230543159814656\n3       b'2MASS J19242289+3633538'    757280  2050230611879323904\n4       b'2MASS J19243302+3634385'    757450  2050231848829944320\n...                            ...       ...                  ...\n196757  b'2MASS J19201916+5227134'  12984227  2139330189463960320\n196758  b'2MASS J19202700+5224561'  12984288  2139329875927860736\n196759  b'2MASS J19202959+5228286'  12984307  2139330636140575616\n196760  b'2MASS J19204135+5225258'  12984404  2139329467909467008\n196761  b'2MASS J19204420+5224157'  12984422  2139329399189739392\n\n[196762 rows x 3 columns]",
      "text/html": "<div>\n<style scoped>\n    .dataframe tbody tr th:only-of-type {\n        vertical-align: middle;\n    }\n\n    .dataframe tbody tr th {\n        vertical-align: top;\n    }\n\n    .dataframe thead th {\n        text-align: right;\n    }\n</style>\n<table border=\"1\" class=\"dataframe\">\n  <thead>\n    <tr style=\"text-align: right;\">\n      <th></th>\n      <th>tm_designation</th>\n      <th>kepid</th>\n      <th>gaiadr3_source_id</th>\n    </tr>\n  </thead>\n  <tbody>\n    <tr>\n      <th>0</th>\n      <td>b'2MASS J19240929+3635532'</td>\n      <td>757076</td>\n      <td>2050233803028318080</td>\n    </tr>\n    <tr>\n      <th>1</th>\n      <td>b'2MASS J19241033+3635377'</td>\n      <td>757099</td>\n      <td>2050233601176543104</td>\n    </tr>\n    <tr>\n      <th>2</th>\n      <td>b'2MASS J19241341+3633358'</td>\n      <td>757137</td>\n      <td>2050230543159814656</td>\n    </tr>\n    <tr>\n      <th>3</th>\n      <td>b'2MASS J19242289+3633538'</td>\n      <td>757280</td>\n      <td>2050230611879323904</td>\n    </tr>\n    <tr>\n      <th>4</th>\n      <td>b'2MASS J19243302+3634385'</td>\n      <td>757450</td>\n      <td>2050231848829944320</td>\n    </tr>\n    <tr>\n      <th>...</th>\n      <td>...</td>\n      <td>...</td>\n      <td>...</td>\n    </tr>\n    <tr>\n      <th>196757</th>\n      <td>b'2MASS J19201916+5227134'</td>\n      <td>12984227</td>\n      <td>2139330189463960320</td>\n    </tr>\n    <tr>\n      <th>196758</th>\n      <td>b'2MASS J19202700+5224561'</td>\n      <td>12984288</td>\n      <td>2139329875927860736</td>\n    </tr>\n    <tr>\n      <th>196759</th>\n      <td>b'2MASS J19202959+5228286'</td>\n      <td>12984307</td>\n      <td>2139330636140575616</td>\n    </tr>\n    <tr>\n      <th>196760</th>\n      <td>b'2MASS J19204135+5225258'</td>\n      <td>12984404</td>\n      <td>2139329467909467008</td>\n    </tr>\n    <tr>\n      <th>196761</th>\n      <td>b'2MASS J19204420+5224157'</td>\n      <td>12984422</td>\n      <td>2139329399189739392</td>\n    </tr>\n  </tbody>\n</table>\n<p>196762 rows × 3 columns</p>\n</div>"
     },
     "execution_count": 44,
     "metadata": {},
     "output_type": "execute_result"
    }
   ],
   "source": [
    "k2ToGaia = k2ToGaia[[\"tm_designation\", \"kepid\", \"source_id\"]]\n",
    "k2ToGaia = k2ToGaia.rename(columns={\"source_id\": \"gaiadr3_source_id\"})\n",
    "k2ToGaia"
   ],
   "metadata": {
    "collapsed": false
   }
  },
  {
   "cell_type": "markdown",
   "source": [
    "To link to GALAH, we will be using Vizier, which contains a list of EPIC Id mapping to 2Mass id.\n"
   ],
   "metadata": {
    "collapsed": false
   }
  },
  {
   "cell_type": "code",
   "execution_count": 50,
   "outputs": [
    {
     "data": {
      "text/plain": "             EPIC          tmass_id\n0       221334604  17473434+2917310\n1       244422340  17473490+2917166\n2       244422079  17473321+2917364\n3       221334581  17473360+2917312\n4       244422160  17473282+2917304\n...           ...               ...\n999994  235693099  17244038+2938535\n999995  235693090  17243958+2938536\n999996  235692884  17244161+2938556\n999997  235693471  17244101+2938495\n999998  235693948  17244144+2938442\n\n[999999 rows x 2 columns]",
      "text/html": "<div>\n<style scoped>\n    .dataframe tbody tr th:only-of-type {\n        vertical-align: middle;\n    }\n\n    .dataframe tbody tr th {\n        vertical-align: top;\n    }\n\n    .dataframe thead th {\n        text-align: right;\n    }\n</style>\n<table border=\"1\" class=\"dataframe\">\n  <thead>\n    <tr style=\"text-align: right;\">\n      <th></th>\n      <th>EPIC</th>\n      <th>tmass_id</th>\n    </tr>\n  </thead>\n  <tbody>\n    <tr>\n      <th>0</th>\n      <td>221334604</td>\n      <td>17473434+2917310</td>\n    </tr>\n    <tr>\n      <th>1</th>\n      <td>244422340</td>\n      <td>17473490+2917166</td>\n    </tr>\n    <tr>\n      <th>2</th>\n      <td>244422079</td>\n      <td>17473321+2917364</td>\n    </tr>\n    <tr>\n      <th>3</th>\n      <td>221334581</td>\n      <td>17473360+2917312</td>\n    </tr>\n    <tr>\n      <th>4</th>\n      <td>244422160</td>\n      <td>17473282+2917304</td>\n    </tr>\n    <tr>\n      <th>...</th>\n      <td>...</td>\n      <td>...</td>\n    </tr>\n    <tr>\n      <th>999994</th>\n      <td>235693099</td>\n      <td>17244038+2938535</td>\n    </tr>\n    <tr>\n      <th>999995</th>\n      <td>235693090</td>\n      <td>17243958+2938536</td>\n    </tr>\n    <tr>\n      <th>999996</th>\n      <td>235692884</td>\n      <td>17244161+2938556</td>\n    </tr>\n    <tr>\n      <th>999997</th>\n      <td>235693471</td>\n      <td>17244101+2938495</td>\n    </tr>\n    <tr>\n      <th>999998</th>\n      <td>235693948</td>\n      <td>17244144+2938442</td>\n    </tr>\n  </tbody>\n</table>\n<p>999999 rows × 2 columns</p>\n</div>"
     },
     "execution_count": 50,
     "metadata": {},
     "output_type": "execute_result"
    }
   ],
   "source": [
    "EPIC_cols = [\"EPIC\", \"tmass_id\"]\n",
    "EPIC_cols_width = [(0, 9), (10, 29)]\n",
    "EPICTo2MASS = pd.read_fwf(\n",
    "    \"RawData/asu.tsv\",\n",
    "    skiprows=36,\n",
    "    header=None,\n",
    "    index_col=False,\n",
    "    names = EPIC_cols,\n",
    "    colspecs = EPIC_cols_width\n",
    ")\n",
    "EPICTo2MASS.tmass_id = EPICTo2MASS.tmass_id.str.replace('-', \"+\")\n",
    "EPICTo2MASS"
   ],
   "metadata": {
    "collapsed": false
   }
  },
  {
   "cell_type": "markdown",
   "source": [
    "Now we can link GALAH data with K2 data and save it."
   ],
   "metadata": {
    "collapsed": false
   }
  },
  {
   "cell_type": "code",
   "execution_count": 22,
   "outputs": [
    {
     "data": {
      "text/plain": "               tmass_id    gaiadr3_source_id       teff      logg      fe_h  \\\n0      05225435+5857055  4762753422822077184  4747.2780  2.502026 -0.295569   \n1      05242161+5901319  4762739782006427648  5007.8013  4.504993  0.065576   \n2      05221820+5902598  4762730882833911808  4801.3870  4.519791 -0.054487   \n3      05222284+5903420  4762727927896411392  5278.6343  4.480108  0.221903   \n4      05225971+5905550  4762726897104253824  4613.5550  4.221701 -0.088724   \n...                 ...                  ...        ...       ...       ...   \n63569  08490304+4234488  5524145365131834880  4326.2590  1.684273 -0.444126   \n63570  08482763+4300045  5524113543714103168  4892.6210  3.312382 -0.146132   \n63571  08431567+4230079  5524898599314763136  4921.5170  3.204505  0.015238   \n63572  08433930+4230037  5524851114156313600  4544.5430  2.545092  0.151254   \n63573  08464041+4205267  5524947901240914176  5028.0234  2.762224  0.054385   \n\n          al_fe      c_fe      n_fe      o_fe     li_fe  \n0      0.242639  0.114089  0.048963  0.213739 -0.925169  \n1      0.186914 -0.039235  0.194514 -0.380775 -0.658700  \n2     -0.114537 -0.167340 -0.317684 -0.461599 -0.831259  \n3      0.212420  0.019690  0.207750 -0.092077 -0.576487  \n4      0.339632  0.136008 -0.187697 -0.091664 -1.203047  \n...         ...       ...       ...       ...       ...  \n63569  0.440457  0.251971  0.182709  0.544992 -1.136488  \n63570  0.454510  0.322544  0.366330  0.693901 -0.830099  \n63571  0.146001  0.029876  0.221036  0.257410 -1.011459  \n63572  0.061476  0.121679 -0.072001  0.024033 -1.081211  \n63573  0.085140 -0.281388  0.341346 -0.391056 -0.646497  \n\n[63574 rows x 10 columns]",
      "text/html": "<div>\n<style scoped>\n    .dataframe tbody tr th:only-of-type {\n        vertical-align: middle;\n    }\n\n    .dataframe tbody tr th {\n        vertical-align: top;\n    }\n\n    .dataframe thead th {\n        text-align: right;\n    }\n</style>\n<table border=\"1\" class=\"dataframe\">\n  <thead>\n    <tr style=\"text-align: right;\">\n      <th></th>\n      <th>tmass_id</th>\n      <th>gaiadr3_source_id</th>\n      <th>teff</th>\n      <th>logg</th>\n      <th>fe_h</th>\n      <th>al_fe</th>\n      <th>c_fe</th>\n      <th>n_fe</th>\n      <th>o_fe</th>\n      <th>li_fe</th>\n    </tr>\n  </thead>\n  <tbody>\n    <tr>\n      <th>0</th>\n      <td>05225435+5857055</td>\n      <td>4762753422822077184</td>\n      <td>4747.2780</td>\n      <td>2.502026</td>\n      <td>-0.295569</td>\n      <td>0.242639</td>\n      <td>0.114089</td>\n      <td>0.048963</td>\n      <td>0.213739</td>\n      <td>-0.925169</td>\n    </tr>\n    <tr>\n      <th>1</th>\n      <td>05242161+5901319</td>\n      <td>4762739782006427648</td>\n      <td>5007.8013</td>\n      <td>4.504993</td>\n      <td>0.065576</td>\n      <td>0.186914</td>\n      <td>-0.039235</td>\n      <td>0.194514</td>\n      <td>-0.380775</td>\n      <td>-0.658700</td>\n    </tr>\n    <tr>\n      <th>2</th>\n      <td>05221820+5902598</td>\n      <td>4762730882833911808</td>\n      <td>4801.3870</td>\n      <td>4.519791</td>\n      <td>-0.054487</td>\n      <td>-0.114537</td>\n      <td>-0.167340</td>\n      <td>-0.317684</td>\n      <td>-0.461599</td>\n      <td>-0.831259</td>\n    </tr>\n    <tr>\n      <th>3</th>\n      <td>05222284+5903420</td>\n      <td>4762727927896411392</td>\n      <td>5278.6343</td>\n      <td>4.480108</td>\n      <td>0.221903</td>\n      <td>0.212420</td>\n      <td>0.019690</td>\n      <td>0.207750</td>\n      <td>-0.092077</td>\n      <td>-0.576487</td>\n    </tr>\n    <tr>\n      <th>4</th>\n      <td>05225971+5905550</td>\n      <td>4762726897104253824</td>\n      <td>4613.5550</td>\n      <td>4.221701</td>\n      <td>-0.088724</td>\n      <td>0.339632</td>\n      <td>0.136008</td>\n      <td>-0.187697</td>\n      <td>-0.091664</td>\n      <td>-1.203047</td>\n    </tr>\n    <tr>\n      <th>...</th>\n      <td>...</td>\n      <td>...</td>\n      <td>...</td>\n      <td>...</td>\n      <td>...</td>\n      <td>...</td>\n      <td>...</td>\n      <td>...</td>\n      <td>...</td>\n      <td>...</td>\n    </tr>\n    <tr>\n      <th>63569</th>\n      <td>08490304+4234488</td>\n      <td>5524145365131834880</td>\n      <td>4326.2590</td>\n      <td>1.684273</td>\n      <td>-0.444126</td>\n      <td>0.440457</td>\n      <td>0.251971</td>\n      <td>0.182709</td>\n      <td>0.544992</td>\n      <td>-1.136488</td>\n    </tr>\n    <tr>\n      <th>63570</th>\n      <td>08482763+4300045</td>\n      <td>5524113543714103168</td>\n      <td>4892.6210</td>\n      <td>3.312382</td>\n      <td>-0.146132</td>\n      <td>0.454510</td>\n      <td>0.322544</td>\n      <td>0.366330</td>\n      <td>0.693901</td>\n      <td>-0.830099</td>\n    </tr>\n    <tr>\n      <th>63571</th>\n      <td>08431567+4230079</td>\n      <td>5524898599314763136</td>\n      <td>4921.5170</td>\n      <td>3.204505</td>\n      <td>0.015238</td>\n      <td>0.146001</td>\n      <td>0.029876</td>\n      <td>0.221036</td>\n      <td>0.257410</td>\n      <td>-1.011459</td>\n    </tr>\n    <tr>\n      <th>63572</th>\n      <td>08433930+4230037</td>\n      <td>5524851114156313600</td>\n      <td>4544.5430</td>\n      <td>2.545092</td>\n      <td>0.151254</td>\n      <td>0.061476</td>\n      <td>0.121679</td>\n      <td>-0.072001</td>\n      <td>0.024033</td>\n      <td>-1.081211</td>\n    </tr>\n    <tr>\n      <th>63573</th>\n      <td>08464041+4205267</td>\n      <td>5524947901240914176</td>\n      <td>5028.0234</td>\n      <td>2.762224</td>\n      <td>0.054385</td>\n      <td>0.085140</td>\n      <td>-0.281388</td>\n      <td>0.341346</td>\n      <td>-0.391056</td>\n      <td>-0.646497</td>\n    </tr>\n  </tbody>\n</table>\n<p>63574 rows × 10 columns</p>\n</div>"
     },
     "execution_count": 22,
     "metadata": {},
     "output_type": "execute_result"
    }
   ],
   "source": [
    "galah = pd.read_csv(\"ProcessedData/cleaned_galah.csv\")\n",
    "# String manipulation to match the representation of 2mass_id\n",
    "galah.tmass_id = galah.tmass_id.str[2:-1]\n",
    "galah"
   ],
   "metadata": {
    "collapsed": false
   }
  },
  {
   "cell_type": "code",
   "execution_count": 51,
   "outputs": [
    {
     "data": {
      "text/plain": "        EPIC          tmass_id    gaiadr3_source_id       teff      logg  \\\n0  237905467  17274622+3027231  4058234269283342336  5344.3180  3.275030   \n1  240375839  17290497+2934538  4058720145982365184  5037.6978  3.566061   \n\n       fe_h     al_fe      c_fe      n_fe      o_fe     li_fe  \n0 -0.135769 -0.385319  0.064469  0.576277  0.015072 -0.174362  \n1 -0.225952 -0.197428  0.226306  0.386242  0.312587 -0.656707  ",
      "text/html": "<div>\n<style scoped>\n    .dataframe tbody tr th:only-of-type {\n        vertical-align: middle;\n    }\n\n    .dataframe tbody tr th {\n        vertical-align: top;\n    }\n\n    .dataframe thead th {\n        text-align: right;\n    }\n</style>\n<table border=\"1\" class=\"dataframe\">\n  <thead>\n    <tr style=\"text-align: right;\">\n      <th></th>\n      <th>EPIC</th>\n      <th>tmass_id</th>\n      <th>gaiadr3_source_id</th>\n      <th>teff</th>\n      <th>logg</th>\n      <th>fe_h</th>\n      <th>al_fe</th>\n      <th>c_fe</th>\n      <th>n_fe</th>\n      <th>o_fe</th>\n      <th>li_fe</th>\n    </tr>\n  </thead>\n  <tbody>\n    <tr>\n      <th>0</th>\n      <td>237905467</td>\n      <td>17274622+3027231</td>\n      <td>4058234269283342336</td>\n      <td>5344.3180</td>\n      <td>3.275030</td>\n      <td>-0.135769</td>\n      <td>-0.385319</td>\n      <td>0.064469</td>\n      <td>0.576277</td>\n      <td>0.015072</td>\n      <td>-0.174362</td>\n    </tr>\n    <tr>\n      <th>1</th>\n      <td>240375839</td>\n      <td>17290497+2934538</td>\n      <td>4058720145982365184</td>\n      <td>5037.6978</td>\n      <td>3.566061</td>\n      <td>-0.225952</td>\n      <td>-0.197428</td>\n      <td>0.226306</td>\n      <td>0.386242</td>\n      <td>0.312587</td>\n      <td>-0.656707</td>\n    </tr>\n  </tbody>\n</table>\n</div>"
     },
     "execution_count": 51,
     "metadata": {},
     "output_type": "execute_result"
    }
   ],
   "source": [
    "k2AndGALAH = pd.merge(EPICTo2MASS, galah, on=\"tmass_id\")\n",
    "# k2AndGALAH = pd.merge(EPICTo2MASS, k2, on=\"EPIC\")\n",
    "# k2AndGALAH = pd.merge(EPICTo2MASS, galah, on=\"tmass_id\")\n",
    "k2AndGALAH"
   ],
   "metadata": {
    "collapsed": false
   }
  }
 ],
 "metadata": {
  "kernelspec": {
   "display_name": "Python 3 (ipykernel)",
   "language": "python",
   "name": "python3"
  },
  "language_info": {
   "codemirror_mode": {
    "name": "ipython",
    "version": 3
   },
   "file_extension": ".py",
   "mimetype": "text/x-python",
   "name": "python",
   "nbconvert_exporter": "python",
   "pygments_lexer": "ipython3",
   "version": "3.9.7"
  }
 },
 "nbformat": 4,
 "nbformat_minor": 1
}
