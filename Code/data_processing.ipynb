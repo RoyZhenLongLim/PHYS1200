{
 "cells": [
  {
   "cell_type": "markdown",
   "metadata": {},
   "source": [
    "The goal for this piece of code is:\n",
    "- Clean the data for the following datasets:\n",
    "    - K2\n",
    "    - APOKSAC\n",
    "    - APOGEE\n",
    "    - GALAH\n",
    "\n",
    "After we have cleaned the datas is\n",
    "- Use K2 model to predict the mass for APOGEE and GALAH\n",
    "- Use APOKSAC model to predict mass for APOGEE\n",
    "\n",
    "The goal is to get a table contain the following for all the data sets and use this to predict the mass of stars.\n",
    "The table include parameters such as:\n",
    "\n",
    "- Effective Temperature\n",
    "- Log g\n",
    "- Iron Abundance [Fe/H]\n",
    "- Alpha Abundance [alpha/Fe]\n",
    "- Carbon Abundance [C/Fe]\n",
    "- Nitrogen Abundance [N/Fe]\n",
    "- Oxygen Abundance [O/Fe]\n",
    "\n",
    "In addition, we will extract the stars id to allow for identification\n",
    "\n",
    "- `tmass_id` 2MASS IDs\n",
    "- `gaiadr3_source_id` Gaia Id"
   ]
  },
  {
   "cell_type": "markdown",
   "metadata": {},
   "source": [
    "Importing the required packages"
   ]
  },
  {
   "cell_type": "code",
   "execution_count": 3,
   "metadata": {},
   "outputs": [],
   "source": [
    "from astropy.table import Table\n",
    "import pandas as pd         # For table/data management\n",
    "from astroquery.utils.tap.core import TapPlus\n",
    "from astroquery.gaia import Gaia"
   ]
  },
  {
   "cell_type": "markdown",
   "metadata": {},
   "source": [
    "# Cleaning the GALAH Data"
   ]
  },
  {
   "cell_type": "code",
   "execution_count": 6,
   "metadata": {},
   "outputs": [],
   "source": [
    "# Import the data and change into a data frame\n",
    "def importGalah():\n",
    "    galah = Table.read(\"RawData/galah_dr4_allspec_220713.fits\", format = \"fits\")\n",
    "    names = [name for name in galah.colnames if len(galah[name].shape) <= 1]\n",
    "    galah = galah[names].to_pandas()\n",
    "    return galah\n",
    "galah = importGalah()"
   ]
  },
  {
   "cell_type": "markdown",
   "metadata": {},
   "source": [
    "For Apogee Data, there are a few recommendations (this usually indicates that the data has some issues, e.g. unreliably broadening and other issues) for the flag that should be applied:\n",
    "- `snr_c3_iraf > 30`\n",
    "- `flag_sp == 0`\n",
    "- For any element `X`, the flag `flag_X_fe == 0`\n",
    "\n",
    "More information can be found [the GALAH Survey Website](https://www.galah-survey.org/dr3/flags/)"
   ]
  },
  {
   "cell_type": "code",
   "execution_count": 7,
   "metadata": {},
   "outputs": [],
   "source": [
    "# Filter the data\n",
    "# galah = galah.loc[galah[\"snr_c3_iraf\"] > 30]\n",
    "galah = galah.loc[galah[\"flag_sp\"] == 0]\n",
    "galah = galah.loc[galah[\"flag_fe_h\"] == 0]\n",
    "galah = galah.loc[galah[\"flag_al_fe\"] == 0]\n",
    "galah = galah.loc[galah[\"flag_c_fe\"] == 0]\n",
    "galah = galah.loc[galah[\"flag_n_fe\"] == 0]\n",
    "galah = galah.loc[galah[\"flag_o_fe\"] == 0]\n",
    "galah = galah.loc[galah[\"flag_li_fe\"] == 0]"
   ]
  },
  {
   "cell_type": "code",
   "execution_count": 8,
   "outputs": [
    {
     "data": {
      "text/plain": "             sobject_id             tmass_id    gaiadr3_source_id          ra  \\\n5       131216001101010  b'05225435-5857055'  4762753422822077184   80.726471   \n8       131216001101014  b'05242161-5901319'  4762739782006427648   81.090057   \n11      131216001101017  b'05221820-5902598'  4762730882833911808   80.575874   \n16      131216001101022  b'05222284-5903420'  4762727927896411392   80.595207   \n18      131216001101024  b'05225971-5905550'  4762726897104253824   80.748810   \n...                 ...                  ...                  ...         ...   \n911431  220422002101020  b'08490304-4234488'  5524145365131834880  132.262680   \n911484  220422002101081  b'08482763-4300045'  5524113543714103168  132.115097   \n911566  220422002101199  b'08431567-4230079'  5524898599314763136  130.815277   \n911568  220422002101203  b'08433930-4230037'  5524851114156313600  130.913773   \n911626  220422002101274  b'08464041-4205267'  5524947901240914176  131.668350   \n\n              dec  flag_sp   chi2_sp          model_name         teff  \\\n5      -58.951542        0  0.801761  b'4750_2.50_-0.25'  4747.277832   \n8      -59.025547        0  0.866050   b'5000_4.50_0.00'  5007.801270   \n11     -59.049953        0  0.843927   b'4750_4.50_0.00'  4801.387207   \n16     -59.061672        0  1.240397   b'5250_4.50_0.25'  5278.634277   \n18     -59.098625        0  0.875987   b'4500_4.00_0.00'  4613.555176   \n...           ...      ...       ...                 ...          ...   \n911431 -42.580215        0  0.907719  b'4250_1.50_-0.50'  4326.258789   \n911484 -43.001232        0  0.852804  b'5000_3.00_-0.25'  4892.621094   \n911566 -42.502193        0  0.756809   b'5000_3.00_0.00'  4921.517090   \n911568 -42.501072        0  0.790913   b'4500_2.50_0.00'  4544.542969   \n911626 -42.090771        0  0.759723   b'5000_2.50_0.00'  5028.023438   \n\n           e_teff  ...     rv_k_is  ew_dib5780  sigma_dib5780  rv_dib5780  \\\n5       11.832772  ...   85.141571    0.023134       0.252208   26.350906   \n8        9.640579  ...  -56.604633    0.023699       0.536554   -5.562334   \n11       8.895825  ...  167.882294   -0.012029       0.074605   39.358860   \n16       4.595638  ...  -13.605973    0.015943       0.222795   30.253696   \n18      14.729848  ... -133.567993    0.021436       0.170836   89.049568   \n...           ...  ...         ...         ...            ...         ...   \n911431   6.605823  ...  -27.567528    0.242692       0.821876   -4.200578   \n911484   7.416252  ...    7.454720    0.013022       0.100351   42.018845   \n911566  12.264063  ...   27.553761    0.220546       1.030082   45.633423   \n911568  24.683069  ...  -41.585598    0.479357       0.681622  -23.666155   \n911626  12.537756  ...   17.360641    0.336694       1.095364   31.839413   \n\n        ew_dib5797  sigma_dib5797  rv_dib5797  ew_dib6613  sigma_dib6613  \\\n5         0.018000       0.101814  -39.829533    0.029444       1.492405   \n8         0.025659       0.737862   -5.556193    0.015717       0.446130   \n11        0.016823       0.127976  -15.108765    0.005813       0.160391   \n16       -0.010231       0.392958  -41.382511    0.007021       0.049410   \n18       -0.026330       0.095232   41.361435    0.009535       0.044633   \n...            ...            ...         ...         ...            ...   \n911431    0.081907       0.482253  -31.767265    0.053212       0.267420   \n911484    0.015768       0.125131  -49.141647    0.015822       0.718062   \n911566    0.062203       1.144449   13.689507    0.048689       0.384843   \n911568    0.169192       0.646230  -36.374008    0.216087       0.376157   \n911626    0.058513       0.293633    9.455349    0.088601       0.415951   \n\n        rv_dib6613  \n5        31.226997  \n8        -5.526703  \n11       -8.338925  \n16       11.469566  \n18       11.150452  \n...            ...  \n911431   -4.404961  \n911484  -11.059895  \n911566   61.364906  \n911568  -15.404000  \n911626   51.483608  \n\n[63574 rows x 139 columns]",
      "text/html": "<div>\n<style scoped>\n    .dataframe tbody tr th:only-of-type {\n        vertical-align: middle;\n    }\n\n    .dataframe tbody tr th {\n        vertical-align: top;\n    }\n\n    .dataframe thead th {\n        text-align: right;\n    }\n</style>\n<table border=\"1\" class=\"dataframe\">\n  <thead>\n    <tr style=\"text-align: right;\">\n      <th></th>\n      <th>sobject_id</th>\n      <th>tmass_id</th>\n      <th>gaiadr3_source_id</th>\n      <th>ra</th>\n      <th>dec</th>\n      <th>flag_sp</th>\n      <th>chi2_sp</th>\n      <th>model_name</th>\n      <th>teff</th>\n      <th>e_teff</th>\n      <th>...</th>\n      <th>rv_k_is</th>\n      <th>ew_dib5780</th>\n      <th>sigma_dib5780</th>\n      <th>rv_dib5780</th>\n      <th>ew_dib5797</th>\n      <th>sigma_dib5797</th>\n      <th>rv_dib5797</th>\n      <th>ew_dib6613</th>\n      <th>sigma_dib6613</th>\n      <th>rv_dib6613</th>\n    </tr>\n  </thead>\n  <tbody>\n    <tr>\n      <th>5</th>\n      <td>131216001101010</td>\n      <td>b'05225435-5857055'</td>\n      <td>4762753422822077184</td>\n      <td>80.726471</td>\n      <td>-58.951542</td>\n      <td>0</td>\n      <td>0.801761</td>\n      <td>b'4750_2.50_-0.25'</td>\n      <td>4747.277832</td>\n      <td>11.832772</td>\n      <td>...</td>\n      <td>85.141571</td>\n      <td>0.023134</td>\n      <td>0.252208</td>\n      <td>26.350906</td>\n      <td>0.018000</td>\n      <td>0.101814</td>\n      <td>-39.829533</td>\n      <td>0.029444</td>\n      <td>1.492405</td>\n      <td>31.226997</td>\n    </tr>\n    <tr>\n      <th>8</th>\n      <td>131216001101014</td>\n      <td>b'05242161-5901319'</td>\n      <td>4762739782006427648</td>\n      <td>81.090057</td>\n      <td>-59.025547</td>\n      <td>0</td>\n      <td>0.866050</td>\n      <td>b'5000_4.50_0.00'</td>\n      <td>5007.801270</td>\n      <td>9.640579</td>\n      <td>...</td>\n      <td>-56.604633</td>\n      <td>0.023699</td>\n      <td>0.536554</td>\n      <td>-5.562334</td>\n      <td>0.025659</td>\n      <td>0.737862</td>\n      <td>-5.556193</td>\n      <td>0.015717</td>\n      <td>0.446130</td>\n      <td>-5.526703</td>\n    </tr>\n    <tr>\n      <th>11</th>\n      <td>131216001101017</td>\n      <td>b'05221820-5902598'</td>\n      <td>4762730882833911808</td>\n      <td>80.575874</td>\n      <td>-59.049953</td>\n      <td>0</td>\n      <td>0.843927</td>\n      <td>b'4750_4.50_0.00'</td>\n      <td>4801.387207</td>\n      <td>8.895825</td>\n      <td>...</td>\n      <td>167.882294</td>\n      <td>-0.012029</td>\n      <td>0.074605</td>\n      <td>39.358860</td>\n      <td>0.016823</td>\n      <td>0.127976</td>\n      <td>-15.108765</td>\n      <td>0.005813</td>\n      <td>0.160391</td>\n      <td>-8.338925</td>\n    </tr>\n    <tr>\n      <th>16</th>\n      <td>131216001101022</td>\n      <td>b'05222284-5903420'</td>\n      <td>4762727927896411392</td>\n      <td>80.595207</td>\n      <td>-59.061672</td>\n      <td>0</td>\n      <td>1.240397</td>\n      <td>b'5250_4.50_0.25'</td>\n      <td>5278.634277</td>\n      <td>4.595638</td>\n      <td>...</td>\n      <td>-13.605973</td>\n      <td>0.015943</td>\n      <td>0.222795</td>\n      <td>30.253696</td>\n      <td>-0.010231</td>\n      <td>0.392958</td>\n      <td>-41.382511</td>\n      <td>0.007021</td>\n      <td>0.049410</td>\n      <td>11.469566</td>\n    </tr>\n    <tr>\n      <th>18</th>\n      <td>131216001101024</td>\n      <td>b'05225971-5905550'</td>\n      <td>4762726897104253824</td>\n      <td>80.748810</td>\n      <td>-59.098625</td>\n      <td>0</td>\n      <td>0.875987</td>\n      <td>b'4500_4.00_0.00'</td>\n      <td>4613.555176</td>\n      <td>14.729848</td>\n      <td>...</td>\n      <td>-133.567993</td>\n      <td>0.021436</td>\n      <td>0.170836</td>\n      <td>89.049568</td>\n      <td>-0.026330</td>\n      <td>0.095232</td>\n      <td>41.361435</td>\n      <td>0.009535</td>\n      <td>0.044633</td>\n      <td>11.150452</td>\n    </tr>\n    <tr>\n      <th>...</th>\n      <td>...</td>\n      <td>...</td>\n      <td>...</td>\n      <td>...</td>\n      <td>...</td>\n      <td>...</td>\n      <td>...</td>\n      <td>...</td>\n      <td>...</td>\n      <td>...</td>\n      <td>...</td>\n      <td>...</td>\n      <td>...</td>\n      <td>...</td>\n      <td>...</td>\n      <td>...</td>\n      <td>...</td>\n      <td>...</td>\n      <td>...</td>\n      <td>...</td>\n      <td>...</td>\n    </tr>\n    <tr>\n      <th>911431</th>\n      <td>220422002101020</td>\n      <td>b'08490304-4234488'</td>\n      <td>5524145365131834880</td>\n      <td>132.262680</td>\n      <td>-42.580215</td>\n      <td>0</td>\n      <td>0.907719</td>\n      <td>b'4250_1.50_-0.50'</td>\n      <td>4326.258789</td>\n      <td>6.605823</td>\n      <td>...</td>\n      <td>-27.567528</td>\n      <td>0.242692</td>\n      <td>0.821876</td>\n      <td>-4.200578</td>\n      <td>0.081907</td>\n      <td>0.482253</td>\n      <td>-31.767265</td>\n      <td>0.053212</td>\n      <td>0.267420</td>\n      <td>-4.404961</td>\n    </tr>\n    <tr>\n      <th>911484</th>\n      <td>220422002101081</td>\n      <td>b'08482763-4300045'</td>\n      <td>5524113543714103168</td>\n      <td>132.115097</td>\n      <td>-43.001232</td>\n      <td>0</td>\n      <td>0.852804</td>\n      <td>b'5000_3.00_-0.25'</td>\n      <td>4892.621094</td>\n      <td>7.416252</td>\n      <td>...</td>\n      <td>7.454720</td>\n      <td>0.013022</td>\n      <td>0.100351</td>\n      <td>42.018845</td>\n      <td>0.015768</td>\n      <td>0.125131</td>\n      <td>-49.141647</td>\n      <td>0.015822</td>\n      <td>0.718062</td>\n      <td>-11.059895</td>\n    </tr>\n    <tr>\n      <th>911566</th>\n      <td>220422002101199</td>\n      <td>b'08431567-4230079'</td>\n      <td>5524898599314763136</td>\n      <td>130.815277</td>\n      <td>-42.502193</td>\n      <td>0</td>\n      <td>0.756809</td>\n      <td>b'5000_3.00_0.00'</td>\n      <td>4921.517090</td>\n      <td>12.264063</td>\n      <td>...</td>\n      <td>27.553761</td>\n      <td>0.220546</td>\n      <td>1.030082</td>\n      <td>45.633423</td>\n      <td>0.062203</td>\n      <td>1.144449</td>\n      <td>13.689507</td>\n      <td>0.048689</td>\n      <td>0.384843</td>\n      <td>61.364906</td>\n    </tr>\n    <tr>\n      <th>911568</th>\n      <td>220422002101203</td>\n      <td>b'08433930-4230037'</td>\n      <td>5524851114156313600</td>\n      <td>130.913773</td>\n      <td>-42.501072</td>\n      <td>0</td>\n      <td>0.790913</td>\n      <td>b'4500_2.50_0.00'</td>\n      <td>4544.542969</td>\n      <td>24.683069</td>\n      <td>...</td>\n      <td>-41.585598</td>\n      <td>0.479357</td>\n      <td>0.681622</td>\n      <td>-23.666155</td>\n      <td>0.169192</td>\n      <td>0.646230</td>\n      <td>-36.374008</td>\n      <td>0.216087</td>\n      <td>0.376157</td>\n      <td>-15.404000</td>\n    </tr>\n    <tr>\n      <th>911626</th>\n      <td>220422002101274</td>\n      <td>b'08464041-4205267'</td>\n      <td>5524947901240914176</td>\n      <td>131.668350</td>\n      <td>-42.090771</td>\n      <td>0</td>\n      <td>0.759723</td>\n      <td>b'5000_2.50_0.00'</td>\n      <td>5028.023438</td>\n      <td>12.537756</td>\n      <td>...</td>\n      <td>17.360641</td>\n      <td>0.336694</td>\n      <td>1.095364</td>\n      <td>31.839413</td>\n      <td>0.058513</td>\n      <td>0.293633</td>\n      <td>9.455349</td>\n      <td>0.088601</td>\n      <td>0.415951</td>\n      <td>51.483608</td>\n    </tr>\n  </tbody>\n</table>\n<p>63574 rows × 139 columns</p>\n</div>"
     },
     "execution_count": 8,
     "metadata": {},
     "output_type": "execute_result"
    }
   ],
   "source": [
    "galah"
   ],
   "metadata": {
    "collapsed": false
   }
  },
  {
   "cell_type": "markdown",
   "metadata": {},
   "source": [
    "Now the appropriate flag has been used, we extract only the useful columns and save the data for later."
   ]
  },
  {
   "cell_type": "code",
   "execution_count": 9,
   "metadata": {},
   "outputs": [],
   "source": [
    "galah = galah[[\"tmass_id\", \"gaiadr3_source_id\", \"teff\", \"logg\", \"fe_h\", \"al_fe\", \"c_fe\", \"n_fe\", \"o_fe\", \"li_fe\"]]\n",
    "# Remove all rows with null values\n",
    "galah.dropna()\n",
    "galah.to_csv(\"ProcessedData/cleaned_galah.csv\", index=False)"
   ]
  },
  {
   "cell_type": "code",
   "execution_count": 10,
   "outputs": [
    {
     "data": {
      "text/plain": "                   tmass_id    gaiadr3_source_id         teff      logg  \\\n5       b'05225435-5857055'  4762753422822077184  4747.277832  2.502026   \n8       b'05242161-5901319'  4762739782006427648  5007.801270  4.504993   \n11      b'05221820-5902598'  4762730882833911808  4801.387207  4.519791   \n16      b'05222284-5903420'  4762727927896411392  5278.634277  4.480108   \n18      b'05225971-5905550'  4762726897104253824  4613.555176  4.221701   \n...                     ...                  ...          ...       ...   \n911431  b'08490304-4234488'  5524145365131834880  4326.258789  1.684273   \n911484  b'08482763-4300045'  5524113543714103168  4892.621094  3.312382   \n911566  b'08431567-4230079'  5524898599314763136  4921.517090  3.204505   \n911568  b'08433930-4230037'  5524851114156313600  4544.542969  2.545092   \n911626  b'08464041-4205267'  5524947901240914176  5028.023438  2.762224   \n\n            fe_h     al_fe      c_fe      n_fe      o_fe     li_fe  \n5      -0.295569  0.242638  0.114089  0.048963  0.213739 -0.925169  \n8       0.065576  0.186914 -0.039235  0.194514 -0.380775 -0.658700  \n11     -0.054487 -0.114537 -0.167340 -0.317684 -0.461599 -0.831258  \n16      0.221903  0.212420  0.019690  0.207750 -0.092077 -0.576487  \n18     -0.088724  0.339632  0.136008 -0.187697 -0.091664 -1.203047  \n...          ...       ...       ...       ...       ...       ...  \n911431 -0.444126  0.440457  0.251971  0.182709  0.544992 -1.136488  \n911484 -0.146132  0.454510  0.322544  0.366330  0.693901 -0.830099  \n911566  0.015238  0.146001  0.029876  0.221036  0.257410 -1.011459  \n911568  0.151254  0.061476  0.121679 -0.072001  0.024033 -1.081211  \n911626  0.054385  0.085140 -0.281388  0.341346 -0.391056 -0.646497  \n\n[63574 rows x 10 columns]",
      "text/html": "<div>\n<style scoped>\n    .dataframe tbody tr th:only-of-type {\n        vertical-align: middle;\n    }\n\n    .dataframe tbody tr th {\n        vertical-align: top;\n    }\n\n    .dataframe thead th {\n        text-align: right;\n    }\n</style>\n<table border=\"1\" class=\"dataframe\">\n  <thead>\n    <tr style=\"text-align: right;\">\n      <th></th>\n      <th>tmass_id</th>\n      <th>gaiadr3_source_id</th>\n      <th>teff</th>\n      <th>logg</th>\n      <th>fe_h</th>\n      <th>al_fe</th>\n      <th>c_fe</th>\n      <th>n_fe</th>\n      <th>o_fe</th>\n      <th>li_fe</th>\n    </tr>\n  </thead>\n  <tbody>\n    <tr>\n      <th>5</th>\n      <td>b'05225435-5857055'</td>\n      <td>4762753422822077184</td>\n      <td>4747.277832</td>\n      <td>2.502026</td>\n      <td>-0.295569</td>\n      <td>0.242638</td>\n      <td>0.114089</td>\n      <td>0.048963</td>\n      <td>0.213739</td>\n      <td>-0.925169</td>\n    </tr>\n    <tr>\n      <th>8</th>\n      <td>b'05242161-5901319'</td>\n      <td>4762739782006427648</td>\n      <td>5007.801270</td>\n      <td>4.504993</td>\n      <td>0.065576</td>\n      <td>0.186914</td>\n      <td>-0.039235</td>\n      <td>0.194514</td>\n      <td>-0.380775</td>\n      <td>-0.658700</td>\n    </tr>\n    <tr>\n      <th>11</th>\n      <td>b'05221820-5902598'</td>\n      <td>4762730882833911808</td>\n      <td>4801.387207</td>\n      <td>4.519791</td>\n      <td>-0.054487</td>\n      <td>-0.114537</td>\n      <td>-0.167340</td>\n      <td>-0.317684</td>\n      <td>-0.461599</td>\n      <td>-0.831258</td>\n    </tr>\n    <tr>\n      <th>16</th>\n      <td>b'05222284-5903420'</td>\n      <td>4762727927896411392</td>\n      <td>5278.634277</td>\n      <td>4.480108</td>\n      <td>0.221903</td>\n      <td>0.212420</td>\n      <td>0.019690</td>\n      <td>0.207750</td>\n      <td>-0.092077</td>\n      <td>-0.576487</td>\n    </tr>\n    <tr>\n      <th>18</th>\n      <td>b'05225971-5905550'</td>\n      <td>4762726897104253824</td>\n      <td>4613.555176</td>\n      <td>4.221701</td>\n      <td>-0.088724</td>\n      <td>0.339632</td>\n      <td>0.136008</td>\n      <td>-0.187697</td>\n      <td>-0.091664</td>\n      <td>-1.203047</td>\n    </tr>\n    <tr>\n      <th>...</th>\n      <td>...</td>\n      <td>...</td>\n      <td>...</td>\n      <td>...</td>\n      <td>...</td>\n      <td>...</td>\n      <td>...</td>\n      <td>...</td>\n      <td>...</td>\n      <td>...</td>\n    </tr>\n    <tr>\n      <th>911431</th>\n      <td>b'08490304-4234488'</td>\n      <td>5524145365131834880</td>\n      <td>4326.258789</td>\n      <td>1.684273</td>\n      <td>-0.444126</td>\n      <td>0.440457</td>\n      <td>0.251971</td>\n      <td>0.182709</td>\n      <td>0.544992</td>\n      <td>-1.136488</td>\n    </tr>\n    <tr>\n      <th>911484</th>\n      <td>b'08482763-4300045'</td>\n      <td>5524113543714103168</td>\n      <td>4892.621094</td>\n      <td>3.312382</td>\n      <td>-0.146132</td>\n      <td>0.454510</td>\n      <td>0.322544</td>\n      <td>0.366330</td>\n      <td>0.693901</td>\n      <td>-0.830099</td>\n    </tr>\n    <tr>\n      <th>911566</th>\n      <td>b'08431567-4230079'</td>\n      <td>5524898599314763136</td>\n      <td>4921.517090</td>\n      <td>3.204505</td>\n      <td>0.015238</td>\n      <td>0.146001</td>\n      <td>0.029876</td>\n      <td>0.221036</td>\n      <td>0.257410</td>\n      <td>-1.011459</td>\n    </tr>\n    <tr>\n      <th>911568</th>\n      <td>b'08433930-4230037'</td>\n      <td>5524851114156313600</td>\n      <td>4544.542969</td>\n      <td>2.545092</td>\n      <td>0.151254</td>\n      <td>0.061476</td>\n      <td>0.121679</td>\n      <td>-0.072001</td>\n      <td>0.024033</td>\n      <td>-1.081211</td>\n    </tr>\n    <tr>\n      <th>911626</th>\n      <td>b'08464041-4205267'</td>\n      <td>5524947901240914176</td>\n      <td>5028.023438</td>\n      <td>2.762224</td>\n      <td>0.054385</td>\n      <td>0.085140</td>\n      <td>-0.281388</td>\n      <td>0.341346</td>\n      <td>-0.391056</td>\n      <td>-0.646497</td>\n    </tr>\n  </tbody>\n</table>\n<p>63574 rows × 10 columns</p>\n</div>"
     },
     "execution_count": 10,
     "metadata": {},
     "output_type": "execute_result"
    }
   ],
   "source": [
    "galah"
   ],
   "metadata": {
    "collapsed": false
   }
  },
  {
   "cell_type": "markdown",
   "metadata": {},
   "source": [
    "# Cleaning APOGEE Data"
   ]
  },
  {
   "cell_type": "code",
   "execution_count": 4,
   "metadata": {},
   "outputs": [
    {
     "data": {
      "text/plain": "                                          FILE              APOGEE_ID  \\\n0                    b'apStar-dr17-VESTA.fits'               b'VESTA'   \n1       b'apStar-dr17-2M00000002+7417074.fits'  b'2M00000002+7417074'   \n2       b'apStar-dr17-2M00000019-1924498.fits'  b'2M00000019-1924498'   \n3       b'apStar-dr17-2M00000032+5737103.fits'  b'2M00000032+5737103'   \n4       b'apStar-dr17-2M00000032+5737103.fits'  b'2M00000032+5737103'   \n...                                        ...                    ...   \n733896  b'apStar-dr17-2M23595886-2009435.fits'  b'2M23595886-2009435'   \n733897  b'apStar-dr17-2M23595886+5726058.fits'  b'2M23595886+5726058'   \n733898  b'apStar-dr17-2M23595921+5609479.fits'  b'2M23595921+5609479'   \n733899  b'asStar-dr17-2M23595949-7342592.fits'  b'2M23595949-7342592'   \n733900  b'apStar-dr17-2M23595980+1528407.fits'  b'2M23595980+1528407'   \n\n                                       TARGET_ID  \\\n0                     b'apo1m.calibration.VESTA'   \n1            b'apo25m.120+12.2M00000002+7417074'   \n2            b'apo25m.060-75.2M00000019-1924498'   \n3            b'apo25m.116-04.2M00000032+5737103'   \n4             b'apo25m.N7789.2M00000032+5737103'   \n...                                          ...   \n733896       b'apo25m.060-75.2M23595886-2009435'   \n733897       b'apo25m.116-04.2M23595886+5726058'   \n733898  b'apo25m.NGC7789_MGA.2M23595921+5609479'   \n733899        b'lco25m.SMC12.2M23595949-7342592'   \n733900       b'apo25m.105-45.2M23595980+1528407'   \n\n                                                APSTAR_ID  \\\n0                 b'apogee.apo1m.stars.calibration.VESTA'   \n1        b'apogee.apo25m.stars.120+12.2M00000002+7417074'   \n2        b'apogee.apo25m.stars.060-75.2M00000019-1924498'   \n3        b'apogee.apo25m.stars.116-04.2M00000032+5737103'   \n4         b'apogee.apo25m.stars.N7789.2M00000032+5737103'   \n...                                                   ...   \n733896   b'apogee.apo25m.stars.060-75.2M23595886-2009435'   \n733897   b'apogee.apo25m.stars.116-04.2M23595886+5726058'   \n733898  b'apogee.apo25m.stars.NGC7789_MGA.2M23595921+5...   \n733899    b'apogee.lco25m.stars.SMC12.2M23595949-7342592'   \n733900   b'apogee.apo25m.stars.105-45.2M23595980+1528407'   \n\n                                                ASPCAP_ID  TELESCOPE  \\\n0           b'apogee.apo1m.synspec_fix.calibration.VESTA'   b'apo1m'   \n1       b'apogee.apo25m.synspec_fix.120+12.2M00000002+...  b'apo25m'   \n2       b'apogee.apo25m.synspec_fix.060-75.2M00000019-...  b'apo25m'   \n3       b'apogee.apo25m.synspec_fix.116-04.2M00000032+...  b'apo25m'   \n4       b'apogee.apo25m.synspec_fix.N7789.2M00000032+5...  b'apo25m'   \n...                                                   ...        ...   \n733896  b'apogee.apo25m.synspec_fix.060-75.2M23595886-...  b'apo25m'   \n733897  b'apogee.apo25m.synspec_fix.116-04.2M23595886+...  b'apo25m'   \n733898  b'apogee.apo25m.synspec_fix.NGC7789_MGA.2M2359...  b'apo25m'   \n733899  b'apogee.lco25m.synspec_fix.SMC12.2M23595949-7...  b'lco25m'   \n733900  b'apogee.apo25m.synspec_fix.105-45.2M23595980+...  b'apo25m'   \n\n        LOCATION_ID           FIELD   ALT_ID          RA  ...  CU_FE_ERR  \\\n0                 1  b'calibration'     b' '         NaN  ...   0.059403   \n1              5046       b'120+12'  b'none'    0.000103  ...   0.001221   \n2              5071       b'060-75'  b'none'    0.000832  ...   0.102594   \n3              4424       b'116-04'  b'none'    0.001335  ...   0.123839   \n4              4264        b'N7789'  b'none'    0.001335  ...   0.107103   \n...             ...             ...      ...         ...  ...        ...   \n733896         5071       b'060-75'  b'none'  359.995258  ...        NaN   \n733897         4424       b'116-04'  b'none'  359.995265  ...        NaN   \n733898         -999  b'NGC7789_MGA'  b'none'  359.996744  ...        NaN   \n733899         7218        b'SMC12'  b'none'  359.997887  ...   0.174322   \n733900         4548       b'105-45'  b'none'  359.999181  ...   0.289108   \n\n        CU_FE_FLAG     CE_FE  CE_FE_SPEC  CE_FE_ERR  CE_FE_FLAG  YB_FE  \\\n0                2       NaN         NaN        NaN          64    NaN   \n1                2       NaN         NaN        NaN          64    NaN   \n2                2       NaN         NaN        NaN          64    NaN   \n3                2       NaN         NaN        NaN          64    NaN   \n4                2       NaN         NaN        NaN          64    NaN   \n...            ...       ...         ...        ...         ...    ...   \n733896         258       NaN         NaN        NaN          64    NaN   \n733897         259 -0.058750   -0.003090   0.072443           0    NaN   \n733898         259 -0.103446   -0.047786   0.097572           0    NaN   \n733899           2  0.107710    0.163370   0.140188           0    NaN   \n733900           2       NaN         NaN        NaN          64    NaN   \n\n        YB_FE_SPEC  YB_FE_ERR YB_FE_FLAG  \n0              NaN        1.0          2  \n1              NaN        1.0          2  \n2              NaN        1.0          2  \n3              NaN        1.0          2  \n4              NaN        1.0          2  \n...            ...        ...        ...  \n733896         NaN        NaN          2  \n733897         NaN        1.0          2  \n733898         NaN        1.0          2  \n733899         NaN        1.0          2  \n733900         NaN        1.0          2  \n\n[733901 rows x 215 columns]",
      "text/html": "<div>\n<style scoped>\n    .dataframe tbody tr th:only-of-type {\n        vertical-align: middle;\n    }\n\n    .dataframe tbody tr th {\n        vertical-align: top;\n    }\n\n    .dataframe thead th {\n        text-align: right;\n    }\n</style>\n<table border=\"1\" class=\"dataframe\">\n  <thead>\n    <tr style=\"text-align: right;\">\n      <th></th>\n      <th>FILE</th>\n      <th>APOGEE_ID</th>\n      <th>TARGET_ID</th>\n      <th>APSTAR_ID</th>\n      <th>ASPCAP_ID</th>\n      <th>TELESCOPE</th>\n      <th>LOCATION_ID</th>\n      <th>FIELD</th>\n      <th>ALT_ID</th>\n      <th>RA</th>\n      <th>...</th>\n      <th>CU_FE_ERR</th>\n      <th>CU_FE_FLAG</th>\n      <th>CE_FE</th>\n      <th>CE_FE_SPEC</th>\n      <th>CE_FE_ERR</th>\n      <th>CE_FE_FLAG</th>\n      <th>YB_FE</th>\n      <th>YB_FE_SPEC</th>\n      <th>YB_FE_ERR</th>\n      <th>YB_FE_FLAG</th>\n    </tr>\n  </thead>\n  <tbody>\n    <tr>\n      <th>0</th>\n      <td>b'apStar-dr17-VESTA.fits'</td>\n      <td>b'VESTA'</td>\n      <td>b'apo1m.calibration.VESTA'</td>\n      <td>b'apogee.apo1m.stars.calibration.VESTA'</td>\n      <td>b'apogee.apo1m.synspec_fix.calibration.VESTA'</td>\n      <td>b'apo1m'</td>\n      <td>1</td>\n      <td>b'calibration'</td>\n      <td>b' '</td>\n      <td>NaN</td>\n      <td>...</td>\n      <td>0.059403</td>\n      <td>2</td>\n      <td>NaN</td>\n      <td>NaN</td>\n      <td>NaN</td>\n      <td>64</td>\n      <td>NaN</td>\n      <td>NaN</td>\n      <td>1.0</td>\n      <td>2</td>\n    </tr>\n    <tr>\n      <th>1</th>\n      <td>b'apStar-dr17-2M00000002+7417074.fits'</td>\n      <td>b'2M00000002+7417074'</td>\n      <td>b'apo25m.120+12.2M00000002+7417074'</td>\n      <td>b'apogee.apo25m.stars.120+12.2M00000002+7417074'</td>\n      <td>b'apogee.apo25m.synspec_fix.120+12.2M00000002+...</td>\n      <td>b'apo25m'</td>\n      <td>5046</td>\n      <td>b'120+12'</td>\n      <td>b'none'</td>\n      <td>0.000103</td>\n      <td>...</td>\n      <td>0.001221</td>\n      <td>2</td>\n      <td>NaN</td>\n      <td>NaN</td>\n      <td>NaN</td>\n      <td>64</td>\n      <td>NaN</td>\n      <td>NaN</td>\n      <td>1.0</td>\n      <td>2</td>\n    </tr>\n    <tr>\n      <th>2</th>\n      <td>b'apStar-dr17-2M00000019-1924498.fits'</td>\n      <td>b'2M00000019-1924498'</td>\n      <td>b'apo25m.060-75.2M00000019-1924498'</td>\n      <td>b'apogee.apo25m.stars.060-75.2M00000019-1924498'</td>\n      <td>b'apogee.apo25m.synspec_fix.060-75.2M00000019-...</td>\n      <td>b'apo25m'</td>\n      <td>5071</td>\n      <td>b'060-75'</td>\n      <td>b'none'</td>\n      <td>0.000832</td>\n      <td>...</td>\n      <td>0.102594</td>\n      <td>2</td>\n      <td>NaN</td>\n      <td>NaN</td>\n      <td>NaN</td>\n      <td>64</td>\n      <td>NaN</td>\n      <td>NaN</td>\n      <td>1.0</td>\n      <td>2</td>\n    </tr>\n    <tr>\n      <th>3</th>\n      <td>b'apStar-dr17-2M00000032+5737103.fits'</td>\n      <td>b'2M00000032+5737103'</td>\n      <td>b'apo25m.116-04.2M00000032+5737103'</td>\n      <td>b'apogee.apo25m.stars.116-04.2M00000032+5737103'</td>\n      <td>b'apogee.apo25m.synspec_fix.116-04.2M00000032+...</td>\n      <td>b'apo25m'</td>\n      <td>4424</td>\n      <td>b'116-04'</td>\n      <td>b'none'</td>\n      <td>0.001335</td>\n      <td>...</td>\n      <td>0.123839</td>\n      <td>2</td>\n      <td>NaN</td>\n      <td>NaN</td>\n      <td>NaN</td>\n      <td>64</td>\n      <td>NaN</td>\n      <td>NaN</td>\n      <td>1.0</td>\n      <td>2</td>\n    </tr>\n    <tr>\n      <th>4</th>\n      <td>b'apStar-dr17-2M00000032+5737103.fits'</td>\n      <td>b'2M00000032+5737103'</td>\n      <td>b'apo25m.N7789.2M00000032+5737103'</td>\n      <td>b'apogee.apo25m.stars.N7789.2M00000032+5737103'</td>\n      <td>b'apogee.apo25m.synspec_fix.N7789.2M00000032+5...</td>\n      <td>b'apo25m'</td>\n      <td>4264</td>\n      <td>b'N7789'</td>\n      <td>b'none'</td>\n      <td>0.001335</td>\n      <td>...</td>\n      <td>0.107103</td>\n      <td>2</td>\n      <td>NaN</td>\n      <td>NaN</td>\n      <td>NaN</td>\n      <td>64</td>\n      <td>NaN</td>\n      <td>NaN</td>\n      <td>1.0</td>\n      <td>2</td>\n    </tr>\n    <tr>\n      <th>...</th>\n      <td>...</td>\n      <td>...</td>\n      <td>...</td>\n      <td>...</td>\n      <td>...</td>\n      <td>...</td>\n      <td>...</td>\n      <td>...</td>\n      <td>...</td>\n      <td>...</td>\n      <td>...</td>\n      <td>...</td>\n      <td>...</td>\n      <td>...</td>\n      <td>...</td>\n      <td>...</td>\n      <td>...</td>\n      <td>...</td>\n      <td>...</td>\n      <td>...</td>\n      <td>...</td>\n    </tr>\n    <tr>\n      <th>733896</th>\n      <td>b'apStar-dr17-2M23595886-2009435.fits'</td>\n      <td>b'2M23595886-2009435'</td>\n      <td>b'apo25m.060-75.2M23595886-2009435'</td>\n      <td>b'apogee.apo25m.stars.060-75.2M23595886-2009435'</td>\n      <td>b'apogee.apo25m.synspec_fix.060-75.2M23595886-...</td>\n      <td>b'apo25m'</td>\n      <td>5071</td>\n      <td>b'060-75'</td>\n      <td>b'none'</td>\n      <td>359.995258</td>\n      <td>...</td>\n      <td>NaN</td>\n      <td>258</td>\n      <td>NaN</td>\n      <td>NaN</td>\n      <td>NaN</td>\n      <td>64</td>\n      <td>NaN</td>\n      <td>NaN</td>\n      <td>NaN</td>\n      <td>2</td>\n    </tr>\n    <tr>\n      <th>733897</th>\n      <td>b'apStar-dr17-2M23595886+5726058.fits'</td>\n      <td>b'2M23595886+5726058'</td>\n      <td>b'apo25m.116-04.2M23595886+5726058'</td>\n      <td>b'apogee.apo25m.stars.116-04.2M23595886+5726058'</td>\n      <td>b'apogee.apo25m.synspec_fix.116-04.2M23595886+...</td>\n      <td>b'apo25m'</td>\n      <td>4424</td>\n      <td>b'116-04'</td>\n      <td>b'none'</td>\n      <td>359.995265</td>\n      <td>...</td>\n      <td>NaN</td>\n      <td>259</td>\n      <td>-0.058750</td>\n      <td>-0.003090</td>\n      <td>0.072443</td>\n      <td>0</td>\n      <td>NaN</td>\n      <td>NaN</td>\n      <td>1.0</td>\n      <td>2</td>\n    </tr>\n    <tr>\n      <th>733898</th>\n      <td>b'apStar-dr17-2M23595921+5609479.fits'</td>\n      <td>b'2M23595921+5609479'</td>\n      <td>b'apo25m.NGC7789_MGA.2M23595921+5609479'</td>\n      <td>b'apogee.apo25m.stars.NGC7789_MGA.2M23595921+5...</td>\n      <td>b'apogee.apo25m.synspec_fix.NGC7789_MGA.2M2359...</td>\n      <td>b'apo25m'</td>\n      <td>-999</td>\n      <td>b'NGC7789_MGA'</td>\n      <td>b'none'</td>\n      <td>359.996744</td>\n      <td>...</td>\n      <td>NaN</td>\n      <td>259</td>\n      <td>-0.103446</td>\n      <td>-0.047786</td>\n      <td>0.097572</td>\n      <td>0</td>\n      <td>NaN</td>\n      <td>NaN</td>\n      <td>1.0</td>\n      <td>2</td>\n    </tr>\n    <tr>\n      <th>733899</th>\n      <td>b'asStar-dr17-2M23595949-7342592.fits'</td>\n      <td>b'2M23595949-7342592'</td>\n      <td>b'lco25m.SMC12.2M23595949-7342592'</td>\n      <td>b'apogee.lco25m.stars.SMC12.2M23595949-7342592'</td>\n      <td>b'apogee.lco25m.synspec_fix.SMC12.2M23595949-7...</td>\n      <td>b'lco25m'</td>\n      <td>7218</td>\n      <td>b'SMC12'</td>\n      <td>b'none'</td>\n      <td>359.997887</td>\n      <td>...</td>\n      <td>0.174322</td>\n      <td>2</td>\n      <td>0.107710</td>\n      <td>0.163370</td>\n      <td>0.140188</td>\n      <td>0</td>\n      <td>NaN</td>\n      <td>NaN</td>\n      <td>1.0</td>\n      <td>2</td>\n    </tr>\n    <tr>\n      <th>733900</th>\n      <td>b'apStar-dr17-2M23595980+1528407.fits'</td>\n      <td>b'2M23595980+1528407'</td>\n      <td>b'apo25m.105-45.2M23595980+1528407'</td>\n      <td>b'apogee.apo25m.stars.105-45.2M23595980+1528407'</td>\n      <td>b'apogee.apo25m.synspec_fix.105-45.2M23595980+...</td>\n      <td>b'apo25m'</td>\n      <td>4548</td>\n      <td>b'105-45'</td>\n      <td>b'none'</td>\n      <td>359.999181</td>\n      <td>...</td>\n      <td>0.289108</td>\n      <td>2</td>\n      <td>NaN</td>\n      <td>NaN</td>\n      <td>NaN</td>\n      <td>64</td>\n      <td>NaN</td>\n      <td>NaN</td>\n      <td>1.0</td>\n      <td>2</td>\n    </tr>\n  </tbody>\n</table>\n<p>733901 rows × 215 columns</p>\n</div>"
     },
     "execution_count": 4,
     "metadata": {},
     "output_type": "execute_result"
    }
   ],
   "source": [
    "apogee = Table.read(\"RawData/allStar-dr17-synspec_rev1.fits\", format=\"fits\", hdu=1)\n",
    "names = [name for name in apogee.colnames if len(apogee[name].shape) <= 1]\n",
    "apogee = apogee[names].to_pandas()\n",
    "galah"
   ]
  },
  {
   "cell_type": "markdown",
   "metadata": {},
   "source": [
    "For APOGEE, we do something similar by making sure all the parameters are working on are good.\n",
    "More information can be found [SDSS explanantion of bitmasks](https://www.sdss.org/dr13/algorithms/bitmasks/#APOGEE_ASPCAPFLAG) and [SDSS recommendations for bitmasks](https://www.sdss.org/dr13/irspec/abundances/)\n",
    "\n",
    "The parameters\n",
    "- `ASPCAPFLAG & STAR_BAD == 0` (`STAR_BAD` is the 23rd bit (starting from 0), or  `STAR_BAD = 0b 1000 0000 0000 0000 0000 0000`)\n",
    "    - `STAR_BAD` is a general indication of whether there are issues with measuring surface temperature, surface gravity, and check if any elements have `GRIDEDGE_BAD` set\n",
    "- `ELEMFLAG`\n",
    "    - Any example of this is `FE_H_FLAG`\n",
    "        - Make sure that the flag does not contain `GRIDEDGE_BAD`, `GRIDEDGE_WARN` and `CALRANGE_BAD`\n",
    "    - We should just check that the flag is equal to zero to eliminate all and any problematic behaviour"
   ]
  },
  {
   "cell_type": "code",
   "execution_count": 4,
   "metadata": {},
   "outputs": [],
   "source": [
    "# Filter the data\n",
    "STAR_BAD = 1 << 23\n",
    "apogee = apogee.loc[apogee['ASPCAPFLAG'] & STAR_BAD == 0]\n",
    "apogee = apogee.loc[apogee['FE_H_FLAG'] == 0]\n",
    "apogee = apogee.loc[apogee['C_FE_FLAG'] == 0]\n",
    "apogee = apogee.loc[apogee['AL_FE_FLAG'] == 0]\n",
    "apogee = apogee.loc[apogee['N_FE_FLAG'] == 0]\n",
    "apogee = apogee.loc[apogee['O_FE_FLAG'] == 0]\n",
    "apogee = apogee.dropna()\n"
   ]
  },
  {
   "cell_type": "markdown",
   "metadata": {},
   "source": [
    "Extract the useful column and save for later"
   ]
  },
  {
   "cell_type": "code",
   "execution_count": null,
   "metadata": {
    "pycharm": {
     "is_executing": true
    }
   },
   "outputs": [],
   "source": [
    "apogee = apogee[[\"APOGEE_ID\",\"TEFF\", \"LOGG\", \"FE_H\", \"AL_FE\", \"C_FE\", \"N_FE\", \"O_FE\"]]\n",
    "apogee.columns = apogee.columns.str.lower()\n",
    "apogee.to_csv(\"ProcessedData/cleaned_apogee.csv\", index=False)"
   ]
  },
  {
   "cell_type": "markdown",
   "metadata": {},
   "source": [
    "# Cleaning APOKSAC 2 Data\n",
    "\n"
   ]
  },
  {
   "cell_type": "code",
   "execution_count": 14,
   "outputs": [],
   "source": [
    "apoksac_cols = [\"kic\", \"tmass_id\", \"mass\"]\n",
    "apoksac_col_width = [(0, 9), (9, 26), (27, 39)]\n",
    "\n",
    "apoksac = pd.read_fwf(\n",
    "    \"RawData/asu.tsv\",\n",
    "    skiprows=42,\n",
    "    header=None,\n",
    "    index_col=False,\n",
    "    names = apoksac_cols,\n",
    "    colspecs = apoksac_col_width\n",
    ")\n",
    "apoksac = apoksac[0:6676]\n",
    "apoksac = apoksac.dropna()\n"
   ],
   "metadata": {
    "collapsed": false
   }
  },
  {
   "cell_type": "code",
   "execution_count": 15,
   "outputs": [],
   "source": [
    "apoksac.to_csv(\"ProcessedData/cleaned_apoksac.csv\", index=False)"
   ],
   "metadata": {
    "collapsed": false
   }
  },
  {
   "cell_type": "markdown",
   "source": [
    "Match APOKSAC data with APOGEE data"
   ],
   "metadata": {
    "collapsed": false
   }
  },
  {
   "cell_type": "code",
   "execution_count": 16,
   "outputs": [],
   "source": [
    "apogee = pd.read_csv(\"ProcessedData/cleaned_apogee.csv\")\n",
    "apogee = apogee[1:len(apogee)]"
   ],
   "metadata": {
    "collapsed": false
   }
  },
  {
   "cell_type": "code",
   "execution_count": 17,
   "outputs": [],
   "source": [
    "# Manipulate APOGEE id to 2MASS id\n",
    "apogee = apogee.rename(columns = {\"apogee_id\": \"tmass_id\"})\n",
    "apogee.tmass_id = apogee.tmass_id.str[4:-1]\n",
    "apogee.to_csv(\"ProcessedData/cleaned_apogee.csv\", index=False)"
   ],
   "metadata": {
    "collapsed": false
   }
  },
  {
   "cell_type": "markdown",
   "source": [
    "Now that we have separated the APOGEE and APOKSAC data, we need to merge them and save."
   ],
   "metadata": {
    "collapsed": false
   }
  },
  {
   "cell_type": "code",
   "execution_count": 18,
   "outputs": [],
   "source": [
    "apoksac = pd.read_csv(\"ProcessedData/cleaned_apoksac.csv\")\n",
    "apogee = pd.read_csv(\"ProcessedData/cleaned_apogee.csv\")"
   ],
   "metadata": {
    "collapsed": false
   }
  },
  {
   "cell_type": "code",
   "execution_count": 19,
   "outputs": [],
   "source": [
    "apoksac_mass_prediction_data = pd.merge(apogee, apoksac, on=\"tmass_id\")\n",
    "apoksac_mass_prediction_data.to_csv(\"ProcessedData/mass_prediction_apoksac.csv\", index=False)"
   ],
   "metadata": {
    "collapsed": false
   }
  },
  {
   "cell_type": "markdown",
   "metadata": {},
   "source": [
    "# Cleaning K2 Data\n",
    "To do so, we need to\n",
    "\n",
    "1. extract the mass coefficient from the data set\n",
    "2. find the effective temperature by finding the data in the GALAH data set by matching the EPIC identifier\n",
    "3. determine the mass\n",
    "4. extract the chemical composition of stars\n",
    "5. store the data for use\n",
    "\n",
    "For the purpose of this, we will keep the mass of stars as a multiple of solar mass."
   ]
  },
  {
   "cell_type": "code",
   "execution_count": 127,
   "metadata": {},
   "outputs": [
    {
     "data": {
      "text/plain": "            EPIC kappa-m-c\n0      201051625     1.324\n1      201079541     1.523\n2      201082897     1.027\n3      201084449     1.544\n4      201084664     1.076\n...          ...       ...\n18817  251619708     0.880\n18818  251620873     0.663\n18819  251621333     1.193\n18820  251622742     1.497\n18821  251630759     1.274\n\n[18822 rows x 2 columns]",
      "text/html": "<div>\n<style scoped>\n    .dataframe tbody tr th:only-of-type {\n        vertical-align: middle;\n    }\n\n    .dataframe tbody tr th {\n        vertical-align: top;\n    }\n\n    .dataframe thead th {\n        text-align: right;\n    }\n</style>\n<table border=\"1\" class=\"dataframe\">\n  <thead>\n    <tr style=\"text-align: right;\">\n      <th></th>\n      <th>EPIC</th>\n      <th>kappa-m-c</th>\n    </tr>\n  </thead>\n  <tbody>\n    <tr>\n      <th>0</th>\n      <td>201051625</td>\n      <td>1.324</td>\n    </tr>\n    <tr>\n      <th>1</th>\n      <td>201079541</td>\n      <td>1.523</td>\n    </tr>\n    <tr>\n      <th>2</th>\n      <td>201082897</td>\n      <td>1.027</td>\n    </tr>\n    <tr>\n      <th>3</th>\n      <td>201084449</td>\n      <td>1.544</td>\n    </tr>\n    <tr>\n      <th>4</th>\n      <td>201084664</td>\n      <td>1.076</td>\n    </tr>\n    <tr>\n      <th>...</th>\n      <td>...</td>\n      <td>...</td>\n    </tr>\n    <tr>\n      <th>18817</th>\n      <td>251619708</td>\n      <td>0.880</td>\n    </tr>\n    <tr>\n      <th>18818</th>\n      <td>251620873</td>\n      <td>0.663</td>\n    </tr>\n    <tr>\n      <th>18819</th>\n      <td>251621333</td>\n      <td>1.193</td>\n    </tr>\n    <tr>\n      <th>18820</th>\n      <td>251622742</td>\n      <td>1.497</td>\n    </tr>\n    <tr>\n      <th>18821</th>\n      <td>251630759</td>\n      <td>1.274</td>\n    </tr>\n  </tbody>\n</table>\n<p>18822 rows × 2 columns</p>\n</div>"
     },
     "execution_count": 127,
     "metadata": {},
     "output_type": "execute_result"
    }
   ],
   "source": [
    "k2_cols = [\"EPIC\", \"kappa-m-c\"]\n",
    "k2_col_width = [(0, 9), (24, 29)]\n",
    "\n",
    "k2 = pd.read_fwf(\n",
    "    \"RawData/k2_mass_coefficients.txt\",\n",
    "    skiprows=50,\n",
    "    header=None,\n",
    "    index_col=False,\n",
    "    names = k2_cols,\n",
    "    colspecs = k2_col_width\n",
    ")\n",
    "# According to the International Astronomical Union (IAU), effective temperature of the sun is 5772 +- 0.8K\n",
    "teff_sun = 5772\n",
    "k2"
   ]
  },
  {
   "cell_type": "markdown",
   "source": [
    "Using Astroquery to create the link between EPIC id and GALAH's 2MASS id and source_id."
   ],
   "metadata": {
    "collapsed": false
   }
  },
  {
   "cell_type": "code",
   "execution_count": 70,
   "outputs": [
    {
     "name": "stdout",
     "output_type": "stream",
     "text": [
      "Retrieving table 'gaiadr3.gaia_source'\n"
     ]
    }
   ],
   "source": [
    "gaiadr3_table = Gaia.load_table('gaiadr3.gaia_source')"
   ],
   "metadata": {
    "collapsed": false
   }
  },
  {
   "cell_type": "code",
   "execution_count": 84,
   "outputs": [
    {
     "name": "stdout",
     "output_type": "stream",
     "text": [
      "TAP Table name: gaiadr3.gaiadr3.gaia_source\n",
      "Description: This table has an entry for every Gaia observed source as published with this data release. It contains the basic source parameters, in their final state as processed by the Gaia Data Processing and Analysis Consortium from the raw data coming from the spacecraft. The table is complemented with others containing information specific to certain kinds of objects (e.g.~Solar--system objects, non--single stars, variables etc.) and value--added processing (e.g.~astrophysical parameters etc.). Further array data types (spectra, epoch measurements) are presented separately via Datalink resources.\n",
      "Num. columns: 152\n",
      "solution_id\n",
      "designation\n",
      "source_id\n",
      "random_index\n",
      "ref_epoch\n",
      "ra\n",
      "ra_error\n",
      "dec\n",
      "dec_error\n",
      "parallax\n",
      "parallax_error\n",
      "parallax_over_error\n",
      "pm\n",
      "pmra\n",
      "pmra_error\n",
      "pmdec\n",
      "pmdec_error\n",
      "ra_dec_corr\n",
      "ra_parallax_corr\n",
      "ra_pmra_corr\n",
      "ra_pmdec_corr\n",
      "dec_parallax_corr\n",
      "dec_pmra_corr\n",
      "dec_pmdec_corr\n",
      "parallax_pmra_corr\n",
      "parallax_pmdec_corr\n",
      "pmra_pmdec_corr\n",
      "astrometric_n_obs_al\n",
      "astrometric_n_obs_ac\n",
      "astrometric_n_good_obs_al\n",
      "astrometric_n_bad_obs_al\n",
      "astrometric_gof_al\n",
      "astrometric_chi2_al\n",
      "astrometric_excess_noise\n",
      "astrometric_excess_noise_sig\n",
      "astrometric_params_solved\n",
      "astrometric_primary_flag\n",
      "nu_eff_used_in_astrometry\n",
      "pseudocolour\n",
      "pseudocolour_error\n",
      "ra_pseudocolour_corr\n",
      "dec_pseudocolour_corr\n",
      "parallax_pseudocolour_corr\n",
      "pmra_pseudocolour_corr\n",
      "pmdec_pseudocolour_corr\n",
      "astrometric_matched_transits\n",
      "visibility_periods_used\n",
      "astrometric_sigma5d_max\n",
      "matched_transits\n",
      "new_matched_transits\n",
      "matched_transits_removed\n",
      "ipd_gof_harmonic_amplitude\n",
      "ipd_gof_harmonic_phase\n",
      "ipd_frac_multi_peak\n",
      "ipd_frac_odd_win\n",
      "ruwe\n",
      "scan_direction_strength_k1\n",
      "scan_direction_strength_k2\n",
      "scan_direction_strength_k3\n",
      "scan_direction_strength_k4\n",
      "scan_direction_mean_k1\n",
      "scan_direction_mean_k2\n",
      "scan_direction_mean_k3\n",
      "scan_direction_mean_k4\n",
      "duplicated_source\n",
      "phot_g_n_obs\n",
      "phot_g_mean_flux\n",
      "phot_g_mean_flux_error\n",
      "phot_g_mean_flux_over_error\n",
      "phot_g_mean_mag\n",
      "phot_bp_n_obs\n",
      "phot_bp_mean_flux\n",
      "phot_bp_mean_flux_error\n",
      "phot_bp_mean_flux_over_error\n",
      "phot_bp_mean_mag\n",
      "phot_rp_n_obs\n",
      "phot_rp_mean_flux\n",
      "phot_rp_mean_flux_error\n",
      "phot_rp_mean_flux_over_error\n",
      "phot_rp_mean_mag\n",
      "phot_bp_rp_excess_factor\n",
      "phot_bp_n_contaminated_transits\n",
      "phot_bp_n_blended_transits\n",
      "phot_rp_n_contaminated_transits\n",
      "phot_rp_n_blended_transits\n",
      "phot_proc_mode\n",
      "bp_rp\n",
      "bp_g\n",
      "g_rp\n",
      "radial_velocity\n",
      "radial_velocity_error\n",
      "rv_method_used\n",
      "rv_nb_transits\n",
      "rv_nb_deblended_transits\n",
      "rv_visibility_periods_used\n",
      "rv_expected_sig_to_noise\n",
      "rv_renormalised_gof\n",
      "rv_chisq_pvalue\n",
      "rv_time_duration\n",
      "rv_amplitude_robust\n",
      "rv_template_teff\n",
      "rv_template_logg\n",
      "rv_template_fe_h\n",
      "rv_atm_param_origin\n",
      "vbroad\n",
      "vbroad_error\n",
      "vbroad_nb_transits\n",
      "grvs_mag\n",
      "grvs_mag_error\n",
      "grvs_mag_nb_transits\n",
      "rvs_spec_sig_to_noise\n",
      "phot_variable_flag\n",
      "l\n",
      "b\n",
      "ecl_lon\n",
      "ecl_lat\n",
      "in_qso_candidates\n",
      "in_galaxy_candidates\n",
      "non_single_star\n",
      "has_xp_continuous\n",
      "has_xp_sampled\n",
      "has_rvs\n",
      "has_epoch_photometry\n",
      "has_epoch_rv\n",
      "has_mcmc_gspphot\n",
      "has_mcmc_msc\n",
      "in_andromeda_survey\n",
      "classprob_dsc_combmod_quasar\n",
      "classprob_dsc_combmod_galaxy\n",
      "classprob_dsc_combmod_star\n",
      "teff_gspphot\n",
      "teff_gspphot_lower\n",
      "teff_gspphot_upper\n",
      "logg_gspphot\n",
      "logg_gspphot_lower\n",
      "logg_gspphot_upper\n",
      "mh_gspphot\n",
      "mh_gspphot_lower\n",
      "mh_gspphot_upper\n",
      "distance_gspphot\n",
      "distance_gspphot_lower\n",
      "distance_gspphot_upper\n",
      "azero_gspphot\n",
      "azero_gspphot_lower\n",
      "azero_gspphot_upper\n",
      "ag_gspphot\n",
      "ag_gspphot_lower\n",
      "ag_gspphot_upper\n",
      "ebpminrp_gspphot\n",
      "ebpminrp_gspphot_lower\n",
      "ebpminrp_gspphot_upper\n",
      "libname_gspphot\n"
     ]
    }
   ],
   "source": [
    "print(gaiadr3_table)\n",
    "for column in gaiadr3_table.columns:\n",
    "    print(column.name)"
   ],
   "metadata": {
    "collapsed": false
   }
  },
  {
   "cell_type": "code",
   "execution_count": 125,
   "outputs": [],
   "source": [
    "gaia.MAIN_GAIA_TABLE = \"gaiaedr3.gaia_source\"\n",
    "gaia = TapPlus(url=\"https://gea.esac.esa.int/tap-server/tap\")\n",
    "\n",
    "job = gaia.launch_job(\"select top 730000 \\\n",
    "    solution_id, source_id, designation \\\n",
    "    from gaiadr3.gaia_source order by source_id\")\n",
    "r = job.get_results()"
   ],
   "metadata": {
    "collapsed": false
   }
  },
  {
   "cell_type": "code",
   "execution_count": 126,
   "outputs": [
    {
     "name": "stdout",
     "output_type": "stream",
     "text": [
      "                solution_id          source_id                 DESIGNATION\n",
      "0       1636148068921376768         4295806720         Gaia DR3 4295806720\n",
      "1       1636148068921376768        34361129088        Gaia DR3 34361129088\n",
      "2       1636148068921376768        38655544960        Gaia DR3 38655544960\n",
      "3       1636148068921376768       309238066432       Gaia DR3 309238066432\n",
      "4       1636148068921376768       343597448960       Gaia DR3 343597448960\n",
      "...                     ...                ...                         ...\n",
      "729995  1636148068921376768  36153007473736320  Gaia DR3 36153007473736320\n",
      "729996  1636148068921376768  36153110552919808  Gaia DR3 36153110552919808\n",
      "729997  1636148068921376768  36153183569299840  Gaia DR3 36153183569299840\n",
      "729998  1636148068921376768  36153213632154880  Gaia DR3 36153213632154880\n",
      "729999  1636148068921376768  36153217926627456  Gaia DR3 36153217926627456\n",
      "\n",
      "[730000 rows x 3 columns]\n"
     ]
    }
   ],
   "source": [
    "r = r.to_pandas()\n",
    "print(r)"
   ],
   "metadata": {
    "collapsed": false
   }
  },
  {
   "cell_type": "markdown",
   "metadata": {},
   "source": [
    "To determine the mass for K2 stars, we use the following formula (from K2 Galactic Archaeology Program DR3):\n",
    "\n",
    "$$ \\frac{M}{M_\\odot} = \\kappa_M (\\frac{T_{eff}}{T_{eff, \\odot}})^{3/2} $$\n",
    "\n",
    "To do so, we will use [gaia-kepler.fun](https://gaia-kepler.fun) in order to determine the link K2 and GALAH data\n",
    "- More information of the tables in the data set is given by [this documentation](https://exoplanetarchive.ipac.caltech.edu/docs/API_keplerstellar_columns.html)\n",
    "- To do this, we will first match the K2 data with the `k2ToGaia`\n",
    "\n"
   ]
  },
  {
   "cell_type": "code",
   "execution_count": 22,
   "outputs": [
    {
     "name": "stderr",
     "output_type": "stream",
     "text": [
      "WARNING: UnitsWarning: 'log(cm.s**-2)' did not parse as fits unit: 'log' is not a recognized function If this is meant to be a custom unit, define it with 'u.def_unit'. To have it recognized inside a file reader or other code, enable it with 'u.add_enabled_units'. For details, see https://docs.astropy.org/en/latest/units/combining_and_defining.html [astropy.units.core]\n",
      "WARNING: UnitsWarning: 'dex' did not parse as fits unit: At col 0, Unit 'dex' not supported by the FITS standard.  If this is meant to be a custom unit, define it with 'u.def_unit'. To have it recognized inside a file reader or other code, enable it with 'u.add_enabled_units'. For details, see https://docs.astropy.org/en/latest/units/combining_and_defining.html [astropy.units.core]\n"
     ]
    }
   ],
   "source": [
    "k2ToGaia = Table.read(\"RawData/kepler_dr3_good.fits\", format = \"fits\")\n",
    "names = [name for name in k2ToGaia.colnames if len(k2ToGaia[name].shape) <= 1]\n",
    "k2ToGaia = k2ToGaia[names].to_pandas()"
   ],
   "metadata": {
    "collapsed": false
   }
  },
  {
   "cell_type": "code",
   "execution_count": 23,
   "outputs": [
    {
     "data": {
      "text/plain": "Index(['kepid', 'ra_kic', 'dec_kic', 'source_id', 'random_index', 'ra', 'dec',\n       'parallax', 'parallax_error', 'parallax_over_error', 'pmra',\n       'pmra_error', 'pmdec', 'pmdec_error', 'astrometric_params_solved',\n       'pseudocolour', 'pseudocolour_error', 'ipd_frac_multi_peak',\n       'ipd_frac_odd_win', 'ruwe', 'phot_g_mean_flux_over_error',\n       'phot_g_mean_mag', 'phot_bp_mean_flux_over_error', 'phot_bp_mean_mag',\n       'phot_rp_mean_flux_over_error', 'phot_rp_mean_mag',\n       'phot_bp_rp_excess_factor', 'bp_rp', 'radial_velocity',\n       'radial_velocity_error', 'rv_nb_transits', 'rv_expected_sig_to_noise',\n       'rv_renormalised_gof', 'rv_chisq_pvalue', 'phot_variable_flag', 'l',\n       'b', 'in_qso_candidates', 'in_galaxy_candidates', 'non_single_star',\n       'has_xp_continuous', 'has_xp_sampled', 'has_rvs',\n       'has_epoch_photometry', 'has_epoch_rv', 'has_mcmc_gspphot',\n       'has_mcmc_msc', 'in_andromeda_survey', 'teff_gspphot', 'logg_gspphot',\n       'mh_gspphot', 'distance_gspphot', 'ag_gspphot', 'ebpminrp_gspphot',\n       'angdist', 'kepler_gaia_ang_dist', 'pm_corrected', 'tm_designation',\n       'kepmag', 'teff', 'teff_err1', 'teff_err2', 'teff_prov', 'logg',\n       'logg_err1', 'logg_err2', 'logg_prov', 'feh', 'feh_err1', 'feh_err2',\n       'feh_prov', 'radius', 'radius_err1', 'radius_err2', 'mass', 'mass_err1',\n       'mass_err2', 'prov_sec', 'nconfp', 'nkoi', 'ntce', 'jmag', 'hmag',\n       'kmag', 'planet?', 'kepler_gaia_mag_diff'],\n      dtype='object')"
     },
     "execution_count": 23,
     "metadata": {},
     "output_type": "execute_result"
    }
   ],
   "source": [
    "k2ToGaia.columns"
   ],
   "metadata": {
    "collapsed": false
   }
  },
  {
   "cell_type": "code",
   "execution_count": 24,
   "outputs": [
    {
     "data": {
      "text/plain": "                    tm_designation     kepid            source_id\n0       b'2MASS J19240929+3635532'    757076  2050233803028318080\n1       b'2MASS J19241033+3635377'    757099  2050233601176543104\n2       b'2MASS J19241341+3633358'    757137  2050230543159814656\n3       b'2MASS J19242289+3633538'    757280  2050230611879323904\n4       b'2MASS J19243302+3634385'    757450  2050231848829944320\n...                            ...       ...                  ...\n196757  b'2MASS J19201916+5227134'  12984227  2139330189463960320\n196758  b'2MASS J19202700+5224561'  12984288  2139329875927860736\n196759  b'2MASS J19202959+5228286'  12984307  2139330636140575616\n196760  b'2MASS J19204135+5225258'  12984404  2139329467909467008\n196761  b'2MASS J19204420+5224157'  12984422  2139329399189739392\n\n[196762 rows x 3 columns]",
      "text/html": "<div>\n<style scoped>\n    .dataframe tbody tr th:only-of-type {\n        vertical-align: middle;\n    }\n\n    .dataframe tbody tr th {\n        vertical-align: top;\n    }\n\n    .dataframe thead th {\n        text-align: right;\n    }\n</style>\n<table border=\"1\" class=\"dataframe\">\n  <thead>\n    <tr style=\"text-align: right;\">\n      <th></th>\n      <th>tm_designation</th>\n      <th>kepid</th>\n      <th>source_id</th>\n    </tr>\n  </thead>\n  <tbody>\n    <tr>\n      <th>0</th>\n      <td>b'2MASS J19240929+3635532'</td>\n      <td>757076</td>\n      <td>2050233803028318080</td>\n    </tr>\n    <tr>\n      <th>1</th>\n      <td>b'2MASS J19241033+3635377'</td>\n      <td>757099</td>\n      <td>2050233601176543104</td>\n    </tr>\n    <tr>\n      <th>2</th>\n      <td>b'2MASS J19241341+3633358'</td>\n      <td>757137</td>\n      <td>2050230543159814656</td>\n    </tr>\n    <tr>\n      <th>3</th>\n      <td>b'2MASS J19242289+3633538'</td>\n      <td>757280</td>\n      <td>2050230611879323904</td>\n    </tr>\n    <tr>\n      <th>4</th>\n      <td>b'2MASS J19243302+3634385'</td>\n      <td>757450</td>\n      <td>2050231848829944320</td>\n    </tr>\n    <tr>\n      <th>...</th>\n      <td>...</td>\n      <td>...</td>\n      <td>...</td>\n    </tr>\n    <tr>\n      <th>196757</th>\n      <td>b'2MASS J19201916+5227134'</td>\n      <td>12984227</td>\n      <td>2139330189463960320</td>\n    </tr>\n    <tr>\n      <th>196758</th>\n      <td>b'2MASS J19202700+5224561'</td>\n      <td>12984288</td>\n      <td>2139329875927860736</td>\n    </tr>\n    <tr>\n      <th>196759</th>\n      <td>b'2MASS J19202959+5228286'</td>\n      <td>12984307</td>\n      <td>2139330636140575616</td>\n    </tr>\n    <tr>\n      <th>196760</th>\n      <td>b'2MASS J19204135+5225258'</td>\n      <td>12984404</td>\n      <td>2139329467909467008</td>\n    </tr>\n    <tr>\n      <th>196761</th>\n      <td>b'2MASS J19204420+5224157'</td>\n      <td>12984422</td>\n      <td>2139329399189739392</td>\n    </tr>\n  </tbody>\n</table>\n<p>196762 rows × 3 columns</p>\n</div>"
     },
     "execution_count": 24,
     "metadata": {},
     "output_type": "execute_result"
    }
   ],
   "source": [
    "k2ToGaia = k2ToGaia[[\"tm_designation\", \"kepid\", \"source_id\"]]\n",
    "k2ToGaia"
   ],
   "metadata": {
    "collapsed": false
   }
  },
  {
   "cell_type": "code",
   "execution_count": 25,
   "outputs": [
    {
     "data": {
      "text/plain": "                  tmass_id    gaiadr3_source_id       teff      logg  \\\n0      b'05225435-5857055'  4762753422822077184  4747.2780  2.502026   \n1      b'05242161-5901319'  4762739782006427648  5007.8013  4.504993   \n2      b'05221820-5902598'  4762730882833911808  4801.3870  4.519791   \n3      b'05215205-5900418'  4762731226431207168  4970.5674  3.456641   \n4      b'05222284-5903420'  4762727927896411392  5278.6343  4.480108   \n...                    ...                  ...        ...       ...   \n72116  b'08460664-4312461'  5524054930300489088  4604.0527  2.628620   \n72117  b'08431567-4230079'  5524898599314763136  4921.5170  3.204505   \n72118  b'08433930-4230037'  5524851114156313600  4544.5430  2.545092   \n72119  b'08444698-4217078'  5524953604957635456  4600.7554  4.267867   \n72120  b'08464041-4205267'  5524947901240914176  5028.0234  2.762224   \n\n           fe_h     al_fe      c_fe      n_fe      o_fe  \n0     -0.295569  0.242639  0.114089  0.048963  0.213739  \n1      0.065576  0.186914 -0.039235  0.194514 -0.380775  \n2     -0.054487 -0.114537 -0.167340 -0.317684 -0.461599  \n3     -0.314558 -0.047509  0.278630  0.263258  0.441423  \n4      0.221903  0.212420  0.019690  0.207750 -0.092077  \n...         ...       ...       ...       ...       ...  \n72116 -0.104896  0.592156  0.581064  0.267382  0.860856  \n72117  0.015238  0.146001  0.029876  0.221036  0.257410  \n72118  0.151254  0.061476  0.121679 -0.072001  0.024033  \n72119  0.027199 -0.284221  0.148993  0.315737  0.339467  \n72120  0.054385  0.085140 -0.281388  0.341346 -0.391056  \n\n[72121 rows x 9 columns]",
      "text/html": "<div>\n<style scoped>\n    .dataframe tbody tr th:only-of-type {\n        vertical-align: middle;\n    }\n\n    .dataframe tbody tr th {\n        vertical-align: top;\n    }\n\n    .dataframe thead th {\n        text-align: right;\n    }\n</style>\n<table border=\"1\" class=\"dataframe\">\n  <thead>\n    <tr style=\"text-align: right;\">\n      <th></th>\n      <th>tmass_id</th>\n      <th>gaiadr3_source_id</th>\n      <th>teff</th>\n      <th>logg</th>\n      <th>fe_h</th>\n      <th>al_fe</th>\n      <th>c_fe</th>\n      <th>n_fe</th>\n      <th>o_fe</th>\n    </tr>\n  </thead>\n  <tbody>\n    <tr>\n      <th>0</th>\n      <td>b'05225435-5857055'</td>\n      <td>4762753422822077184</td>\n      <td>4747.2780</td>\n      <td>2.502026</td>\n      <td>-0.295569</td>\n      <td>0.242639</td>\n      <td>0.114089</td>\n      <td>0.048963</td>\n      <td>0.213739</td>\n    </tr>\n    <tr>\n      <th>1</th>\n      <td>b'05242161-5901319'</td>\n      <td>4762739782006427648</td>\n      <td>5007.8013</td>\n      <td>4.504993</td>\n      <td>0.065576</td>\n      <td>0.186914</td>\n      <td>-0.039235</td>\n      <td>0.194514</td>\n      <td>-0.380775</td>\n    </tr>\n    <tr>\n      <th>2</th>\n      <td>b'05221820-5902598'</td>\n      <td>4762730882833911808</td>\n      <td>4801.3870</td>\n      <td>4.519791</td>\n      <td>-0.054487</td>\n      <td>-0.114537</td>\n      <td>-0.167340</td>\n      <td>-0.317684</td>\n      <td>-0.461599</td>\n    </tr>\n    <tr>\n      <th>3</th>\n      <td>b'05215205-5900418'</td>\n      <td>4762731226431207168</td>\n      <td>4970.5674</td>\n      <td>3.456641</td>\n      <td>-0.314558</td>\n      <td>-0.047509</td>\n      <td>0.278630</td>\n      <td>0.263258</td>\n      <td>0.441423</td>\n    </tr>\n    <tr>\n      <th>4</th>\n      <td>b'05222284-5903420'</td>\n      <td>4762727927896411392</td>\n      <td>5278.6343</td>\n      <td>4.480108</td>\n      <td>0.221903</td>\n      <td>0.212420</td>\n      <td>0.019690</td>\n      <td>0.207750</td>\n      <td>-0.092077</td>\n    </tr>\n    <tr>\n      <th>...</th>\n      <td>...</td>\n      <td>...</td>\n      <td>...</td>\n      <td>...</td>\n      <td>...</td>\n      <td>...</td>\n      <td>...</td>\n      <td>...</td>\n      <td>...</td>\n    </tr>\n    <tr>\n      <th>72116</th>\n      <td>b'08460664-4312461'</td>\n      <td>5524054930300489088</td>\n      <td>4604.0527</td>\n      <td>2.628620</td>\n      <td>-0.104896</td>\n      <td>0.592156</td>\n      <td>0.581064</td>\n      <td>0.267382</td>\n      <td>0.860856</td>\n    </tr>\n    <tr>\n      <th>72117</th>\n      <td>b'08431567-4230079'</td>\n      <td>5524898599314763136</td>\n      <td>4921.5170</td>\n      <td>3.204505</td>\n      <td>0.015238</td>\n      <td>0.146001</td>\n      <td>0.029876</td>\n      <td>0.221036</td>\n      <td>0.257410</td>\n    </tr>\n    <tr>\n      <th>72118</th>\n      <td>b'08433930-4230037'</td>\n      <td>5524851114156313600</td>\n      <td>4544.5430</td>\n      <td>2.545092</td>\n      <td>0.151254</td>\n      <td>0.061476</td>\n      <td>0.121679</td>\n      <td>-0.072001</td>\n      <td>0.024033</td>\n    </tr>\n    <tr>\n      <th>72119</th>\n      <td>b'08444698-4217078'</td>\n      <td>5524953604957635456</td>\n      <td>4600.7554</td>\n      <td>4.267867</td>\n      <td>0.027199</td>\n      <td>-0.284221</td>\n      <td>0.148993</td>\n      <td>0.315737</td>\n      <td>0.339467</td>\n    </tr>\n    <tr>\n      <th>72120</th>\n      <td>b'08464041-4205267'</td>\n      <td>5524947901240914176</td>\n      <td>5028.0234</td>\n      <td>2.762224</td>\n      <td>0.054385</td>\n      <td>0.085140</td>\n      <td>-0.281388</td>\n      <td>0.341346</td>\n      <td>-0.391056</td>\n    </tr>\n  </tbody>\n</table>\n<p>72121 rows × 9 columns</p>\n</div>"
     },
     "execution_count": 25,
     "metadata": {},
     "output_type": "execute_result"
    }
   ],
   "source": [
    "galah = pd.read_csv(\"ProcessedData/cleaned_galah.csv\")\n",
    "galah"
   ],
   "metadata": {
    "collapsed": false
   }
  },
  {
   "cell_type": "code",
   "execution_count": 90,
   "outputs": [
    {
     "ename": "KeyError",
     "evalue": "0",
     "output_type": "error",
     "traceback": [
      "\u001B[0;31m---------------------------------------------------------------------------\u001B[0m",
      "\u001B[0;31mKeyError\u001B[0m                                  Traceback (most recent call last)",
      "File \u001B[0;32m~/.local/lib/python3.9/site-packages/pandas/core/indexes/base.py:3361\u001B[0m, in \u001B[0;36mIndex.get_loc\u001B[0;34m(self, key, method, tolerance)\u001B[0m\n\u001B[1;32m   3360\u001B[0m \u001B[38;5;28;01mtry\u001B[39;00m:\n\u001B[0;32m-> 3361\u001B[0m     \u001B[38;5;28;01mreturn\u001B[39;00m \u001B[38;5;28;43mself\u001B[39;49m\u001B[38;5;241;43m.\u001B[39;49m\u001B[43m_engine\u001B[49m\u001B[38;5;241;43m.\u001B[39;49m\u001B[43mget_loc\u001B[49m\u001B[43m(\u001B[49m\u001B[43mcasted_key\u001B[49m\u001B[43m)\u001B[49m\n\u001B[1;32m   3362\u001B[0m \u001B[38;5;28;01mexcept\u001B[39;00m \u001B[38;5;167;01mKeyError\u001B[39;00m \u001B[38;5;28;01mas\u001B[39;00m err:\n",
      "File \u001B[0;32m~/.local/lib/python3.9/site-packages/pandas/_libs/index.pyx:76\u001B[0m, in \u001B[0;36mpandas._libs.index.IndexEngine.get_loc\u001B[0;34m()\u001B[0m\n",
      "File \u001B[0;32m~/.local/lib/python3.9/site-packages/pandas/_libs/index.pyx:108\u001B[0m, in \u001B[0;36mpandas._libs.index.IndexEngine.get_loc\u001B[0;34m()\u001B[0m\n",
      "File \u001B[0;32mpandas/_libs/hashtable_class_helper.pxi:5198\u001B[0m, in \u001B[0;36mpandas._libs.hashtable.PyObjectHashTable.get_item\u001B[0;34m()\u001B[0m\n",
      "File \u001B[0;32mpandas/_libs/hashtable_class_helper.pxi:5206\u001B[0m, in \u001B[0;36mpandas._libs.hashtable.PyObjectHashTable.get_item\u001B[0;34m()\u001B[0m\n",
      "\u001B[0;31mKeyError\u001B[0m: 0",
      "\nThe above exception was the direct cause of the following exception:\n",
      "\u001B[0;31mKeyError\u001B[0m                                  Traceback (most recent call last)",
      "Cell \u001B[0;32mIn [90], line 1\u001B[0m\n\u001B[0;32m----> 1\u001B[0m \u001B[43mgalah\u001B[49m\u001B[43m[\u001B[49m\u001B[38;5;241;43m0\u001B[39;49m\u001B[43m]\u001B[49m\u001B[38;5;241m.\u001B[39msize()\n",
      "File \u001B[0;32m~/.local/lib/python3.9/site-packages/pandas/core/frame.py:3458\u001B[0m, in \u001B[0;36mDataFrame.__getitem__\u001B[0;34m(self, key)\u001B[0m\n\u001B[1;32m   3456\u001B[0m \u001B[38;5;28;01mif\u001B[39;00m \u001B[38;5;28mself\u001B[39m\u001B[38;5;241m.\u001B[39mcolumns\u001B[38;5;241m.\u001B[39mnlevels \u001B[38;5;241m>\u001B[39m \u001B[38;5;241m1\u001B[39m:\n\u001B[1;32m   3457\u001B[0m     \u001B[38;5;28;01mreturn\u001B[39;00m \u001B[38;5;28mself\u001B[39m\u001B[38;5;241m.\u001B[39m_getitem_multilevel(key)\n\u001B[0;32m-> 3458\u001B[0m indexer \u001B[38;5;241m=\u001B[39m \u001B[38;5;28;43mself\u001B[39;49m\u001B[38;5;241;43m.\u001B[39;49m\u001B[43mcolumns\u001B[49m\u001B[38;5;241;43m.\u001B[39;49m\u001B[43mget_loc\u001B[49m\u001B[43m(\u001B[49m\u001B[43mkey\u001B[49m\u001B[43m)\u001B[49m\n\u001B[1;32m   3459\u001B[0m \u001B[38;5;28;01mif\u001B[39;00m is_integer(indexer):\n\u001B[1;32m   3460\u001B[0m     indexer \u001B[38;5;241m=\u001B[39m [indexer]\n",
      "File \u001B[0;32m~/.local/lib/python3.9/site-packages/pandas/core/indexes/base.py:3363\u001B[0m, in \u001B[0;36mIndex.get_loc\u001B[0;34m(self, key, method, tolerance)\u001B[0m\n\u001B[1;32m   3361\u001B[0m         \u001B[38;5;28;01mreturn\u001B[39;00m \u001B[38;5;28mself\u001B[39m\u001B[38;5;241m.\u001B[39m_engine\u001B[38;5;241m.\u001B[39mget_loc(casted_key)\n\u001B[1;32m   3362\u001B[0m     \u001B[38;5;28;01mexcept\u001B[39;00m \u001B[38;5;167;01mKeyError\u001B[39;00m \u001B[38;5;28;01mas\u001B[39;00m err:\n\u001B[0;32m-> 3363\u001B[0m         \u001B[38;5;28;01mraise\u001B[39;00m \u001B[38;5;167;01mKeyError\u001B[39;00m(key) \u001B[38;5;28;01mfrom\u001B[39;00m \u001B[38;5;21;01merr\u001B[39;00m\n\u001B[1;32m   3365\u001B[0m \u001B[38;5;28;01mif\u001B[39;00m is_scalar(key) \u001B[38;5;129;01mand\u001B[39;00m isna(key) \u001B[38;5;129;01mand\u001B[39;00m \u001B[38;5;129;01mnot\u001B[39;00m \u001B[38;5;28mself\u001B[39m\u001B[38;5;241m.\u001B[39mhasnans:\n\u001B[1;32m   3366\u001B[0m     \u001B[38;5;28;01mraise\u001B[39;00m \u001B[38;5;167;01mKeyError\u001B[39;00m(key)\n",
      "\u001B[0;31mKeyError\u001B[0m: 0"
     ]
    }
   ],
   "source": [],
   "metadata": {
    "collapsed": false
   }
  }
 ],
 "metadata": {
  "kernelspec": {
   "display_name": "Python 3 (ipykernel)",
   "language": "python",
   "name": "python3"
  },
  "language_info": {
   "codemirror_mode": {
    "name": "ipython",
    "version": 3
   },
   "file_extension": ".py",
   "mimetype": "text/x-python",
   "name": "python",
   "nbconvert_exporter": "python",
   "pygments_lexer": "ipython3",
   "version": "3.9.7"
  }
 },
 "nbformat": 4,
 "nbformat_minor": 1
}
