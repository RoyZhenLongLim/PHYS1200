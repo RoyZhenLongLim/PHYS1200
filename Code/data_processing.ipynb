{
 "cells": [
  {
   "cell_type": "markdown",
   "metadata": {},
   "source": [
    "The goal for this piece of code is:\n",
    "- Clean the data for the following datasets:\n",
    "    - K2\n",
    "    - APOKSAC\n",
    "    - APOGEE\n",
    "    - GALAH\n",
    "\n",
    "After we have cleaned the datas is\n",
    "- Use K2 model to predict the mass for APOGEE and GALAH\n",
    "- Use APOKSAC model to predict mass for APOGEE\n",
    "\n",
    "The goal is to get a table contain the following for all the data sets and use this to predict the mass of stars.\n",
    "The table include parameters such as:\n",
    "\n",
    "- Effective Temperature\n",
    "- Log g\n",
    "- Iron Abundance [Fe/H]\n",
    "- Alpha Abundance [alpha/Fe]\n",
    "- Carbon Abundance [C/Fe]\n",
    "- Nitrogen Abundance [N/Fe]\n",
    "- Oxygen Abundance [O/Fe]\n",
    "\n",
    "In addition, we will extract the stars id to allow for identification\n",
    "\n",
    "- `tmass_id` 2MASS IDs\n",
    "- `gaiadr3_source_id` Gaia Id"
   ]
  },
  {
   "cell_type": "markdown",
   "metadata": {},
   "source": [
    "Importing the required packages"
   ]
  },
  {
   "cell_type": "code",
   "execution_count": 1,
   "metadata": {},
   "outputs": [],
   "source": [
    "from astropy.table import Table\n",
    "import pandas as pd         # For table/data management"
   ]
  },
  {
   "cell_type": "markdown",
   "metadata": {},
   "source": [
    "# Cleaning the GALAH Data"
   ]
  },
  {
   "cell_type": "code",
   "execution_count": 67,
   "metadata": {},
   "outputs": [],
   "source": [
    "# Import the data and change into a data frame\n",
    "def importGalah():\n",
    "    galah = Table.read(\"RawData/galah_dr4_allspec_220713.fits\", format = \"fits\")\n",
    "    names = [name for name in galah.colnames if len(galah[name].shape) <= 1]\n",
    "    galah = galah[names].to_pandas()\n",
    "    return galah\n",
    "galah = importGalah()"
   ]
  },
  {
   "cell_type": "code",
   "execution_count": 72,
   "outputs": [
    {
     "data": {
      "text/plain": "             sobject_id             tmass_id    gaiadr3_source_id          ra  \\\n0       131216001101002  b'05190449-5849304'  4762794963745841536   79.768745   \n1       131216001101004  b'05194296-5852488'  4762782766038731776   79.929016   \n2       131216001101006  b'05242175-5855050'  4762746688313325568   81.090652   \n3       131216001101007  b'05235853-5855322'  4762746963191266560   80.993896   \n4       131216001101008  b'05250796-5856306'  4762744661088764928   81.283173   \n...                 ...                  ...                  ...         ...   \n911720  220422002101393  b'08505928-4225003'  5524515075919164544  132.746948   \n911721  220422002101394  b'08483800-4232587'  5524192919009754880  132.158279   \n911722  220422002101395  b'08482525-4228066'  5524194327759020032  132.105194   \n911723  220422002101396  b'08494064-4230009'  5524153130428123392  132.419174   \n911724  220422002101399  b'08481702-4231191'  5524194087240871296  132.070862   \n\n              dec  flag_sp   chi2_sp          model_name         teff  \\\n0      -58.825127        0  0.784917  b'5000_3.00_-0.50'  4949.361328   \n1      -58.880241        0  0.730410  b'5000_3.00_-0.75'  5065.323242   \n2      -58.918076       16  1.001766   b'5750_3.50_0.00'  5258.936035   \n3      -58.925625        0  0.816937  b'4500_2.50_-0.50'  4602.764648   \n4      -58.941841        0  0.796724  b'5250_4.50_-0.50'  5173.950684   \n...           ...      ...       ...                 ...          ...   \n911720 -42.416679        0  0.669564   b'6000_4.50_0.25'  5935.249023   \n911721 -42.549587        6  0.832816  b'5750_4.00_-0.25'  5587.684570   \n911722 -42.468460        0  0.665281   b'5750_4.50_0.00'  5872.177246   \n911723 -42.500202        6  0.700411  b'7500_4.00_-0.25'  7594.551270   \n911724 -42.521957        0  0.759760  b'4750_4.00_-0.25'  4566.156738   \n\n           e_teff  ...     rv_k_is  ew_dib5780  sigma_dib5780  rv_dib5780  \\\n0       14.192226  ...  125.273613    0.021536       0.649520   66.809517   \n1       12.553386  ... -110.495575    0.017707       0.545415  -20.512051   \n2       65.913292  ...   -0.085152   -0.178104       0.556178  -72.778915   \n3       12.271515  ...    9.199572    0.020020       0.257478   25.391211   \n4       22.877005  ... -184.594482   -0.010327       0.014192   11.480436   \n...           ...  ...         ...         ...            ...         ...   \n911720  17.983692  ...  -15.240196    0.017141       0.085784  -25.076977   \n911721  83.439255  ...   45.337360   -0.027562       0.041541  -17.110561   \n911722  18.244131  ... -130.715927    0.020608       0.056806  -19.368908   \n911723   5.249479  ...   61.075535    0.020259       0.249044  -21.283625   \n911724  48.877995  ...  202.994827    0.090331       0.912718  -81.526558   \n\n        ew_dib5797  sigma_dib5797  rv_dib5797  ew_dib6613  sigma_dib6613  \\\n0        -0.004440       0.060115  -16.125017   -0.008195       0.125106   \n1         0.013530       0.379023   12.942771   -0.003307       0.043107   \n2        -0.000076       0.471259   14.315667   -0.040042       0.082871   \n3        -0.014224       0.077454  -49.922047    0.008121       0.037796   \n4        -0.014709       0.015565  -28.896576   -0.000141       0.454338   \n...            ...            ...         ...         ...            ...   \n911720    0.018373       0.091060  -10.782121    0.023231       0.265323   \n911721    0.000099       0.351173   -0.006665   -0.016863       0.038175   \n911722    0.016501       0.105145  -17.384577   -0.000045       0.344765   \n911723    0.015279       0.200866   -0.365067   -0.000869       0.020779   \n911724         NaN            NaN         NaN    0.072254       0.829777   \n\n        rv_dib6613  \n0         6.747653  \n1       -20.483330  \n2        -9.077340  \n3        12.077354  \n4         5.718824  \n...            ...  \n911720    1.156595  \n911721    3.131748  \n911722    0.279729  \n911723   28.197634  \n911724  -92.185867  \n\n[911725 rows x 139 columns]",
      "text/html": "<div>\n<style scoped>\n    .dataframe tbody tr th:only-of-type {\n        vertical-align: middle;\n    }\n\n    .dataframe tbody tr th {\n        vertical-align: top;\n    }\n\n    .dataframe thead th {\n        text-align: right;\n    }\n</style>\n<table border=\"1\" class=\"dataframe\">\n  <thead>\n    <tr style=\"text-align: right;\">\n      <th></th>\n      <th>sobject_id</th>\n      <th>tmass_id</th>\n      <th>gaiadr3_source_id</th>\n      <th>ra</th>\n      <th>dec</th>\n      <th>flag_sp</th>\n      <th>chi2_sp</th>\n      <th>model_name</th>\n      <th>teff</th>\n      <th>e_teff</th>\n      <th>...</th>\n      <th>rv_k_is</th>\n      <th>ew_dib5780</th>\n      <th>sigma_dib5780</th>\n      <th>rv_dib5780</th>\n      <th>ew_dib5797</th>\n      <th>sigma_dib5797</th>\n      <th>rv_dib5797</th>\n      <th>ew_dib6613</th>\n      <th>sigma_dib6613</th>\n      <th>rv_dib6613</th>\n    </tr>\n  </thead>\n  <tbody>\n    <tr>\n      <th>0</th>\n      <td>131216001101002</td>\n      <td>b'05190449-5849304'</td>\n      <td>4762794963745841536</td>\n      <td>79.768745</td>\n      <td>-58.825127</td>\n      <td>0</td>\n      <td>0.784917</td>\n      <td>b'5000_3.00_-0.50'</td>\n      <td>4949.361328</td>\n      <td>14.192226</td>\n      <td>...</td>\n      <td>125.273613</td>\n      <td>0.021536</td>\n      <td>0.649520</td>\n      <td>66.809517</td>\n      <td>-0.004440</td>\n      <td>0.060115</td>\n      <td>-16.125017</td>\n      <td>-0.008195</td>\n      <td>0.125106</td>\n      <td>6.747653</td>\n    </tr>\n    <tr>\n      <th>1</th>\n      <td>131216001101004</td>\n      <td>b'05194296-5852488'</td>\n      <td>4762782766038731776</td>\n      <td>79.929016</td>\n      <td>-58.880241</td>\n      <td>0</td>\n      <td>0.730410</td>\n      <td>b'5000_3.00_-0.75'</td>\n      <td>5065.323242</td>\n      <td>12.553386</td>\n      <td>...</td>\n      <td>-110.495575</td>\n      <td>0.017707</td>\n      <td>0.545415</td>\n      <td>-20.512051</td>\n      <td>0.013530</td>\n      <td>0.379023</td>\n      <td>12.942771</td>\n      <td>-0.003307</td>\n      <td>0.043107</td>\n      <td>-20.483330</td>\n    </tr>\n    <tr>\n      <th>2</th>\n      <td>131216001101006</td>\n      <td>b'05242175-5855050'</td>\n      <td>4762746688313325568</td>\n      <td>81.090652</td>\n      <td>-58.918076</td>\n      <td>16</td>\n      <td>1.001766</td>\n      <td>b'5750_3.50_0.00'</td>\n      <td>5258.936035</td>\n      <td>65.913292</td>\n      <td>...</td>\n      <td>-0.085152</td>\n      <td>-0.178104</td>\n      <td>0.556178</td>\n      <td>-72.778915</td>\n      <td>-0.000076</td>\n      <td>0.471259</td>\n      <td>14.315667</td>\n      <td>-0.040042</td>\n      <td>0.082871</td>\n      <td>-9.077340</td>\n    </tr>\n    <tr>\n      <th>3</th>\n      <td>131216001101007</td>\n      <td>b'05235853-5855322'</td>\n      <td>4762746963191266560</td>\n      <td>80.993896</td>\n      <td>-58.925625</td>\n      <td>0</td>\n      <td>0.816937</td>\n      <td>b'4500_2.50_-0.50'</td>\n      <td>4602.764648</td>\n      <td>12.271515</td>\n      <td>...</td>\n      <td>9.199572</td>\n      <td>0.020020</td>\n      <td>0.257478</td>\n      <td>25.391211</td>\n      <td>-0.014224</td>\n      <td>0.077454</td>\n      <td>-49.922047</td>\n      <td>0.008121</td>\n      <td>0.037796</td>\n      <td>12.077354</td>\n    </tr>\n    <tr>\n      <th>4</th>\n      <td>131216001101008</td>\n      <td>b'05250796-5856306'</td>\n      <td>4762744661088764928</td>\n      <td>81.283173</td>\n      <td>-58.941841</td>\n      <td>0</td>\n      <td>0.796724</td>\n      <td>b'5250_4.50_-0.50'</td>\n      <td>5173.950684</td>\n      <td>22.877005</td>\n      <td>...</td>\n      <td>-184.594482</td>\n      <td>-0.010327</td>\n      <td>0.014192</td>\n      <td>11.480436</td>\n      <td>-0.014709</td>\n      <td>0.015565</td>\n      <td>-28.896576</td>\n      <td>-0.000141</td>\n      <td>0.454338</td>\n      <td>5.718824</td>\n    </tr>\n    <tr>\n      <th>...</th>\n      <td>...</td>\n      <td>...</td>\n      <td>...</td>\n      <td>...</td>\n      <td>...</td>\n      <td>...</td>\n      <td>...</td>\n      <td>...</td>\n      <td>...</td>\n      <td>...</td>\n      <td>...</td>\n      <td>...</td>\n      <td>...</td>\n      <td>...</td>\n      <td>...</td>\n      <td>...</td>\n      <td>...</td>\n      <td>...</td>\n      <td>...</td>\n      <td>...</td>\n      <td>...</td>\n    </tr>\n    <tr>\n      <th>911720</th>\n      <td>220422002101393</td>\n      <td>b'08505928-4225003'</td>\n      <td>5524515075919164544</td>\n      <td>132.746948</td>\n      <td>-42.416679</td>\n      <td>0</td>\n      <td>0.669564</td>\n      <td>b'6000_4.50_0.25'</td>\n      <td>5935.249023</td>\n      <td>17.983692</td>\n      <td>...</td>\n      <td>-15.240196</td>\n      <td>0.017141</td>\n      <td>0.085784</td>\n      <td>-25.076977</td>\n      <td>0.018373</td>\n      <td>0.091060</td>\n      <td>-10.782121</td>\n      <td>0.023231</td>\n      <td>0.265323</td>\n      <td>1.156595</td>\n    </tr>\n    <tr>\n      <th>911721</th>\n      <td>220422002101394</td>\n      <td>b'08483800-4232587'</td>\n      <td>5524192919009754880</td>\n      <td>132.158279</td>\n      <td>-42.549587</td>\n      <td>6</td>\n      <td>0.832816</td>\n      <td>b'5750_4.00_-0.25'</td>\n      <td>5587.684570</td>\n      <td>83.439255</td>\n      <td>...</td>\n      <td>45.337360</td>\n      <td>-0.027562</td>\n      <td>0.041541</td>\n      <td>-17.110561</td>\n      <td>0.000099</td>\n      <td>0.351173</td>\n      <td>-0.006665</td>\n      <td>-0.016863</td>\n      <td>0.038175</td>\n      <td>3.131748</td>\n    </tr>\n    <tr>\n      <th>911722</th>\n      <td>220422002101395</td>\n      <td>b'08482525-4228066'</td>\n      <td>5524194327759020032</td>\n      <td>132.105194</td>\n      <td>-42.468460</td>\n      <td>0</td>\n      <td>0.665281</td>\n      <td>b'5750_4.50_0.00'</td>\n      <td>5872.177246</td>\n      <td>18.244131</td>\n      <td>...</td>\n      <td>-130.715927</td>\n      <td>0.020608</td>\n      <td>0.056806</td>\n      <td>-19.368908</td>\n      <td>0.016501</td>\n      <td>0.105145</td>\n      <td>-17.384577</td>\n      <td>-0.000045</td>\n      <td>0.344765</td>\n      <td>0.279729</td>\n    </tr>\n    <tr>\n      <th>911723</th>\n      <td>220422002101396</td>\n      <td>b'08494064-4230009'</td>\n      <td>5524153130428123392</td>\n      <td>132.419174</td>\n      <td>-42.500202</td>\n      <td>6</td>\n      <td>0.700411</td>\n      <td>b'7500_4.00_-0.25'</td>\n      <td>7594.551270</td>\n      <td>5.249479</td>\n      <td>...</td>\n      <td>61.075535</td>\n      <td>0.020259</td>\n      <td>0.249044</td>\n      <td>-21.283625</td>\n      <td>0.015279</td>\n      <td>0.200866</td>\n      <td>-0.365067</td>\n      <td>-0.000869</td>\n      <td>0.020779</td>\n      <td>28.197634</td>\n    </tr>\n    <tr>\n      <th>911724</th>\n      <td>220422002101399</td>\n      <td>b'08481702-4231191'</td>\n      <td>5524194087240871296</td>\n      <td>132.070862</td>\n      <td>-42.521957</td>\n      <td>0</td>\n      <td>0.759760</td>\n      <td>b'4750_4.00_-0.25'</td>\n      <td>4566.156738</td>\n      <td>48.877995</td>\n      <td>...</td>\n      <td>202.994827</td>\n      <td>0.090331</td>\n      <td>0.912718</td>\n      <td>-81.526558</td>\n      <td>NaN</td>\n      <td>NaN</td>\n      <td>NaN</td>\n      <td>0.072254</td>\n      <td>0.829777</td>\n      <td>-92.185867</td>\n    </tr>\n  </tbody>\n</table>\n<p>911725 rows × 139 columns</p>\n</div>"
     },
     "execution_count": 72,
     "metadata": {},
     "output_type": "execute_result"
    }
   ],
   "source": [
    "galah"
   ],
   "metadata": {
    "collapsed": false
   }
  },
  {
   "cell_type": "markdown",
   "metadata": {},
   "source": [
    "For Apogee Data, there are a few recommendations (this usually indicates that the data has some issues, e.g. unreliably broadening and other issues) for the flag that should be applied:\n",
    "- `snr_c3_iraf > 30`\n",
    "- `flag_sp == 0`\n",
    "- For any element `X`, the flag `flag_X_fe == 0`\n",
    "\n",
    "More information can be found [the GALAH Survey Website](https://www.galah-survey.org/dr3/flags/)"
   ]
  },
  {
   "cell_type": "code",
   "execution_count": 11,
   "metadata": {},
   "outputs": [],
   "source": [
    "# Filter the data\n",
    "# galah = galah.loc[galah[\"snr_c3_iraf\"] > 30]\n",
    "galah = galah.loc[galah[\"flag_sp\"] == 0]\n",
    "galah = galah.loc[galah[\"flag_fe_h\"] == 0]\n",
    "galah = galah.loc[galah[\"flag_c_fe\"] == 0]\n",
    "galah = galah.loc[galah[\"flag_n_fe\"] == 0]\n",
    "galah = galah.loc[galah[\"flag_o_fe\"] == 0]\n",
    "galah = galah.loc[galah[\"flag_li_fe\"] == 0]"
   ]
  },
  {
   "cell_type": "markdown",
   "metadata": {},
   "source": [
    "Now the appropriate flag has been used, we extract only the useful columns and save the data for later."
   ]
  },
  {
   "cell_type": "code",
   "execution_count": 13,
   "metadata": {},
   "outputs": [],
   "source": [
    "# Remove all rows with null values\n",
    "galah.dropna()\n",
    "galah.to_csv(\"ProcessedData/cleaned_galah.csv\", index=False)"
   ]
  },
  {
   "cell_type": "code",
   "execution_count": 15,
   "outputs": [
    {
     "data": {
      "text/plain": "        red_alpha_fe  ew_h_alpha\n5           0.132004    0.018184\n8           0.075313   -0.036045\n11          0.029919   -0.042364\n16         -0.014889   -0.029333\n18          0.117063   -0.031519\n...              ...         ...\n911431      0.120585    0.061411\n911484      0.166184    0.004074\n911566      0.018094    0.007845\n911568      0.121439    0.158733\n911626      0.034752    0.022740\n\n[63574 rows x 2 columns]",
      "text/html": "<div>\n<style scoped>\n    .dataframe tbody tr th:only-of-type {\n        vertical-align: middle;\n    }\n\n    .dataframe tbody tr th {\n        vertical-align: top;\n    }\n\n    .dataframe thead th {\n        text-align: right;\n    }\n</style>\n<table border=\"1\" class=\"dataframe\">\n  <thead>\n    <tr style=\"text-align: right;\">\n      <th></th>\n      <th>red_alpha_fe</th>\n      <th>ew_h_alpha</th>\n    </tr>\n  </thead>\n  <tbody>\n    <tr>\n      <th>5</th>\n      <td>0.132004</td>\n      <td>0.018184</td>\n    </tr>\n    <tr>\n      <th>8</th>\n      <td>0.075313</td>\n      <td>-0.036045</td>\n    </tr>\n    <tr>\n      <th>11</th>\n      <td>0.029919</td>\n      <td>-0.042364</td>\n    </tr>\n    <tr>\n      <th>16</th>\n      <td>-0.014889</td>\n      <td>-0.029333</td>\n    </tr>\n    <tr>\n      <th>18</th>\n      <td>0.117063</td>\n      <td>-0.031519</td>\n    </tr>\n    <tr>\n      <th>...</th>\n      <td>...</td>\n      <td>...</td>\n    </tr>\n    <tr>\n      <th>911431</th>\n      <td>0.120585</td>\n      <td>0.061411</td>\n    </tr>\n    <tr>\n      <th>911484</th>\n      <td>0.166184</td>\n      <td>0.004074</td>\n    </tr>\n    <tr>\n      <th>911566</th>\n      <td>0.018094</td>\n      <td>0.007845</td>\n    </tr>\n    <tr>\n      <th>911568</th>\n      <td>0.121439</td>\n      <td>0.158733</td>\n    </tr>\n    <tr>\n      <th>911626</th>\n      <td>0.034752</td>\n      <td>0.022740</td>\n    </tr>\n  </tbody>\n</table>\n<p>63574 rows × 2 columns</p>\n</div>"
     },
     "execution_count": 15,
     "metadata": {},
     "output_type": "execute_result"
    }
   ],
   "source": [
    "galah[[\"red_alpha_fe\", \"ew_h_alpha\"]]"
   ],
   "metadata": {
    "collapsed": false
   }
  },
  {
   "cell_type": "markdown",
   "metadata": {},
   "source": [
    "# Cleaning APOGEE Data"
   ]
  },
  {
   "cell_type": "code",
   "execution_count": 1,
   "metadata": {},
   "outputs": [],
   "source": [
    "apogee = Table.read(\"RawData/allStar-dr17-synspec_rev1.fits\", format=\"fits\", hdu=1)\n",
    "names = [name for name in apogee.colnames if len(apogee[name].shape) <= 1]\n",
    "apogee = apogee[names].to_pandas()"
   ]
  },
  {
   "cell_type": "code",
   "execution_count": 3,
   "outputs": [
    {
     "data": {
      "text/plain": "                                          FILE               tmass_id  \\\n0                    b'apStar-dr17-VESTA.fits'               b'VESTA'   \n1       b'apStar-dr17-2M00000002+7417074.fits'  b'2M00000002+7417074'   \n2       b'apStar-dr17-2M00000019-1924498.fits'  b'2M00000019-1924498'   \n3       b'apStar-dr17-2M00000032+5737103.fits'  b'2M00000032+5737103'   \n4       b'apStar-dr17-2M00000032+5737103.fits'  b'2M00000032+5737103'   \n...                                        ...                    ...   \n733896  b'apStar-dr17-2M23595886-2009435.fits'  b'2M23595886-2009435'   \n733897  b'apStar-dr17-2M23595886+5726058.fits'  b'2M23595886+5726058'   \n733898  b'apStar-dr17-2M23595921+5609479.fits'  b'2M23595921+5609479'   \n733899  b'asStar-dr17-2M23595949-7342592.fits'  b'2M23595949-7342592'   \n733900  b'apStar-dr17-2M23595980+1528407.fits'  b'2M23595980+1528407'   \n\n                                       TARGET_ID  \\\n0                     b'apo1m.calibration.VESTA'   \n1            b'apo25m.120+12.2M00000002+7417074'   \n2            b'apo25m.060-75.2M00000019-1924498'   \n3            b'apo25m.116-04.2M00000032+5737103'   \n4             b'apo25m.N7789.2M00000032+5737103'   \n...                                          ...   \n733896       b'apo25m.060-75.2M23595886-2009435'   \n733897       b'apo25m.116-04.2M23595886+5726058'   \n733898  b'apo25m.NGC7789_MGA.2M23595921+5609479'   \n733899        b'lco25m.SMC12.2M23595949-7342592'   \n733900       b'apo25m.105-45.2M23595980+1528407'   \n\n                                                APSTAR_ID  \\\n0                 b'apogee.apo1m.stars.calibration.VESTA'   \n1        b'apogee.apo25m.stars.120+12.2M00000002+7417074'   \n2        b'apogee.apo25m.stars.060-75.2M00000019-1924498'   \n3        b'apogee.apo25m.stars.116-04.2M00000032+5737103'   \n4         b'apogee.apo25m.stars.N7789.2M00000032+5737103'   \n...                                                   ...   \n733896   b'apogee.apo25m.stars.060-75.2M23595886-2009435'   \n733897   b'apogee.apo25m.stars.116-04.2M23595886+5726058'   \n733898  b'apogee.apo25m.stars.NGC7789_MGA.2M23595921+5...   \n733899    b'apogee.lco25m.stars.SMC12.2M23595949-7342592'   \n733900   b'apogee.apo25m.stars.105-45.2M23595980+1528407'   \n\n                                                ASPCAP_ID  TELESCOPE  \\\n0           b'apogee.apo1m.synspec_fix.calibration.VESTA'   b'apo1m'   \n1       b'apogee.apo25m.synspec_fix.120+12.2M00000002+...  b'apo25m'   \n2       b'apogee.apo25m.synspec_fix.060-75.2M00000019-...  b'apo25m'   \n3       b'apogee.apo25m.synspec_fix.116-04.2M00000032+...  b'apo25m'   \n4       b'apogee.apo25m.synspec_fix.N7789.2M00000032+5...  b'apo25m'   \n...                                                   ...        ...   \n733896  b'apogee.apo25m.synspec_fix.060-75.2M23595886-...  b'apo25m'   \n733897  b'apogee.apo25m.synspec_fix.116-04.2M23595886+...  b'apo25m'   \n733898  b'apogee.apo25m.synspec_fix.NGC7789_MGA.2M2359...  b'apo25m'   \n733899  b'apogee.lco25m.synspec_fix.SMC12.2M23595949-7...  b'lco25m'   \n733900  b'apogee.apo25m.synspec_fix.105-45.2M23595980+...  b'apo25m'   \n\n        LOCATION_ID           FIELD   ALT_ID          RA  ...  CU_FE_ERR  \\\n0                 1  b'calibration'     b' '         NaN  ...   0.059403   \n1              5046       b'120+12'  b'none'    0.000103  ...   0.001221   \n2              5071       b'060-75'  b'none'    0.000832  ...   0.102594   \n3              4424       b'116-04'  b'none'    0.001335  ...   0.123839   \n4              4264        b'N7789'  b'none'    0.001335  ...   0.107103   \n...             ...             ...      ...         ...  ...        ...   \n733896         5071       b'060-75'  b'none'  359.995258  ...        NaN   \n733897         4424       b'116-04'  b'none'  359.995265  ...        NaN   \n733898         -999  b'NGC7789_MGA'  b'none'  359.996744  ...        NaN   \n733899         7218        b'SMC12'  b'none'  359.997887  ...   0.174322   \n733900         4548       b'105-45'  b'none'  359.999181  ...   0.289108   \n\n        CU_FE_FLAG     CE_FE  CE_FE_SPEC  CE_FE_ERR  CE_FE_FLAG  YB_FE  \\\n0                2       NaN         NaN        NaN          64    NaN   \n1                2       NaN         NaN        NaN          64    NaN   \n2                2       NaN         NaN        NaN          64    NaN   \n3                2       NaN         NaN        NaN          64    NaN   \n4                2       NaN         NaN        NaN          64    NaN   \n...            ...       ...         ...        ...         ...    ...   \n733896         258       NaN         NaN        NaN          64    NaN   \n733897         259 -0.058750   -0.003090   0.072443           0    NaN   \n733898         259 -0.103446   -0.047786   0.097572           0    NaN   \n733899           2  0.107710    0.163370   0.140188           0    NaN   \n733900           2       NaN         NaN        NaN          64    NaN   \n\n        YB_FE_SPEC  YB_FE_ERR YB_FE_FLAG  \n0              NaN        1.0          2  \n1              NaN        1.0          2  \n2              NaN        1.0          2  \n3              NaN        1.0          2  \n4              NaN        1.0          2  \n...            ...        ...        ...  \n733896         NaN        NaN          2  \n733897         NaN        1.0          2  \n733898         NaN        1.0          2  \n733899         NaN        1.0          2  \n733900         NaN        1.0          2  \n\n[733901 rows x 215 columns]",
      "text/html": "<div>\n<style scoped>\n    .dataframe tbody tr th:only-of-type {\n        vertical-align: middle;\n    }\n\n    .dataframe tbody tr th {\n        vertical-align: top;\n    }\n\n    .dataframe thead th {\n        text-align: right;\n    }\n</style>\n<table border=\"1\" class=\"dataframe\">\n  <thead>\n    <tr style=\"text-align: right;\">\n      <th></th>\n      <th>FILE</th>\n      <th>tmass_id</th>\n      <th>TARGET_ID</th>\n      <th>APSTAR_ID</th>\n      <th>ASPCAP_ID</th>\n      <th>TELESCOPE</th>\n      <th>LOCATION_ID</th>\n      <th>FIELD</th>\n      <th>ALT_ID</th>\n      <th>RA</th>\n      <th>...</th>\n      <th>CU_FE_ERR</th>\n      <th>CU_FE_FLAG</th>\n      <th>CE_FE</th>\n      <th>CE_FE_SPEC</th>\n      <th>CE_FE_ERR</th>\n      <th>CE_FE_FLAG</th>\n      <th>YB_FE</th>\n      <th>YB_FE_SPEC</th>\n      <th>YB_FE_ERR</th>\n      <th>YB_FE_FLAG</th>\n    </tr>\n  </thead>\n  <tbody>\n    <tr>\n      <th>0</th>\n      <td>b'apStar-dr17-VESTA.fits'</td>\n      <td>b'VESTA'</td>\n      <td>b'apo1m.calibration.VESTA'</td>\n      <td>b'apogee.apo1m.stars.calibration.VESTA'</td>\n      <td>b'apogee.apo1m.synspec_fix.calibration.VESTA'</td>\n      <td>b'apo1m'</td>\n      <td>1</td>\n      <td>b'calibration'</td>\n      <td>b' '</td>\n      <td>NaN</td>\n      <td>...</td>\n      <td>0.059403</td>\n      <td>2</td>\n      <td>NaN</td>\n      <td>NaN</td>\n      <td>NaN</td>\n      <td>64</td>\n      <td>NaN</td>\n      <td>NaN</td>\n      <td>1.0</td>\n      <td>2</td>\n    </tr>\n    <tr>\n      <th>1</th>\n      <td>b'apStar-dr17-2M00000002+7417074.fits'</td>\n      <td>b'2M00000002+7417074'</td>\n      <td>b'apo25m.120+12.2M00000002+7417074'</td>\n      <td>b'apogee.apo25m.stars.120+12.2M00000002+7417074'</td>\n      <td>b'apogee.apo25m.synspec_fix.120+12.2M00000002+...</td>\n      <td>b'apo25m'</td>\n      <td>5046</td>\n      <td>b'120+12'</td>\n      <td>b'none'</td>\n      <td>0.000103</td>\n      <td>...</td>\n      <td>0.001221</td>\n      <td>2</td>\n      <td>NaN</td>\n      <td>NaN</td>\n      <td>NaN</td>\n      <td>64</td>\n      <td>NaN</td>\n      <td>NaN</td>\n      <td>1.0</td>\n      <td>2</td>\n    </tr>\n    <tr>\n      <th>2</th>\n      <td>b'apStar-dr17-2M00000019-1924498.fits'</td>\n      <td>b'2M00000019-1924498'</td>\n      <td>b'apo25m.060-75.2M00000019-1924498'</td>\n      <td>b'apogee.apo25m.stars.060-75.2M00000019-1924498'</td>\n      <td>b'apogee.apo25m.synspec_fix.060-75.2M00000019-...</td>\n      <td>b'apo25m'</td>\n      <td>5071</td>\n      <td>b'060-75'</td>\n      <td>b'none'</td>\n      <td>0.000832</td>\n      <td>...</td>\n      <td>0.102594</td>\n      <td>2</td>\n      <td>NaN</td>\n      <td>NaN</td>\n      <td>NaN</td>\n      <td>64</td>\n      <td>NaN</td>\n      <td>NaN</td>\n      <td>1.0</td>\n      <td>2</td>\n    </tr>\n    <tr>\n      <th>3</th>\n      <td>b'apStar-dr17-2M00000032+5737103.fits'</td>\n      <td>b'2M00000032+5737103'</td>\n      <td>b'apo25m.116-04.2M00000032+5737103'</td>\n      <td>b'apogee.apo25m.stars.116-04.2M00000032+5737103'</td>\n      <td>b'apogee.apo25m.synspec_fix.116-04.2M00000032+...</td>\n      <td>b'apo25m'</td>\n      <td>4424</td>\n      <td>b'116-04'</td>\n      <td>b'none'</td>\n      <td>0.001335</td>\n      <td>...</td>\n      <td>0.123839</td>\n      <td>2</td>\n      <td>NaN</td>\n      <td>NaN</td>\n      <td>NaN</td>\n      <td>64</td>\n      <td>NaN</td>\n      <td>NaN</td>\n      <td>1.0</td>\n      <td>2</td>\n    </tr>\n    <tr>\n      <th>4</th>\n      <td>b'apStar-dr17-2M00000032+5737103.fits'</td>\n      <td>b'2M00000032+5737103'</td>\n      <td>b'apo25m.N7789.2M00000032+5737103'</td>\n      <td>b'apogee.apo25m.stars.N7789.2M00000032+5737103'</td>\n      <td>b'apogee.apo25m.synspec_fix.N7789.2M00000032+5...</td>\n      <td>b'apo25m'</td>\n      <td>4264</td>\n      <td>b'N7789'</td>\n      <td>b'none'</td>\n      <td>0.001335</td>\n      <td>...</td>\n      <td>0.107103</td>\n      <td>2</td>\n      <td>NaN</td>\n      <td>NaN</td>\n      <td>NaN</td>\n      <td>64</td>\n      <td>NaN</td>\n      <td>NaN</td>\n      <td>1.0</td>\n      <td>2</td>\n    </tr>\n    <tr>\n      <th>...</th>\n      <td>...</td>\n      <td>...</td>\n      <td>...</td>\n      <td>...</td>\n      <td>...</td>\n      <td>...</td>\n      <td>...</td>\n      <td>...</td>\n      <td>...</td>\n      <td>...</td>\n      <td>...</td>\n      <td>...</td>\n      <td>...</td>\n      <td>...</td>\n      <td>...</td>\n      <td>...</td>\n      <td>...</td>\n      <td>...</td>\n      <td>...</td>\n      <td>...</td>\n      <td>...</td>\n    </tr>\n    <tr>\n      <th>733896</th>\n      <td>b'apStar-dr17-2M23595886-2009435.fits'</td>\n      <td>b'2M23595886-2009435'</td>\n      <td>b'apo25m.060-75.2M23595886-2009435'</td>\n      <td>b'apogee.apo25m.stars.060-75.2M23595886-2009435'</td>\n      <td>b'apogee.apo25m.synspec_fix.060-75.2M23595886-...</td>\n      <td>b'apo25m'</td>\n      <td>5071</td>\n      <td>b'060-75'</td>\n      <td>b'none'</td>\n      <td>359.995258</td>\n      <td>...</td>\n      <td>NaN</td>\n      <td>258</td>\n      <td>NaN</td>\n      <td>NaN</td>\n      <td>NaN</td>\n      <td>64</td>\n      <td>NaN</td>\n      <td>NaN</td>\n      <td>NaN</td>\n      <td>2</td>\n    </tr>\n    <tr>\n      <th>733897</th>\n      <td>b'apStar-dr17-2M23595886+5726058.fits'</td>\n      <td>b'2M23595886+5726058'</td>\n      <td>b'apo25m.116-04.2M23595886+5726058'</td>\n      <td>b'apogee.apo25m.stars.116-04.2M23595886+5726058'</td>\n      <td>b'apogee.apo25m.synspec_fix.116-04.2M23595886+...</td>\n      <td>b'apo25m'</td>\n      <td>4424</td>\n      <td>b'116-04'</td>\n      <td>b'none'</td>\n      <td>359.995265</td>\n      <td>...</td>\n      <td>NaN</td>\n      <td>259</td>\n      <td>-0.058750</td>\n      <td>-0.003090</td>\n      <td>0.072443</td>\n      <td>0</td>\n      <td>NaN</td>\n      <td>NaN</td>\n      <td>1.0</td>\n      <td>2</td>\n    </tr>\n    <tr>\n      <th>733898</th>\n      <td>b'apStar-dr17-2M23595921+5609479.fits'</td>\n      <td>b'2M23595921+5609479'</td>\n      <td>b'apo25m.NGC7789_MGA.2M23595921+5609479'</td>\n      <td>b'apogee.apo25m.stars.NGC7789_MGA.2M23595921+5...</td>\n      <td>b'apogee.apo25m.synspec_fix.NGC7789_MGA.2M2359...</td>\n      <td>b'apo25m'</td>\n      <td>-999</td>\n      <td>b'NGC7789_MGA'</td>\n      <td>b'none'</td>\n      <td>359.996744</td>\n      <td>...</td>\n      <td>NaN</td>\n      <td>259</td>\n      <td>-0.103446</td>\n      <td>-0.047786</td>\n      <td>0.097572</td>\n      <td>0</td>\n      <td>NaN</td>\n      <td>NaN</td>\n      <td>1.0</td>\n      <td>2</td>\n    </tr>\n    <tr>\n      <th>733899</th>\n      <td>b'asStar-dr17-2M23595949-7342592.fits'</td>\n      <td>b'2M23595949-7342592'</td>\n      <td>b'lco25m.SMC12.2M23595949-7342592'</td>\n      <td>b'apogee.lco25m.stars.SMC12.2M23595949-7342592'</td>\n      <td>b'apogee.lco25m.synspec_fix.SMC12.2M23595949-7...</td>\n      <td>b'lco25m'</td>\n      <td>7218</td>\n      <td>b'SMC12'</td>\n      <td>b'none'</td>\n      <td>359.997887</td>\n      <td>...</td>\n      <td>0.174322</td>\n      <td>2</td>\n      <td>0.107710</td>\n      <td>0.163370</td>\n      <td>0.140188</td>\n      <td>0</td>\n      <td>NaN</td>\n      <td>NaN</td>\n      <td>1.0</td>\n      <td>2</td>\n    </tr>\n    <tr>\n      <th>733900</th>\n      <td>b'apStar-dr17-2M23595980+1528407.fits'</td>\n      <td>b'2M23595980+1528407'</td>\n      <td>b'apo25m.105-45.2M23595980+1528407'</td>\n      <td>b'apogee.apo25m.stars.105-45.2M23595980+1528407'</td>\n      <td>b'apogee.apo25m.synspec_fix.105-45.2M23595980+...</td>\n      <td>b'apo25m'</td>\n      <td>4548</td>\n      <td>b'105-45'</td>\n      <td>b'none'</td>\n      <td>359.999181</td>\n      <td>...</td>\n      <td>0.289108</td>\n      <td>2</td>\n      <td>NaN</td>\n      <td>NaN</td>\n      <td>NaN</td>\n      <td>64</td>\n      <td>NaN</td>\n      <td>NaN</td>\n      <td>1.0</td>\n      <td>2</td>\n    </tr>\n  </tbody>\n</table>\n<p>733901 rows × 215 columns</p>\n</div>"
     },
     "execution_count": 3,
     "metadata": {},
     "output_type": "execute_result"
    }
   ],
   "source": [
    "# Manipulate APOGEE id to 2MASS id\n",
    "apogee = apogee.rename(columns = {\"APOGEE_ID\": \"tmass_id\"})\n",
    "apogee"
   ],
   "metadata": {
    "collapsed": false
   }
  },
  {
   "cell_type": "markdown",
   "metadata": {},
   "source": [
    "For APOGEE, we do something similar by making sure all the parameters are working on are good.\n",
    "More information can be found [SDSS explanantion of bitmasks](https://www.sdss.org/dr13/algorithms/bitmasks/#APOGEE_ASPCAPFLAG) and [SDSS recommendations for bitmasks](https://www.sdss.org/dr13/irspec/abundances/)\n",
    "\n",
    "The parameters\n",
    "- `ASPCAPFLAG & STAR_BAD == 0` (`STAR_BAD` is the 23rd bit (starting from 0), or  `STAR_BAD = 0b 1000 0000 0000 0000 0000 0000`)\n",
    "    - `STAR_BAD` is a general indication of whether there are issues with measuring surface temperature, surface gravity, and check if any elements have `GRIDEDGE_BAD` set\n",
    "- `ELEMFLAG`\n",
    "    - Any example of this is `FE_H_FLAG`\n",
    "        - Make sure that the flag does not contain `GRIDEDGE_BAD`, `GRIDEDGE_WARN` and `CALRANGE_BAD`\n",
    "    - We should just check that the flag is equal to zero to eliminate all and any problematic behaviour"
   ]
  },
  {
   "cell_type": "code",
   "execution_count": 4,
   "metadata": {},
   "outputs": [],
   "source": [
    "# Filter the data\n",
    "STAR_BAD = 1 << 23\n",
    "apogee = apogee.loc[apogee['ASPCAPFLAG'] & STAR_BAD == 0]\n",
    "apogee = apogee.loc[apogee['FE_H_FLAG'] == 0]\n",
    "apogee = apogee.loc[apogee['C_FE_FLAG'] == 0]\n",
    "apogee = apogee.loc[apogee['N_FE_FLAG'] == 0]\n",
    "apogee = apogee.loc[apogee['O_FE_FLAG'] == 0]\n",
    "apogee = apogee.loc[apogee['RV_FLAG'] == 0]\n",
    "apogee.columns = apogee.columns.str.lower()"
   ]
  },
  {
   "cell_type": "code",
   "execution_count": 18,
   "outputs": [
    {
     "data": {
      "text/plain": "          rv_chi2      rv_teff    rv_feh  rv_carb  rv_alpha  rv_autofwhm  \\\n0       16.541691  5980.213379 -0.203651      0.0       0.0    20.430799   \n1       82.418503  3671.801514 -0.401404      0.0       0.0    12.790598   \n5        1.918990  4667.159180 -1.353037      0.0       0.0    14.388681   \n6        9.714903  5315.282715 -0.287584      0.0       0.0    17.972471   \n8        3.004735  5121.166016 -0.693380      0.0       0.0    15.877813   \n...           ...          ...       ...      ...       ...          ...   \n733891  19.251442  4347.800781 -0.631075      0.0       0.0    14.054633   \n733892  24.161474  5304.097168  0.231426      0.0       0.0    19.664906   \n733893   2.534307  5151.955078 -0.512913      0.0       0.0    16.366066   \n733897   8.019061  5043.876465 -0.365796      0.0       0.0    15.921649   \n733898   8.292177  4747.288574  0.001282      0.0       0.0    15.004094   \n\n        rv_ccfwhm   rv_logg  \n0       25.092390  4.643887  \n1       17.408659  1.090488  \n5       19.576447  2.191759  \n6       21.645975  3.808599  \n8       19.881489  2.971028  \n...           ...       ...  \n733891  18.096855  2.160463  \n733892  24.771343  4.611897  \n733893  20.079872  3.137297  \n733897  19.329823  2.973008  \n733898  18.306601  2.750981  \n\n[423992 rows x 8 columns]",
      "text/html": "<div>\n<style scoped>\n    .dataframe tbody tr th:only-of-type {\n        vertical-align: middle;\n    }\n\n    .dataframe tbody tr th {\n        vertical-align: top;\n    }\n\n    .dataframe thead th {\n        text-align: right;\n    }\n</style>\n<table border=\"1\" class=\"dataframe\">\n  <thead>\n    <tr style=\"text-align: right;\">\n      <th></th>\n      <th>rv_chi2</th>\n      <th>rv_teff</th>\n      <th>rv_feh</th>\n      <th>rv_carb</th>\n      <th>rv_alpha</th>\n      <th>rv_autofwhm</th>\n      <th>rv_ccfwhm</th>\n      <th>rv_logg</th>\n    </tr>\n  </thead>\n  <tbody>\n    <tr>\n      <th>0</th>\n      <td>16.541691</td>\n      <td>5980.213379</td>\n      <td>-0.203651</td>\n      <td>0.0</td>\n      <td>0.0</td>\n      <td>20.430799</td>\n      <td>25.092390</td>\n      <td>4.643887</td>\n    </tr>\n    <tr>\n      <th>1</th>\n      <td>82.418503</td>\n      <td>3671.801514</td>\n      <td>-0.401404</td>\n      <td>0.0</td>\n      <td>0.0</td>\n      <td>12.790598</td>\n      <td>17.408659</td>\n      <td>1.090488</td>\n    </tr>\n    <tr>\n      <th>5</th>\n      <td>1.918990</td>\n      <td>4667.159180</td>\n      <td>-1.353037</td>\n      <td>0.0</td>\n      <td>0.0</td>\n      <td>14.388681</td>\n      <td>19.576447</td>\n      <td>2.191759</td>\n    </tr>\n    <tr>\n      <th>6</th>\n      <td>9.714903</td>\n      <td>5315.282715</td>\n      <td>-0.287584</td>\n      <td>0.0</td>\n      <td>0.0</td>\n      <td>17.972471</td>\n      <td>21.645975</td>\n      <td>3.808599</td>\n    </tr>\n    <tr>\n      <th>8</th>\n      <td>3.004735</td>\n      <td>5121.166016</td>\n      <td>-0.693380</td>\n      <td>0.0</td>\n      <td>0.0</td>\n      <td>15.877813</td>\n      <td>19.881489</td>\n      <td>2.971028</td>\n    </tr>\n    <tr>\n      <th>...</th>\n      <td>...</td>\n      <td>...</td>\n      <td>...</td>\n      <td>...</td>\n      <td>...</td>\n      <td>...</td>\n      <td>...</td>\n      <td>...</td>\n    </tr>\n    <tr>\n      <th>733891</th>\n      <td>19.251442</td>\n      <td>4347.800781</td>\n      <td>-0.631075</td>\n      <td>0.0</td>\n      <td>0.0</td>\n      <td>14.054633</td>\n      <td>18.096855</td>\n      <td>2.160463</td>\n    </tr>\n    <tr>\n      <th>733892</th>\n      <td>24.161474</td>\n      <td>5304.097168</td>\n      <td>0.231426</td>\n      <td>0.0</td>\n      <td>0.0</td>\n      <td>19.664906</td>\n      <td>24.771343</td>\n      <td>4.611897</td>\n    </tr>\n    <tr>\n      <th>733893</th>\n      <td>2.534307</td>\n      <td>5151.955078</td>\n      <td>-0.512913</td>\n      <td>0.0</td>\n      <td>0.0</td>\n      <td>16.366066</td>\n      <td>20.079872</td>\n      <td>3.137297</td>\n    </tr>\n    <tr>\n      <th>733897</th>\n      <td>8.019061</td>\n      <td>5043.876465</td>\n      <td>-0.365796</td>\n      <td>0.0</td>\n      <td>0.0</td>\n      <td>15.921649</td>\n      <td>19.329823</td>\n      <td>2.973008</td>\n    </tr>\n    <tr>\n      <th>733898</th>\n      <td>8.292177</td>\n      <td>4747.288574</td>\n      <td>0.001282</td>\n      <td>0.0</td>\n      <td>0.0</td>\n      <td>15.004094</td>\n      <td>18.306601</td>\n      <td>2.750981</td>\n    </tr>\n  </tbody>\n</table>\n<p>423992 rows × 8 columns</p>\n</div>"
     },
     "execution_count": 18,
     "metadata": {},
     "output_type": "execute_result"
    }
   ],
   "source": [
    "apogee[[\"rv_chi2\", \"rv_teff\", \"rv_feh\", \"rv_carb\", \"rv_alpha\", \"rv_autofwhm\", \"rv_ccfwhm\", \"rv_logg\"]]"
   ],
   "metadata": {
    "collapsed": false
   }
  },
  {
   "cell_type": "markdown",
   "metadata": {},
   "source": [
    "Extract the useful column and save for later\n",
    "A quick summary of what the unusual columns mean:\n",
    "- `alpha_m` is alpha-element abundance\n",
    "- `ra` is Right Ascensions\n",
    "- `dec` is Declination (combined with `ra` provides a mapping of where the star is on the sky)\n",
    "- `rv_chi2` is the rotational velocity of the star.\n",
    "- `pmra` is proper motion in right ascension direction\n",
    "- `pmdec` is proper motion in the declination direction"
   ]
  },
  {
   "cell_type": "code",
   "execution_count": 5,
   "metadata": {},
   "outputs": [],
   "source": [
    "apogee = apogee[[\"tmass_id\", \"teff\", \"logg\", \"fe_h\", \"alpha_m\", \"c_fe\", \"n_fe\", \"o_fe\", \"ra\", \"dec\", \"rv_chi2\", \"gaiaedr3_pmra\", \"gaiaedr3_pmdec\"]]\n",
    "apogee = apogee.dropna()\n",
    "apogee.to_csv(\"ProcessedData/cleaned_apogee.csv\", index=False)"
   ]
  },
  {
   "cell_type": "markdown",
   "metadata": {},
   "source": [
    "# Cleaning APOKSAC 2 Data"
   ]
  },
  {
   "cell_type": "code",
   "execution_count": 6,
   "outputs": [
    {
     "data": {
      "text/plain": "           kic          tmass_id   mass\n0      1027110  19250937+3644599  0.985\n1      1027337  19252021+3647118  1.227\n2      1160789  19233280+3652207  0.875\n4      1161447  19241746+3651460  1.460\n5      1161618  19242614+3648478  1.183\n...        ...               ...    ...\n6671  12784948  19210624+5200236  1.254\n6672  12785083  19212376+5204593  1.154\n6673  12785250  19214766+5205365  1.386\n6674  12884116  19182431+5215519  1.081\n6675  12884930  19200187+5214588  1.343\n\n[6529 rows x 3 columns]",
      "text/html": "<div>\n<style scoped>\n    .dataframe tbody tr th:only-of-type {\n        vertical-align: middle;\n    }\n\n    .dataframe tbody tr th {\n        vertical-align: top;\n    }\n\n    .dataframe thead th {\n        text-align: right;\n    }\n</style>\n<table border=\"1\" class=\"dataframe\">\n  <thead>\n    <tr style=\"text-align: right;\">\n      <th></th>\n      <th>kic</th>\n      <th>tmass_id</th>\n      <th>mass</th>\n    </tr>\n  </thead>\n  <tbody>\n    <tr>\n      <th>0</th>\n      <td>1027110</td>\n      <td>19250937+3644599</td>\n      <td>0.985</td>\n    </tr>\n    <tr>\n      <th>1</th>\n      <td>1027337</td>\n      <td>19252021+3647118</td>\n      <td>1.227</td>\n    </tr>\n    <tr>\n      <th>2</th>\n      <td>1160789</td>\n      <td>19233280+3652207</td>\n      <td>0.875</td>\n    </tr>\n    <tr>\n      <th>4</th>\n      <td>1161447</td>\n      <td>19241746+3651460</td>\n      <td>1.460</td>\n    </tr>\n    <tr>\n      <th>5</th>\n      <td>1161618</td>\n      <td>19242614+3648478</td>\n      <td>1.183</td>\n    </tr>\n    <tr>\n      <th>...</th>\n      <td>...</td>\n      <td>...</td>\n      <td>...</td>\n    </tr>\n    <tr>\n      <th>6671</th>\n      <td>12784948</td>\n      <td>19210624+5200236</td>\n      <td>1.254</td>\n    </tr>\n    <tr>\n      <th>6672</th>\n      <td>12785083</td>\n      <td>19212376+5204593</td>\n      <td>1.154</td>\n    </tr>\n    <tr>\n      <th>6673</th>\n      <td>12785250</td>\n      <td>19214766+5205365</td>\n      <td>1.386</td>\n    </tr>\n    <tr>\n      <th>6674</th>\n      <td>12884116</td>\n      <td>19182431+5215519</td>\n      <td>1.081</td>\n    </tr>\n    <tr>\n      <th>6675</th>\n      <td>12884930</td>\n      <td>19200187+5214588</td>\n      <td>1.343</td>\n    </tr>\n  </tbody>\n</table>\n<p>6529 rows × 3 columns</p>\n</div>"
     },
     "execution_count": 6,
     "metadata": {},
     "output_type": "execute_result"
    }
   ],
   "source": [
    "apoksac_cols = [\"kic\", \"tmass_id\", \"mass\"]\n",
    "apoksac_col_width = [(0, 9), (9, 26), (27, 39)]\n",
    "\n",
    "apoksac = pd.read_fwf(\n",
    "    \"RawData/apk.tsv\",\n",
    "    skiprows=42,\n",
    "    header=None,\n",
    "    index_col=False,\n",
    "    names = apoksac_cols,\n",
    "    colspecs = apoksac_col_width\n",
    ")\n",
    "apoksac = apoksac[0:6676]\n",
    "apoksac = apoksac.dropna()\n",
    "apoksac"
   ],
   "metadata": {
    "collapsed": false
   }
  },
  {
   "cell_type": "code",
   "execution_count": 7,
   "outputs": [],
   "source": [
    "apoksac.to_csv(\"ProcessedData/cleaned_apoksac.csv\", index=False)"
   ],
   "metadata": {
    "collapsed": false
   }
  },
  {
   "cell_type": "markdown",
   "source": [
    "Match APOKSAC data with APOGEE data"
   ],
   "metadata": {
    "collapsed": false
   }
  },
  {
   "cell_type": "markdown",
   "source": [
    "Now that we have separated the APOGEE and APOKSAC data, we need to merge them and save."
   ],
   "metadata": {
    "collapsed": false
   }
  },
  {
   "cell_type": "code",
   "execution_count": 17,
   "outputs": [],
   "source": [
    "apoksac = pd.read_csv(\"ProcessedData/cleaned_apoksac.csv\")\n",
    "apogee = pd.read_csv(\"ProcessedData/cleaned_apogee.csv\")"
   ],
   "metadata": {
    "collapsed": false
   }
  },
  {
   "cell_type": "code",
   "execution_count": 18,
   "outputs": [],
   "source": [
    "# Change tmass_id to made apoksac\n",
    "apogee.tmass_id = apogee.tmass_id.str[4:-1]"
   ],
   "metadata": {
    "collapsed": false
   }
  },
  {
   "cell_type": "code",
   "execution_count": 19,
   "outputs": [
    {
     "data": {
      "text/plain": "                tmass_id       teff      logg      fe_h   alpha_m      c_fe  \\\n0       00000002+7417074  3723.9111  0.904598 -0.160680  0.036922  0.009295   \n1       00000035-7323394  4555.4043  1.498851 -1.171400  0.008442 -0.290710   \n2       00000068+5710233  5031.2637  3.456132 -0.160280  0.055704 -0.025731   \n3       00000133+5721163  4974.6010  2.388251 -0.509530  0.107150 -0.069177   \n4       00000211+6327470  4681.4634  2.245527 -0.075011  0.007694 -0.180636   \n...                  ...        ...       ...       ...       ...       ...   \n419051  23595676+7918072  4311.3926  1.731429 -0.504450  0.246895  0.094351   \n419052  23595756+8535275  5042.2480  4.507292  0.218410 -0.025638 -0.036199   \n419053  23595837+5700444  4954.1700  2.474665 -0.333100  0.088357 -0.096586   \n419054  23595886+5726058  4859.9087  2.480687 -0.236560  0.065434 -0.060314   \n419055  23595921+5609479  4585.4097  2.571437  0.114820  0.037709 -0.011308   \n\n            n_fe      o_fe          ra        dec    rv_chi2  gaiaedr3_pmra  \\\n0       0.151220  0.083402    0.000103  74.285408  82.418500       0.048582   \n1       0.475530  0.152533    0.001467 -73.394287   1.918990       0.255408   \n2       0.084176  0.113698    0.002850  57.173164   9.714903       5.791725   \n3       0.243080  0.185943    0.005558  57.354549   3.004735      -1.146765   \n4       0.345594  0.027783    0.008802  63.463078   6.985389      -0.923788   \n...          ...       ...         ...        ...        ...            ...   \n419051  0.152260  0.287303  359.986523  79.302002  19.251442       6.959701   \n419052  0.152240 -0.004475  359.989841  85.590996  24.161474       1.082104   \n419053  0.248020  0.130718  359.993224  57.012356   2.534307      -3.214342   \n419054  0.201880  0.088913  359.995265  57.434956   8.019061      -0.458060   \n419055  0.209650  0.050574  359.996744  56.163330   8.292177      -1.908003   \n\n        gaiaedr3_pmdec  \n0             0.522249  \n1            -1.269176  \n2           -12.735589  \n3             0.364162  \n4            -0.908006  \n...                ...  \n419051        6.008740  \n419052       -8.449164  \n419053       -0.776885  \n419054       -2.734545  \n419055        0.926537  \n\n[419056 rows x 13 columns]",
      "text/html": "<div>\n<style scoped>\n    .dataframe tbody tr th:only-of-type {\n        vertical-align: middle;\n    }\n\n    .dataframe tbody tr th {\n        vertical-align: top;\n    }\n\n    .dataframe thead th {\n        text-align: right;\n    }\n</style>\n<table border=\"1\" class=\"dataframe\">\n  <thead>\n    <tr style=\"text-align: right;\">\n      <th></th>\n      <th>tmass_id</th>\n      <th>teff</th>\n      <th>logg</th>\n      <th>fe_h</th>\n      <th>alpha_m</th>\n      <th>c_fe</th>\n      <th>n_fe</th>\n      <th>o_fe</th>\n      <th>ra</th>\n      <th>dec</th>\n      <th>rv_chi2</th>\n      <th>gaiaedr3_pmra</th>\n      <th>gaiaedr3_pmdec</th>\n    </tr>\n  </thead>\n  <tbody>\n    <tr>\n      <th>0</th>\n      <td>00000002+7417074</td>\n      <td>3723.9111</td>\n      <td>0.904598</td>\n      <td>-0.160680</td>\n      <td>0.036922</td>\n      <td>0.009295</td>\n      <td>0.151220</td>\n      <td>0.083402</td>\n      <td>0.000103</td>\n      <td>74.285408</td>\n      <td>82.418500</td>\n      <td>0.048582</td>\n      <td>0.522249</td>\n    </tr>\n    <tr>\n      <th>1</th>\n      <td>00000035-7323394</td>\n      <td>4555.4043</td>\n      <td>1.498851</td>\n      <td>-1.171400</td>\n      <td>0.008442</td>\n      <td>-0.290710</td>\n      <td>0.475530</td>\n      <td>0.152533</td>\n      <td>0.001467</td>\n      <td>-73.394287</td>\n      <td>1.918990</td>\n      <td>0.255408</td>\n      <td>-1.269176</td>\n    </tr>\n    <tr>\n      <th>2</th>\n      <td>00000068+5710233</td>\n      <td>5031.2637</td>\n      <td>3.456132</td>\n      <td>-0.160280</td>\n      <td>0.055704</td>\n      <td>-0.025731</td>\n      <td>0.084176</td>\n      <td>0.113698</td>\n      <td>0.002850</td>\n      <td>57.173164</td>\n      <td>9.714903</td>\n      <td>5.791725</td>\n      <td>-12.735589</td>\n    </tr>\n    <tr>\n      <th>3</th>\n      <td>00000133+5721163</td>\n      <td>4974.6010</td>\n      <td>2.388251</td>\n      <td>-0.509530</td>\n      <td>0.107150</td>\n      <td>-0.069177</td>\n      <td>0.243080</td>\n      <td>0.185943</td>\n      <td>0.005558</td>\n      <td>57.354549</td>\n      <td>3.004735</td>\n      <td>-1.146765</td>\n      <td>0.364162</td>\n    </tr>\n    <tr>\n      <th>4</th>\n      <td>00000211+6327470</td>\n      <td>4681.4634</td>\n      <td>2.245527</td>\n      <td>-0.075011</td>\n      <td>0.007694</td>\n      <td>-0.180636</td>\n      <td>0.345594</td>\n      <td>0.027783</td>\n      <td>0.008802</td>\n      <td>63.463078</td>\n      <td>6.985389</td>\n      <td>-0.923788</td>\n      <td>-0.908006</td>\n    </tr>\n    <tr>\n      <th>...</th>\n      <td>...</td>\n      <td>...</td>\n      <td>...</td>\n      <td>...</td>\n      <td>...</td>\n      <td>...</td>\n      <td>...</td>\n      <td>...</td>\n      <td>...</td>\n      <td>...</td>\n      <td>...</td>\n      <td>...</td>\n      <td>...</td>\n    </tr>\n    <tr>\n      <th>419051</th>\n      <td>23595676+7918072</td>\n      <td>4311.3926</td>\n      <td>1.731429</td>\n      <td>-0.504450</td>\n      <td>0.246895</td>\n      <td>0.094351</td>\n      <td>0.152260</td>\n      <td>0.287303</td>\n      <td>359.986523</td>\n      <td>79.302002</td>\n      <td>19.251442</td>\n      <td>6.959701</td>\n      <td>6.008740</td>\n    </tr>\n    <tr>\n      <th>419052</th>\n      <td>23595756+8535275</td>\n      <td>5042.2480</td>\n      <td>4.507292</td>\n      <td>0.218410</td>\n      <td>-0.025638</td>\n      <td>-0.036199</td>\n      <td>0.152240</td>\n      <td>-0.004475</td>\n      <td>359.989841</td>\n      <td>85.590996</td>\n      <td>24.161474</td>\n      <td>1.082104</td>\n      <td>-8.449164</td>\n    </tr>\n    <tr>\n      <th>419053</th>\n      <td>23595837+5700444</td>\n      <td>4954.1700</td>\n      <td>2.474665</td>\n      <td>-0.333100</td>\n      <td>0.088357</td>\n      <td>-0.096586</td>\n      <td>0.248020</td>\n      <td>0.130718</td>\n      <td>359.993224</td>\n      <td>57.012356</td>\n      <td>2.534307</td>\n      <td>-3.214342</td>\n      <td>-0.776885</td>\n    </tr>\n    <tr>\n      <th>419054</th>\n      <td>23595886+5726058</td>\n      <td>4859.9087</td>\n      <td>2.480687</td>\n      <td>-0.236560</td>\n      <td>0.065434</td>\n      <td>-0.060314</td>\n      <td>0.201880</td>\n      <td>0.088913</td>\n      <td>359.995265</td>\n      <td>57.434956</td>\n      <td>8.019061</td>\n      <td>-0.458060</td>\n      <td>-2.734545</td>\n    </tr>\n    <tr>\n      <th>419055</th>\n      <td>23595921+5609479</td>\n      <td>4585.4097</td>\n      <td>2.571437</td>\n      <td>0.114820</td>\n      <td>0.037709</td>\n      <td>-0.011308</td>\n      <td>0.209650</td>\n      <td>0.050574</td>\n      <td>359.996744</td>\n      <td>56.163330</td>\n      <td>8.292177</td>\n      <td>-1.908003</td>\n      <td>0.926537</td>\n    </tr>\n  </tbody>\n</table>\n<p>419056 rows × 13 columns</p>\n</div>"
     },
     "execution_count": 19,
     "metadata": {},
     "output_type": "execute_result"
    }
   ],
   "source": [
    "apogee"
   ],
   "metadata": {
    "collapsed": false
   }
  },
  {
   "cell_type": "code",
   "execution_count": 20,
   "outputs": [
    {
     "data": {
      "text/plain": "           kic          tmass_id   mass\n0      1027110  19250937+3644599  0.985\n1      1027337  19252021+3647118  1.227\n2      1160789  19233280+3652207  0.875\n3      1161447  19241746+3651460  1.460\n4      1161618  19242614+3648478  1.183\n...        ...               ...    ...\n6524  12784948  19210624+5200236  1.254\n6525  12785083  19212376+5204593  1.154\n6526  12785250  19214766+5205365  1.386\n6527  12884116  19182431+5215519  1.081\n6528  12884930  19200187+5214588  1.343\n\n[6529 rows x 3 columns]",
      "text/html": "<div>\n<style scoped>\n    .dataframe tbody tr th:only-of-type {\n        vertical-align: middle;\n    }\n\n    .dataframe tbody tr th {\n        vertical-align: top;\n    }\n\n    .dataframe thead th {\n        text-align: right;\n    }\n</style>\n<table border=\"1\" class=\"dataframe\">\n  <thead>\n    <tr style=\"text-align: right;\">\n      <th></th>\n      <th>kic</th>\n      <th>tmass_id</th>\n      <th>mass</th>\n    </tr>\n  </thead>\n  <tbody>\n    <tr>\n      <th>0</th>\n      <td>1027110</td>\n      <td>19250937+3644599</td>\n      <td>0.985</td>\n    </tr>\n    <tr>\n      <th>1</th>\n      <td>1027337</td>\n      <td>19252021+3647118</td>\n      <td>1.227</td>\n    </tr>\n    <tr>\n      <th>2</th>\n      <td>1160789</td>\n      <td>19233280+3652207</td>\n      <td>0.875</td>\n    </tr>\n    <tr>\n      <th>3</th>\n      <td>1161447</td>\n      <td>19241746+3651460</td>\n      <td>1.460</td>\n    </tr>\n    <tr>\n      <th>4</th>\n      <td>1161618</td>\n      <td>19242614+3648478</td>\n      <td>1.183</td>\n    </tr>\n    <tr>\n      <th>...</th>\n      <td>...</td>\n      <td>...</td>\n      <td>...</td>\n    </tr>\n    <tr>\n      <th>6524</th>\n      <td>12784948</td>\n      <td>19210624+5200236</td>\n      <td>1.254</td>\n    </tr>\n    <tr>\n      <th>6525</th>\n      <td>12785083</td>\n      <td>19212376+5204593</td>\n      <td>1.154</td>\n    </tr>\n    <tr>\n      <th>6526</th>\n      <td>12785250</td>\n      <td>19214766+5205365</td>\n      <td>1.386</td>\n    </tr>\n    <tr>\n      <th>6527</th>\n      <td>12884116</td>\n      <td>19182431+5215519</td>\n      <td>1.081</td>\n    </tr>\n    <tr>\n      <th>6528</th>\n      <td>12884930</td>\n      <td>19200187+5214588</td>\n      <td>1.343</td>\n    </tr>\n  </tbody>\n</table>\n<p>6529 rows × 3 columns</p>\n</div>"
     },
     "execution_count": 20,
     "metadata": {},
     "output_type": "execute_result"
    }
   ],
   "source": [
    "apoksac"
   ],
   "metadata": {
    "collapsed": false
   }
  },
  {
   "cell_type": "code",
   "execution_count": 21,
   "outputs": [
    {
     "data": {
      "text/plain": "              tmass_id       teff      logg      fe_h   alpha_m      c_fe  \\\n0     18401164+4324434  4695.6000  2.873356 -0.326510  0.213425  0.134720   \n1     18401969+4348380  4707.5215  2.840394  0.024199  0.040063 -0.055729   \n2     18402944+4324534  4074.1997  1.340157 -0.283850  0.178795  0.066699   \n3     18403209+4317133  4717.4510  2.729012 -0.374330  0.216875  0.140110   \n4     18403944+4345281  4562.4155  2.391936  0.097223  0.075121  0.094848   \n...                ...        ...       ...       ...       ...       ...   \n6659  20051431+4425508  4502.3390  2.010333 -0.428000  0.111252  0.006040   \n6660  20055400+4415544  4668.8410  2.758913 -0.014616  0.063701 -0.033613   \n6661  20061426+4436582  4529.1280  2.406964  0.260950  0.054435  0.064349   \n6662  20062364+4427383  4949.2600  2.796644  0.147770 -0.023540 -0.151760   \n6663  20063113+4435192  4506.4560  2.269692 -0.043872  0.039503 -0.069332   \n\n          n_fe      o_fe          ra        dec    rv_chi2  gaiaedr3_pmra  \\\n0     0.096659  0.259433  280.048539  43.412071   3.631098      -6.793591   \n1     0.220168  0.067054  280.082042  43.810581  15.003494       1.557371   \n2     0.202960  0.226073  280.122696  43.414841  15.103884       0.065977   \n3     0.123730  0.230283  280.133737  43.287041   3.273681      -3.115116   \n4     0.195747  0.120121  280.164373  43.757812  19.257770       0.723049   \n...        ...       ...         ...        ...        ...            ...   \n6659  0.165750  0.155333  301.309653  44.430798   7.463031      -4.389004   \n6660  0.209690  0.088856  301.475035  44.265125   6.987167      -5.140772   \n6661  0.209800  0.089739  301.559440  44.616180  44.024540     -10.027227   \n6662  0.478130  0.027632  301.598507  44.460659  12.874813       3.107945   \n6663  0.169210  0.066262  301.629715  44.588673  28.853806      -2.788433   \n\n      gaiaedr3_pmdec      kic   mass  \n0          -7.237554  7728958  0.999  \n1          -4.227410  8004637  1.113  \n2          -8.039925  7729057  0.909  \n3           3.063984  7581214  1.034  \n4          -3.535258  7935931  0.998  \n...              ...      ...    ...  \n6659       -2.313065  8462113  1.007  \n6660      -12.114427  8332266  1.149  \n6661      -31.077078  8591738  0.892  \n6662       -1.087092  8462934  2.260  \n6663       -2.542543  8527188  1.223  \n\n[6664 rows x 15 columns]",
      "text/html": "<div>\n<style scoped>\n    .dataframe tbody tr th:only-of-type {\n        vertical-align: middle;\n    }\n\n    .dataframe tbody tr th {\n        vertical-align: top;\n    }\n\n    .dataframe thead th {\n        text-align: right;\n    }\n</style>\n<table border=\"1\" class=\"dataframe\">\n  <thead>\n    <tr style=\"text-align: right;\">\n      <th></th>\n      <th>tmass_id</th>\n      <th>teff</th>\n      <th>logg</th>\n      <th>fe_h</th>\n      <th>alpha_m</th>\n      <th>c_fe</th>\n      <th>n_fe</th>\n      <th>o_fe</th>\n      <th>ra</th>\n      <th>dec</th>\n      <th>rv_chi2</th>\n      <th>gaiaedr3_pmra</th>\n      <th>gaiaedr3_pmdec</th>\n      <th>kic</th>\n      <th>mass</th>\n    </tr>\n  </thead>\n  <tbody>\n    <tr>\n      <th>0</th>\n      <td>18401164+4324434</td>\n      <td>4695.6000</td>\n      <td>2.873356</td>\n      <td>-0.326510</td>\n      <td>0.213425</td>\n      <td>0.134720</td>\n      <td>0.096659</td>\n      <td>0.259433</td>\n      <td>280.048539</td>\n      <td>43.412071</td>\n      <td>3.631098</td>\n      <td>-6.793591</td>\n      <td>-7.237554</td>\n      <td>7728958</td>\n      <td>0.999</td>\n    </tr>\n    <tr>\n      <th>1</th>\n      <td>18401969+4348380</td>\n      <td>4707.5215</td>\n      <td>2.840394</td>\n      <td>0.024199</td>\n      <td>0.040063</td>\n      <td>-0.055729</td>\n      <td>0.220168</td>\n      <td>0.067054</td>\n      <td>280.082042</td>\n      <td>43.810581</td>\n      <td>15.003494</td>\n      <td>1.557371</td>\n      <td>-4.227410</td>\n      <td>8004637</td>\n      <td>1.113</td>\n    </tr>\n    <tr>\n      <th>2</th>\n      <td>18402944+4324534</td>\n      <td>4074.1997</td>\n      <td>1.340157</td>\n      <td>-0.283850</td>\n      <td>0.178795</td>\n      <td>0.066699</td>\n      <td>0.202960</td>\n      <td>0.226073</td>\n      <td>280.122696</td>\n      <td>43.414841</td>\n      <td>15.103884</td>\n      <td>0.065977</td>\n      <td>-8.039925</td>\n      <td>7729057</td>\n      <td>0.909</td>\n    </tr>\n    <tr>\n      <th>3</th>\n      <td>18403209+4317133</td>\n      <td>4717.4510</td>\n      <td>2.729012</td>\n      <td>-0.374330</td>\n      <td>0.216875</td>\n      <td>0.140110</td>\n      <td>0.123730</td>\n      <td>0.230283</td>\n      <td>280.133737</td>\n      <td>43.287041</td>\n      <td>3.273681</td>\n      <td>-3.115116</td>\n      <td>3.063984</td>\n      <td>7581214</td>\n      <td>1.034</td>\n    </tr>\n    <tr>\n      <th>4</th>\n      <td>18403944+4345281</td>\n      <td>4562.4155</td>\n      <td>2.391936</td>\n      <td>0.097223</td>\n      <td>0.075121</td>\n      <td>0.094848</td>\n      <td>0.195747</td>\n      <td>0.120121</td>\n      <td>280.164373</td>\n      <td>43.757812</td>\n      <td>19.257770</td>\n      <td>0.723049</td>\n      <td>-3.535258</td>\n      <td>7935931</td>\n      <td>0.998</td>\n    </tr>\n    <tr>\n      <th>...</th>\n      <td>...</td>\n      <td>...</td>\n      <td>...</td>\n      <td>...</td>\n      <td>...</td>\n      <td>...</td>\n      <td>...</td>\n      <td>...</td>\n      <td>...</td>\n      <td>...</td>\n      <td>...</td>\n      <td>...</td>\n      <td>...</td>\n      <td>...</td>\n      <td>...</td>\n    </tr>\n    <tr>\n      <th>6659</th>\n      <td>20051431+4425508</td>\n      <td>4502.3390</td>\n      <td>2.010333</td>\n      <td>-0.428000</td>\n      <td>0.111252</td>\n      <td>0.006040</td>\n      <td>0.165750</td>\n      <td>0.155333</td>\n      <td>301.309653</td>\n      <td>44.430798</td>\n      <td>7.463031</td>\n      <td>-4.389004</td>\n      <td>-2.313065</td>\n      <td>8462113</td>\n      <td>1.007</td>\n    </tr>\n    <tr>\n      <th>6660</th>\n      <td>20055400+4415544</td>\n      <td>4668.8410</td>\n      <td>2.758913</td>\n      <td>-0.014616</td>\n      <td>0.063701</td>\n      <td>-0.033613</td>\n      <td>0.209690</td>\n      <td>0.088856</td>\n      <td>301.475035</td>\n      <td>44.265125</td>\n      <td>6.987167</td>\n      <td>-5.140772</td>\n      <td>-12.114427</td>\n      <td>8332266</td>\n      <td>1.149</td>\n    </tr>\n    <tr>\n      <th>6661</th>\n      <td>20061426+4436582</td>\n      <td>4529.1280</td>\n      <td>2.406964</td>\n      <td>0.260950</td>\n      <td>0.054435</td>\n      <td>0.064349</td>\n      <td>0.209800</td>\n      <td>0.089739</td>\n      <td>301.559440</td>\n      <td>44.616180</td>\n      <td>44.024540</td>\n      <td>-10.027227</td>\n      <td>-31.077078</td>\n      <td>8591738</td>\n      <td>0.892</td>\n    </tr>\n    <tr>\n      <th>6662</th>\n      <td>20062364+4427383</td>\n      <td>4949.2600</td>\n      <td>2.796644</td>\n      <td>0.147770</td>\n      <td>-0.023540</td>\n      <td>-0.151760</td>\n      <td>0.478130</td>\n      <td>0.027632</td>\n      <td>301.598507</td>\n      <td>44.460659</td>\n      <td>12.874813</td>\n      <td>3.107945</td>\n      <td>-1.087092</td>\n      <td>8462934</td>\n      <td>2.260</td>\n    </tr>\n    <tr>\n      <th>6663</th>\n      <td>20063113+4435192</td>\n      <td>4506.4560</td>\n      <td>2.269692</td>\n      <td>-0.043872</td>\n      <td>0.039503</td>\n      <td>-0.069332</td>\n      <td>0.169210</td>\n      <td>0.066262</td>\n      <td>301.629715</td>\n      <td>44.588673</td>\n      <td>28.853806</td>\n      <td>-2.788433</td>\n      <td>-2.542543</td>\n      <td>8527188</td>\n      <td>1.223</td>\n    </tr>\n  </tbody>\n</table>\n<p>6664 rows × 15 columns</p>\n</div>"
     },
     "execution_count": 21,
     "metadata": {},
     "output_type": "execute_result"
    }
   ],
   "source": [
    "apoksac_mass_prediction_data = pd.merge(apogee, apoksac, on=\"tmass_id\")\n",
    "apoksac_mass_prediction_data.to_csv(\"ProcessedData/mass_prediction_apoksac.csv\", index=False)\n",
    "apoksac_mass_prediction_data"
   ],
   "metadata": {
    "collapsed": false
   }
  },
  {
   "cell_type": "markdown",
   "metadata": {},
   "source": [
    "# Cleaning K2 Data\n",
    "To do so, we need to\n",
    "\n",
    "1. extract the mass coefficient from the data set\n",
    "2. find the effective temperature by finding the data in the GALAH data set by matching the EPIC identifier\n",
    "3. determine the mass\n",
    "4. extract the chemical composition of stars\n",
    "5. store the data for use\n",
    "\n",
    "For the purpose of this, we will keep the mass of stars as a multiple of solar mass."
   ]
  },
  {
   "cell_type": "code",
   "execution_count": 2,
   "metadata": {},
   "outputs": [
    {
     "data": {
      "text/plain": "            EPIC kappa-m-c\n0      201051625     1.324\n1      201079541     1.523\n2      201082897     1.027\n3      201084449     1.544\n4      201084664     1.076\n...          ...       ...\n18817  251619708     0.880\n18818  251620873     0.663\n18819  251621333     1.193\n18820  251622742     1.497\n18821  251630759     1.274\n\n[18822 rows x 2 columns]",
      "text/html": "<div>\n<style scoped>\n    .dataframe tbody tr th:only-of-type {\n        vertical-align: middle;\n    }\n\n    .dataframe tbody tr th {\n        vertical-align: top;\n    }\n\n    .dataframe thead th {\n        text-align: right;\n    }\n</style>\n<table border=\"1\" class=\"dataframe\">\n  <thead>\n    <tr style=\"text-align: right;\">\n      <th></th>\n      <th>EPIC</th>\n      <th>kappa-m-c</th>\n    </tr>\n  </thead>\n  <tbody>\n    <tr>\n      <th>0</th>\n      <td>201051625</td>\n      <td>1.324</td>\n    </tr>\n    <tr>\n      <th>1</th>\n      <td>201079541</td>\n      <td>1.523</td>\n    </tr>\n    <tr>\n      <th>2</th>\n      <td>201082897</td>\n      <td>1.027</td>\n    </tr>\n    <tr>\n      <th>3</th>\n      <td>201084449</td>\n      <td>1.544</td>\n    </tr>\n    <tr>\n      <th>4</th>\n      <td>201084664</td>\n      <td>1.076</td>\n    </tr>\n    <tr>\n      <th>...</th>\n      <td>...</td>\n      <td>...</td>\n    </tr>\n    <tr>\n      <th>18817</th>\n      <td>251619708</td>\n      <td>0.880</td>\n    </tr>\n    <tr>\n      <th>18818</th>\n      <td>251620873</td>\n      <td>0.663</td>\n    </tr>\n    <tr>\n      <th>18819</th>\n      <td>251621333</td>\n      <td>1.193</td>\n    </tr>\n    <tr>\n      <th>18820</th>\n      <td>251622742</td>\n      <td>1.497</td>\n    </tr>\n    <tr>\n      <th>18821</th>\n      <td>251630759</td>\n      <td>1.274</td>\n    </tr>\n  </tbody>\n</table>\n<p>18822 rows × 2 columns</p>\n</div>"
     },
     "execution_count": 2,
     "metadata": {},
     "output_type": "execute_result"
    }
   ],
   "source": [
    "k2_cols = [\"EPIC\", \"kappa-m-c\"]\n",
    "k2_col_width = [(0, 9), (24, 29)]\n",
    "\n",
    "k2 = pd.read_fwf(\n",
    "    \"RawData/k2_mass_coefficients.txt\",\n",
    "    skiprows=50,\n",
    "    header=None,\n",
    "    index_col=False,\n",
    "    names = k2_cols,\n",
    "    colspecs = k2_col_width\n",
    ")\n",
    "k2"
   ]
  },
  {
   "cell_type": "code",
   "execution_count": 3,
   "outputs": [
    {
     "data": {
      "text/plain": "251630759"
     },
     "execution_count": 3,
     "metadata": {},
     "output_type": "execute_result"
    }
   ],
   "source": [
    "max(k2.EPIC)"
   ],
   "metadata": {
    "collapsed": false
   }
  },
  {
   "cell_type": "code",
   "execution_count": 4,
   "outputs": [
    {
     "data": {
      "text/plain": "201051625"
     },
     "execution_count": 4,
     "metadata": {},
     "output_type": "execute_result"
    }
   ],
   "source": [
    "min(k2.EPIC)"
   ],
   "metadata": {
    "collapsed": false
   }
  },
  {
   "cell_type": "markdown",
   "source": [
    "Using Vizier, we map EPIC to 2MASS id"
   ],
   "metadata": {
    "collapsed": false
   }
  },
  {
   "cell_type": "code",
   "execution_count": 10,
   "outputs": [],
   "source": [
    "from astroquery.vizier import Vizier\n",
    "Vizier.ROW_LIMIT = -1\n",
    "EPIC_catalogue_name = \"IV/34/epic\""
   ],
   "metadata": {
    "collapsed": false
   }
  },
  {
   "cell_type": "code",
   "execution_count": 11,
   "outputs": [],
   "source": [
    "v = Vizier(catalog=EPIC_catalogue_name, columns=[\"ID\", \"2MASS\"], row_limit=999999)"
   ],
   "metadata": {
    "collapsed": false
   }
  },
  {
   "cell_type": "code",
   "execution_count": 13,
   "outputs": [],
   "source": [
    "result = v.query_constraints(ID=\"<251630760 and >201051624\")"
   ],
   "metadata": {
    "collapsed": false
   }
  },
  {
   "cell_type": "code",
   "execution_count": 14,
   "outputs": [
    {
     "data": {
      "text/plain": "<Table length=999999>\n    ID         _2MASS     \n  int32        str17      \n--------- ----------------\n210298744 03401628+1036320\n210299795 03400353+1039014\n210299819 03395312+1039051\n210300805 03395427+1041184\n210300557 03394671+1040444\n210300598 03394731+1040497\n210300653 03394673+1040584\n210300883 03394961+1041291\n210301197 03395050+1042094\n210301443 03393859+1042419\n      ...              ...\n248069953 04542205+2620338\n248069782                 \n248070619                 \n248070723 04542738+2620551\n248070635 04543236+2620527\n248073069 04543411+2622019\n248072141 04542657+2621355\n248072820 04542827+2621556\n248072670                 \n248073085 04543204+2622026",
      "text/html": "<div><i>Table length=999999</i>\n<table id=\"table139985176735072\" class=\"table-striped table-bordered table-condensed\">\n<thead><tr><th>ID</th><th>_2MASS</th></tr></thead>\n<thead><tr><th>int32</th><th>str17</th></tr></thead>\n<tr><td>210298744</td><td>03401628+1036320</td></tr>\n<tr><td>210299795</td><td>03400353+1039014</td></tr>\n<tr><td>210299819</td><td>03395312+1039051</td></tr>\n<tr><td>210300805</td><td>03395427+1041184</td></tr>\n<tr><td>210300557</td><td>03394671+1040444</td></tr>\n<tr><td>210300598</td><td>03394731+1040497</td></tr>\n<tr><td>210300653</td><td>03394673+1040584</td></tr>\n<tr><td>210300883</td><td>03394961+1041291</td></tr>\n<tr><td>210301197</td><td>03395050+1042094</td></tr>\n<tr><td>210301443</td><td>03393859+1042419</td></tr>\n<tr><td>...</td><td>...</td></tr>\n<tr><td>248069953</td><td>04542205+2620338</td></tr>\n<tr><td>248069782</td><td></td></tr>\n<tr><td>248070619</td><td></td></tr>\n<tr><td>248070723</td><td>04542738+2620551</td></tr>\n<tr><td>248070635</td><td>04543236+2620527</td></tr>\n<tr><td>248073069</td><td>04543411+2622019</td></tr>\n<tr><td>248072141</td><td>04542657+2621355</td></tr>\n<tr><td>248072820</td><td>04542827+2621556</td></tr>\n<tr><td>248072670</td><td></td></tr>\n<tr><td>248073085</td><td>04543204+2622026</td></tr>\n</table></div>"
     },
     "execution_count": 14,
     "metadata": {},
     "output_type": "execute_result"
    }
   ],
   "source": [
    "result[EPIC_catalogue_name]"
   ],
   "metadata": {
    "collapsed": false
   }
  },
  {
   "cell_type": "code",
   "execution_count": 18,
   "outputs": [],
   "source": [
    "EPICTo2MASS = pd.DataFrame(columns=[\"EPIC\"], data = result[EPIC_catalogue_name][\"ID\"])\n",
    "EPICTo2MASS[\"tmass_id\"] = result[EPIC_catalogue_name][\"_2MASS\"]"
   ],
   "metadata": {
    "collapsed": false
   }
  },
  {
   "cell_type": "code",
   "execution_count": 21,
   "outputs": [
    {
     "data": {
      "text/plain": "             EPIC          tmass_id\n0       210298744  03401628+1036320\n1       210299795  03400353+1039014\n2       210299819  03395312+1039051\n3       210300805  03395427+1041184\n4       210300557  03394671+1040444\n...           ...               ...\n999994  248073069  04543411+2622019\n999995  248072141  04542657+2621355\n999996  248072820  04542827+2621556\n999997  248072670                  \n999998  248073085  04543204+2622026\n\n[999999 rows x 2 columns]",
      "text/html": "<div>\n<style scoped>\n    .dataframe tbody tr th:only-of-type {\n        vertical-align: middle;\n    }\n\n    .dataframe tbody tr th {\n        vertical-align: top;\n    }\n\n    .dataframe thead th {\n        text-align: right;\n    }\n</style>\n<table border=\"1\" class=\"dataframe\">\n  <thead>\n    <tr style=\"text-align: right;\">\n      <th></th>\n      <th>EPIC</th>\n      <th>tmass_id</th>\n    </tr>\n  </thead>\n  <tbody>\n    <tr>\n      <th>0</th>\n      <td>210298744</td>\n      <td>03401628+1036320</td>\n    </tr>\n    <tr>\n      <th>1</th>\n      <td>210299795</td>\n      <td>03400353+1039014</td>\n    </tr>\n    <tr>\n      <th>2</th>\n      <td>210299819</td>\n      <td>03395312+1039051</td>\n    </tr>\n    <tr>\n      <th>3</th>\n      <td>210300805</td>\n      <td>03395427+1041184</td>\n    </tr>\n    <tr>\n      <th>4</th>\n      <td>210300557</td>\n      <td>03394671+1040444</td>\n    </tr>\n    <tr>\n      <th>...</th>\n      <td>...</td>\n      <td>...</td>\n    </tr>\n    <tr>\n      <th>999994</th>\n      <td>248073069</td>\n      <td>04543411+2622019</td>\n    </tr>\n    <tr>\n      <th>999995</th>\n      <td>248072141</td>\n      <td>04542657+2621355</td>\n    </tr>\n    <tr>\n      <th>999996</th>\n      <td>248072820</td>\n      <td>04542827+2621556</td>\n    </tr>\n    <tr>\n      <th>999997</th>\n      <td>248072670</td>\n      <td></td>\n    </tr>\n    <tr>\n      <th>999998</th>\n      <td>248073085</td>\n      <td>04543204+2622026</td>\n    </tr>\n  </tbody>\n</table>\n<p>999999 rows × 2 columns</p>\n</div>"
     },
     "execution_count": 21,
     "metadata": {},
     "output_type": "execute_result"
    }
   ],
   "source": [
    "EPICTo2MASS"
   ],
   "metadata": {
    "collapsed": false
   }
  },
  {
   "cell_type": "code",
   "execution_count": 24,
   "outputs": [
    {
     "data": {
      "text/plain": "           EPIC kappa-m-c          tmass_id\n0     210318757     1.340  03521798+1118166\n1     210320099     1.432  03523395+1120459\n2     210326245     0.722  03520963+1132166\n3     210326681     2.103  03535366+1133062\n4     210338347     1.464  03552199+1153369\n...         ...       ...               ...\n1315  248139237     1.834  04394270+2655256\n1316  248140372     2.066  04403807+2656003\n1317  248141614     0.809  04403223+2656416\n1318  248141616     1.350  04391822+2656415\n1319  248143343     1.590  04412483+2657385\n\n[1320 rows x 3 columns]",
      "text/html": "<div>\n<style scoped>\n    .dataframe tbody tr th:only-of-type {\n        vertical-align: middle;\n    }\n\n    .dataframe tbody tr th {\n        vertical-align: top;\n    }\n\n    .dataframe thead th {\n        text-align: right;\n    }\n</style>\n<table border=\"1\" class=\"dataframe\">\n  <thead>\n    <tr style=\"text-align: right;\">\n      <th></th>\n      <th>EPIC</th>\n      <th>kappa-m-c</th>\n      <th>tmass_id</th>\n    </tr>\n  </thead>\n  <tbody>\n    <tr>\n      <th>0</th>\n      <td>210318757</td>\n      <td>1.340</td>\n      <td>03521798+1118166</td>\n    </tr>\n    <tr>\n      <th>1</th>\n      <td>210320099</td>\n      <td>1.432</td>\n      <td>03523395+1120459</td>\n    </tr>\n    <tr>\n      <th>2</th>\n      <td>210326245</td>\n      <td>0.722</td>\n      <td>03520963+1132166</td>\n    </tr>\n    <tr>\n      <th>3</th>\n      <td>210326681</td>\n      <td>2.103</td>\n      <td>03535366+1133062</td>\n    </tr>\n    <tr>\n      <th>4</th>\n      <td>210338347</td>\n      <td>1.464</td>\n      <td>03552199+1153369</td>\n    </tr>\n    <tr>\n      <th>...</th>\n      <td>...</td>\n      <td>...</td>\n      <td>...</td>\n    </tr>\n    <tr>\n      <th>1315</th>\n      <td>248139237</td>\n      <td>1.834</td>\n      <td>04394270+2655256</td>\n    </tr>\n    <tr>\n      <th>1316</th>\n      <td>248140372</td>\n      <td>2.066</td>\n      <td>04403807+2656003</td>\n    </tr>\n    <tr>\n      <th>1317</th>\n      <td>248141614</td>\n      <td>0.809</td>\n      <td>04403223+2656416</td>\n    </tr>\n    <tr>\n      <th>1318</th>\n      <td>248141616</td>\n      <td>1.350</td>\n      <td>04391822+2656415</td>\n    </tr>\n    <tr>\n      <th>1319</th>\n      <td>248143343</td>\n      <td>1.590</td>\n      <td>04412483+2657385</td>\n    </tr>\n  </tbody>\n</table>\n<p>1320 rows × 3 columns</p>\n</div>"
     },
     "execution_count": 24,
     "metadata": {},
     "output_type": "execute_result"
    }
   ],
   "source": [
    "EPICTo2MASS = pd.merge(k2, EPICTo2MASS, on=\"EPIC\")\n",
    "EPICTo2MASS"
   ],
   "metadata": {
    "collapsed": false
   }
  },
  {
   "cell_type": "markdown",
   "source": [
    "Merge with GALAH dataset"
   ],
   "metadata": {
    "collapsed": false
   }
  },
  {
   "cell_type": "code",
   "execution_count": 41,
   "outputs": [
    {
     "data": {
      "text/plain": "            sobject_id             tmass_id    gaiadr3_source_id          ra  \\\n0      131216001101010  b'05225435-5857055'  4762753422822077184   80.726471   \n1      131216001101014  b'05242161-5901319'  4762739782006427648   81.090057   \n2      131216001101017  b'05221820-5902598'  4762730882833911808   80.575874   \n3      131216001101022  b'05222284-5903420'  4762727927896411392   80.595207   \n4      131216001101024  b'05225971-5905550'  4762726897104253824   80.748810   \n...                ...                  ...                  ...         ...   \n63569  220422002101020  b'08490304-4234488'  5524145365131834880  132.262680   \n63570  220422002101081  b'08482763-4300045'  5524113543714103168  132.115097   \n63571  220422002101199  b'08431567-4230079'  5524898599314763136  130.815277   \n63572  220422002101203  b'08433930-4230037'  5524851114156313600  130.913773   \n63573  220422002101274  b'08464041-4205267'  5524947901240914176  131.668350   \n\n             dec  flag_sp   chi2_sp          model_name       teff     e_teff  \\\n0     -58.951542        0  0.801761  b'4750_2.50_-0.25'  4747.2780  11.832772   \n1     -59.025547        0  0.866050   b'5000_4.50_0.00'  5007.8013   9.640579   \n2     -59.049953        0  0.843927   b'4750_4.50_0.00'  4801.3870   8.895825   \n3     -59.061672        0  1.240397   b'5250_4.50_0.25'  5278.6343   4.595638   \n4     -59.098625        0  0.875987   b'4500_4.00_0.00'  4613.5550  14.729848   \n...          ...      ...       ...                 ...        ...        ...   \n63569 -42.580215        0  0.907719  b'4250_1.50_-0.50'  4326.2590   6.605823   \n63570 -43.001232        0  0.852804  b'5000_3.00_-0.25'  4892.6210   7.416252   \n63571 -42.502193        0  0.756809   b'5000_3.00_0.00'  4921.5170  12.264063   \n63572 -42.501072        0  0.790913   b'4500_2.50_0.00'  4544.5430  24.683070   \n63573 -42.090771        0  0.759723   b'5000_2.50_0.00'  5028.0234  12.537756   \n\n       ...     rv_k_is  ew_dib5780  sigma_dib5780  rv_dib5780  ew_dib5797  \\\n0      ...   85.141570    0.023134       0.252208   26.350906    0.018000   \n1      ...  -56.604633    0.023699       0.536554   -5.562334    0.025659   \n2      ...  167.882300   -0.012029       0.074605   39.358860    0.016823   \n3      ...  -13.605973    0.015943       0.222795   30.253696   -0.010231   \n4      ... -133.568000    0.021436       0.170836   89.049570   -0.026330   \n...    ...         ...         ...            ...         ...         ...   \n63569  ...  -27.567528    0.242692       0.821876   -4.200578    0.081907   \n63570  ...    7.454720    0.013022       0.100351   42.018845    0.015768   \n63571  ...   27.553760    0.220546       1.030082   45.633423    0.062203   \n63572  ...  -41.585598    0.479357       0.681622  -23.666155    0.169192   \n63573  ...   17.360641    0.336694       1.095364   31.839413    0.058513   \n\n       sigma_dib5797  rv_dib5797  ew_dib6613  sigma_dib6613  rv_dib6613  \n0           0.101814  -39.829533    0.029444       1.492405   31.226997  \n1           0.737862   -5.556193    0.015717       0.446130   -5.526703  \n2           0.127976  -15.108765    0.005813       0.160391   -8.338925  \n3           0.392958  -41.382510    0.007021       0.049410   11.469566  \n4           0.095232   41.361435    0.009535       0.044633   11.150452  \n...              ...         ...         ...            ...         ...  \n63569       0.482253  -31.767265    0.053212       0.267420   -4.404961  \n63570       0.125131  -49.141647    0.015822       0.718062  -11.059895  \n63571       1.144449   13.689507    0.048689       0.384843   61.364906  \n63572       0.646230  -36.374010    0.216087       0.376157  -15.404000  \n63573       0.293633    9.455349    0.088601       0.415951   51.483610  \n\n[63574 rows x 139 columns]",
      "text/html": "<div>\n<style scoped>\n    .dataframe tbody tr th:only-of-type {\n        vertical-align: middle;\n    }\n\n    .dataframe tbody tr th {\n        vertical-align: top;\n    }\n\n    .dataframe thead th {\n        text-align: right;\n    }\n</style>\n<table border=\"1\" class=\"dataframe\">\n  <thead>\n    <tr style=\"text-align: right;\">\n      <th></th>\n      <th>sobject_id</th>\n      <th>tmass_id</th>\n      <th>gaiadr3_source_id</th>\n      <th>ra</th>\n      <th>dec</th>\n      <th>flag_sp</th>\n      <th>chi2_sp</th>\n      <th>model_name</th>\n      <th>teff</th>\n      <th>e_teff</th>\n      <th>...</th>\n      <th>rv_k_is</th>\n      <th>ew_dib5780</th>\n      <th>sigma_dib5780</th>\n      <th>rv_dib5780</th>\n      <th>ew_dib5797</th>\n      <th>sigma_dib5797</th>\n      <th>rv_dib5797</th>\n      <th>ew_dib6613</th>\n      <th>sigma_dib6613</th>\n      <th>rv_dib6613</th>\n    </tr>\n  </thead>\n  <tbody>\n    <tr>\n      <th>0</th>\n      <td>131216001101010</td>\n      <td>b'05225435-5857055'</td>\n      <td>4762753422822077184</td>\n      <td>80.726471</td>\n      <td>-58.951542</td>\n      <td>0</td>\n      <td>0.801761</td>\n      <td>b'4750_2.50_-0.25'</td>\n      <td>4747.2780</td>\n      <td>11.832772</td>\n      <td>...</td>\n      <td>85.141570</td>\n      <td>0.023134</td>\n      <td>0.252208</td>\n      <td>26.350906</td>\n      <td>0.018000</td>\n      <td>0.101814</td>\n      <td>-39.829533</td>\n      <td>0.029444</td>\n      <td>1.492405</td>\n      <td>31.226997</td>\n    </tr>\n    <tr>\n      <th>1</th>\n      <td>131216001101014</td>\n      <td>b'05242161-5901319'</td>\n      <td>4762739782006427648</td>\n      <td>81.090057</td>\n      <td>-59.025547</td>\n      <td>0</td>\n      <td>0.866050</td>\n      <td>b'5000_4.50_0.00'</td>\n      <td>5007.8013</td>\n      <td>9.640579</td>\n      <td>...</td>\n      <td>-56.604633</td>\n      <td>0.023699</td>\n      <td>0.536554</td>\n      <td>-5.562334</td>\n      <td>0.025659</td>\n      <td>0.737862</td>\n      <td>-5.556193</td>\n      <td>0.015717</td>\n      <td>0.446130</td>\n      <td>-5.526703</td>\n    </tr>\n    <tr>\n      <th>2</th>\n      <td>131216001101017</td>\n      <td>b'05221820-5902598'</td>\n      <td>4762730882833911808</td>\n      <td>80.575874</td>\n      <td>-59.049953</td>\n      <td>0</td>\n      <td>0.843927</td>\n      <td>b'4750_4.50_0.00'</td>\n      <td>4801.3870</td>\n      <td>8.895825</td>\n      <td>...</td>\n      <td>167.882300</td>\n      <td>-0.012029</td>\n      <td>0.074605</td>\n      <td>39.358860</td>\n      <td>0.016823</td>\n      <td>0.127976</td>\n      <td>-15.108765</td>\n      <td>0.005813</td>\n      <td>0.160391</td>\n      <td>-8.338925</td>\n    </tr>\n    <tr>\n      <th>3</th>\n      <td>131216001101022</td>\n      <td>b'05222284-5903420'</td>\n      <td>4762727927896411392</td>\n      <td>80.595207</td>\n      <td>-59.061672</td>\n      <td>0</td>\n      <td>1.240397</td>\n      <td>b'5250_4.50_0.25'</td>\n      <td>5278.6343</td>\n      <td>4.595638</td>\n      <td>...</td>\n      <td>-13.605973</td>\n      <td>0.015943</td>\n      <td>0.222795</td>\n      <td>30.253696</td>\n      <td>-0.010231</td>\n      <td>0.392958</td>\n      <td>-41.382510</td>\n      <td>0.007021</td>\n      <td>0.049410</td>\n      <td>11.469566</td>\n    </tr>\n    <tr>\n      <th>4</th>\n      <td>131216001101024</td>\n      <td>b'05225971-5905550'</td>\n      <td>4762726897104253824</td>\n      <td>80.748810</td>\n      <td>-59.098625</td>\n      <td>0</td>\n      <td>0.875987</td>\n      <td>b'4500_4.00_0.00'</td>\n      <td>4613.5550</td>\n      <td>14.729848</td>\n      <td>...</td>\n      <td>-133.568000</td>\n      <td>0.021436</td>\n      <td>0.170836</td>\n      <td>89.049570</td>\n      <td>-0.026330</td>\n      <td>0.095232</td>\n      <td>41.361435</td>\n      <td>0.009535</td>\n      <td>0.044633</td>\n      <td>11.150452</td>\n    </tr>\n    <tr>\n      <th>...</th>\n      <td>...</td>\n      <td>...</td>\n      <td>...</td>\n      <td>...</td>\n      <td>...</td>\n      <td>...</td>\n      <td>...</td>\n      <td>...</td>\n      <td>...</td>\n      <td>...</td>\n      <td>...</td>\n      <td>...</td>\n      <td>...</td>\n      <td>...</td>\n      <td>...</td>\n      <td>...</td>\n      <td>...</td>\n      <td>...</td>\n      <td>...</td>\n      <td>...</td>\n      <td>...</td>\n    </tr>\n    <tr>\n      <th>63569</th>\n      <td>220422002101020</td>\n      <td>b'08490304-4234488'</td>\n      <td>5524145365131834880</td>\n      <td>132.262680</td>\n      <td>-42.580215</td>\n      <td>0</td>\n      <td>0.907719</td>\n      <td>b'4250_1.50_-0.50'</td>\n      <td>4326.2590</td>\n      <td>6.605823</td>\n      <td>...</td>\n      <td>-27.567528</td>\n      <td>0.242692</td>\n      <td>0.821876</td>\n      <td>-4.200578</td>\n      <td>0.081907</td>\n      <td>0.482253</td>\n      <td>-31.767265</td>\n      <td>0.053212</td>\n      <td>0.267420</td>\n      <td>-4.404961</td>\n    </tr>\n    <tr>\n      <th>63570</th>\n      <td>220422002101081</td>\n      <td>b'08482763-4300045'</td>\n      <td>5524113543714103168</td>\n      <td>132.115097</td>\n      <td>-43.001232</td>\n      <td>0</td>\n      <td>0.852804</td>\n      <td>b'5000_3.00_-0.25'</td>\n      <td>4892.6210</td>\n      <td>7.416252</td>\n      <td>...</td>\n      <td>7.454720</td>\n      <td>0.013022</td>\n      <td>0.100351</td>\n      <td>42.018845</td>\n      <td>0.015768</td>\n      <td>0.125131</td>\n      <td>-49.141647</td>\n      <td>0.015822</td>\n      <td>0.718062</td>\n      <td>-11.059895</td>\n    </tr>\n    <tr>\n      <th>63571</th>\n      <td>220422002101199</td>\n      <td>b'08431567-4230079'</td>\n      <td>5524898599314763136</td>\n      <td>130.815277</td>\n      <td>-42.502193</td>\n      <td>0</td>\n      <td>0.756809</td>\n      <td>b'5000_3.00_0.00'</td>\n      <td>4921.5170</td>\n      <td>12.264063</td>\n      <td>...</td>\n      <td>27.553760</td>\n      <td>0.220546</td>\n      <td>1.030082</td>\n      <td>45.633423</td>\n      <td>0.062203</td>\n      <td>1.144449</td>\n      <td>13.689507</td>\n      <td>0.048689</td>\n      <td>0.384843</td>\n      <td>61.364906</td>\n    </tr>\n    <tr>\n      <th>63572</th>\n      <td>220422002101203</td>\n      <td>b'08433930-4230037'</td>\n      <td>5524851114156313600</td>\n      <td>130.913773</td>\n      <td>-42.501072</td>\n      <td>0</td>\n      <td>0.790913</td>\n      <td>b'4500_2.50_0.00'</td>\n      <td>4544.5430</td>\n      <td>24.683070</td>\n      <td>...</td>\n      <td>-41.585598</td>\n      <td>0.479357</td>\n      <td>0.681622</td>\n      <td>-23.666155</td>\n      <td>0.169192</td>\n      <td>0.646230</td>\n      <td>-36.374010</td>\n      <td>0.216087</td>\n      <td>0.376157</td>\n      <td>-15.404000</td>\n    </tr>\n    <tr>\n      <th>63573</th>\n      <td>220422002101274</td>\n      <td>b'08464041-4205267'</td>\n      <td>5524947901240914176</td>\n      <td>131.668350</td>\n      <td>-42.090771</td>\n      <td>0</td>\n      <td>0.759723</td>\n      <td>b'5000_2.50_0.00'</td>\n      <td>5028.0234</td>\n      <td>12.537756</td>\n      <td>...</td>\n      <td>17.360641</td>\n      <td>0.336694</td>\n      <td>1.095364</td>\n      <td>31.839413</td>\n      <td>0.058513</td>\n      <td>0.293633</td>\n      <td>9.455349</td>\n      <td>0.088601</td>\n      <td>0.415951</td>\n      <td>51.483610</td>\n    </tr>\n  </tbody>\n</table>\n<p>63574 rows × 139 columns</p>\n</div>"
     },
     "execution_count": 41,
     "metadata": {},
     "output_type": "execute_result"
    }
   ],
   "source": [
    "galah = pd.read_csv(\"ProcessedData/cleaned_galah.csv\")\n",
    "galah['tmass_id'] = galah.tmass_id.str[2:-1]\n",
    "galah"
   ],
   "metadata": {
    "collapsed": false
   }
  },
  {
   "cell_type": "code",
   "execution_count": 45,
   "outputs": [],
   "source": [
    "k2WithMass = pd.merge(EPICTo2MASS, galah, on=\"tmass_id\")"
   ],
   "metadata": {
    "collapsed": false
   }
  },
  {
   "cell_type": "code",
   "execution_count": 46,
   "outputs": [
    {
     "data": {
      "text/plain": "          EPIC kappa-m-c          tmass_id       sobject_id  \\\n0    210338347     1.464  03552199+1153369  160109002001118   \n1    210349156     1.815  03534985+1211549  151110003701190   \n2    210352451     1.545  03551092+1217213  160109002001223   \n3    210354399     2.022  03533889+1220365  151110003701205   \n4    210365611     1.656  03551179+1238117  151110003701277   \n..         ...       ...               ...              ...   \n322  248062122     1.662  04450672+2616471  170127001601383   \n323  248075236     1.413  04433443+2623011  170127001601352   \n324  248095314     2.228  04413875+2632381  170127001601264   \n325  248100939     1.275  04433475+2635256  170127001601334   \n326  248112024     1.090  04430848+2641069  170127001601321   \n\n      gaiadr3_source_id         ra        dec  flag_sp   chi2_sp  \\\n0     36770937305228032  58.841625  11.893583        0  0.901462   \n1     36841924524592128  58.457706  12.198611        0  1.047793   \n2     38302896302859776  58.795540  12.289278        0  1.029681   \n3     36852777904768384  58.412125  12.343472        0  0.966639   \n4     38365813278903168  58.799168  12.636611        0  1.007371   \n..                  ...        ...        ...      ...       ...   \n322  148314772738400512  71.278038  26.279751        0  0.885755   \n323  148327318338432256  70.893501  26.383694        0  0.831457   \n324  148535263475584512  70.411499  26.543917        0  0.934626   \n325  148525367870877824  70.894791  26.590500        0  1.291657   \n326  148530036499035520  70.785294  26.685305        0  0.843348   \n\n             model_name  ...     rv_k_is  ew_dib5780  sigma_dib5780  \\\n0    b'4750_2.00_-0.50'  ...  -29.411842    0.260102       0.843183   \n1     b'4750_2.50_0.00'  ...   22.865572    0.181036       0.918487   \n2     b'4750_3.00_0.00'  ...  -43.256960    0.199201       0.936750   \n3     b'4500_2.00_0.00'  ...   46.464798    0.203011       0.999752   \n4     b'4500_2.50_0.00'  ... -127.117096    0.205928       0.943600   \n..                  ...  ...         ...         ...            ...   \n322  b'4750_2.00_-0.50'  ...   34.263050    0.277230       1.104694   \n323  b'5000_3.00_-0.50'  ...   65.361206    0.202883       1.126538   \n324  b'4500_2.00_-0.25'  ...   39.177353    0.237821       1.223675   \n325   b'4750_2.50_0.00'  ...   38.992256    0.217997       1.074829   \n326  b'4750_2.00_-0.50'  ...  -11.066368    0.237607       0.936649   \n\n     rv_dib5780  ew_dib5797  sigma_dib5797  rv_dib5797  ew_dib6613  \\\n0    -10.689837    0.064369       0.381781  -29.708410    0.069195   \n1     43.105785    0.069973       0.670325   15.724678    0.040888   \n2    -11.260378    0.059218       0.362096  -39.275707    0.050964   \n3     57.970570    0.061306       0.213619   52.812390    0.053367   \n4     25.137930    0.036154       0.154188   -8.065115   -0.041152   \n..          ...         ...            ...         ...         ...   \n322   51.180550   -0.076777       0.324829   43.911167   -0.128312   \n323   81.940250   -0.103720       0.317693   68.764000   -0.007863   \n324   60.534985   -0.070386       0.244205   50.768234    0.117147   \n325   64.467674   -0.077106       0.232650   47.289577    0.128313   \n326    8.140424    0.091517       0.297077   -5.675987    0.054731   \n\n     sigma_dib6613  rv_dib6613  \n0         0.335458   -6.634755  \n1         0.299672   48.644352  \n2         0.463754  -15.328494  \n3         0.294525   71.317500  \n4         0.502284   42.394573  \n..             ...         ...  \n322       0.336749   61.070377  \n323       0.098643    7.709849  \n324       0.353773   63.977264  \n325       0.382951   65.287200  \n326       0.158130    5.296797  \n\n[327 rows x 141 columns]",
      "text/html": "<div>\n<style scoped>\n    .dataframe tbody tr th:only-of-type {\n        vertical-align: middle;\n    }\n\n    .dataframe tbody tr th {\n        vertical-align: top;\n    }\n\n    .dataframe thead th {\n        text-align: right;\n    }\n</style>\n<table border=\"1\" class=\"dataframe\">\n  <thead>\n    <tr style=\"text-align: right;\">\n      <th></th>\n      <th>EPIC</th>\n      <th>kappa-m-c</th>\n      <th>tmass_id</th>\n      <th>sobject_id</th>\n      <th>gaiadr3_source_id</th>\n      <th>ra</th>\n      <th>dec</th>\n      <th>flag_sp</th>\n      <th>chi2_sp</th>\n      <th>model_name</th>\n      <th>...</th>\n      <th>rv_k_is</th>\n      <th>ew_dib5780</th>\n      <th>sigma_dib5780</th>\n      <th>rv_dib5780</th>\n      <th>ew_dib5797</th>\n      <th>sigma_dib5797</th>\n      <th>rv_dib5797</th>\n      <th>ew_dib6613</th>\n      <th>sigma_dib6613</th>\n      <th>rv_dib6613</th>\n    </tr>\n  </thead>\n  <tbody>\n    <tr>\n      <th>0</th>\n      <td>210338347</td>\n      <td>1.464</td>\n      <td>03552199+1153369</td>\n      <td>160109002001118</td>\n      <td>36770937305228032</td>\n      <td>58.841625</td>\n      <td>11.893583</td>\n      <td>0</td>\n      <td>0.901462</td>\n      <td>b'4750_2.00_-0.50'</td>\n      <td>...</td>\n      <td>-29.411842</td>\n      <td>0.260102</td>\n      <td>0.843183</td>\n      <td>-10.689837</td>\n      <td>0.064369</td>\n      <td>0.381781</td>\n      <td>-29.708410</td>\n      <td>0.069195</td>\n      <td>0.335458</td>\n      <td>-6.634755</td>\n    </tr>\n    <tr>\n      <th>1</th>\n      <td>210349156</td>\n      <td>1.815</td>\n      <td>03534985+1211549</td>\n      <td>151110003701190</td>\n      <td>36841924524592128</td>\n      <td>58.457706</td>\n      <td>12.198611</td>\n      <td>0</td>\n      <td>1.047793</td>\n      <td>b'4750_2.50_0.00'</td>\n      <td>...</td>\n      <td>22.865572</td>\n      <td>0.181036</td>\n      <td>0.918487</td>\n      <td>43.105785</td>\n      <td>0.069973</td>\n      <td>0.670325</td>\n      <td>15.724678</td>\n      <td>0.040888</td>\n      <td>0.299672</td>\n      <td>48.644352</td>\n    </tr>\n    <tr>\n      <th>2</th>\n      <td>210352451</td>\n      <td>1.545</td>\n      <td>03551092+1217213</td>\n      <td>160109002001223</td>\n      <td>38302896302859776</td>\n      <td>58.795540</td>\n      <td>12.289278</td>\n      <td>0</td>\n      <td>1.029681</td>\n      <td>b'4750_3.00_0.00'</td>\n      <td>...</td>\n      <td>-43.256960</td>\n      <td>0.199201</td>\n      <td>0.936750</td>\n      <td>-11.260378</td>\n      <td>0.059218</td>\n      <td>0.362096</td>\n      <td>-39.275707</td>\n      <td>0.050964</td>\n      <td>0.463754</td>\n      <td>-15.328494</td>\n    </tr>\n    <tr>\n      <th>3</th>\n      <td>210354399</td>\n      <td>2.022</td>\n      <td>03533889+1220365</td>\n      <td>151110003701205</td>\n      <td>36852777904768384</td>\n      <td>58.412125</td>\n      <td>12.343472</td>\n      <td>0</td>\n      <td>0.966639</td>\n      <td>b'4500_2.00_0.00'</td>\n      <td>...</td>\n      <td>46.464798</td>\n      <td>0.203011</td>\n      <td>0.999752</td>\n      <td>57.970570</td>\n      <td>0.061306</td>\n      <td>0.213619</td>\n      <td>52.812390</td>\n      <td>0.053367</td>\n      <td>0.294525</td>\n      <td>71.317500</td>\n    </tr>\n    <tr>\n      <th>4</th>\n      <td>210365611</td>\n      <td>1.656</td>\n      <td>03551179+1238117</td>\n      <td>151110003701277</td>\n      <td>38365813278903168</td>\n      <td>58.799168</td>\n      <td>12.636611</td>\n      <td>0</td>\n      <td>1.007371</td>\n      <td>b'4500_2.50_0.00'</td>\n      <td>...</td>\n      <td>-127.117096</td>\n      <td>0.205928</td>\n      <td>0.943600</td>\n      <td>25.137930</td>\n      <td>0.036154</td>\n      <td>0.154188</td>\n      <td>-8.065115</td>\n      <td>-0.041152</td>\n      <td>0.502284</td>\n      <td>42.394573</td>\n    </tr>\n    <tr>\n      <th>...</th>\n      <td>...</td>\n      <td>...</td>\n      <td>...</td>\n      <td>...</td>\n      <td>...</td>\n      <td>...</td>\n      <td>...</td>\n      <td>...</td>\n      <td>...</td>\n      <td>...</td>\n      <td>...</td>\n      <td>...</td>\n      <td>...</td>\n      <td>...</td>\n      <td>...</td>\n      <td>...</td>\n      <td>...</td>\n      <td>...</td>\n      <td>...</td>\n      <td>...</td>\n      <td>...</td>\n    </tr>\n    <tr>\n      <th>322</th>\n      <td>248062122</td>\n      <td>1.662</td>\n      <td>04450672+2616471</td>\n      <td>170127001601383</td>\n      <td>148314772738400512</td>\n      <td>71.278038</td>\n      <td>26.279751</td>\n      <td>0</td>\n      <td>0.885755</td>\n      <td>b'4750_2.00_-0.50'</td>\n      <td>...</td>\n      <td>34.263050</td>\n      <td>0.277230</td>\n      <td>1.104694</td>\n      <td>51.180550</td>\n      <td>-0.076777</td>\n      <td>0.324829</td>\n      <td>43.911167</td>\n      <td>-0.128312</td>\n      <td>0.336749</td>\n      <td>61.070377</td>\n    </tr>\n    <tr>\n      <th>323</th>\n      <td>248075236</td>\n      <td>1.413</td>\n      <td>04433443+2623011</td>\n      <td>170127001601352</td>\n      <td>148327318338432256</td>\n      <td>70.893501</td>\n      <td>26.383694</td>\n      <td>0</td>\n      <td>0.831457</td>\n      <td>b'5000_3.00_-0.50'</td>\n      <td>...</td>\n      <td>65.361206</td>\n      <td>0.202883</td>\n      <td>1.126538</td>\n      <td>81.940250</td>\n      <td>-0.103720</td>\n      <td>0.317693</td>\n      <td>68.764000</td>\n      <td>-0.007863</td>\n      <td>0.098643</td>\n      <td>7.709849</td>\n    </tr>\n    <tr>\n      <th>324</th>\n      <td>248095314</td>\n      <td>2.228</td>\n      <td>04413875+2632381</td>\n      <td>170127001601264</td>\n      <td>148535263475584512</td>\n      <td>70.411499</td>\n      <td>26.543917</td>\n      <td>0</td>\n      <td>0.934626</td>\n      <td>b'4500_2.00_-0.25'</td>\n      <td>...</td>\n      <td>39.177353</td>\n      <td>0.237821</td>\n      <td>1.223675</td>\n      <td>60.534985</td>\n      <td>-0.070386</td>\n      <td>0.244205</td>\n      <td>50.768234</td>\n      <td>0.117147</td>\n      <td>0.353773</td>\n      <td>63.977264</td>\n    </tr>\n    <tr>\n      <th>325</th>\n      <td>248100939</td>\n      <td>1.275</td>\n      <td>04433475+2635256</td>\n      <td>170127001601334</td>\n      <td>148525367870877824</td>\n      <td>70.894791</td>\n      <td>26.590500</td>\n      <td>0</td>\n      <td>1.291657</td>\n      <td>b'4750_2.50_0.00'</td>\n      <td>...</td>\n      <td>38.992256</td>\n      <td>0.217997</td>\n      <td>1.074829</td>\n      <td>64.467674</td>\n      <td>-0.077106</td>\n      <td>0.232650</td>\n      <td>47.289577</td>\n      <td>0.128313</td>\n      <td>0.382951</td>\n      <td>65.287200</td>\n    </tr>\n    <tr>\n      <th>326</th>\n      <td>248112024</td>\n      <td>1.090</td>\n      <td>04430848+2641069</td>\n      <td>170127001601321</td>\n      <td>148530036499035520</td>\n      <td>70.785294</td>\n      <td>26.685305</td>\n      <td>0</td>\n      <td>0.843348</td>\n      <td>b'4750_2.00_-0.50'</td>\n      <td>...</td>\n      <td>-11.066368</td>\n      <td>0.237607</td>\n      <td>0.936649</td>\n      <td>8.140424</td>\n      <td>0.091517</td>\n      <td>0.297077</td>\n      <td>-5.675987</td>\n      <td>0.054731</td>\n      <td>0.158130</td>\n      <td>5.296797</td>\n    </tr>\n  </tbody>\n</table>\n<p>327 rows × 141 columns</p>\n</div>"
     },
     "execution_count": 46,
     "metadata": {},
     "output_type": "execute_result"
    }
   ],
   "source": [
    "k2WithMass"
   ],
   "metadata": {
    "collapsed": false
   }
  },
  {
   "cell_type": "markdown",
   "metadata": {},
   "source": [
    "To determine the mass for K2 stars, we use the following formula (from K2 Galactic Archaeology Program DR3):\n",
    "\n",
    "$$ \\frac{M}{M_\\odot} = \\kappa_M (\\frac{T_{eff}}{T_{eff, \\odot}})^{3/2} $$\n",
    "\n",
    "To do so, we will use [gaia-kepler.fun](https://gaia-kepler.fun) in order to determine the link K2 and GALAH data\n",
    "- More information of the tables in the data set is given by [this documentation](https://exoplanetarchive.ipac.caltech.edu/docs/API_keplerstellar_columns.html)\n",
    "- To do this, we will first match the K2 data with the `k2ToGaia`\n",
    "\n"
   ],
   "outputs": []
  },
  {
   "cell_type": "code",
   "execution_count": 61,
   "outputs": [],
   "source": [
    "# According to the International Astronomical Union (IAU), effective temperature of the sun is 5772 +- 0.8K\n",
    "teff_sun = float(5772)\n",
    "k2WithMass[\"mass\"] = pd.to_numeric(k2WithMass[\"kappa-m-c\"]) * (k2WithMass.teff / teff_sun)**(3/2)"
   ],
   "metadata": {
    "collapsed": false
   }
  },
  {
   "cell_type": "code",
   "execution_count": 64,
   "outputs": [],
   "source": [
    "k2WithMass.to_csv(\"ProcessedData/cleaned_k2.csv\", index=False)"
   ],
   "metadata": {
    "collapsed": false
   }
  }
 ],
 "metadata": {
  "kernelspec": {
   "display_name": "Python 3 (ipykernel)",
   "language": "python",
   "name": "python3"
  },
  "language_info": {
   "codemirror_mode": {
    "name": "ipython",
    "version": 3
   },
   "file_extension": ".py",
   "mimetype": "text/x-python",
   "name": "python",
   "nbconvert_exporter": "python",
   "pygments_lexer": "ipython3",
   "version": "3.9.7"
  }
 },
 "nbformat": 4,
 "nbformat_minor": 1
}
