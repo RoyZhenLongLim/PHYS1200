{
 "cells": [
  {
   "cell_type": "markdown",
   "metadata": {},
   "source": [
    "The goal for this piece of code is:\n",
    "- Clean the data for the following datasets:\n",
    "    - K2\n",
    "    - APOKSAC\n",
    "    - APOGEE\n",
    "    - GALAH\n",
    "\n",
    "After we have cleaned the datas is\n",
    "- Use K2 model to predict the mass for APOGEE and GALAH\n",
    "- Use APOKSAC model to predict mass for APOGEE\n",
    "\n",
    "The goal is to get a table contain the following for all the data sets and use this to predict the mass of stars.\n",
    "The table include parameters such as:\n",
    "\n",
    "- Effective Temperature\n",
    "- Log g\n",
    "- Iron Abundance [Fe/H]\n",
    "- Alpha Abundance [alpha/Fe]\n",
    "- Carbon Abundance [C/Fe]\n",
    "- Nitrogen Abundance [N/Fe]\n",
    "- Oxygen Abundance [O/Fe]\n",
    "\n",
    "In addition, we will extract the stars id to allow for identification\n",
    "\n",
    "- `tmass_id` 2MASS IDs\n",
    "- `gaiadr3_source_id` Gaia Id"
   ]
  },
  {
   "cell_type": "markdown",
   "metadata": {},
   "source": [
    "Importing the required packages"
   ]
  },
  {
   "cell_type": "code",
   "execution_count": 1,
   "metadata": {},
   "outputs": [],
   "source": [
    "from astropy.table import Table\n",
    "import pandas as pd         # For table/data management"
   ]
  },
  {
   "cell_type": "markdown",
   "metadata": {},
   "source": [
    "# Cleaning the GALAH Data"
   ]
  },
  {
   "cell_type": "code",
   "execution_count": 2,
   "metadata": {},
   "outputs": [],
   "source": [
    "# Import the data and change into a data frame\n",
    "def importGalah():\n",
    "    galah = Table.read(\"RawData/galah_dr4_allspec_220713.fits\", format = \"fits\")\n",
    "    names = [name for name in galah.colnames if len(galah[name].shape) <= 1]\n",
    "    galah = galah[names].to_pandas()\n",
    "    return galah"
   ]
  },
  {
   "cell_type": "code",
   "execution_count": 3,
   "outputs": [],
   "source": [
    "galah = importGalah()"
   ],
   "metadata": {
    "collapsed": false
   }
  },
  {
   "cell_type": "markdown",
   "metadata": {},
   "source": [
    "For Apogee Data, there are a few recommendations (this usually indicates that the data has some issues, e.g. unreliably broadening and other issues) for the flag that should be applied:\n",
    "- `snr_c3_iraf > 30`\n",
    "- `flag_sp == 0`\n",
    "- For any element `X`, the flag `flag_X_fe == 0`\n",
    "\n",
    "More information can be found [the GALAH Survey Website](https://www.galah-survey.org/dr3/flags/)"
   ]
  },
  {
   "cell_type": "code",
   "execution_count": 40,
   "metadata": {},
   "outputs": [],
   "source": [
    "# Filter the data\n",
    "# galah = galah.loc[galah[\"snr_c3_iraf\"] > 30]\n",
    "galah = galah.loc[galah[\"flag_sp\"] == 0]\n",
    "galah = galah.loc[galah[\"flag_fe_h\"] == 0]\n",
    "galah = galah.loc[galah[\"flag_al_fe\"] == 0]\n",
    "galah = galah.loc[galah[\"flag_c_fe\"] == 0]\n",
    "galah = galah.loc[galah[\"flag_n_fe\"] == 0]\n",
    "galah = galah.loc[galah[\"flag_o_fe\"] == 0]"
   ]
  },
  {
   "cell_type": "code",
   "execution_count": 48,
   "outputs": [
    {
     "data": {
      "text/plain": "             sobject_id             tmass_id    gaiadr3_source_id          ra  \\\n5       131216001101010  b'05225435-5857055'  4762753422822077184   80.726471   \n8       131216001101014  b'05242161-5901319'  4762739782006427648   81.090057   \n11      131216001101017  b'05221820-5902598'  4762730882833911808   80.575874   \n14      131216001101020  b'05215205-5900418'  4762731226431207168   80.466881   \n16      131216001101022  b'05222284-5903420'  4762727927896411392   80.595207   \n...                 ...                  ...                  ...         ...   \n911514  220422002101122  b'08460664-4312461'  5524054930300489088  131.527679   \n911566  220422002101199  b'08431567-4230079'  5524898599314763136  130.815277   \n911568  220422002101203  b'08433930-4230037'  5524851114156313600  130.913773   \n911580  220422002101217  b'08444698-4217078'  5524953604957635456  131.195679   \n911626  220422002101274  b'08464041-4205267'  5524947901240914176  131.668350   \n\n              dec  flag_sp   chi2_sp          model_name         teff  \\\n5      -58.951542        0  0.801761  b'4750_2.50_-0.25'  4747.277832   \n8      -59.025547        0  0.866050   b'5000_4.50_0.00'  5007.801270   \n11     -59.049953        0  0.843927   b'4750_4.50_0.00'  4801.387207   \n14     -59.011616        0  0.802972  b'5000_3.50_-0.50'  4970.567383   \n16     -59.061672        0  1.240397   b'5250_4.50_0.25'  5278.634277   \n...           ...      ...       ...                 ...          ...   \n911514 -43.212841        0  0.732496  b'4750_2.50_-0.25'  4604.052734   \n911566 -42.502193        0  0.756809   b'5000_3.00_0.00'  4921.517090   \n911568 -42.501072        0  0.790913   b'4500_2.50_0.00'  4544.542969   \n911580 -42.285442        0  0.743674   b'4750_4.50_0.00'  4600.755371   \n911626 -42.090771        0  0.759723   b'5000_2.50_0.00'  5028.023438   \n\n           e_teff  ...     rv_k_is  ew_dib5780  sigma_dib5780  rv_dib5780  \\\n5       11.832772  ...   85.141571    0.023134       0.252208   26.350906   \n8        9.640579  ...  -56.604633    0.023699       0.536554   -5.562334   \n11       8.895825  ...  167.882294   -0.012029       0.074605   39.358860   \n14      11.251250  ... -126.514061    0.020683       0.284295   22.414080   \n16       4.595638  ...  -13.605973    0.015943       0.222795   30.253696   \n...           ...  ...         ...         ...            ...         ...   \n911514  18.468470  ...  -20.082527    0.320185       1.122763   14.676874   \n911566  12.264063  ...   27.553761    0.220546       1.030082   45.633423   \n911568  24.683069  ...  -41.585598    0.479357       0.681622  -23.666155   \n911580  21.286943  ... -154.821548    0.059364       0.431991   -3.519847   \n911626  12.537756  ...   17.360641    0.336694       1.095364   31.839413   \n\n        ew_dib5797  sigma_dib5797  rv_dib5797  ew_dib6613  sigma_dib6613  \\\n5         0.018000       0.101814  -39.829533    0.029444       1.492405   \n8         0.025659       0.737862   -5.556193    0.015717       0.446130   \n11        0.016823       0.127976  -15.108765    0.005813       0.160391   \n14        0.009317       0.090492  -51.941895   -0.017749       0.689322   \n16       -0.010231       0.392958  -41.382511    0.007021       0.049410   \n...            ...            ...         ...         ...            ...   \n911514    0.085219       0.415381  -22.587265    0.079530       0.257229   \n911566    0.062203       1.144449   13.689507    0.048689       0.384843   \n911568    0.169192       0.646230  -36.374008    0.216087       0.376157   \n911580    0.020647       0.016018   -4.275724    0.010610       0.044947   \n911626    0.058513       0.293633    9.455349    0.088601       0.415951   \n\n        rv_dib6613  \n5        31.226997  \n8        -5.526703  \n11       -8.338925  \n14      142.522812  \n16       11.469566  \n...            ...  \n911514    0.847907  \n911566   61.364906  \n911568  -15.404000  \n911580  -10.039660  \n911626   51.483608  \n\n[72121 rows x 139 columns]",
      "text/html": "<div>\n<style scoped>\n    .dataframe tbody tr th:only-of-type {\n        vertical-align: middle;\n    }\n\n    .dataframe tbody tr th {\n        vertical-align: top;\n    }\n\n    .dataframe thead th {\n        text-align: right;\n    }\n</style>\n<table border=\"1\" class=\"dataframe\">\n  <thead>\n    <tr style=\"text-align: right;\">\n      <th></th>\n      <th>sobject_id</th>\n      <th>tmass_id</th>\n      <th>gaiadr3_source_id</th>\n      <th>ra</th>\n      <th>dec</th>\n      <th>flag_sp</th>\n      <th>chi2_sp</th>\n      <th>model_name</th>\n      <th>teff</th>\n      <th>e_teff</th>\n      <th>...</th>\n      <th>rv_k_is</th>\n      <th>ew_dib5780</th>\n      <th>sigma_dib5780</th>\n      <th>rv_dib5780</th>\n      <th>ew_dib5797</th>\n      <th>sigma_dib5797</th>\n      <th>rv_dib5797</th>\n      <th>ew_dib6613</th>\n      <th>sigma_dib6613</th>\n      <th>rv_dib6613</th>\n    </tr>\n  </thead>\n  <tbody>\n    <tr>\n      <th>5</th>\n      <td>131216001101010</td>\n      <td>b'05225435-5857055'</td>\n      <td>4762753422822077184</td>\n      <td>80.726471</td>\n      <td>-58.951542</td>\n      <td>0</td>\n      <td>0.801761</td>\n      <td>b'4750_2.50_-0.25'</td>\n      <td>4747.277832</td>\n      <td>11.832772</td>\n      <td>...</td>\n      <td>85.141571</td>\n      <td>0.023134</td>\n      <td>0.252208</td>\n      <td>26.350906</td>\n      <td>0.018000</td>\n      <td>0.101814</td>\n      <td>-39.829533</td>\n      <td>0.029444</td>\n      <td>1.492405</td>\n      <td>31.226997</td>\n    </tr>\n    <tr>\n      <th>8</th>\n      <td>131216001101014</td>\n      <td>b'05242161-5901319'</td>\n      <td>4762739782006427648</td>\n      <td>81.090057</td>\n      <td>-59.025547</td>\n      <td>0</td>\n      <td>0.866050</td>\n      <td>b'5000_4.50_0.00'</td>\n      <td>5007.801270</td>\n      <td>9.640579</td>\n      <td>...</td>\n      <td>-56.604633</td>\n      <td>0.023699</td>\n      <td>0.536554</td>\n      <td>-5.562334</td>\n      <td>0.025659</td>\n      <td>0.737862</td>\n      <td>-5.556193</td>\n      <td>0.015717</td>\n      <td>0.446130</td>\n      <td>-5.526703</td>\n    </tr>\n    <tr>\n      <th>11</th>\n      <td>131216001101017</td>\n      <td>b'05221820-5902598'</td>\n      <td>4762730882833911808</td>\n      <td>80.575874</td>\n      <td>-59.049953</td>\n      <td>0</td>\n      <td>0.843927</td>\n      <td>b'4750_4.50_0.00'</td>\n      <td>4801.387207</td>\n      <td>8.895825</td>\n      <td>...</td>\n      <td>167.882294</td>\n      <td>-0.012029</td>\n      <td>0.074605</td>\n      <td>39.358860</td>\n      <td>0.016823</td>\n      <td>0.127976</td>\n      <td>-15.108765</td>\n      <td>0.005813</td>\n      <td>0.160391</td>\n      <td>-8.338925</td>\n    </tr>\n    <tr>\n      <th>14</th>\n      <td>131216001101020</td>\n      <td>b'05215205-5900418'</td>\n      <td>4762731226431207168</td>\n      <td>80.466881</td>\n      <td>-59.011616</td>\n      <td>0</td>\n      <td>0.802972</td>\n      <td>b'5000_3.50_-0.50'</td>\n      <td>4970.567383</td>\n      <td>11.251250</td>\n      <td>...</td>\n      <td>-126.514061</td>\n      <td>0.020683</td>\n      <td>0.284295</td>\n      <td>22.414080</td>\n      <td>0.009317</td>\n      <td>0.090492</td>\n      <td>-51.941895</td>\n      <td>-0.017749</td>\n      <td>0.689322</td>\n      <td>142.522812</td>\n    </tr>\n    <tr>\n      <th>16</th>\n      <td>131216001101022</td>\n      <td>b'05222284-5903420'</td>\n      <td>4762727927896411392</td>\n      <td>80.595207</td>\n      <td>-59.061672</td>\n      <td>0</td>\n      <td>1.240397</td>\n      <td>b'5250_4.50_0.25'</td>\n      <td>5278.634277</td>\n      <td>4.595638</td>\n      <td>...</td>\n      <td>-13.605973</td>\n      <td>0.015943</td>\n      <td>0.222795</td>\n      <td>30.253696</td>\n      <td>-0.010231</td>\n      <td>0.392958</td>\n      <td>-41.382511</td>\n      <td>0.007021</td>\n      <td>0.049410</td>\n      <td>11.469566</td>\n    </tr>\n    <tr>\n      <th>...</th>\n      <td>...</td>\n      <td>...</td>\n      <td>...</td>\n      <td>...</td>\n      <td>...</td>\n      <td>...</td>\n      <td>...</td>\n      <td>...</td>\n      <td>...</td>\n      <td>...</td>\n      <td>...</td>\n      <td>...</td>\n      <td>...</td>\n      <td>...</td>\n      <td>...</td>\n      <td>...</td>\n      <td>...</td>\n      <td>...</td>\n      <td>...</td>\n      <td>...</td>\n      <td>...</td>\n    </tr>\n    <tr>\n      <th>911514</th>\n      <td>220422002101122</td>\n      <td>b'08460664-4312461'</td>\n      <td>5524054930300489088</td>\n      <td>131.527679</td>\n      <td>-43.212841</td>\n      <td>0</td>\n      <td>0.732496</td>\n      <td>b'4750_2.50_-0.25'</td>\n      <td>4604.052734</td>\n      <td>18.468470</td>\n      <td>...</td>\n      <td>-20.082527</td>\n      <td>0.320185</td>\n      <td>1.122763</td>\n      <td>14.676874</td>\n      <td>0.085219</td>\n      <td>0.415381</td>\n      <td>-22.587265</td>\n      <td>0.079530</td>\n      <td>0.257229</td>\n      <td>0.847907</td>\n    </tr>\n    <tr>\n      <th>911566</th>\n      <td>220422002101199</td>\n      <td>b'08431567-4230079'</td>\n      <td>5524898599314763136</td>\n      <td>130.815277</td>\n      <td>-42.502193</td>\n      <td>0</td>\n      <td>0.756809</td>\n      <td>b'5000_3.00_0.00'</td>\n      <td>4921.517090</td>\n      <td>12.264063</td>\n      <td>...</td>\n      <td>27.553761</td>\n      <td>0.220546</td>\n      <td>1.030082</td>\n      <td>45.633423</td>\n      <td>0.062203</td>\n      <td>1.144449</td>\n      <td>13.689507</td>\n      <td>0.048689</td>\n      <td>0.384843</td>\n      <td>61.364906</td>\n    </tr>\n    <tr>\n      <th>911568</th>\n      <td>220422002101203</td>\n      <td>b'08433930-4230037'</td>\n      <td>5524851114156313600</td>\n      <td>130.913773</td>\n      <td>-42.501072</td>\n      <td>0</td>\n      <td>0.790913</td>\n      <td>b'4500_2.50_0.00'</td>\n      <td>4544.542969</td>\n      <td>24.683069</td>\n      <td>...</td>\n      <td>-41.585598</td>\n      <td>0.479357</td>\n      <td>0.681622</td>\n      <td>-23.666155</td>\n      <td>0.169192</td>\n      <td>0.646230</td>\n      <td>-36.374008</td>\n      <td>0.216087</td>\n      <td>0.376157</td>\n      <td>-15.404000</td>\n    </tr>\n    <tr>\n      <th>911580</th>\n      <td>220422002101217</td>\n      <td>b'08444698-4217078'</td>\n      <td>5524953604957635456</td>\n      <td>131.195679</td>\n      <td>-42.285442</td>\n      <td>0</td>\n      <td>0.743674</td>\n      <td>b'4750_4.50_0.00'</td>\n      <td>4600.755371</td>\n      <td>21.286943</td>\n      <td>...</td>\n      <td>-154.821548</td>\n      <td>0.059364</td>\n      <td>0.431991</td>\n      <td>-3.519847</td>\n      <td>0.020647</td>\n      <td>0.016018</td>\n      <td>-4.275724</td>\n      <td>0.010610</td>\n      <td>0.044947</td>\n      <td>-10.039660</td>\n    </tr>\n    <tr>\n      <th>911626</th>\n      <td>220422002101274</td>\n      <td>b'08464041-4205267'</td>\n      <td>5524947901240914176</td>\n      <td>131.668350</td>\n      <td>-42.090771</td>\n      <td>0</td>\n      <td>0.759723</td>\n      <td>b'5000_2.50_0.00'</td>\n      <td>5028.023438</td>\n      <td>12.537756</td>\n      <td>...</td>\n      <td>17.360641</td>\n      <td>0.336694</td>\n      <td>1.095364</td>\n      <td>31.839413</td>\n      <td>0.058513</td>\n      <td>0.293633</td>\n      <td>9.455349</td>\n      <td>0.088601</td>\n      <td>0.415951</td>\n      <td>51.483608</td>\n    </tr>\n  </tbody>\n</table>\n<p>72121 rows × 139 columns</p>\n</div>"
     },
     "execution_count": 48,
     "metadata": {},
     "output_type": "execute_result"
    }
   ],
   "source": [
    "galah"
   ],
   "metadata": {
    "collapsed": false
   }
  },
  {
   "cell_type": "markdown",
   "metadata": {},
   "source": [
    "Now the appropriate flag has been used, we extract only the useful columns and save the data for later."
   ]
  },
  {
   "cell_type": "code",
   "execution_count": 50,
   "metadata": {},
   "outputs": [],
   "source": [
    "galah = galah[[\"tmass_id\", \"gaiadr3_source_id\", \"teff\", \"logg\", \"fe_h\", \"al_fe\", \"c_fe\", \"n_fe\", \"o_fe\"]]\n",
    "# Remove all rows with null values\n",
    "galah.dropna()\n",
    "galah.to_csv(\"ProcessedData/cleaned_galah.csv\", index=False)"
   ]
  },
  {
   "cell_type": "code",
   "execution_count": 51,
   "outputs": [
    {
     "data": {
      "text/plain": "                   tmass_id    gaiadr3_source_id         teff      logg  \\\n5       b'05225435-5857055'  4762753422822077184  4747.277832  2.502026   \n8       b'05242161-5901319'  4762739782006427648  5007.801270  4.504993   \n11      b'05221820-5902598'  4762730882833911808  4801.387207  4.519791   \n14      b'05215205-5900418'  4762731226431207168  4970.567383  3.456641   \n16      b'05222284-5903420'  4762727927896411392  5278.634277  4.480108   \n...                     ...                  ...          ...       ...   \n911514  b'08460664-4312461'  5524054930300489088  4604.052734  2.628620   \n911566  b'08431567-4230079'  5524898599314763136  4921.517090  3.204505   \n911568  b'08433930-4230037'  5524851114156313600  4544.542969  2.545092   \n911580  b'08444698-4217078'  5524953604957635456  4600.755371  4.267867   \n911626  b'08464041-4205267'  5524947901240914176  5028.023438  2.762224   \n\n            fe_h     al_fe      c_fe      n_fe      o_fe  \n5      -0.295569  0.242638  0.114089  0.048963  0.213739  \n8       0.065576  0.186914 -0.039235  0.194514 -0.380775  \n11     -0.054487 -0.114537 -0.167340 -0.317684 -0.461599  \n14     -0.314558 -0.047509  0.278630  0.263258  0.441423  \n16      0.221903  0.212420  0.019690  0.207750 -0.092077  \n...          ...       ...       ...       ...       ...  \n911514 -0.104896  0.592156  0.581064  0.267382  0.860856  \n911566  0.015238  0.146001  0.029876  0.221036  0.257410  \n911568  0.151254  0.061476  0.121679 -0.072001  0.024033  \n911580  0.027199 -0.284221  0.148993  0.315737  0.339467  \n911626  0.054385  0.085140 -0.281388  0.341346 -0.391056  \n\n[72121 rows x 9 columns]",
      "text/html": "<div>\n<style scoped>\n    .dataframe tbody tr th:only-of-type {\n        vertical-align: middle;\n    }\n\n    .dataframe tbody tr th {\n        vertical-align: top;\n    }\n\n    .dataframe thead th {\n        text-align: right;\n    }\n</style>\n<table border=\"1\" class=\"dataframe\">\n  <thead>\n    <tr style=\"text-align: right;\">\n      <th></th>\n      <th>tmass_id</th>\n      <th>gaiadr3_source_id</th>\n      <th>teff</th>\n      <th>logg</th>\n      <th>fe_h</th>\n      <th>al_fe</th>\n      <th>c_fe</th>\n      <th>n_fe</th>\n      <th>o_fe</th>\n    </tr>\n  </thead>\n  <tbody>\n    <tr>\n      <th>5</th>\n      <td>b'05225435-5857055'</td>\n      <td>4762753422822077184</td>\n      <td>4747.277832</td>\n      <td>2.502026</td>\n      <td>-0.295569</td>\n      <td>0.242638</td>\n      <td>0.114089</td>\n      <td>0.048963</td>\n      <td>0.213739</td>\n    </tr>\n    <tr>\n      <th>8</th>\n      <td>b'05242161-5901319'</td>\n      <td>4762739782006427648</td>\n      <td>5007.801270</td>\n      <td>4.504993</td>\n      <td>0.065576</td>\n      <td>0.186914</td>\n      <td>-0.039235</td>\n      <td>0.194514</td>\n      <td>-0.380775</td>\n    </tr>\n    <tr>\n      <th>11</th>\n      <td>b'05221820-5902598'</td>\n      <td>4762730882833911808</td>\n      <td>4801.387207</td>\n      <td>4.519791</td>\n      <td>-0.054487</td>\n      <td>-0.114537</td>\n      <td>-0.167340</td>\n      <td>-0.317684</td>\n      <td>-0.461599</td>\n    </tr>\n    <tr>\n      <th>14</th>\n      <td>b'05215205-5900418'</td>\n      <td>4762731226431207168</td>\n      <td>4970.567383</td>\n      <td>3.456641</td>\n      <td>-0.314558</td>\n      <td>-0.047509</td>\n      <td>0.278630</td>\n      <td>0.263258</td>\n      <td>0.441423</td>\n    </tr>\n    <tr>\n      <th>16</th>\n      <td>b'05222284-5903420'</td>\n      <td>4762727927896411392</td>\n      <td>5278.634277</td>\n      <td>4.480108</td>\n      <td>0.221903</td>\n      <td>0.212420</td>\n      <td>0.019690</td>\n      <td>0.207750</td>\n      <td>-0.092077</td>\n    </tr>\n    <tr>\n      <th>...</th>\n      <td>...</td>\n      <td>...</td>\n      <td>...</td>\n      <td>...</td>\n      <td>...</td>\n      <td>...</td>\n      <td>...</td>\n      <td>...</td>\n      <td>...</td>\n    </tr>\n    <tr>\n      <th>911514</th>\n      <td>b'08460664-4312461'</td>\n      <td>5524054930300489088</td>\n      <td>4604.052734</td>\n      <td>2.628620</td>\n      <td>-0.104896</td>\n      <td>0.592156</td>\n      <td>0.581064</td>\n      <td>0.267382</td>\n      <td>0.860856</td>\n    </tr>\n    <tr>\n      <th>911566</th>\n      <td>b'08431567-4230079'</td>\n      <td>5524898599314763136</td>\n      <td>4921.517090</td>\n      <td>3.204505</td>\n      <td>0.015238</td>\n      <td>0.146001</td>\n      <td>0.029876</td>\n      <td>0.221036</td>\n      <td>0.257410</td>\n    </tr>\n    <tr>\n      <th>911568</th>\n      <td>b'08433930-4230037'</td>\n      <td>5524851114156313600</td>\n      <td>4544.542969</td>\n      <td>2.545092</td>\n      <td>0.151254</td>\n      <td>0.061476</td>\n      <td>0.121679</td>\n      <td>-0.072001</td>\n      <td>0.024033</td>\n    </tr>\n    <tr>\n      <th>911580</th>\n      <td>b'08444698-4217078'</td>\n      <td>5524953604957635456</td>\n      <td>4600.755371</td>\n      <td>4.267867</td>\n      <td>0.027199</td>\n      <td>-0.284221</td>\n      <td>0.148993</td>\n      <td>0.315737</td>\n      <td>0.339467</td>\n    </tr>\n    <tr>\n      <th>911626</th>\n      <td>b'08464041-4205267'</td>\n      <td>5524947901240914176</td>\n      <td>5028.023438</td>\n      <td>2.762224</td>\n      <td>0.054385</td>\n      <td>0.085140</td>\n      <td>-0.281388</td>\n      <td>0.341346</td>\n      <td>-0.391056</td>\n    </tr>\n  </tbody>\n</table>\n<p>72121 rows × 9 columns</p>\n</div>"
     },
     "execution_count": 51,
     "metadata": {},
     "output_type": "execute_result"
    }
   ],
   "source": [
    "galah"
   ],
   "metadata": {
    "collapsed": false
   }
  },
  {
   "cell_type": "markdown",
   "metadata": {},
   "source": [
    "# Cleaning APOGEE Data"
   ]
  },
  {
   "cell_type": "code",
   "execution_count": 8,
   "metadata": {},
   "outputs": [],
   "source": [
    "def importApogee():\n",
    "    apogee = Table.read(\"RawData/allStar-dr17-synspec_rev1.fits\", format=\"fits\", hdu=1)\n",
    "    names = [name for name in apogee.colnames if len(apogee[name].shape) <= 1]\n",
    "    apogee = apogee[names].to_pandas()\n",
    "    return apogee"
   ]
  },
  {
   "cell_type": "code",
   "execution_count": 9,
   "outputs": [],
   "source": [
    "apogee = importApogee()"
   ],
   "metadata": {
    "collapsed": false
   }
  },
  {
   "cell_type": "markdown",
   "metadata": {},
   "source": [
    "For APOGEE, we do something similar by making sure all the parameters are working on are good.\n",
    "More information can be found [SDSS explanantion of bitmasks](https://www.sdss.org/dr13/algorithms/bitmasks/#APOGEE_ASPCAPFLAG) and [SDSS recommendations for bitmasks](https://www.sdss.org/dr13/irspec/abundances/)\n",
    "\n",
    "The parameters\n",
    "- `ASPCAPFLAG & STAR_BAD == 0` (`STAR_BAD` is the 23rd bit (starting from 0), or  `STAR_BAD = 0b 1000 0000 0000 0000 0000 0000`)\n",
    "    - `STAR_BAD` is a general indication of whether there are issues with measuring surface temperature, surface gravity, and check if any elements have `GRIDEDGE_BAD` set\n",
    "- `ELEMFLAG`\n",
    "    - Any example of this is `FE_H_FLAG`\n",
    "        - Make sure that the flag does not contain `GRIDEDGE_BAD`, `GRIDEDGE_WARN` and `CALRANGE_BAD`\n",
    "    - We should just check that the flag is equal to zero to eliminate all and any problematic behaviour"
   ]
  },
  {
   "cell_type": "code",
   "execution_count": 12,
   "metadata": {},
   "outputs": [],
   "source": [
    "# Filter the data\n",
    "def cleanApogee(apogee):\n",
    "    STAR_BAD = 1 << 23\n",
    "    apogee = apogee.loc[apogee['ASPCAPFLAG'] & STAR_BAD == 0]\n",
    "    apogee = apogee.loc[apogee['FE_H_FLAG'] == 0]\n",
    "    apogee = apogee.loc[apogee['C_FE_FLAG'] == 0]\n",
    "    apogee = apogee.loc[apogee['AL_FE_FLAG'] == 0]\n",
    "    apogee = apogee.loc[apogee['N_FE_FLAG'] == 0]\n",
    "    apogee = apogee.loc[apogee['O_FE_FLAG'] == 0]\n",
    "    apogee.dropna()\n",
    "    return apogee"
   ]
  },
  {
   "cell_type": "code",
   "execution_count": 13,
   "outputs": [],
   "source": [
    "apogee = cleanApogee(apogee)"
   ],
   "metadata": {
    "collapsed": false
   }
  },
  {
   "cell_type": "markdown",
   "metadata": {},
   "source": [
    "Extract the useful column and save for later"
   ]
  },
  {
   "cell_type": "code",
   "execution_count": 14,
   "metadata": {},
   "outputs": [],
   "source": [
    "apogee = apogee[[\"APOGEE_ID\",\"TEFF\", \"LOGG\", \"FE_H\", \"AL_FE\", \"C_FE\", \"N_FE\", \"O_FE\"]]\n",
    "apogee.columns = apogee.columns.str.lower()\n",
    "apogee.to_csv(\"ProcessedData/cleaned_apogee.csv\", index=False)"
   ]
  },
  {
   "cell_type": "markdown",
   "metadata": {},
   "source": [
    "# Cleaning APOKSAC 2 Data\n",
    "\n"
   ]
  },
  {
   "cell_type": "code",
   "execution_count": 47,
   "outputs": [
    {
     "data": {
      "text/plain": "           kic          tmass_id   mass\n0      1027110  19250937+3644599  0.985\n1      1027337  19252021+3647118  1.227\n2      1160789  19233280+3652207  0.875\n4      1161447  19241746+3651460  1.460\n5      1161618  19242614+3648478  1.183\n...        ...               ...    ...\n6671  12784948  19210624+5200236  1.254\n6672  12785083  19212376+5204593  1.154\n6673  12785250  19214766+5205365  1.386\n6674  12884116  19182431+5215519  1.081\n6675  12884930  19200187+5214588  1.343\n\n[6529 rows x 3 columns]",
      "text/html": "<div>\n<style scoped>\n    .dataframe tbody tr th:only-of-type {\n        vertical-align: middle;\n    }\n\n    .dataframe tbody tr th {\n        vertical-align: top;\n    }\n\n    .dataframe thead th {\n        text-align: right;\n    }\n</style>\n<table border=\"1\" class=\"dataframe\">\n  <thead>\n    <tr style=\"text-align: right;\">\n      <th></th>\n      <th>kic</th>\n      <th>tmass_id</th>\n      <th>mass</th>\n    </tr>\n  </thead>\n  <tbody>\n    <tr>\n      <th>0</th>\n      <td>1027110</td>\n      <td>19250937+3644599</td>\n      <td>0.985</td>\n    </tr>\n    <tr>\n      <th>1</th>\n      <td>1027337</td>\n      <td>19252021+3647118</td>\n      <td>1.227</td>\n    </tr>\n    <tr>\n      <th>2</th>\n      <td>1160789</td>\n      <td>19233280+3652207</td>\n      <td>0.875</td>\n    </tr>\n    <tr>\n      <th>4</th>\n      <td>1161447</td>\n      <td>19241746+3651460</td>\n      <td>1.460</td>\n    </tr>\n    <tr>\n      <th>5</th>\n      <td>1161618</td>\n      <td>19242614+3648478</td>\n      <td>1.183</td>\n    </tr>\n    <tr>\n      <th>...</th>\n      <td>...</td>\n      <td>...</td>\n      <td>...</td>\n    </tr>\n    <tr>\n      <th>6671</th>\n      <td>12784948</td>\n      <td>19210624+5200236</td>\n      <td>1.254</td>\n    </tr>\n    <tr>\n      <th>6672</th>\n      <td>12785083</td>\n      <td>19212376+5204593</td>\n      <td>1.154</td>\n    </tr>\n    <tr>\n      <th>6673</th>\n      <td>12785250</td>\n      <td>19214766+5205365</td>\n      <td>1.386</td>\n    </tr>\n    <tr>\n      <th>6674</th>\n      <td>12884116</td>\n      <td>19182431+5215519</td>\n      <td>1.081</td>\n    </tr>\n    <tr>\n      <th>6675</th>\n      <td>12884930</td>\n      <td>19200187+5214588</td>\n      <td>1.343</td>\n    </tr>\n  </tbody>\n</table>\n<p>6529 rows × 3 columns</p>\n</div>"
     },
     "execution_count": 47,
     "metadata": {},
     "output_type": "execute_result"
    }
   ],
   "source": [
    "apoksac_cols = [\"kic\", \"tmass_id\", \"mass\"]\n",
    "apoksac_col_width = [(0, 9), (9, 26), (27, 39)]\n",
    "\n",
    "apoksac = pd.read_fwf(\n",
    "    \"RawData/asu.tsv\",\n",
    "    skiprows=42,\n",
    "    header=None,\n",
    "    index_col=False,\n",
    "    names = apoksac_cols,\n",
    "    colspecs = apoksac_col_width\n",
    ")\n",
    "apoksac = apoksac[0:6676]\n",
    "apoksac = apoksac.dropna()\n"
   ],
   "metadata": {
    "collapsed": false
   }
  },
  {
   "cell_type": "code",
   "execution_count": 48,
   "outputs": [],
   "source": [
    "apoksac.to_csv(\"ProcessedData/cleaned_apoksac.csv\", index=False)"
   ],
   "metadata": {
    "collapsed": false
   }
  },
  {
   "cell_type": "markdown",
   "source": [
    "Match APOKSAC data with APOGEE data"
   ],
   "metadata": {
    "collapsed": false
   }
  },
  {
   "cell_type": "code",
   "execution_count": 25,
   "outputs": [],
   "source": [
    "apogee = pd.read_csv(\"ProcessedData/cleaned_apogee.csv\")\n",
    "apogee = apogee[1:len(apogee)]"
   ],
   "metadata": {
    "collapsed": false
   }
  },
  {
   "cell_type": "code",
   "execution_count": 26,
   "outputs": [],
   "source": [
    "# Manipulate APOGEE id to 2MASS id\n",
    "apogee = apogee.rename(columns = {\"apogee_id\": \"tmass_id\"})\n",
    "apogee.tmass_id = apogee.tmass_id.str[4:-1]\n",
    "apogee.to_csv(\"ProcessedData/cleaned_apogee.csv\", index=False)"
   ],
   "metadata": {
    "collapsed": false
   }
  },
  {
   "cell_type": "markdown",
   "source": [
    "Now that we have separated the APOGEE and APOKSAC data, we need to merge them and save."
   ],
   "metadata": {
    "collapsed": false
   }
  },
  {
   "cell_type": "code",
   "execution_count": 27,
   "outputs": [],
   "source": [
    "apoksac = pd.read_csv(\"ProcessedData/cleaned_apoksac.csv\")\n",
    "apogee = pd.read_csv(\"ProcessedData/cleaned_apogee.csv\")"
   ],
   "metadata": {
    "collapsed": false
   }
  },
  {
   "cell_type": "code",
   "execution_count": 33,
   "outputs": [],
   "source": [
    "apoksac_mass_prediction_data = pd.merge(apogee, apoksac, on=\"tmass_id\")\n",
    "apoksac_mass_prediction_data.to_csv(\"ProcessedData/mass_prediction_apoksac.csv\", index=False)"
   ],
   "metadata": {
    "collapsed": false
   }
  },
  {
   "cell_type": "markdown",
   "metadata": {},
   "source": [
    "# Cleaning K2 Data\n",
    "To do so, we need to\n",
    "\n",
    "1. extract the mass coefficient from the data set\n",
    "2. find the effective temperature by finding the data in the GALAH data set by matching the EPIC identifier\n",
    "3. determine the mass\n",
    "4. extract the chemical composition of stars\n",
    "5. store the data for use\n",
    "\n",
    "For the purpose of this, we will keep the mass of stars as a multiple of solar mass."
   ]
  },
  {
   "cell_type": "code",
   "execution_count": 111,
   "metadata": {},
   "outputs": [],
   "source": [
    "k2_cols = [\"EPIC\", \"kappa-m-c\"]\n",
    "k2_col_width = [(0, 9), (24, 29)]\n",
    "\n",
    "k2 = pd.read_fwf(\n",
    "    \"RawData/k2_mass_coefficients.txt\",\n",
    "    skiprows=50,\n",
    "    header=None,\n",
    "    index_col=False,\n",
    "    names = k2_cols,\n",
    "    colspecs = k2_col_width\n",
    ")\n",
    "# k2 = k2.rename(columns={\"EPIC\": \"source_id\"})\n",
    "# According to the International Astronomical Union (IAU), effective temperature of the sun is 5772 +- 0.8K\n",
    "teff_sun = 5772"
   ]
  },
  {
   "cell_type": "code",
   "execution_count": 112,
   "outputs": [
    {
     "data": {
      "text/plain": "            EPIC kappa-m-c\n0      201051625     1.324\n1      201079541     1.523\n2      201082897     1.027\n3      201084449     1.544\n4      201084664     1.076\n...          ...       ...\n18817  251619708     0.880\n18818  251620873     0.663\n18819  251621333     1.193\n18820  251622742     1.497\n18821  251630759     1.274\n\n[18822 rows x 2 columns]",
      "text/html": "<div>\n<style scoped>\n    .dataframe tbody tr th:only-of-type {\n        vertical-align: middle;\n    }\n\n    .dataframe tbody tr th {\n        vertical-align: top;\n    }\n\n    .dataframe thead th {\n        text-align: right;\n    }\n</style>\n<table border=\"1\" class=\"dataframe\">\n  <thead>\n    <tr style=\"text-align: right;\">\n      <th></th>\n      <th>EPIC</th>\n      <th>kappa-m-c</th>\n    </tr>\n  </thead>\n  <tbody>\n    <tr>\n      <th>0</th>\n      <td>201051625</td>\n      <td>1.324</td>\n    </tr>\n    <tr>\n      <th>1</th>\n      <td>201079541</td>\n      <td>1.523</td>\n    </tr>\n    <tr>\n      <th>2</th>\n      <td>201082897</td>\n      <td>1.027</td>\n    </tr>\n    <tr>\n      <th>3</th>\n      <td>201084449</td>\n      <td>1.544</td>\n    </tr>\n    <tr>\n      <th>4</th>\n      <td>201084664</td>\n      <td>1.076</td>\n    </tr>\n    <tr>\n      <th>...</th>\n      <td>...</td>\n      <td>...</td>\n    </tr>\n    <tr>\n      <th>18817</th>\n      <td>251619708</td>\n      <td>0.880</td>\n    </tr>\n    <tr>\n      <th>18818</th>\n      <td>251620873</td>\n      <td>0.663</td>\n    </tr>\n    <tr>\n      <th>18819</th>\n      <td>251621333</td>\n      <td>1.193</td>\n    </tr>\n    <tr>\n      <th>18820</th>\n      <td>251622742</td>\n      <td>1.497</td>\n    </tr>\n    <tr>\n      <th>18821</th>\n      <td>251630759</td>\n      <td>1.274</td>\n    </tr>\n  </tbody>\n</table>\n<p>18822 rows × 2 columns</p>\n</div>"
     },
     "execution_count": 112,
     "metadata": {},
     "output_type": "execute_result"
    }
   ],
   "source": [
    "k2"
   ],
   "metadata": {
    "collapsed": false
   }
  },
  {
   "cell_type": "markdown",
   "metadata": {},
   "source": [
    "To determine the mass for K2 stars, we use the following formula (from K2 Galactic Archaeology Program DR3):\n",
    "\n",
    "$$ \\frac{M}{M_\\odot} = \\kappa_M (\\frac{T_{eff}}{T_{eff, \\odot}})^{3/2} $$\n",
    "\n",
    "To do so, we will use [gaia-kepler.fun](https://gaia-kepler.fun) in order to determine the link K2 and GALAH data\n",
    "- More information of the tables in the data set is given by [this documentation](https://exoplanetarchive.ipac.caltech.edu/docs/API_keplerstellar_columns.html)\n",
    "- To do this, we will first match the K2 data with the `k2ToGaia`\n",
    "\n"
   ]
  },
  {
   "cell_type": "code",
   "execution_count": null,
   "outputs": [],
   "source": [
    "k2ToGaia = Table.read(\"RawData/kepler_dr3_good.fits\", format = \"fits\")\n",
    "names = [name for name in k2ToGaia.colnames if len(k2ToGaia[name].shape) <= 1]\n",
    "k2ToGaia = k2ToGaia[names].to_pandas()"
   ],
   "metadata": {
    "collapsed": false,
    "pycharm": {
     "is_executing": true
    }
   }
  },
  {
   "cell_type": "code",
   "execution_count": 84,
   "outputs": [
    {
     "data": {
      "text/plain": "                    tm_designation     kepid            source_id\n0       b'2MASS J19240929+3635532'    757076  2050233803028318080\n1       b'2MASS J19241033+3635377'    757099  2050233601176543104\n2       b'2MASS J19241341+3633358'    757137  2050230543159814656\n3       b'2MASS J19242289+3633538'    757280  2050230611879323904\n4       b'2MASS J19243302+3634385'    757450  2050231848829944320\n...                            ...       ...                  ...\n196757  b'2MASS J19201916+5227134'  12984227  2139330189463960320\n196758  b'2MASS J19202700+5224561'  12984288  2139329875927860736\n196759  b'2MASS J19202959+5228286'  12984307  2139330636140575616\n196760  b'2MASS J19204135+5225258'  12984404  2139329467909467008\n196761  b'2MASS J19204420+5224157'  12984422  2139329399189739392\n\n[196762 rows x 3 columns]",
      "text/html": "<div>\n<style scoped>\n    .dataframe tbody tr th:only-of-type {\n        vertical-align: middle;\n    }\n\n    .dataframe tbody tr th {\n        vertical-align: top;\n    }\n\n    .dataframe thead th {\n        text-align: right;\n    }\n</style>\n<table border=\"1\" class=\"dataframe\">\n  <thead>\n    <tr style=\"text-align: right;\">\n      <th></th>\n      <th>tm_designation</th>\n      <th>kepid</th>\n      <th>source_id</th>\n    </tr>\n  </thead>\n  <tbody>\n    <tr>\n      <th>0</th>\n      <td>b'2MASS J19240929+3635532'</td>\n      <td>757076</td>\n      <td>2050233803028318080</td>\n    </tr>\n    <tr>\n      <th>1</th>\n      <td>b'2MASS J19241033+3635377'</td>\n      <td>757099</td>\n      <td>2050233601176543104</td>\n    </tr>\n    <tr>\n      <th>2</th>\n      <td>b'2MASS J19241341+3633358'</td>\n      <td>757137</td>\n      <td>2050230543159814656</td>\n    </tr>\n    <tr>\n      <th>3</th>\n      <td>b'2MASS J19242289+3633538'</td>\n      <td>757280</td>\n      <td>2050230611879323904</td>\n    </tr>\n    <tr>\n      <th>4</th>\n      <td>b'2MASS J19243302+3634385'</td>\n      <td>757450</td>\n      <td>2050231848829944320</td>\n    </tr>\n    <tr>\n      <th>...</th>\n      <td>...</td>\n      <td>...</td>\n      <td>...</td>\n    </tr>\n    <tr>\n      <th>196757</th>\n      <td>b'2MASS J19201916+5227134'</td>\n      <td>12984227</td>\n      <td>2139330189463960320</td>\n    </tr>\n    <tr>\n      <th>196758</th>\n      <td>b'2MASS J19202700+5224561'</td>\n      <td>12984288</td>\n      <td>2139329875927860736</td>\n    </tr>\n    <tr>\n      <th>196759</th>\n      <td>b'2MASS J19202959+5228286'</td>\n      <td>12984307</td>\n      <td>2139330636140575616</td>\n    </tr>\n    <tr>\n      <th>196760</th>\n      <td>b'2MASS J19204135+5225258'</td>\n      <td>12984404</td>\n      <td>2139329467909467008</td>\n    </tr>\n    <tr>\n      <th>196761</th>\n      <td>b'2MASS J19204420+5224157'</td>\n      <td>12984422</td>\n      <td>2139329399189739392</td>\n    </tr>\n  </tbody>\n</table>\n<p>196762 rows × 3 columns</p>\n</div>"
     },
     "execution_count": 84,
     "metadata": {},
     "output_type": "execute_result"
    }
   ],
   "source": [
    "k2ToGaia = k2ToGaia[[\"tm_designation\", \"kepid\", \"source_id\"]]\n",
    "k2ToGaia"
   ],
   "metadata": {
    "collapsed": false
   }
  },
  {
   "cell_type": "code",
   "execution_count": 53,
   "outputs": [
    {
     "data": {
      "text/plain": "                  tmass_id    gaiadr3_source_id       teff      logg  \\\n0      b'05225435-5857055'  4762753422822077184  4747.2780  2.502026   \n1      b'05242161-5901319'  4762739782006427648  5007.8013  4.504993   \n2      b'05221820-5902598'  4762730882833911808  4801.3870  4.519791   \n3      b'05215205-5900418'  4762731226431207168  4970.5674  3.456641   \n4      b'05222284-5903420'  4762727927896411392  5278.6343  4.480108   \n...                    ...                  ...        ...       ...   \n72116  b'08460664-4312461'  5524054930300489088  4604.0527  2.628620   \n72117  b'08431567-4230079'  5524898599314763136  4921.5170  3.204505   \n72118  b'08433930-4230037'  5524851114156313600  4544.5430  2.545092   \n72119  b'08444698-4217078'  5524953604957635456  4600.7554  4.267867   \n72120  b'08464041-4205267'  5524947901240914176  5028.0234  2.762224   \n\n           fe_h     al_fe      c_fe      n_fe      o_fe  \n0     -0.295569  0.242639  0.114089  0.048963  0.213739  \n1      0.065576  0.186914 -0.039235  0.194514 -0.380775  \n2     -0.054487 -0.114537 -0.167340 -0.317684 -0.461599  \n3     -0.314558 -0.047509  0.278630  0.263258  0.441423  \n4      0.221903  0.212420  0.019690  0.207750 -0.092077  \n...         ...       ...       ...       ...       ...  \n72116 -0.104896  0.592156  0.581064  0.267382  0.860856  \n72117  0.015238  0.146001  0.029876  0.221036  0.257410  \n72118  0.151254  0.061476  0.121679 -0.072001  0.024033  \n72119  0.027199 -0.284221  0.148993  0.315737  0.339467  \n72120  0.054385  0.085140 -0.281388  0.341346 -0.391056  \n\n[72121 rows x 9 columns]",
      "text/html": "<div>\n<style scoped>\n    .dataframe tbody tr th:only-of-type {\n        vertical-align: middle;\n    }\n\n    .dataframe tbody tr th {\n        vertical-align: top;\n    }\n\n    .dataframe thead th {\n        text-align: right;\n    }\n</style>\n<table border=\"1\" class=\"dataframe\">\n  <thead>\n    <tr style=\"text-align: right;\">\n      <th></th>\n      <th>tmass_id</th>\n      <th>gaiadr3_source_id</th>\n      <th>teff</th>\n      <th>logg</th>\n      <th>fe_h</th>\n      <th>al_fe</th>\n      <th>c_fe</th>\n      <th>n_fe</th>\n      <th>o_fe</th>\n    </tr>\n  </thead>\n  <tbody>\n    <tr>\n      <th>0</th>\n      <td>b'05225435-5857055'</td>\n      <td>4762753422822077184</td>\n      <td>4747.2780</td>\n      <td>2.502026</td>\n      <td>-0.295569</td>\n      <td>0.242639</td>\n      <td>0.114089</td>\n      <td>0.048963</td>\n      <td>0.213739</td>\n    </tr>\n    <tr>\n      <th>1</th>\n      <td>b'05242161-5901319'</td>\n      <td>4762739782006427648</td>\n      <td>5007.8013</td>\n      <td>4.504993</td>\n      <td>0.065576</td>\n      <td>0.186914</td>\n      <td>-0.039235</td>\n      <td>0.194514</td>\n      <td>-0.380775</td>\n    </tr>\n    <tr>\n      <th>2</th>\n      <td>b'05221820-5902598'</td>\n      <td>4762730882833911808</td>\n      <td>4801.3870</td>\n      <td>4.519791</td>\n      <td>-0.054487</td>\n      <td>-0.114537</td>\n      <td>-0.167340</td>\n      <td>-0.317684</td>\n      <td>-0.461599</td>\n    </tr>\n    <tr>\n      <th>3</th>\n      <td>b'05215205-5900418'</td>\n      <td>4762731226431207168</td>\n      <td>4970.5674</td>\n      <td>3.456641</td>\n      <td>-0.314558</td>\n      <td>-0.047509</td>\n      <td>0.278630</td>\n      <td>0.263258</td>\n      <td>0.441423</td>\n    </tr>\n    <tr>\n      <th>4</th>\n      <td>b'05222284-5903420'</td>\n      <td>4762727927896411392</td>\n      <td>5278.6343</td>\n      <td>4.480108</td>\n      <td>0.221903</td>\n      <td>0.212420</td>\n      <td>0.019690</td>\n      <td>0.207750</td>\n      <td>-0.092077</td>\n    </tr>\n    <tr>\n      <th>...</th>\n      <td>...</td>\n      <td>...</td>\n      <td>...</td>\n      <td>...</td>\n      <td>...</td>\n      <td>...</td>\n      <td>...</td>\n      <td>...</td>\n      <td>...</td>\n    </tr>\n    <tr>\n      <th>72116</th>\n      <td>b'08460664-4312461'</td>\n      <td>5524054930300489088</td>\n      <td>4604.0527</td>\n      <td>2.628620</td>\n      <td>-0.104896</td>\n      <td>0.592156</td>\n      <td>0.581064</td>\n      <td>0.267382</td>\n      <td>0.860856</td>\n    </tr>\n    <tr>\n      <th>72117</th>\n      <td>b'08431567-4230079'</td>\n      <td>5524898599314763136</td>\n      <td>4921.5170</td>\n      <td>3.204505</td>\n      <td>0.015238</td>\n      <td>0.146001</td>\n      <td>0.029876</td>\n      <td>0.221036</td>\n      <td>0.257410</td>\n    </tr>\n    <tr>\n      <th>72118</th>\n      <td>b'08433930-4230037'</td>\n      <td>5524851114156313600</td>\n      <td>4544.5430</td>\n      <td>2.545092</td>\n      <td>0.151254</td>\n      <td>0.061476</td>\n      <td>0.121679</td>\n      <td>-0.072001</td>\n      <td>0.024033</td>\n    </tr>\n    <tr>\n      <th>72119</th>\n      <td>b'08444698-4217078'</td>\n      <td>5524953604957635456</td>\n      <td>4600.7554</td>\n      <td>4.267867</td>\n      <td>0.027199</td>\n      <td>-0.284221</td>\n      <td>0.148993</td>\n      <td>0.315737</td>\n      <td>0.339467</td>\n    </tr>\n    <tr>\n      <th>72120</th>\n      <td>b'08464041-4205267'</td>\n      <td>5524947901240914176</td>\n      <td>5028.0234</td>\n      <td>2.762224</td>\n      <td>0.054385</td>\n      <td>0.085140</td>\n      <td>-0.281388</td>\n      <td>0.341346</td>\n      <td>-0.391056</td>\n    </tr>\n  </tbody>\n</table>\n<p>72121 rows × 9 columns</p>\n</div>"
     },
     "execution_count": 53,
     "metadata": {},
     "output_type": "execute_result"
    }
   ],
   "source": [
    "galah = pd.read_csv(\"ProcessedData/cleaned_galah.csv\")\n",
    "galah"
   ],
   "metadata": {
    "collapsed": false
   }
  },
  {
   "cell_type": "code",
   "execution_count": 109,
   "outputs": [],
   "source": [
    "k2_mass_prediction = pd.merge(k2, k2ToGaia, on=\"source_id\")"
   ],
   "metadata": {
    "collapsed": false
   }
  },
  {
   "cell_type": "code",
   "execution_count": 110,
   "outputs": [
    {
     "data": {
      "text/plain": "Empty DataFrame\nColumns: [source_id, kappa-m-c, tm_designation, kepid]\nIndex: []",
      "text/html": "<div>\n<style scoped>\n    .dataframe tbody tr th:only-of-type {\n        vertical-align: middle;\n    }\n\n    .dataframe tbody tr th {\n        vertical-align: top;\n    }\n\n    .dataframe thead th {\n        text-align: right;\n    }\n</style>\n<table border=\"1\" class=\"dataframe\">\n  <thead>\n    <tr style=\"text-align: right;\">\n      <th></th>\n      <th>source_id</th>\n      <th>kappa-m-c</th>\n      <th>tm_designation</th>\n      <th>kepid</th>\n    </tr>\n  </thead>\n  <tbody>\n  </tbody>\n</table>\n</div>"
     },
     "execution_count": 110,
     "metadata": {},
     "output_type": "execute_result"
    }
   ],
   "source": [
    "k2_mass_prediction"
   ],
   "metadata": {
    "collapsed": false
   }
  }
 ],
 "metadata": {
  "kernelspec": {
   "display_name": "Python 3 (ipykernel)",
   "language": "python",
   "name": "python3"
  },
  "language_info": {
   "codemirror_mode": {
    "name": "ipython",
    "version": 3
   },
   "file_extension": ".py",
   "mimetype": "text/x-python",
   "name": "python",
   "nbconvert_exporter": "python",
   "pygments_lexer": "ipython3",
   "version": "3.9.7"
  }
 },
 "nbformat": 4,
 "nbformat_minor": 1
}
