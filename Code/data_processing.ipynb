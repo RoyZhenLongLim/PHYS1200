{
 "cells": [
  {
   "cell_type": "markdown",
   "metadata": {},
   "source": [
    "The goal for this piece of code is:\n",
    "- Clean the data for the following datasets:\n",
    "    - K2\n",
    "    - APOKSAC\n",
    "    - APOGEE\n",
    "    - GALAH\n",
    "\n",
    "After we have cleaned the datas is\n",
    "- Use K2 model to predict the mass for APOGEE and GALAH\n",
    "- Use APOKSAC model to predict mass for APOGEE\n",
    "\n",
    "The goal is to get a table contain the following for all the data sets and use this to predict the mass of stars.\n",
    "The table include parameters such as:\n",
    "\n",
    "- Effective Temperature\n",
    "- Log g\n",
    "- Iron Abundance [Fe/H]\n",
    "- Alpha Abundance [alpha/Fe]\n",
    "- Carbon Abundance [C/Fe]\n",
    "- Nitrogen Abundance [N/Fe]\n",
    "- Oxygen Abundance [O/Fe]\n",
    "\n",
    "In addition, we will extract the stars id to allow for identification\n",
    "\n",
    "- `tmass_id` 2MASS IDs\n",
    "- `gaiadr3_source_id` Gaia Id"
   ]
  },
  {
   "cell_type": "markdown",
   "metadata": {},
   "source": [
    "Importing the required packages"
   ]
  },
  {
   "cell_type": "code",
   "execution_count": 6,
   "metadata": {},
   "outputs": [],
   "source": [
    "from astropy.table import Table\n",
    "import pandas as pd         # For table/data management"
   ]
  },
  {
   "cell_type": "markdown",
   "metadata": {},
   "source": [
    "# Cleaning the GALAH Data"
   ]
  },
  {
   "cell_type": "code",
   "execution_count": 11,
   "metadata": {},
   "outputs": [],
   "source": [
    "# Import the data and change into a data frame\n",
    "def importGalah():\n",
    "    galah = Table.read(\"RawData/galah_dr4_allspec_220713.fits\", format = \"fits\")\n",
    "    names = [name for name in galah.colnames if len(galah[name].shape) <= 1]\n",
    "    galah = galah[names].to_pandas()\n",
    "    return galah"
   ]
  },
  {
   "cell_type": "code",
   "execution_count": 12,
   "outputs": [],
   "source": [
    "galah = importGalah()"
   ],
   "metadata": {
    "collapsed": false
   }
  },
  {
   "cell_type": "markdown",
   "metadata": {},
   "source": [
    "For Apogee Data, there are a few recommendations (this usually indicates that the data has some issues, e.g. unreliably broadening and other issues) for the flag that should be applied:\n",
    "- `snr_c3_iraf > 30`\n",
    "- `flag_sp == 0`\n",
    "- For any element `X`, the flag `flag_X_fe == 0`\n",
    "\n",
    "More information can be found [the GALAH Survey Website](https://www.galah-survey.org/dr3/flags/)"
   ]
  },
  {
   "cell_type": "code",
   "execution_count": 13,
   "metadata": {},
   "outputs": [],
   "source": [
    "# Filter the data\n",
    "# galah = galah.loc[galah[\"snr_c3_iraf\"] > 30]\n",
    "galah = galah.loc[galah[\"flag_sp\"] == 0]\n",
    "galah = galah.loc[galah[\"flag_fe_h\"] == 0]\n",
    "galah = galah.loc[galah[\"flag_al_fe\"] == 0]\n",
    "galah = galah.loc[galah[\"flag_c_fe\"] == 0]\n",
    "galah = galah.loc[galah[\"flag_n_fe\"] == 0]\n",
    "galah = galah.loc[galah[\"flag_o_fe\"] == 0]"
   ]
  },
  {
   "cell_type": "markdown",
   "metadata": {},
   "source": [
    "Now the appropriate flag has been used, we extract only the useful columns and save the data for later."
   ]
  },
  {
   "cell_type": "code",
   "execution_count": 14,
   "metadata": {},
   "outputs": [],
   "source": [
    "galah = galah[[\"teff\", \"logg\", \"fe_h\", \"al_fe\", \"c_fe\", \"n_fe\", \"o_fe\"]]\n",
    "# Remove all rows with null values\n",
    "galah.dropna()\n",
    "galah.to_csv(\"ProcessedData/cleaned_galah.csv\", index=False)"
   ]
  },
  {
   "cell_type": "markdown",
   "metadata": {},
   "source": [
    "# Cleaning APOGEE Data"
   ]
  },
  {
   "cell_type": "code",
   "execution_count": 8,
   "metadata": {},
   "outputs": [],
   "source": [
    "def importApogee():\n",
    "    apogee = Table.read(\"RawData/allStar-dr17-synspec_rev1.fits\", format=\"fits\", hdu=1)\n",
    "    names = [name for name in apogee.colnames if len(apogee[name].shape) <= 1]\n",
    "    apogee = apogee[names].to_pandas()\n",
    "    return apogee"
   ]
  },
  {
   "cell_type": "code",
   "execution_count": 9,
   "outputs": [],
   "source": [
    "apogee = importApogee()"
   ],
   "metadata": {
    "collapsed": false
   }
  },
  {
   "cell_type": "markdown",
   "metadata": {},
   "source": [
    "For APOGEE, we do something similar by making sure all the parameters are working on are good.\n",
    "More information can be found [SDSS explanantion of bitmasks](https://www.sdss.org/dr13/algorithms/bitmasks/#APOGEE_ASPCAPFLAG) and [SDSS recommendations for bitmasks](https://www.sdss.org/dr13/irspec/abundances/)\n",
    "\n",
    "The parameters\n",
    "- `ASPCAPFLAG & STAR_BAD == 0` (`STAR_BAD` is the 23rd bit (starting from 0), or  `STAR_BAD = 0b 1000 0000 0000 0000 0000 0000`)\n",
    "    - `STAR_BAD` is a general indication of whether there are issues with measuring surface temperature, surface gravity, and check if any elements have `GRIDEDGE_BAD` set\n",
    "- `ELEMFLAG`\n",
    "    - Any example of this is `FE_H_FLAG`\n",
    "        - Make sure that the flag does not contain `GRIDEDGE_BAD`, `GRIDEDGE_WARN` and `CALRANGE_BAD`\n",
    "    - We should just check that the flag is equal to zero to eliminate all and any problematic behaviour"
   ]
  },
  {
   "cell_type": "code",
   "execution_count": 12,
   "metadata": {},
   "outputs": [],
   "source": [
    "# Filter the data\n",
    "def cleanApogee(apogee):\n",
    "    STAR_BAD = 1 << 23\n",
    "    apogee = apogee.loc[apogee['ASPCAPFLAG'] & STAR_BAD == 0]\n",
    "    apogee = apogee.loc[apogee['FE_H_FLAG'] == 0]\n",
    "    apogee = apogee.loc[apogee['C_FE_FLAG'] == 0]\n",
    "    apogee = apogee.loc[apogee['AL_FE_FLAG'] == 0]\n",
    "    apogee = apogee.loc[apogee['N_FE_FLAG'] == 0]\n",
    "    apogee = apogee.loc[apogee['O_FE_FLAG'] == 0]\n",
    "    apogee.dropna()\n",
    "    return apogee"
   ]
  },
  {
   "cell_type": "code",
   "execution_count": 13,
   "outputs": [],
   "source": [
    "apogee = cleanApogee(apogee)"
   ],
   "metadata": {
    "collapsed": false
   }
  },
  {
   "cell_type": "markdown",
   "metadata": {},
   "source": [
    "Extract the useful column and save for later"
   ]
  },
  {
   "cell_type": "code",
   "execution_count": 14,
   "metadata": {},
   "outputs": [],
   "source": [
    "apogee = apogee[[\"APOGEE_ID\",\"TEFF\", \"LOGG\", \"FE_H\", \"AL_FE\", \"C_FE\", \"N_FE\", \"O_FE\"]]\n",
    "apogee.columns = apogee.columns.str.lower()\n",
    "apogee.to_csv(\"ProcessedData/cleaned_apogee.csv\", index=False)"
   ]
  },
  {
   "cell_type": "markdown",
   "metadata": {},
   "source": [
    "# Cleaning APOKSAC 2 Data\n",
    "\n"
   ]
  },
  {
   "cell_type": "code",
   "execution_count": 47,
   "outputs": [
    {
     "data": {
      "text/plain": "           kic          tmass_id   mass\n0      1027110  19250937+3644599  0.985\n1      1027337  19252021+3647118  1.227\n2      1160789  19233280+3652207  0.875\n4      1161447  19241746+3651460  1.460\n5      1161618  19242614+3648478  1.183\n...        ...               ...    ...\n6671  12784948  19210624+5200236  1.254\n6672  12785083  19212376+5204593  1.154\n6673  12785250  19214766+5205365  1.386\n6674  12884116  19182431+5215519  1.081\n6675  12884930  19200187+5214588  1.343\n\n[6529 rows x 3 columns]",
      "text/html": "<div>\n<style scoped>\n    .dataframe tbody tr th:only-of-type {\n        vertical-align: middle;\n    }\n\n    .dataframe tbody tr th {\n        vertical-align: top;\n    }\n\n    .dataframe thead th {\n        text-align: right;\n    }\n</style>\n<table border=\"1\" class=\"dataframe\">\n  <thead>\n    <tr style=\"text-align: right;\">\n      <th></th>\n      <th>kic</th>\n      <th>tmass_id</th>\n      <th>mass</th>\n    </tr>\n  </thead>\n  <tbody>\n    <tr>\n      <th>0</th>\n      <td>1027110</td>\n      <td>19250937+3644599</td>\n      <td>0.985</td>\n    </tr>\n    <tr>\n      <th>1</th>\n      <td>1027337</td>\n      <td>19252021+3647118</td>\n      <td>1.227</td>\n    </tr>\n    <tr>\n      <th>2</th>\n      <td>1160789</td>\n      <td>19233280+3652207</td>\n      <td>0.875</td>\n    </tr>\n    <tr>\n      <th>4</th>\n      <td>1161447</td>\n      <td>19241746+3651460</td>\n      <td>1.460</td>\n    </tr>\n    <tr>\n      <th>5</th>\n      <td>1161618</td>\n      <td>19242614+3648478</td>\n      <td>1.183</td>\n    </tr>\n    <tr>\n      <th>...</th>\n      <td>...</td>\n      <td>...</td>\n      <td>...</td>\n    </tr>\n    <tr>\n      <th>6671</th>\n      <td>12784948</td>\n      <td>19210624+5200236</td>\n      <td>1.254</td>\n    </tr>\n    <tr>\n      <th>6672</th>\n      <td>12785083</td>\n      <td>19212376+5204593</td>\n      <td>1.154</td>\n    </tr>\n    <tr>\n      <th>6673</th>\n      <td>12785250</td>\n      <td>19214766+5205365</td>\n      <td>1.386</td>\n    </tr>\n    <tr>\n      <th>6674</th>\n      <td>12884116</td>\n      <td>19182431+5215519</td>\n      <td>1.081</td>\n    </tr>\n    <tr>\n      <th>6675</th>\n      <td>12884930</td>\n      <td>19200187+5214588</td>\n      <td>1.343</td>\n    </tr>\n  </tbody>\n</table>\n<p>6529 rows × 3 columns</p>\n</div>"
     },
     "execution_count": 47,
     "metadata": {},
     "output_type": "execute_result"
    }
   ],
   "source": [
    "apoksac_cols = [\"kic\", \"tmass_id\", \"mass\"]\n",
    "apoksac_col_width = [(0, 9), (9, 26), (27, 39)]\n",
    "\n",
    "apoksac = pd.read_fwf(\n",
    "    \"RawData/asu.tsv\",\n",
    "    skiprows=42,\n",
    "    header=None,\n",
    "    index_col=False,\n",
    "    names = apoksac_cols,\n",
    "    colspecs = apoksac_col_width\n",
    ")\n",
    "apoksac = apoksac[0:6676]\n",
    "apoksac = apoksac.dropna()\n"
   ],
   "metadata": {
    "collapsed": false
   }
  },
  {
   "cell_type": "code",
   "execution_count": 48,
   "outputs": [],
   "source": [
    "apoksac.to_csv(\"ProcessedData/cleaned_apoksac.csv\", index=False)"
   ],
   "metadata": {
    "collapsed": false
   }
  },
  {
   "cell_type": "markdown",
   "source": [
    "Match APOKSAC data with APOGEE data"
   ],
   "metadata": {
    "collapsed": false
   }
  },
  {
   "cell_type": "code",
   "execution_count": 22,
   "outputs": [],
   "source": [
    "apogee = pd.read_csv(\"ProcessedData/cleaned_apogee.csv\")\n",
    "apogee = apogee[1:len(apogee)]"
   ],
   "metadata": {
    "collapsed": false
   }
  },
  {
   "cell_type": "code",
   "execution_count": 24,
   "outputs": [
    {
     "ename": "TypeError",
     "evalue": "rename() takes from 1 to 2 positional arguments but 3 were given",
     "output_type": "error",
     "traceback": [
      "\u001B[0;31m---------------------------------------------------------------------------\u001B[0m",
      "\u001B[0;31mTypeError\u001B[0m                                 Traceback (most recent call last)",
      "Cell \u001B[0;32mIn [24], line 1\u001B[0m\n\u001B[0;32m----> 1\u001B[0m \u001B[43mapogee\u001B[49m\u001B[38;5;241;43m.\u001B[39;49m\u001B[43mrename\u001B[49m\u001B[43m(\u001B[49m\u001B[38;5;124;43m\"\u001B[39;49m\u001B[38;5;124;43mapogee_id\u001B[39;49m\u001B[38;5;124;43m\"\u001B[39;49m\u001B[43m,\u001B[49m\u001B[43m \u001B[49m\u001B[38;5;124;43m\"\u001B[39;49m\u001B[38;5;124;43m2MASS\u001B[39;49m\u001B[38;5;124;43m\"\u001B[39;49m\u001B[43m)\u001B[49m\n",
      "File \u001B[0;32m~/.local/lib/python3.9/site-packages/pandas/util/_decorators.py:324\u001B[0m, in \u001B[0;36mrewrite_axis_style_signature.<locals>.decorate.<locals>.wrapper\u001B[0;34m(*args, **kwargs)\u001B[0m\n\u001B[1;32m    322\u001B[0m \u001B[38;5;129m@wraps\u001B[39m(func)\n\u001B[1;32m    323\u001B[0m \u001B[38;5;28;01mdef\u001B[39;00m \u001B[38;5;21mwrapper\u001B[39m(\u001B[38;5;241m*\u001B[39margs, \u001B[38;5;241m*\u001B[39m\u001B[38;5;241m*\u001B[39mkwargs) \u001B[38;5;241m-\u001B[39m\u001B[38;5;241m>\u001B[39m Callable[\u001B[38;5;241m.\u001B[39m\u001B[38;5;241m.\u001B[39m\u001B[38;5;241m.\u001B[39m, Any]:\n\u001B[0;32m--> 324\u001B[0m     \u001B[38;5;28;01mreturn\u001B[39;00m \u001B[43mfunc\u001B[49m\u001B[43m(\u001B[49m\u001B[38;5;241;43m*\u001B[39;49m\u001B[43margs\u001B[49m\u001B[43m,\u001B[49m\u001B[43m \u001B[49m\u001B[38;5;241;43m*\u001B[39;49m\u001B[38;5;241;43m*\u001B[39;49m\u001B[43mkwargs\u001B[49m\u001B[43m)\u001B[49m\n",
      "\u001B[0;31mTypeError\u001B[0m: rename() takes from 1 to 2 positional arguments but 3 were given"
     ]
    }
   ],
   "source": [],
   "metadata": {
    "collapsed": false
   }
  },
  {
   "cell_type": "markdown",
   "metadata": {},
   "source": [
    "# Cleaning K2 Data\n",
    "To do so, we need to\n",
    "\n",
    "1. extract the mass coefficient from the data set\n",
    "2. find the effective temperature by finding the data in the GALAH data set by matching the EPIC identifier\n",
    "3. determine the mass\n",
    "4. extract the chemical composition of stars\n",
    "5. store the data for use\n",
    "\n",
    "For the purpose of this, we will keep the mass of stars as a multiple of solar mass."
   ]
  },
  {
   "cell_type": "code",
   "execution_count": null,
   "metadata": {
    "pycharm": {
     "is_executing": true
    }
   },
   "outputs": [],
   "source": [
    "k2_cols = [\"EPIC\", \"kappa-m-c\"]\n",
    "k2_col_width = [(0, 9), (24, 29)]\n",
    "\n",
    "k2 = pd.read_fwf(\n",
    "    \"Data/k2_mass_coefficients.txt\",\n",
    "    skiprows=50,\n",
    "    header=None,\n",
    "    index_col=False,\n",
    "    names = k2_cols,\n",
    "    colspecs = k2_col_width\n",
    ")\n",
    "# k2.columns = k2_cols\n",
    "k2\n",
    "# According to the International Astronomical Union (IAU), effective temperature of the sun is 5772 +- 0.8K\n",
    "teff_sun = 5772"
   ]
  },
  {
   "cell_type": "markdown",
   "metadata": {},
   "source": [
    "To determine the mass for K2 stars, we use the following formula (from K2 Galactic Archaeology Program DR3):\n",
    "\n",
    "$$ \\frac{M}{M_\\odot} = \\kappa_M (\\frac{T_{eff}}{T_{eff, \\odot}})^{3/2} $$\n",
    "\n",
    "To do so, we will use [gaia-kepler.fun](https://gaia-kepler.fun) in order to determine the link between 2MASS id and Kepler id.\n",
    "- More information of the tables in the data set is given by [this documentation](https://exoplanetarchive.ipac.caltech.edu/docs/API_keplerstellar_columns.html)\n"
   ]
  },
  {
   "cell_type": "code",
   "execution_count": null,
   "outputs": [],
   "source": [
    "k2ToGaia = Table.read(\"RawData/kepler_dr3_good.fits\", format = \"fits\")\n",
    "names = [name for name in k2ToGaia.colnames if len(k2ToGaia[name].shape) <= 1]\n",
    "k2ToGaia = k2ToGaia[names].to_pandas()"
   ],
   "metadata": {
    "collapsed": false,
    "pycharm": {
     "is_executing": true
    }
   }
  },
  {
   "cell_type": "markdown",
   "source": [
    "The"
   ],
   "metadata": {
    "collapsed": false
   }
  },
  {
   "cell_type": "code",
   "execution_count": null,
   "outputs": [],
   "source": [
    "k2ToGaia[[\"tm_designation\", \"kepid\"]]"
   ],
   "metadata": {
    "collapsed": false,
    "pycharm": {
     "is_executing": true
    }
   }
  },
  {
   "cell_type": "code",
   "execution_count": null,
   "outputs": [],
   "source": [],
   "metadata": {
    "collapsed": false,
    "pycharm": {
     "is_executing": true
    }
   }
  }
 ],
 "metadata": {
  "kernelspec": {
   "display_name": "Python 3 (ipykernel)",
   "language": "python",
   "name": "python3"
  },
  "language_info": {
   "codemirror_mode": {
    "name": "ipython",
    "version": 3
   },
   "file_extension": ".py",
   "mimetype": "text/x-python",
   "name": "python",
   "nbconvert_exporter": "python",
   "pygments_lexer": "ipython3",
   "version": "3.9.7"
  }
 },
 "nbformat": 4,
 "nbformat_minor": 1
}
