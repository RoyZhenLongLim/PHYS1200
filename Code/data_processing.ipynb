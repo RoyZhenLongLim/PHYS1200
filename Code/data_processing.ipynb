{
 "cells": [
  {
   "cell_type": "markdown",
   "source": [
    "The goal for this piece of code is:\n",
    "- Clean the data for the following datasets:\n",
    "    - K2\n",
    "    - APOKSAC\n",
    "    - APOGEE\n",
    "    - GALAH\n",
    "\n",
    "After we have cleaned the datas is\n",
    "- Use K2 model to predict the mass for APOGEE and GALAH\n",
    "- Use APOKSAC model to predict mass for APOGEE\n",
    "\n",
    "The goal is to get a table contain the following for all the data sets and use this to predict the mass of stars.\n",
    "The table include parameters such as:\n",
    "\n",
    "- Effective Temperature\n",
    "- Log g\n",
    "- Iron Abundance [Fe/H]\n",
    "- Alpha Abundance [alpha/Fe]\n",
    "- Carbon Abundance [C/Fe]\n",
    "- Nitrogen Abundance [N/Fe]\n",
    "- Oxygen Abundance [O/Fe]"
   ],
   "metadata": {
    "collapsed": false
   }
  },
  {
   "cell_type": "markdown",
   "metadata": {},
   "source": [
    "Importing the required packages"
   ]
  },
  {
   "cell_type": "code",
   "execution_count": 2,
   "outputs": [],
   "source": [
    "from astropy.table import Table\n",
    "import pandas as pd         # For table/data management"
   ],
   "metadata": {
    "collapsed": false
   }
  },
  {
   "cell_type": "markdown",
   "metadata": {},
   "source": [
    "# Cleaning the GALAH Data"
   ]
  },
  {
   "cell_type": "code",
   "execution_count": 2,
   "metadata": {},
   "outputs": [],
   "source": [
    "# Import the data and change into a data frame\n",
    "galah = Table.read(\"Data/galah_dr4_allspec_220713.fits\", format = \"fits\")\n",
    "names = [name for name in galah.colnames if len(galah[name].shape) <= 1]\n",
    "galah = galah[names].to_pandas()"
   ]
  },
  {
   "cell_type": "markdown",
   "metadata": {},
   "source": [
    "For Apogee Data, there are a few recommendations (this usually indicates that the data has some issues, e.g. unreliably broadening and other issues) for the flag that should be applied:\n",
    "- `snr_c3_iraf > 30`\n",
    "- `flag_sp == 0`\n",
    "- For any element `X`, the flag `flag_X_fe == 0`\n",
    "\n",
    "More information can be found [the GALAH Survey Website](https://www.galah-survey.org/dr3/flags/)"
   ]
  },
  {
   "cell_type": "code",
   "execution_count": null,
   "metadata": {},
   "outputs": [],
   "source": [
    "# Filter the data\n",
    "# galah = galah.loc[galah[\"snr_c3_iraf\"] > 30]\n",
    "galah = galah.loc[galah[\"flag_sp\"] == 0]\n",
    "galah = galah.loc[galah[\"flag_fe_h\"] == 0]\n",
    "galah = galah.loc[galah[\"flag_al_fe\"] == 0]\n",
    "galah = galah.loc[galah[\"flag_c_fe\"] == 0]\n",
    "galah = galah.loc[galah[\"flag_n_fe\"] == 0]\n",
    "galah = galah.loc[galah[\"flag_o_fe\"] == 0]"
   ]
  },
  {
   "cell_type": "markdown",
   "metadata": {},
   "source": [
    "Now the appropriate flag has been used, we extract only the useful columns and save the data for later."
   ]
  },
  {
   "cell_type": "code",
   "execution_count": 3,
   "metadata": {},
   "outputs": [],
   "source": [
    "galah = galah[[\"teff\", \"logg\", \"fe_h\", \"al_fe\", \"c_fe\", \"n_fe\", \"o_fe\"]]\n",
    "galah.to_csv(\"Data/cleaned_galah.csv\", index=False)"
   ]
  },
  {
   "cell_type": "markdown",
   "metadata": {},
   "source": [
    "# Cleaning APOGEE Data"
   ]
  },
  {
   "cell_type": "code",
   "execution_count": 7,
   "metadata": {},
   "outputs": [],
   "source": [
    "apogee = Table.read(\"Data/allStar-dr17-synspec_rev1.fits\", format=\"fits\", hdu=1)\n",
    "names = [name for name in apogee.colnames if len(apogee[name].shape) <= 1]\n",
    "apogee = apogee[names].to_pandas()"
   ]
  },
  {
   "cell_type": "markdown",
   "source": [
    "For APOGEE, we do something similar by making sure all the parameters are working on are good.\n",
    "More information can be found [SDSS explanantion of bitmasks](https://www.sdss.org/dr13/algorithms/bitmasks/#APOGEE_ASPCAPFLAG) and [SDSS recommendations for bitmasks](https://www.sdss.org/dr13/irspec/abundances/)\n",
    "\n",
    "The parameters\n",
    "- `ASPCAPFLAG & STAR_BAD == 0` (`STAR_BAD` is the 23rd bit (starting from 0), or  `STAR_BAD = 0b 1000 0000 0000 0000 0000 0000`)\n",
    "    - `STAR_BAD` is a general indication of whether there are issues with measuring surface temperature, surface gravity, and check if any elements have `GRIDEDGE_BAD` set\n",
    "- `ELEMFLAG`\n",
    "    - Any example of this is `FE_H_FLAG`\n",
    "        - Make sure that the flag does not contain `GRIDEDGE_BAD`, `GRIDEDGE_WARN` and `CALRANGE_BAD`\n",
    "    - We should just check that the flag is equal to zero to eliminate all and any problematic behaviour"
   ],
   "metadata": {
    "collapsed": false
   }
  },
  {
   "cell_type": "code",
   "execution_count": 8,
   "outputs": [],
   "source": [
    "# Filter the data\n",
    "STAR_BAD = 1 << 23\n",
    "apogee = apogee.loc[apogee['ASPCAPFLAG'] & STAR_BAD == 0]\n",
    "apogee = apogee.loc[apogee['FE_H_FLAG'] == 0]\n",
    "apogee = apogee.loc[apogee['C_FE_FLAG'] == 0]\n",
    "apogee = apogee.loc[apogee['AL_FE_FLAG'] == 0]\n",
    "apogee = apogee.loc[apogee['N_FE_FLAG'] == 0]\n",
    "apogee = apogee.loc[apogee['O_FE_FLAG'] == 0]"
   ],
   "metadata": {
    "collapsed": false
   }
  },
  {
   "cell_type": "markdown",
   "source": [
    "Extract the useful column and save for later"
   ],
   "metadata": {
    "collapsed": false
   }
  },
  {
   "cell_type": "code",
   "execution_count": 10,
   "outputs": [],
   "source": [
    "apogee = apogee[[\"TEFF\", \"LOGG\", \"FE_H\", \"AL_FE\", \"C_FE\", \"N_FE\", \"O_FE\"]]\n",
    "apogee.columns = apogee.columns.str.lower()\n",
    "apogee.to_csv(\"Data/cleaned_apogee.csv\", index=False)"
   ],
   "metadata": {
    "collapsed": false
   }
  },
  {
   "cell_type": "markdown",
   "source": [
    "# Cleaning APOKSAC 2 Data\n",
    "TODO: Not sure how to do this\n"
   ],
   "metadata": {
    "collapsed": false
   }
  },
  {
   "cell_type": "code",
   "execution_count": null,
   "outputs": [],
   "source": [],
   "metadata": {
    "collapsed": false
   }
  },
  {
   "cell_type": "markdown",
   "source": [
    "# Cleaning K2 Data\n",
    "TODO: Not sure how to do this"
   ],
   "metadata": {
    "collapsed": false
   }
  },
  {
   "cell_type": "code",
   "execution_count": 33,
   "outputs": [
    {
     "data": {
      "text/plain": "       201051625  14.757         2.215 1.324 0.404 27.176  \\\n0      201079541  10.610  0.316 1.523 0.102 13.809 11.093   \n1      201082897   9.833  0.440 1.027 0.095 12.600  9.651   \n2      201084449  12.473  0.440 1.544 0.123 14.888 12.275   \n3      201084664  14.002         1.691 1.076 0.272 22.506   \n4      201085409  17.686         0.545 1.617 0.151 27.418   \n...          ...     ...                              ...   \n18816  251619708   9.697         0.377 0.880 0.076 19.116   \n18817  251620873   9.329                0.471 0.663 0.102   \n18818  251621333   6.843                0.123 1.193 0.046   \n18819  251622742  11.998         0.927 1.497 0.248 12.233   \n18820  251630759   8.452         0.282 1.274 0.098 15.295   \n\n              16.728 13.100 16.569         3.174          3.066 0.976 0.897  \\\n0                    10.849 10.801  0.651  0.348                0.318 0.425   \n1      10.477  9.545 10.089 10.188  0.727  0.612  1.053 0.262 0.450   0.381   \n2             13.176        13.001  1.740  0.326          1.871       0.561   \n3                    15.334 13.586         3.335                0.816 0.837   \n4                    18.412 18.777         2.321              1.152   2.252   \n...                            ...           ...                        ...   \n18816          9.791 10.464  9.579         1.691          0.567 0.529 0.543   \n18817          9.734         9.536           NaN          0.999       0.550   \n18818          7.134         7.023           NaN          0.317       0.271   \n18819  13.303 10.914 12.845 12.671         0.836  1.526 1.129 0.615   0.602   \n18820   9.029  8.744  8.797  8.541         1.813  0.297 0.488 0.329   0.930   \n\n             4.366        1.673 1.034 1.645         1.131  \\\n0      2.552 1.608              1.555 1.563  0.341  0.113   \n1      1.654 0.976  1.160 0.975 1.065 1.089  0.259  0.130   \n2      2.196 1.446        1.682       1.657  0.560  0.098   \n3            2.788              1.230 1.006         0.866   \n4            3.875              1.737 1.831         0.885   \n...            ...                      ...           ...   \n18816        3.385        0.903 1.037 0.845         0.815   \n18817          NaN        0.716       0.674           NaN   \n18818          NaN        1.270       1.241           NaN   \n18819        1.561  1.821 1.180 1.680 1.674         0.265   \n18820        4.123  1.440 1.331 1.356 1.301         1.350   \n\n              0.616 0.160 0.207  \n0                   0.105 0.148  \n1      0.238 0.075 0.116  0.104  \n2             0.481       0.171  \n3                   0.161 0.146  \n4                  0.246  0.462  \n...                         ...  \n18816         0.111 0.120 0.114  \n18817         0.164       0.094  \n18818         0.134       0.113  \n18819  0.426 0.284 0.187  0.188  \n18820  0.122 0.203 0.123  0.405  \n\n[18821 rows x 10 columns]",
      "text/html": "<div>\n<style scoped>\n    .dataframe tbody tr th:only-of-type {\n        vertical-align: middle;\n    }\n\n    .dataframe tbody tr th {\n        vertical-align: top;\n    }\n\n    .dataframe thead th {\n        text-align: right;\n    }\n</style>\n<table border=\"1\" class=\"dataframe\">\n  <thead>\n    <tr style=\"text-align: right;\">\n      <th></th>\n      <th>201051625</th>\n      <th>14.757</th>\n      <th>2.215 1.324 0.404 27.176</th>\n      <th>16.728 13.100 16.569</th>\n      <th>3.174</th>\n      <th>3.066 0.976 0.897</th>\n      <th>4.366</th>\n      <th>1.673 1.034 1.645</th>\n      <th>1.131</th>\n      <th>0.616 0.160 0.207</th>\n    </tr>\n  </thead>\n  <tbody>\n    <tr>\n      <th>0</th>\n      <td>201079541</td>\n      <td>10.610</td>\n      <td>0.316 1.523 0.102 13.809 11.093</td>\n      <td>10.849 10.801</td>\n      <td>0.651  0.348</td>\n      <td>0.318 0.425</td>\n      <td>2.552 1.608</td>\n      <td>1.555 1.563</td>\n      <td>0.341  0.113</td>\n      <td>0.105 0.148</td>\n    </tr>\n    <tr>\n      <th>1</th>\n      <td>201082897</td>\n      <td>9.833</td>\n      <td>0.440 1.027 0.095 12.600  9.651</td>\n      <td>10.477  9.545 10.089 10.188</td>\n      <td>0.727  0.612</td>\n      <td>1.053 0.262 0.450   0.381</td>\n      <td>1.654 0.976</td>\n      <td>1.160 0.975 1.065 1.089</td>\n      <td>0.259  0.130</td>\n      <td>0.238 0.075 0.116  0.104</td>\n    </tr>\n    <tr>\n      <th>2</th>\n      <td>201084449</td>\n      <td>12.473</td>\n      <td>0.440 1.544 0.123 14.888 12.275</td>\n      <td>13.176        13.001</td>\n      <td>1.740  0.326</td>\n      <td>1.871       0.561</td>\n      <td>2.196 1.446</td>\n      <td>1.682       1.657</td>\n      <td>0.560  0.098</td>\n      <td>0.481       0.171</td>\n    </tr>\n    <tr>\n      <th>3</th>\n      <td>201084664</td>\n      <td>14.002</td>\n      <td>1.691 1.076 0.272 22.506</td>\n      <td>15.334 13.586</td>\n      <td>3.335</td>\n      <td>0.816 0.837</td>\n      <td>2.788</td>\n      <td>1.230 1.006</td>\n      <td>0.866</td>\n      <td>0.161 0.146</td>\n    </tr>\n    <tr>\n      <th>4</th>\n      <td>201085409</td>\n      <td>17.686</td>\n      <td>0.545 1.617 0.151 27.418</td>\n      <td>18.412 18.777</td>\n      <td>2.321</td>\n      <td>1.152   2.252</td>\n      <td>3.875</td>\n      <td>1.737 1.831</td>\n      <td>0.885</td>\n      <td>0.246  0.462</td>\n    </tr>\n    <tr>\n      <th>...</th>\n      <td>...</td>\n      <td>...</td>\n      <td>...</td>\n      <td>...</td>\n      <td>...</td>\n      <td>...</td>\n      <td>...</td>\n      <td>...</td>\n      <td>...</td>\n      <td>...</td>\n    </tr>\n    <tr>\n      <th>18816</th>\n      <td>251619708</td>\n      <td>9.697</td>\n      <td>0.377 0.880 0.076 19.116</td>\n      <td>9.791 10.464  9.579</td>\n      <td>1.691</td>\n      <td>0.567 0.529 0.543</td>\n      <td>3.385</td>\n      <td>0.903 1.037 0.845</td>\n      <td>0.815</td>\n      <td>0.111 0.120 0.114</td>\n    </tr>\n    <tr>\n      <th>18817</th>\n      <td>251620873</td>\n      <td>9.329</td>\n      <td>0.471 0.663 0.102</td>\n      <td>9.734         9.536</td>\n      <td>NaN</td>\n      <td>0.999       0.550</td>\n      <td>NaN</td>\n      <td>0.716       0.674</td>\n      <td>NaN</td>\n      <td>0.164       0.094</td>\n    </tr>\n    <tr>\n      <th>18818</th>\n      <td>251621333</td>\n      <td>6.843</td>\n      <td>0.123 1.193 0.046</td>\n      <td>7.134         7.023</td>\n      <td>NaN</td>\n      <td>0.317       0.271</td>\n      <td>NaN</td>\n      <td>1.270       1.241</td>\n      <td>NaN</td>\n      <td>0.134       0.113</td>\n    </tr>\n    <tr>\n      <th>18819</th>\n      <td>251622742</td>\n      <td>11.998</td>\n      <td>0.927 1.497 0.248 12.233</td>\n      <td>13.303 10.914 12.845 12.671</td>\n      <td>0.836</td>\n      <td>1.526 1.129 0.615   0.602</td>\n      <td>1.561</td>\n      <td>1.821 1.180 1.680 1.674</td>\n      <td>0.265</td>\n      <td>0.426 0.284 0.187  0.188</td>\n    </tr>\n    <tr>\n      <th>18820</th>\n      <td>251630759</td>\n      <td>8.452</td>\n      <td>0.282 1.274 0.098 15.295</td>\n      <td>9.029  8.744  8.797  8.541</td>\n      <td>1.813</td>\n      <td>0.297 0.488 0.329   0.930</td>\n      <td>4.123</td>\n      <td>1.440 1.331 1.356 1.301</td>\n      <td>1.350</td>\n      <td>0.122 0.203 0.123  0.405</td>\n    </tr>\n  </tbody>\n</table>\n<p>18821 rows × 10 columns</p>\n</div>"
     },
     "execution_count": 33,
     "metadata": {},
     "output_type": "execute_result"
    }
   ],
   "source": [
    "k2_cols = [\"EPIC\", \"kappa-r-c\", \"e_kappa_r-c\", \"kappa-m-c\", \"e_kappa-m-c\", \"kappa-r-A2Z\", \"kappa-r-c-BAM\", \"kappa-r-c-BHM\", \"kappa-r-c-CAN\", \"kappa-r-c-SYD\", \"e_kappa-r-c-A2Z\", \"e_kappa-r-c-BAM\", \"e_kappa-r-c-BHM\", \"e_kappa-r-c-CAN\", \"e_kappa-r-c-COR\", \"e_kappa-r-c-SYD\", \"kappa-m_A2Z\", \"kappa-m-c-BAM\", \"kappa-m-c-BHM\", \"kappa-m-c-CAN\", \"kappa-m-c-COR\", \"kappa-m-c-SYD\", \"e_kappa-m_A2Z\", \"e_kappa-m-c-BAM\", \"e_kappa-m-c-BHM\", \"e_kappa-m-c-CAN\", \"e_kappa-m-c-COR\", \"e_kappa-m-c-SYD\"]\n",
    "\n",
    "k2_col_width = [\n",
    "    (1, 9), (11, 16), (18, 23), (25, 29), (18, 23),\n",
    "    (25, 29), (31, 35), (37, 42), (44, 49), (51, 56),\n",
    "    (58, 63), (65, 70), (72, 77), (79, 84), (86, 91),\n",
    "    (93, 98), (100, 104), (106, 110), (112, 118), (120, 124),\n",
    "    (126, 130), (137, 143), (145, 149), (151, 155), (157, 162),\n",
    "    (164, 169), (171, 175), (177, 181), (183, 187), (189, 194)\n",
    "]\n",
    "k2 = pd.read_fwf(\"Data/k2_mass_coefficient_data.txt\", colspecs=k2_col_width)\n",
    "k2 = pd.read_fwf(\"Data/k2_mass_coefficient_data.txt\")\n",
    "k2"
   ],
   "metadata": {
    "collapsed": false
   }
  },
  {
   "cell_type": "code",
   "execution_count": null,
   "outputs": [],
   "source": [],
   "metadata": {
    "collapsed": false
   }
  }
 ],
 "metadata": {
  "kernelspec": {
   "display_name": "Python 3 (ipykernel)",
   "language": "python",
   "name": "python3"
  },
  "language_info": {
   "codemirror_mode": {
    "name": "ipython",
    "version": 3
   },
   "file_extension": ".py",
   "mimetype": "text/x-python",
   "name": "python",
   "nbconvert_exporter": "python",
   "pygments_lexer": "ipython3",
   "version": "3.9.7"
  }
 },
 "nbformat": 4,
 "nbformat_minor": 1
}
