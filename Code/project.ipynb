{
 "cells": [
  {
   "cell_type": "markdown",
   "source": [
    "Importing the required packages"
   ],
   "metadata": {
    "collapsed": false
   }
  },
  {
   "cell_type": "code",
   "execution_count": 14,
   "outputs": [],
   "source": [
    "import os\n",
    "\n",
    "# Import the pages I need here\n",
    "from astropy.table import Table\n",
    "import numpy as np          # For number handling\n",
    "import pandas as pd         # For table/data management\n",
    "import matplotlib.pyplot    # For plotting data"
   ],
   "metadata": {
    "collapsed": false
   }
  },
  {
   "cell_type": "markdown",
   "source": [
    "The code will be sorted into two different parts.\n",
    "\n",
    "The goal for this piece of code is:\n",
    "- Clean K2 and APOKSAC Data\n",
    "- Using K2 and APOKSAC Data to train models\n",
    "- Use K2 model to predict the mass for APOGEE and GALAH\n",
    "- Use APOKSAC model to predict mass for APOGEE"
   ],
   "metadata": {
    "collapsed": false
   }
  },
  {
   "cell_type": "markdown",
   "source": [
    "Cleaning the APOGEE Data\n",
    "The goal for APOGEE is to get a table contain the following:\n",
    "- Effective Temperature\n",
    "- Log g\n",
    "- Iron Abundance [Fe/H]\n",
    "- Alpha Abundance [alpha/Fe]\n",
    "- Nitrogen Abundace [N/Fe]\n",
    "- Oxygen Abundance [O/Fe]"
   ],
   "metadata": {
    "collapsed": false
   }
  },
  {
   "cell_type": "code",
   "execution_count": null,
   "outputs": [],
   "source": [
    "# Import the data and change into a data frame\n",
    "apogee = Table.read(\"Data/galah_dr4_allspec_220713.fits\", format = \"fits\")\n",
    "names = [name for name in apogee.colnames if len(apogee[name].shape) <= 1]\n",
    "apogee = apogee[names].to_pandas()"
   ],
   "metadata": {
    "collapsed": false,
    "pycharm": {
     "is_executing": true
    }
   }
  },
  {
   "cell_type": "markdown",
   "source": [
    "For Apogee Data, there are a few recommendations (this usually indicates that the data has some issues, e.g. unreliably broadening and other issues) for the flag that should be applied:\n",
    "- `snr_c3_iraf > 30`\n",
    "- `flag_sp == 0`\n",
    "- For any element `X`, the flag `flag_X_fe == 0`"
   ],
   "metadata": {
    "collapsed": false
   }
  },
  {
   "cell_type": "code",
   "execution_count": 26,
   "outputs": [],
   "source": [
    "# Filter the data\n",
    "# apogee = apogee.loc[apogee[\"snr_c3_iraf\"] > 30]\n",
    "apogee = apogee.loc[apogee[\"flag_sp\"] == 0]\n",
    "apogee = apogee.loc[apogee[\"flag_fe_h\"] == 0]\n",
    "apogee = apogee.loc[apogee[\"flag_al_fe\"] == 0]\n",
    "apogee = apogee.loc[apogee[\"flag_n_fe\"] == 0]\n",
    "apogee = apogee.loc[apogee[\"flag_o_fe\"] == 0]"
   ],
   "metadata": {
    "collapsed": false
   }
  },
  {
   "cell_type": "markdown",
   "source": [
    "Now the appropriate flag has been used, we extract only the useful columns\n"
   ],
   "metadata": {
    "collapsed": false
   }
  },
  {
   "cell_type": "code",
   "execution_count": 34,
   "outputs": [],
   "source": [
    "apogee = apogee[[\"teff\", \"logg\", \"fe_h\", \"al_fe\", \"n_fe\", \"o_fe\"]]\n",
    "apogee.to_csv(\"Data/cleaned_apogee.csv\", index=False)\n"
   ],
   "metadata": {
    "collapsed": false
   }
  },
  {
   "cell_type": "markdown",
   "source": [
    "Apogee has now been cleaned"
   ],
   "metadata": {
    "collapsed": false
   }
  }
 ],
 "metadata": {
  "kernelspec": {
   "display_name": "Python 3",
   "language": "python",
   "name": "python3"
  },
  "language_info": {
   "codemirror_mode": {
    "name": "ipython",
    "version": 2
   },
   "file_extension": ".py",
   "mimetype": "text/x-python",
   "name": "python",
   "nbconvert_exporter": "python",
   "pygments_lexer": "ipython2",
   "version": "2.7.6"
  }
 },
 "nbformat": 4,
 "nbformat_minor": 0
}
